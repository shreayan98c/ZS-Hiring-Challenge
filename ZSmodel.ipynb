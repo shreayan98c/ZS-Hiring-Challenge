{
 "cells": [
  {
   "cell_type": "code",
   "execution_count": 27,
   "metadata": {},
   "outputs": [],
   "source": [
    "# Importing libraries\n",
    "import pandas as pd\n",
    "import numpy as np\n",
    "import matplotlib.pyplot as plt\n",
    "import seaborn as sns\n",
    "from sklearn.preprocessing import LabelEncoder\n",
    "from sklearn.preprocessing import OneHotEncoder\n",
    "from sklearn import metrics\n",
    "from sklearn.model_selection import GridSearchCV\n",
    "pd.set_option('display.max_rows', 500)\n",
    "pd.set_option('display.max_columns', 500)\n",
    "pd.set_option('display.width', 1000)"
   ]
  },
  {
   "cell_type": "code",
   "execution_count": 29,
   "metadata": {},
   "outputs": [
    {
     "data": {
      "text/html": [
       "<div>\n",
       "<style scoped>\n",
       "    .dataframe tbody tr th:only-of-type {\n",
       "        vertical-align: middle;\n",
       "    }\n",
       "\n",
       "    .dataframe tbody tr th {\n",
       "        vertical-align: top;\n",
       "    }\n",
       "\n",
       "    .dataframe thead th {\n",
       "        text-align: right;\n",
       "    }\n",
       "</style>\n",
       "<table border=\"1\" class=\"dataframe\">\n",
       "  <thead>\n",
       "    <tr style=\"text-align: right;\">\n",
       "      <th></th>\n",
       "      <th>ID</th>\n",
       "      <th>LICENSE ID</th>\n",
       "      <th>ACCOUNT NUMBER</th>\n",
       "      <th>SITE NUMBER</th>\n",
       "      <th>LEGAL NAME</th>\n",
       "      <th>DOING BUSINESS AS NAME</th>\n",
       "      <th>ADDRESS</th>\n",
       "      <th>CITY</th>\n",
       "      <th>STATE</th>\n",
       "      <th>ZIP CODE</th>\n",
       "      <th>WARD</th>\n",
       "      <th>PRECINCT</th>\n",
       "      <th>WARD PRECINCT</th>\n",
       "      <th>POLICE DISTRICT</th>\n",
       "      <th>LICENSE CODE</th>\n",
       "      <th>LICENSE DESCRIPTION</th>\n",
       "      <th>LICENSE NUMBER</th>\n",
       "      <th>APPLICATION TYPE</th>\n",
       "      <th>APPLICATION CREATED DATE</th>\n",
       "      <th>APPLICATION REQUIREMENTS COMPLETE</th>\n",
       "      <th>PAYMENT DATE</th>\n",
       "      <th>CONDITIONAL APPROVAL</th>\n",
       "      <th>LICENSE TERM START DATE</th>\n",
       "      <th>LICENSE TERM EXPIRATION DATE</th>\n",
       "      <th>LICENSE APPROVED FOR ISSUANCE</th>\n",
       "      <th>DATE ISSUED</th>\n",
       "      <th>LICENSE STATUS CHANGE DATE</th>\n",
       "      <th>SSA</th>\n",
       "      <th>LATITUDE</th>\n",
       "      <th>LONGITUDE</th>\n",
       "      <th>LOCATION</th>\n",
       "      <th>LICENSE STATUS</th>\n",
       "    </tr>\n",
       "  </thead>\n",
       "  <tbody>\n",
       "    <tr>\n",
       "      <th>0</th>\n",
       "      <td>35342-20020816</td>\n",
       "      <td>1256593</td>\n",
       "      <td>32811</td>\n",
       "      <td>1</td>\n",
       "      <td>CARMEN CAHUE</td>\n",
       "      <td>CLAUDIA'S BRIDAL SHOP</td>\n",
       "      <td>2625 S CENTRAL PARK AVE  1</td>\n",
       "      <td>CHICAGO</td>\n",
       "      <td>IL</td>\n",
       "      <td>60623.0</td>\n",
       "      <td>22.0</td>\n",
       "      <td>28.0</td>\n",
       "      <td>22-28</td>\n",
       "      <td>10.0</td>\n",
       "      <td>1010</td>\n",
       "      <td>Limited Business License</td>\n",
       "      <td>35342.0</td>\n",
       "      <td>RENEW</td>\n",
       "      <td>NaN</td>\n",
       "      <td>2002-06-28T00:00:00</td>\n",
       "      <td>2002-08-21T00:00:00</td>\n",
       "      <td>N</td>\n",
       "      <td>2002-08-16T00:00:00</td>\n",
       "      <td>2003-08-15T00:00:00</td>\n",
       "      <td>2002-08-21T00:00:00</td>\n",
       "      <td>2006-04-11T00:00:00</td>\n",
       "      <td>NaN</td>\n",
       "      <td>25.0</td>\n",
       "      <td>41.843613</td>\n",
       "      <td>-87.714618</td>\n",
       "      <td>{'latitude': '41.843612879431845', 'longitude'...</td>\n",
       "      <td>AAI</td>\n",
       "    </tr>\n",
       "    <tr>\n",
       "      <th>1</th>\n",
       "      <td>1358463-20051116</td>\n",
       "      <td>1639294</td>\n",
       "      <td>262311</td>\n",
       "      <td>29</td>\n",
       "      <td>ISLA TROPICAL, INC.</td>\n",
       "      <td>ISLA TROPICAL</td>\n",
       "      <td>2825 W MONTROSE AVE</td>\n",
       "      <td>CHICAGO</td>\n",
       "      <td>IL</td>\n",
       "      <td>60618</td>\n",
       "      <td>33.0</td>\n",
       "      <td>23.0</td>\n",
       "      <td>33-23</td>\n",
       "      <td>17.0</td>\n",
       "      <td>1315</td>\n",
       "      <td>Mobile Food Dispenser</td>\n",
       "      <td>1358463.0</td>\n",
       "      <td>RENEW</td>\n",
       "      <td>NaN</td>\n",
       "      <td>2005-09-22T00:00:00</td>\n",
       "      <td>2005-11-03T00:00:00</td>\n",
       "      <td>N</td>\n",
       "      <td>2005-11-16T00:00:00</td>\n",
       "      <td>2006-11-15T00:00:00</td>\n",
       "      <td>2006-04-05T00:00:00</td>\n",
       "      <td>2006-06-12T00:00:00</td>\n",
       "      <td>2006-06-15T00:00:00</td>\n",
       "      <td>60.0</td>\n",
       "      <td>41.961132</td>\n",
       "      <td>-87.699626</td>\n",
       "      <td>{'latitude': '41.96113244107215', 'longitude':...</td>\n",
       "      <td>AAC</td>\n",
       "    </tr>\n",
       "    <tr>\n",
       "      <th>2</th>\n",
       "      <td>1980233-20090722</td>\n",
       "      <td>1980233</td>\n",
       "      <td>345008</td>\n",
       "      <td>1</td>\n",
       "      <td>DJS REMODELING</td>\n",
       "      <td>DJS REMODELING, INC.</td>\n",
       "      <td>1605  CLAVEY RD 1</td>\n",
       "      <td>HIGHLAND</td>\n",
       "      <td>IL</td>\n",
       "      <td>60035</td>\n",
       "      <td>NaN</td>\n",
       "      <td>NaN</td>\n",
       "      <td>NaN</td>\n",
       "      <td>NaN</td>\n",
       "      <td>1011</td>\n",
       "      <td>Home Repair</td>\n",
       "      <td>1980233.0</td>\n",
       "      <td>ISSUE</td>\n",
       "      <td>2009-06-29T00:00:00</td>\n",
       "      <td>2009-07-22T00:00:00</td>\n",
       "      <td>2009-07-22T00:00:00</td>\n",
       "      <td>N</td>\n",
       "      <td>2009-07-22T00:00:00</td>\n",
       "      <td>2011-07-15T00:00:00</td>\n",
       "      <td>2009-07-22T00:00:00</td>\n",
       "      <td>2009-07-22T00:00:00</td>\n",
       "      <td>NaN</td>\n",
       "      <td>NaN</td>\n",
       "      <td>NaN</td>\n",
       "      <td>NaN</td>\n",
       "      <td>NaN</td>\n",
       "      <td>AAI</td>\n",
       "    </tr>\n",
       "    <tr>\n",
       "      <th>3</th>\n",
       "      <td>1476582-20040211</td>\n",
       "      <td>1476582</td>\n",
       "      <td>273121</td>\n",
       "      <td>1</td>\n",
       "      <td>ALL-BRY CONSTRUCTION CO.</td>\n",
       "      <td>ALL-BRY CONSTRUCTION CO.</td>\n",
       "      <td>8  NORTH TRAIL</td>\n",
       "      <td>LEMONT</td>\n",
       "      <td>IL</td>\n",
       "      <td>60439</td>\n",
       "      <td>NaN</td>\n",
       "      <td>NaN</td>\n",
       "      <td>NaN</td>\n",
       "      <td>NaN</td>\n",
       "      <td>1010</td>\n",
       "      <td>Limited Business License</td>\n",
       "      <td>1476582.0</td>\n",
       "      <td>ISSUE</td>\n",
       "      <td>2004-02-10T00:00:00</td>\n",
       "      <td>2004-02-10T00:00:00</td>\n",
       "      <td>2004-02-10T00:00:00</td>\n",
       "      <td>N</td>\n",
       "      <td>2004-02-11T00:00:00</td>\n",
       "      <td>2005-02-15T00:00:00</td>\n",
       "      <td>2004-02-10T00:00:00</td>\n",
       "      <td>2004-02-11T00:00:00</td>\n",
       "      <td>NaN</td>\n",
       "      <td>NaN</td>\n",
       "      <td>NaN</td>\n",
       "      <td>NaN</td>\n",
       "      <td>NaN</td>\n",
       "      <td>AAI</td>\n",
       "    </tr>\n",
       "    <tr>\n",
       "      <th>4</th>\n",
       "      <td>1141408-20080516</td>\n",
       "      <td>1896750</td>\n",
       "      <td>213785</td>\n",
       "      <td>1</td>\n",
       "      <td>MCDONOUGH MECHANICAL SERVICE</td>\n",
       "      <td>MCDONOUGH MECHANICAL SERVICE</td>\n",
       "      <td>4081  JOSEPH DR</td>\n",
       "      <td>WAUKEGAN</td>\n",
       "      <td>IL</td>\n",
       "      <td>60087</td>\n",
       "      <td>NaN</td>\n",
       "      <td>NaN</td>\n",
       "      <td>NaN</td>\n",
       "      <td>NaN</td>\n",
       "      <td>1010</td>\n",
       "      <td>Limited Business License</td>\n",
       "      <td>1141408.0</td>\n",
       "      <td>RENEW</td>\n",
       "      <td>NaN</td>\n",
       "      <td>2008-03-24T00:00:00</td>\n",
       "      <td>2008-06-04T00:00:00</td>\n",
       "      <td>N</td>\n",
       "      <td>2008-05-16T00:00:00</td>\n",
       "      <td>2010-05-15T00:00:00</td>\n",
       "      <td>2008-06-04T00:00:00</td>\n",
       "      <td>2008-06-05T00:00:00</td>\n",
       "      <td>NaN</td>\n",
       "      <td>NaN</td>\n",
       "      <td>NaN</td>\n",
       "      <td>NaN</td>\n",
       "      <td>NaN</td>\n",
       "      <td>AAI</td>\n",
       "    </tr>\n",
       "  </tbody>\n",
       "</table>\n",
       "</div>"
      ],
      "text/plain": [
       "                 ID  LICENSE ID  ACCOUNT NUMBER  SITE NUMBER                    LEGAL NAME        DOING BUSINESS AS NAME                     ADDRESS      CITY STATE ZIP CODE  WARD  PRECINCT WARD PRECINCT  POLICE DISTRICT  LICENSE CODE       LICENSE DESCRIPTION  LICENSE NUMBER APPLICATION TYPE APPLICATION CREATED DATE APPLICATION REQUIREMENTS COMPLETE         PAYMENT DATE CONDITIONAL APPROVAL LICENSE TERM START DATE LICENSE TERM EXPIRATION DATE LICENSE APPROVED FOR ISSUANCE          DATE ISSUED LICENSE STATUS CHANGE DATE   SSA   LATITUDE  LONGITUDE                                           LOCATION LICENSE STATUS\n",
       "0    35342-20020816     1256593           32811            1                  CARMEN CAHUE         CLAUDIA'S BRIDAL SHOP  2625 S CENTRAL PARK AVE  1   CHICAGO    IL  60623.0  22.0      28.0         22-28             10.0          1010  Limited Business License         35342.0            RENEW                      NaN               2002-06-28T00:00:00  2002-08-21T00:00:00                    N     2002-08-16T00:00:00          2003-08-15T00:00:00           2002-08-21T00:00:00  2006-04-11T00:00:00                        NaN  25.0  41.843613 -87.714618  {'latitude': '41.843612879431845', 'longitude'...            AAI\n",
       "1  1358463-20051116     1639294          262311           29           ISLA TROPICAL, INC.                 ISLA TROPICAL         2825 W MONTROSE AVE   CHICAGO    IL    60618  33.0      23.0         33-23             17.0          1315     Mobile Food Dispenser       1358463.0            RENEW                      NaN               2005-09-22T00:00:00  2005-11-03T00:00:00                    N     2005-11-16T00:00:00          2006-11-15T00:00:00           2006-04-05T00:00:00  2006-06-12T00:00:00        2006-06-15T00:00:00  60.0  41.961132 -87.699626  {'latitude': '41.96113244107215', 'longitude':...            AAC\n",
       "2  1980233-20090722     1980233          345008            1                DJS REMODELING          DJS REMODELING, INC.           1605  CLAVEY RD 1  HIGHLAND    IL    60035   NaN       NaN           NaN              NaN          1011               Home Repair       1980233.0            ISSUE      2009-06-29T00:00:00               2009-07-22T00:00:00  2009-07-22T00:00:00                    N     2009-07-22T00:00:00          2011-07-15T00:00:00           2009-07-22T00:00:00  2009-07-22T00:00:00                        NaN   NaN        NaN        NaN                                                NaN            AAI\n",
       "3  1476582-20040211     1476582          273121            1      ALL-BRY CONSTRUCTION CO.      ALL-BRY CONSTRUCTION CO.              8  NORTH TRAIL    LEMONT    IL    60439   NaN       NaN           NaN              NaN          1010  Limited Business License       1476582.0            ISSUE      2004-02-10T00:00:00               2004-02-10T00:00:00  2004-02-10T00:00:00                    N     2004-02-11T00:00:00          2005-02-15T00:00:00           2004-02-10T00:00:00  2004-02-11T00:00:00                        NaN   NaN        NaN        NaN                                                NaN            AAI\n",
       "4  1141408-20080516     1896750          213785            1  MCDONOUGH MECHANICAL SERVICE  MCDONOUGH MECHANICAL SERVICE             4081  JOSEPH DR  WAUKEGAN    IL    60087   NaN       NaN           NaN              NaN          1010  Limited Business License       1141408.0            RENEW                      NaN               2008-03-24T00:00:00  2008-06-04T00:00:00                    N     2008-05-16T00:00:00          2010-05-15T00:00:00           2008-06-04T00:00:00  2008-06-05T00:00:00                        NaN   NaN        NaN        NaN                                                NaN            AAI"
      ]
     },
     "execution_count": 29,
     "metadata": {},
     "output_type": "execute_result"
    }
   ],
   "source": [
    "# Importing the dataset\n",
    "train_data = pd.read_csv(\"train_file.csv\")\n",
    "train_data.head()"
   ]
  },
  {
   "cell_type": "code",
   "execution_count": 5,
   "metadata": {},
   "outputs": [
    {
     "data": {
      "text/plain": [
       "(85895, 32)"
      ]
     },
     "execution_count": 5,
     "metadata": {},
     "output_type": "execute_result"
    }
   ],
   "source": [
    "train_data.shape"
   ]
  },
  {
   "cell_type": "code",
   "execution_count": 3,
   "metadata": {},
   "outputs": [
    {
     "data": {
      "text/html": [
       "<div>\n",
       "<style scoped>\n",
       "    .dataframe tbody tr th:only-of-type {\n",
       "        vertical-align: middle;\n",
       "    }\n",
       "\n",
       "    .dataframe tbody tr th {\n",
       "        vertical-align: top;\n",
       "    }\n",
       "\n",
       "    .dataframe thead th {\n",
       "        text-align: right;\n",
       "    }\n",
       "</style>\n",
       "<table border=\"1\" class=\"dataframe\">\n",
       "  <thead>\n",
       "    <tr style=\"text-align: right;\">\n",
       "      <th></th>\n",
       "      <th>ID</th>\n",
       "      <th>LICENSE ID</th>\n",
       "      <th>ACCOUNT NUMBER</th>\n",
       "      <th>SITE NUMBER</th>\n",
       "      <th>LEGAL NAME</th>\n",
       "      <th>DOING BUSINESS AS NAME</th>\n",
       "      <th>ADDRESS</th>\n",
       "      <th>CITY</th>\n",
       "      <th>STATE</th>\n",
       "      <th>ZIP CODE</th>\n",
       "      <th>...</th>\n",
       "      <th>CONDITIONAL APPROVAL</th>\n",
       "      <th>LICENSE TERM START DATE</th>\n",
       "      <th>LICENSE TERM EXPIRATION DATE</th>\n",
       "      <th>LICENSE APPROVED FOR ISSUANCE</th>\n",
       "      <th>DATE ISSUED</th>\n",
       "      <th>LICENSE STATUS CHANGE DATE</th>\n",
       "      <th>SSA</th>\n",
       "      <th>LATITUDE</th>\n",
       "      <th>LONGITUDE</th>\n",
       "      <th>LOCATION</th>\n",
       "    </tr>\n",
       "  </thead>\n",
       "  <tbody>\n",
       "    <tr>\n",
       "      <th>0</th>\n",
       "      <td>1516615-20120216</td>\n",
       "      <td>2132209</td>\n",
       "      <td>280120</td>\n",
       "      <td>1</td>\n",
       "      <td>RS HOMES I LLC</td>\n",
       "      <td>RS HOMES I LLC</td>\n",
       "      <td>350 W HUBBARD ST 3 300</td>\n",
       "      <td>CHICAGO</td>\n",
       "      <td>IL</td>\n",
       "      <td>60610.0</td>\n",
       "      <td>...</td>\n",
       "      <td>N</td>\n",
       "      <td>2012-02-16T00:00:00</td>\n",
       "      <td>2014-02-15T00:00:00</td>\n",
       "      <td>2012-01-19T00:00:00</td>\n",
       "      <td>2012-01-20T00:00:00</td>\n",
       "      <td>2012-12-29T00:00:00</td>\n",
       "      <td>NaN</td>\n",
       "      <td>41.890047</td>\n",
       "      <td>-87.637467</td>\n",
       "      <td>{'latitude': '41.89004724888915', 'longitude':...</td>\n",
       "    </tr>\n",
       "    <tr>\n",
       "      <th>1</th>\n",
       "      <td>69813-20110616</td>\n",
       "      <td>2090759</td>\n",
       "      <td>65043</td>\n",
       "      <td>1</td>\n",
       "      <td>CSX INTERMODAL INC</td>\n",
       "      <td>CSX INTERMODAL</td>\n",
       "      <td>2101 W 59TH ST 1ST</td>\n",
       "      <td>CHICAGO</td>\n",
       "      <td>IL</td>\n",
       "      <td>60636.0</td>\n",
       "      <td>...</td>\n",
       "      <td>N</td>\n",
       "      <td>2011-06-16T00:00:00</td>\n",
       "      <td>2013-06-15T00:00:00</td>\n",
       "      <td>2012-11-02T00:00:00</td>\n",
       "      <td>2012-11-05T00:00:00</td>\n",
       "      <td>2012-12-29T00:00:00</td>\n",
       "      <td>NaN</td>\n",
       "      <td>41.786485</td>\n",
       "      <td>-87.676665</td>\n",
       "      <td>{'latitude': '41.786485235679486', 'longitude'...</td>\n",
       "    </tr>\n",
       "    <tr>\n",
       "      <th>2</th>\n",
       "      <td>1519227-20041116</td>\n",
       "      <td>1541990</td>\n",
       "      <td>281270</td>\n",
       "      <td>1</td>\n",
       "      <td>LOCOMIBILE  LOFTS LLC</td>\n",
       "      <td>LOCOMOBILE LOFTS LLC</td>\n",
       "      <td>1133 S WABASH AVE 1ST</td>\n",
       "      <td>CHICAGO</td>\n",
       "      <td>IL</td>\n",
       "      <td>60605.0</td>\n",
       "      <td>...</td>\n",
       "      <td>N</td>\n",
       "      <td>2004-11-16T00:00:00</td>\n",
       "      <td>2005-11-15T00:00:00</td>\n",
       "      <td>2004-12-06T00:00:00</td>\n",
       "      <td>2004-12-07T00:00:00</td>\n",
       "      <td>NaN</td>\n",
       "      <td>NaN</td>\n",
       "      <td>41.868269</td>\n",
       "      <td>-87.625695</td>\n",
       "      <td>{'latitude': '41.86826924843568', 'longitude':...</td>\n",
       "    </tr>\n",
       "    <tr>\n",
       "      <th>3</th>\n",
       "      <td>1922025-20100816</td>\n",
       "      <td>2041053</td>\n",
       "      <td>335243</td>\n",
       "      <td>1</td>\n",
       "      <td>ANNA F. JAMISON</td>\n",
       "      <td>ANNA F. JAMISON</td>\n",
       "      <td>13156 S FORRESTVILLE AVE</td>\n",
       "      <td>CHICAGO</td>\n",
       "      <td>IL</td>\n",
       "      <td>60827.0</td>\n",
       "      <td>...</td>\n",
       "      <td>N</td>\n",
       "      <td>2010-08-16T00:00:00</td>\n",
       "      <td>2012-08-15T00:00:00</td>\n",
       "      <td>NaN</td>\n",
       "      <td>2010-11-04T00:00:00</td>\n",
       "      <td>2012-12-31T00:00:00</td>\n",
       "      <td>NaN</td>\n",
       "      <td>41.655762</td>\n",
       "      <td>-87.608686</td>\n",
       "      <td>{'latitude': '41.65576175146191', 'longitude':...</td>\n",
       "    </tr>\n",
       "    <tr>\n",
       "      <th>4</th>\n",
       "      <td>1675683-20070816</td>\n",
       "      <td>1837158</td>\n",
       "      <td>283018</td>\n",
       "      <td>3</td>\n",
       "      <td>MARINCA A. COVARRUBIAS</td>\n",
       "      <td>DETAILS</td>\n",
       "      <td>4208 S ARCHER AVE</td>\n",
       "      <td>CHICAGO</td>\n",
       "      <td>IL</td>\n",
       "      <td>60632.0</td>\n",
       "      <td>...</td>\n",
       "      <td>N</td>\n",
       "      <td>2007-08-16T00:00:00</td>\n",
       "      <td>2009-06-15T00:00:00</td>\n",
       "      <td>2007-08-15T00:00:00</td>\n",
       "      <td>2007-08-16T00:00:00</td>\n",
       "      <td>2008-03-26T00:00:00</td>\n",
       "      <td>39.0</td>\n",
       "      <td>41.816969</td>\n",
       "      <td>-87.699785</td>\n",
       "      <td>{'latitude': '41.81696910012824', 'longitude':...</td>\n",
       "    </tr>\n",
       "  </tbody>\n",
       "</table>\n",
       "<p>5 rows × 31 columns</p>\n",
       "</div>"
      ],
      "text/plain": [
       "                 ID  LICENSE ID  ACCOUNT NUMBER  SITE NUMBER  \\\n",
       "0  1516615-20120216     2132209          280120            1   \n",
       "1    69813-20110616     2090759           65043            1   \n",
       "2  1519227-20041116     1541990          281270            1   \n",
       "3  1922025-20100816     2041053          335243            1   \n",
       "4  1675683-20070816     1837158          283018            3   \n",
       "\n",
       "               LEGAL NAME DOING BUSINESS AS NAME                   ADDRESS  \\\n",
       "0          RS HOMES I LLC         RS HOMES I LLC    350 W HUBBARD ST 3 300   \n",
       "1      CSX INTERMODAL INC         CSX INTERMODAL        2101 W 59TH ST 1ST   \n",
       "2   LOCOMIBILE  LOFTS LLC   LOCOMOBILE LOFTS LLC     1133 S WABASH AVE 1ST   \n",
       "3         ANNA F. JAMISON        ANNA F. JAMISON  13156 S FORRESTVILLE AVE   \n",
       "4  MARINCA A. COVARRUBIAS                DETAILS         4208 S ARCHER AVE   \n",
       "\n",
       "      CITY STATE  ZIP CODE                        ...                          \\\n",
       "0  CHICAGO    IL   60610.0                        ...                           \n",
       "1  CHICAGO    IL   60636.0                        ...                           \n",
       "2  CHICAGO    IL   60605.0                        ...                           \n",
       "3  CHICAGO    IL   60827.0                        ...                           \n",
       "4  CHICAGO    IL   60632.0                        ...                           \n",
       "\n",
       "   CONDITIONAL APPROVAL  LICENSE TERM START DATE LICENSE TERM EXPIRATION DATE  \\\n",
       "0                     N      2012-02-16T00:00:00          2014-02-15T00:00:00   \n",
       "1                     N      2011-06-16T00:00:00          2013-06-15T00:00:00   \n",
       "2                     N      2004-11-16T00:00:00          2005-11-15T00:00:00   \n",
       "3                     N      2010-08-16T00:00:00          2012-08-15T00:00:00   \n",
       "4                     N      2007-08-16T00:00:00          2009-06-15T00:00:00   \n",
       "\n",
       "   LICENSE APPROVED FOR ISSUANCE          DATE ISSUED  \\\n",
       "0            2012-01-19T00:00:00  2012-01-20T00:00:00   \n",
       "1            2012-11-02T00:00:00  2012-11-05T00:00:00   \n",
       "2            2004-12-06T00:00:00  2004-12-07T00:00:00   \n",
       "3                            NaN  2010-11-04T00:00:00   \n",
       "4            2007-08-15T00:00:00  2007-08-16T00:00:00   \n",
       "\n",
       "  LICENSE STATUS CHANGE DATE   SSA   LATITUDE  LONGITUDE  \\\n",
       "0        2012-12-29T00:00:00   NaN  41.890047 -87.637467   \n",
       "1        2012-12-29T00:00:00   NaN  41.786485 -87.676665   \n",
       "2                        NaN   NaN  41.868269 -87.625695   \n",
       "3        2012-12-31T00:00:00   NaN  41.655762 -87.608686   \n",
       "4        2008-03-26T00:00:00  39.0  41.816969 -87.699785   \n",
       "\n",
       "                                            LOCATION  \n",
       "0  {'latitude': '41.89004724888915', 'longitude':...  \n",
       "1  {'latitude': '41.786485235679486', 'longitude'...  \n",
       "2  {'latitude': '41.86826924843568', 'longitude':...  \n",
       "3  {'latitude': '41.65576175146191', 'longitude':...  \n",
       "4  {'latitude': '41.81696910012824', 'longitude':...  \n",
       "\n",
       "[5 rows x 31 columns]"
      ]
     },
     "execution_count": 3,
     "metadata": {},
     "output_type": "execute_result"
    }
   ],
   "source": [
    "# Importing the dataset\n",
    "test_data = pd.read_csv(\"test_file.csv\")\n",
    "test_data.head()"
   ]
  },
  {
   "cell_type": "code",
   "execution_count": 6,
   "metadata": {},
   "outputs": [
    {
     "data": {
      "text/plain": [
       "(57239, 31)"
      ]
     },
     "execution_count": 6,
     "metadata": {},
     "output_type": "execute_result"
    }
   ],
   "source": [
    "test_data.shape"
   ]
  },
  {
   "cell_type": "code",
   "execution_count": 7,
   "metadata": {},
   "outputs": [
    {
     "name": "stdout",
     "output_type": "stream",
     "text": [
      "ID                                       0\n",
      "LICENSE ID                               0\n",
      "ACCOUNT NUMBER                           0\n",
      "SITE NUMBER                              0\n",
      "LEGAL NAME                               0\n",
      "DOING BUSINESS AS NAME                   1\n",
      "ADDRESS                                  0\n",
      "CITY                                     0\n",
      "STATE                                    0\n",
      "ZIP CODE                                31\n",
      "WARD                                 49701\n",
      "PRECINCT                             56701\n",
      "WARD PRECINCT                        49700\n",
      "POLICE DISTRICT                      54012\n",
      "LICENSE CODE                             0\n",
      "LICENSE DESCRIPTION                      0\n",
      "LICENSE NUMBER                           1\n",
      "APPLICATION TYPE                         0\n",
      "APPLICATION CREATED DATE             64660\n",
      "APPLICATION REQUIREMENTS COMPLETE      214\n",
      "PAYMENT DATE                          1289\n",
      "CONDITIONAL APPROVAL                     0\n",
      "LICENSE TERM START DATE                228\n",
      "LICENSE TERM EXPIRATION DATE            18\n",
      "LICENSE APPROVED FOR ISSUANCE         6789\n",
      "DATE ISSUED                              0\n",
      "LICENSE STATUS CHANGE DATE           55400\n",
      "SSA                                  76446\n",
      "LATITUDE                             47246\n",
      "LONGITUDE                            47246\n",
      "LOCATION                             47246\n",
      "LICENSE STATUS                           0\n",
      "dtype: int64\n"
     ]
    }
   ],
   "source": [
    "# Check for any other unusable (NaN) values\n",
    "print(pd.isnull(train_data).sum())"
   ]
  },
  {
   "cell_type": "code",
   "execution_count": 8,
   "metadata": {},
   "outputs": [
    {
     "name": "stdout",
     "output_type": "stream",
     "text": [
      "ID                                       0\n",
      "LICENSE ID                               0\n",
      "ACCOUNT NUMBER                           0\n",
      "SITE NUMBER                              0\n",
      "LEGAL NAME                               0\n",
      "DOING BUSINESS AS NAME                   2\n",
      "ADDRESS                                  0\n",
      "CITY                                     0\n",
      "STATE                                    0\n",
      "ZIP CODE                                12\n",
      "WARD                                   626\n",
      "PRECINCT                              1578\n",
      "WARD PRECINCT                          616\n",
      "POLICE DISTRICT                       1475\n",
      "LICENSE CODE                             0\n",
      "LICENSE DESCRIPTION                      0\n",
      "LICENSE NUMBER                           0\n",
      "APPLICATION TYPE                         0\n",
      "APPLICATION CREATED DATE             44587\n",
      "APPLICATION REQUIREMENTS COMPLETE      428\n",
      "PAYMENT DATE                          1051\n",
      "CONDITIONAL APPROVAL                     0\n",
      "LICENSE TERM START DATE                118\n",
      "LICENSE TERM EXPIRATION DATE             6\n",
      "LICENSE APPROVED FOR ISSUANCE         2379\n",
      "DATE ISSUED                              0\n",
      "LICENSE STATUS CHANGE DATE           23246\n",
      "SSA                                  41331\n",
      "LATITUDE                               910\n",
      "LONGITUDE                              910\n",
      "LOCATION                               910\n",
      "dtype: int64\n"
     ]
    }
   ],
   "source": [
    "# Check for any other unusable (NaN) values\n",
    "print(pd.isnull(test_data).sum())"
   ]
  },
  {
   "cell_type": "code",
   "execution_count": 9,
   "metadata": {},
   "outputs": [
    {
     "data": {
      "text/html": [
       "<div>\n",
       "<style scoped>\n",
       "    .dataframe tbody tr th:only-of-type {\n",
       "        vertical-align: middle;\n",
       "    }\n",
       "\n",
       "    .dataframe tbody tr th {\n",
       "        vertical-align: top;\n",
       "    }\n",
       "\n",
       "    .dataframe thead th {\n",
       "        text-align: right;\n",
       "    }\n",
       "</style>\n",
       "<table border=\"1\" class=\"dataframe\">\n",
       "  <thead>\n",
       "    <tr style=\"text-align: right;\">\n",
       "      <th></th>\n",
       "      <th>ID</th>\n",
       "    </tr>\n",
       "  </thead>\n",
       "  <tbody>\n",
       "    <tr>\n",
       "      <th>0</th>\n",
       "      <td>1516615-20120216</td>\n",
       "    </tr>\n",
       "    <tr>\n",
       "      <th>1</th>\n",
       "      <td>69813-20110616</td>\n",
       "    </tr>\n",
       "    <tr>\n",
       "      <th>2</th>\n",
       "      <td>1519227-20041116</td>\n",
       "    </tr>\n",
       "    <tr>\n",
       "      <th>3</th>\n",
       "      <td>1922025-20100816</td>\n",
       "    </tr>\n",
       "    <tr>\n",
       "      <th>4</th>\n",
       "      <td>1675683-20070816</td>\n",
       "    </tr>\n",
       "  </tbody>\n",
       "</table>\n",
       "</div>"
      ],
      "text/plain": [
       "                 ID\n",
       "0  1516615-20120216\n",
       "1    69813-20110616\n",
       "2  1519227-20041116\n",
       "3  1922025-20100816\n",
       "4  1675683-20070816"
      ]
     },
     "execution_count": 9,
     "metadata": {},
     "output_type": "execute_result"
    }
   ],
   "source": [
    "my_submission = pd.DataFrame({'ID': test_data.ID})\n",
    "my_submission.head()"
   ]
  },
  {
   "cell_type": "code",
   "execution_count": 16,
   "metadata": {},
   "outputs": [
    {
     "data": {
      "text/plain": [
       "57239"
      ]
     },
     "execution_count": 16,
     "metadata": {},
     "output_type": "execute_result"
    }
   ],
   "source": [
    "my_submission['ID'].count()"
   ]
  },
  {
   "cell_type": "code",
   "execution_count": 17,
   "metadata": {},
   "outputs": [
    {
     "data": {
      "text/plain": [
       "(57239, 1)"
      ]
     },
     "execution_count": 17,
     "metadata": {},
     "output_type": "execute_result"
    }
   ],
   "source": [
    "my_submission.shape"
   ]
  },
  {
   "cell_type": "code",
   "execution_count": 18,
   "metadata": {},
   "outputs": [
    {
     "data": {
      "text/plain": [
       "Index(['ID', 'LICENSE ID', 'ACCOUNT NUMBER', 'SITE NUMBER', 'LEGAL NAME',\n",
       "       'DOING BUSINESS AS NAME', 'ADDRESS', 'CITY', 'STATE', 'ZIP CODE',\n",
       "       'WARD', 'PRECINCT', 'WARD PRECINCT', 'POLICE DISTRICT', 'LICENSE CODE',\n",
       "       'LICENSE DESCRIPTION', 'LICENSE NUMBER', 'APPLICATION TYPE',\n",
       "       'APPLICATION CREATED DATE', 'APPLICATION REQUIREMENTS COMPLETE',\n",
       "       'PAYMENT DATE', 'CONDITIONAL APPROVAL', 'LICENSE TERM START DATE',\n",
       "       'LICENSE TERM EXPIRATION DATE', 'LICENSE APPROVED FOR ISSUANCE',\n",
       "       'DATE ISSUED', 'LICENSE STATUS CHANGE DATE', 'SSA', 'LATITUDE',\n",
       "       'LONGITUDE', 'LOCATION', 'LICENSE STATUS'],\n",
       "      dtype='object')"
      ]
     },
     "execution_count": 18,
     "metadata": {},
     "output_type": "execute_result"
    }
   ],
   "source": [
    "train_data.columns"
   ]
  },
  {
   "cell_type": "code",
   "execution_count": 22,
   "metadata": {},
   "outputs": [
    {
     "data": {
      "text/plain": [
       "AAI    55400\n",
       "AAC    30200\n",
       "REV      290\n",
       "REA        3\n",
       "INQ        2\n",
       "Name: LICENSE STATUS, dtype: int64"
      ]
     },
     "execution_count": 22,
     "metadata": {},
     "output_type": "execute_result"
    }
   ],
   "source": [
    "# Studying the target variable\n",
    "train_data['LICENSE STATUS'].value_counts()"
   ]
  },
  {
   "cell_type": "code",
   "execution_count": 26,
   "metadata": {},
   "outputs": [
    {
     "data": {
      "image/png": "[encoded data removed]",
      "text/plain": [
       "<Figure size 432x288 with 1 Axes>"
      ]
     },
     "metadata": {
      "needs_background": "light"
     },
     "output_type": "display_data"
    }
   ],
   "source": [
    "plt.title('Distribution of target variable')\n",
    "sns.countplot(train_data['LICENSE STATUS'])\n",
    "plt.show()"
   ]
  },
  {
   "cell_type": "code",
   "execution_count": 30,
   "metadata": {},
   "outputs": [
    {
     "data": {
      "text/plain": [
       "ID                                   85895\n",
       "LICENSE ID                           85895\n",
       "ACCOUNT NUMBER                       38897\n",
       "SITE NUMBER                            177\n",
       "LEGAL NAME                           38744\n",
       "DOING BUSINESS AS NAME               41686\n",
       "ADDRESS                              42146\n",
       "CITY                                  1223\n",
       "STATE                                   54\n",
       "ZIP CODE                              2456\n",
       "WARD                                    50\n",
       "PRECINCT                                76\n",
       "WARD PRECINCT                         2383\n",
       "POLICE DISTRICT                         28\n",
       "LICENSE CODE                           106\n",
       "LICENSE DESCRIPTION                    106\n",
       "LICENSE NUMBER                       49768\n",
       "APPLICATION TYPE                         5\n",
       "APPLICATION CREATED DATE              2899\n",
       "APPLICATION REQUIREMENTS COMPLETE     3078\n",
       "PAYMENT DATE                          4356\n",
       "CONDITIONAL APPROVAL                     2\n",
       "LICENSE TERM START DATE               2825\n",
       "LICENSE TERM EXPIRATION DATE           297\n",
       "LICENSE APPROVED FOR ISSUANCE         4223\n",
       "DATE ISSUED                           3498\n",
       "LICENSE STATUS CHANGE DATE            3152\n",
       "SSA                                     53\n",
       "LATITUDE                             21386\n",
       "LONGITUDE                            21388\n",
       "LOCATION                             21388\n",
       "LICENSE STATUS                           5\n",
       "dtype: int64"
      ]
     },
     "execution_count": 30,
     "metadata": {},
     "output_type": "execute_result"
    }
   ],
   "source": [
    "# Identifying the unique number of values in the dataset\n",
    "train_data.nunique()"
   ]
  },
  {
   "cell_type": "code",
   "execution_count": 32,
   "metadata": {},
   "outputs": [],
   "source": [
    "# Dropping columns which will be of no use for our model\n",
    "\n",
    "train_data = train_data.drop(['LICENSE ID'], axis = 1)\n",
    "test_data = test_data.drop(['LICENSE ID'], axis = 1)\n",
    "\n",
    "train_data = train_data.drop(['ID'], axis = 1)\n",
    "test_data = test_data.drop(['ID'], axis = 1)\n",
    "\n",
    "train_data = train_data.drop(['ADDRESS'], axis = 1)\n",
    "test_data = test_data.drop(['ADDRESS'], axis = 1)\n",
    "\n",
    "train_data = train_data.drop(['STATE'], axis = 1)\n",
    "test_data = test_data.drop(['STATE'], axis = 1)\n",
    "\n",
    "train_data = train_data.drop(['LICENSE NUMBER'], axis = 1)\n",
    "test_data = test_data.drop(['LICENSE NUMBER'], axis = 1)\n",
    "\n",
    "train_data = train_data.drop(['APPLICATION CREATED DATE'], axis = 1)\n",
    "test_data = test_data.drop(['APPLICATION CREATED DATE'], axis = 1)\n",
    "\n",
    "train_data = train_data.drop(['LOCATION'], axis = 1)\n",
    "test_data = test_data.drop(['LOCATION'], axis = 1)"
   ]
  },
  {
   "cell_type": "code",
   "execution_count": 33,
   "metadata": {},
   "outputs": [
    {
     "data": {
      "image/png": "[encoded data removed]",
      "text/plain": [
       "<Figure size 1800x720 with 2 Axes>"
      ]
     },
     "metadata": {
      "needs_background": "light"
     },
     "output_type": "display_data"
    }
   ],
   "source": [
    "import missingno as msno\n",
    "# Missing data in form of white lines \n",
    "msno.matrix(train_data)\n",
    "plt.show()"
   ]
  },
  {
   "cell_type": "code",
   "execution_count": 34,
   "metadata": {},
   "outputs": [],
   "source": [
    "train_data['PAYMENT DATE'] = pd.to_datetime(train_data['PAYMENT DATE'])"
   ]
  },
  {
   "cell_type": "code",
   "execution_count": null,
   "metadata": {},
   "outputs": [],
   "source": [
    "train_data['year'], train_data['month'] = train_data['date'].apply(lambda x: x.year), train_data['date'].apply(lambda x: x.month)"
   ]
  }
 ],
 "metadata": {
  "kernelspec": {
   "display_name": "Python 3",
   "language": "python",
   "name": "python3"
  },
  "language_info": {
   "codemirror_mode": {
    "name": "ipython",
    "version": 3
   },
   "file_extension": ".py",
   "mimetype": "text/x-python",
   "name": "python",
   "nbconvert_exporter": "python",
   "pygments_lexer": "ipython3",
   "version": "3.7.1"
  },
  "varInspector": {
   "cols": {
    "lenName": 16,
    "lenType": 16,
    "lenVar": 40
   },
   "kernels_config": {
    "python": {
     "delete_cmd_postfix": "",
     "delete_cmd_prefix": "del ",
     "library": "var_list.py",
     "varRefreshCmd": "print(var_dic_list())"
    },
    "r": {
     "delete_cmd_postfix": ") ",
     "delete_cmd_prefix": "rm(",
     "library": "var_list.r",
     "varRefreshCmd": "cat(var_dic_list()) "
    }
   },
   "types_to_exclude": [
    "module",
    "function",
    "builtin_function_or_method",
    "instance",
    "_Feature"
   ],
   "window_display": false
  }
 },
 "nbformat": 4,
 "nbformat_minor": 2
}
