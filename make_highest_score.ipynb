{
 "cells": [
  {
   "cell_type": "markdown",
   "metadata": {},
   "source": [
    "# Business License Status Prediction"
   ]
  },
  {
   "cell_type": "markdown",
   "metadata": {},
   "source": [
    "## Our goal is to perform a multi-class classification of the business license status of various users, from the given dataset."
   ]
  },
  {
   "cell_type": "markdown",
   "metadata": {},
   "source": [
    "### Importing libraries"
   ]
  },
  {
   "cell_type": "code",
   "execution_count": 1,
   "metadata": {},
   "outputs": [],
   "source": [
    "# Importing libraries\n",
    "import pandas as pd\n",
    "import numpy as np\n",
    "import matplotlib.pyplot as plt\n",
    "import seaborn as sns\n",
    "from sklearn.preprocessing import LabelEncoder\n",
    "from sklearn import metrics\n",
    "from sklearn.model_selection import GridSearchCV\n",
    "from sklearn.model_selection import train_test_split\n",
    "from sklearn.metrics import precision_score, recall_score, f1_score, roc_auc_score, accuracy_score, classification_report\n",
    "pd.set_option('display.max_rows', 500)\n",
    "pd.set_option('display.max_columns', 500)\n",
    "pd.set_option('display.width', 1000)"
   ]
  },
  {
   "cell_type": "markdown",
   "metadata": {},
   "source": [
    "### Importing the datasets"
   ]
  },
  {
   "cell_type": "code",
   "execution_count": 2,
   "metadata": {
    "scrolled": false
   },
   "outputs": [
    {
     "name": "stderr",
     "output_type": "stream",
     "text": [
      "F:\\Installed\\Anaconda3\\envs\\tf_gpu\\lib\\site-packages\\IPython\\core\\interactiveshell.py:3049: DtypeWarning: Columns (9) have mixed types. Specify dtype option on import or set low_memory=False.\n",
      "  interactivity=interactivity, compiler=compiler, result=result)\n"
     ]
    },
    {
     "data": {
      "text/html": [
       "<div>\n",
       "<style scoped>\n",
       "    .dataframe tbody tr th:only-of-type {\n",
       "        vertical-align: middle;\n",
       "    }\n",
       "\n",
       "    .dataframe tbody tr th {\n",
       "        vertical-align: top;\n",
       "    }\n",
       "\n",
       "    .dataframe thead th {\n",
       "        text-align: right;\n",
       "    }\n",
       "</style>\n",
       "<table border=\"1\" class=\"dataframe\">\n",
       "  <thead>\n",
       "    <tr style=\"text-align: right;\">\n",
       "      <th></th>\n",
       "      <th>ID</th>\n",
       "      <th>LICENSE ID</th>\n",
       "      <th>ACCOUNT NUMBER</th>\n",
       "      <th>SITE NUMBER</th>\n",
       "      <th>LEGAL NAME</th>\n",
       "      <th>DOING BUSINESS AS NAME</th>\n",
       "      <th>ADDRESS</th>\n",
       "      <th>CITY</th>\n",
       "      <th>STATE</th>\n",
       "      <th>ZIP CODE</th>\n",
       "      <th>WARD</th>\n",
       "      <th>PRECINCT</th>\n",
       "      <th>WARD PRECINCT</th>\n",
       "      <th>POLICE DISTRICT</th>\n",
       "      <th>LICENSE CODE</th>\n",
       "      <th>LICENSE DESCRIPTION</th>\n",
       "      <th>LICENSE NUMBER</th>\n",
       "      <th>APPLICATION TYPE</th>\n",
       "      <th>APPLICATION CREATED DATE</th>\n",
       "      <th>APPLICATION REQUIREMENTS COMPLETE</th>\n",
       "      <th>PAYMENT DATE</th>\n",
       "      <th>CONDITIONAL APPROVAL</th>\n",
       "      <th>LICENSE TERM START DATE</th>\n",
       "      <th>LICENSE TERM EXPIRATION DATE</th>\n",
       "      <th>LICENSE APPROVED FOR ISSUANCE</th>\n",
       "      <th>DATE ISSUED</th>\n",
       "      <th>LICENSE STATUS CHANGE DATE</th>\n",
       "      <th>SSA</th>\n",
       "      <th>LATITUDE</th>\n",
       "      <th>LONGITUDE</th>\n",
       "      <th>LOCATION</th>\n",
       "      <th>LICENSE STATUS</th>\n",
       "    </tr>\n",
       "  </thead>\n",
       "  <tbody>\n",
       "    <tr>\n",
       "      <th>0</th>\n",
       "      <td>35342-20020816</td>\n",
       "      <td>1256593</td>\n",
       "      <td>32811</td>\n",
       "      <td>1</td>\n",
       "      <td>CARMEN CAHUE</td>\n",
       "      <td>CLAUDIA'S BRIDAL SHOP</td>\n",
       "      <td>2625 S CENTRAL PARK AVE  1</td>\n",
       "      <td>CHICAGO</td>\n",
       "      <td>IL</td>\n",
       "      <td>60623.0</td>\n",
       "      <td>22.0</td>\n",
       "      <td>28.0</td>\n",
       "      <td>22-28</td>\n",
       "      <td>10.0</td>\n",
       "      <td>1010</td>\n",
       "      <td>Limited Business License</td>\n",
       "      <td>35342.0</td>\n",
       "      <td>RENEW</td>\n",
       "      <td>NaN</td>\n",
       "      <td>2002-06-28T00:00:00</td>\n",
       "      <td>2002-08-21T00:00:00</td>\n",
       "      <td>N</td>\n",
       "      <td>2002-08-16T00:00:00</td>\n",
       "      <td>2003-08-15T00:00:00</td>\n",
       "      <td>2002-08-21T00:00:00</td>\n",
       "      <td>2006-04-11T00:00:00</td>\n",
       "      <td>NaN</td>\n",
       "      <td>25.0</td>\n",
       "      <td>41.843613</td>\n",
       "      <td>-87.714618</td>\n",
       "      <td>{'latitude': '41.843612879431845', 'longitude'...</td>\n",
       "      <td>AAI</td>\n",
       "    </tr>\n",
       "    <tr>\n",
       "      <th>1</th>\n",
       "      <td>1358463-20051116</td>\n",
       "      <td>1639294</td>\n",
       "      <td>262311</td>\n",
       "      <td>29</td>\n",
       "      <td>ISLA TROPICAL, INC.</td>\n",
       "      <td>ISLA TROPICAL</td>\n",
       "      <td>2825 W MONTROSE AVE</td>\n",
       "      <td>CHICAGO</td>\n",
       "      <td>IL</td>\n",
       "      <td>60618</td>\n",
       "      <td>33.0</td>\n",
       "      <td>23.0</td>\n",
       "      <td>33-23</td>\n",
       "      <td>17.0</td>\n",
       "      <td>1315</td>\n",
       "      <td>Mobile Food Dispenser</td>\n",
       "      <td>1358463.0</td>\n",
       "      <td>RENEW</td>\n",
       "      <td>NaN</td>\n",
       "      <td>2005-09-22T00:00:00</td>\n",
       "      <td>2005-11-03T00:00:00</td>\n",
       "      <td>N</td>\n",
       "      <td>2005-11-16T00:00:00</td>\n",
       "      <td>2006-11-15T00:00:00</td>\n",
       "      <td>2006-04-05T00:00:00</td>\n",
       "      <td>2006-06-12T00:00:00</td>\n",
       "      <td>2006-06-15T00:00:00</td>\n",
       "      <td>60.0</td>\n",
       "      <td>41.961132</td>\n",
       "      <td>-87.699626</td>\n",
       "      <td>{'latitude': '41.96113244107215', 'longitude':...</td>\n",
       "      <td>AAC</td>\n",
       "    </tr>\n",
       "    <tr>\n",
       "      <th>2</th>\n",
       "      <td>1980233-20090722</td>\n",
       "      <td>1980233</td>\n",
       "      <td>345008</td>\n",
       "      <td>1</td>\n",
       "      <td>DJS REMODELING</td>\n",
       "      <td>DJS REMODELING, INC.</td>\n",
       "      <td>1605  CLAVEY RD 1</td>\n",
       "      <td>HIGHLAND</td>\n",
       "      <td>IL</td>\n",
       "      <td>60035</td>\n",
       "      <td>NaN</td>\n",
       "      <td>NaN</td>\n",
       "      <td>NaN</td>\n",
       "      <td>NaN</td>\n",
       "      <td>1011</td>\n",
       "      <td>Home Repair</td>\n",
       "      <td>1980233.0</td>\n",
       "      <td>ISSUE</td>\n",
       "      <td>2009-06-29T00:00:00</td>\n",
       "      <td>2009-07-22T00:00:00</td>\n",
       "      <td>2009-07-22T00:00:00</td>\n",
       "      <td>N</td>\n",
       "      <td>2009-07-22T00:00:00</td>\n",
       "      <td>2011-07-15T00:00:00</td>\n",
       "      <td>2009-07-22T00:00:00</td>\n",
       "      <td>2009-07-22T00:00:00</td>\n",
       "      <td>NaN</td>\n",
       "      <td>NaN</td>\n",
       "      <td>NaN</td>\n",
       "      <td>NaN</td>\n",
       "      <td>NaN</td>\n",
       "      <td>AAI</td>\n",
       "    </tr>\n",
       "    <tr>\n",
       "      <th>3</th>\n",
       "      <td>1476582-20040211</td>\n",
       "      <td>1476582</td>\n",
       "      <td>273121</td>\n",
       "      <td>1</td>\n",
       "      <td>ALL-BRY CONSTRUCTION CO.</td>\n",
       "      <td>ALL-BRY CONSTRUCTION CO.</td>\n",
       "      <td>8  NORTH TRAIL</td>\n",
       "      <td>LEMONT</td>\n",
       "      <td>IL</td>\n",
       "      <td>60439</td>\n",
       "      <td>NaN</td>\n",
       "      <td>NaN</td>\n",
       "      <td>NaN</td>\n",
       "      <td>NaN</td>\n",
       "      <td>1010</td>\n",
       "      <td>Limited Business License</td>\n",
       "      <td>1476582.0</td>\n",
       "      <td>ISSUE</td>\n",
       "      <td>2004-02-10T00:00:00</td>\n",
       "      <td>2004-02-10T00:00:00</td>\n",
       "      <td>2004-02-10T00:00:00</td>\n",
       "      <td>N</td>\n",
       "      <td>2004-02-11T00:00:00</td>\n",
       "      <td>2005-02-15T00:00:00</td>\n",
       "      <td>2004-02-10T00:00:00</td>\n",
       "      <td>2004-02-11T00:00:00</td>\n",
       "      <td>NaN</td>\n",
       "      <td>NaN</td>\n",
       "      <td>NaN</td>\n",
       "      <td>NaN</td>\n",
       "      <td>NaN</td>\n",
       "      <td>AAI</td>\n",
       "    </tr>\n",
       "    <tr>\n",
       "      <th>4</th>\n",
       "      <td>1141408-20080516</td>\n",
       "      <td>1896750</td>\n",
       "      <td>213785</td>\n",
       "      <td>1</td>\n",
       "      <td>MCDONOUGH MECHANICAL SERVICE</td>\n",
       "      <td>MCDONOUGH MECHANICAL SERVICE</td>\n",
       "      <td>4081  JOSEPH DR</td>\n",
       "      <td>WAUKEGAN</td>\n",
       "      <td>IL</td>\n",
       "      <td>60087</td>\n",
       "      <td>NaN</td>\n",
       "      <td>NaN</td>\n",
       "      <td>NaN</td>\n",
       "      <td>NaN</td>\n",
       "      <td>1010</td>\n",
       "      <td>Limited Business License</td>\n",
       "      <td>1141408.0</td>\n",
       "      <td>RENEW</td>\n",
       "      <td>NaN</td>\n",
       "      <td>2008-03-24T00:00:00</td>\n",
       "      <td>2008-06-04T00:00:00</td>\n",
       "      <td>N</td>\n",
       "      <td>2008-05-16T00:00:00</td>\n",
       "      <td>2010-05-15T00:00:00</td>\n",
       "      <td>2008-06-04T00:00:00</td>\n",
       "      <td>2008-06-05T00:00:00</td>\n",
       "      <td>NaN</td>\n",
       "      <td>NaN</td>\n",
       "      <td>NaN</td>\n",
       "      <td>NaN</td>\n",
       "      <td>NaN</td>\n",
       "      <td>AAI</td>\n",
       "    </tr>\n",
       "  </tbody>\n",
       "</table>\n",
       "</div>"
      ],
      "text/plain": [
       "                 ID  LICENSE ID  ACCOUNT NUMBER  SITE NUMBER                    LEGAL NAME        DOING BUSINESS AS NAME                     ADDRESS      CITY STATE ZIP CODE  WARD  PRECINCT WARD PRECINCT  POLICE DISTRICT  LICENSE CODE       LICENSE DESCRIPTION  LICENSE NUMBER APPLICATION TYPE APPLICATION CREATED DATE APPLICATION REQUIREMENTS COMPLETE         PAYMENT DATE CONDITIONAL APPROVAL LICENSE TERM START DATE LICENSE TERM EXPIRATION DATE LICENSE APPROVED FOR ISSUANCE          DATE ISSUED LICENSE STATUS CHANGE DATE   SSA   LATITUDE  LONGITUDE                                           LOCATION LICENSE STATUS\n",
       "0    35342-20020816     1256593           32811            1                  CARMEN CAHUE         CLAUDIA'S BRIDAL SHOP  2625 S CENTRAL PARK AVE  1   CHICAGO    IL  60623.0  22.0      28.0         22-28             10.0          1010  Limited Business License         35342.0            RENEW                      NaN               2002-06-28T00:00:00  2002-08-21T00:00:00                    N     2002-08-16T00:00:00          2003-08-15T00:00:00           2002-08-21T00:00:00  2006-04-11T00:00:00                        NaN  25.0  41.843613 -87.714618  {'latitude': '41.843612879431845', 'longitude'...            AAI\n",
       "1  1358463-20051116     1639294          262311           29           ISLA TROPICAL, INC.                 ISLA TROPICAL         2825 W MONTROSE AVE   CHICAGO    IL    60618  33.0      23.0         33-23             17.0          1315     Mobile Food Dispenser       1358463.0            RENEW                      NaN               2005-09-22T00:00:00  2005-11-03T00:00:00                    N     2005-11-16T00:00:00          2006-11-15T00:00:00           2006-04-05T00:00:00  2006-06-12T00:00:00        2006-06-15T00:00:00  60.0  41.961132 -87.699626  {'latitude': '41.96113244107215', 'longitude':...            AAC\n",
       "2  1980233-20090722     1980233          345008            1                DJS REMODELING          DJS REMODELING, INC.           1605  CLAVEY RD 1  HIGHLAND    IL    60035   NaN       NaN           NaN              NaN          1011               Home Repair       1980233.0            ISSUE      2009-06-29T00:00:00               2009-07-22T00:00:00  2009-07-22T00:00:00                    N     2009-07-22T00:00:00          2011-07-15T00:00:00           2009-07-22T00:00:00  2009-07-22T00:00:00                        NaN   NaN        NaN        NaN                                                NaN            AAI\n",
       "3  1476582-20040211     1476582          273121            1      ALL-BRY CONSTRUCTION CO.      ALL-BRY CONSTRUCTION CO.              8  NORTH TRAIL    LEMONT    IL    60439   NaN       NaN           NaN              NaN          1010  Limited Business License       1476582.0            ISSUE      2004-02-10T00:00:00               2004-02-10T00:00:00  2004-02-10T00:00:00                    N     2004-02-11T00:00:00          2005-02-15T00:00:00           2004-02-10T00:00:00  2004-02-11T00:00:00                        NaN   NaN        NaN        NaN                                                NaN            AAI\n",
       "4  1141408-20080516     1896750          213785            1  MCDONOUGH MECHANICAL SERVICE  MCDONOUGH MECHANICAL SERVICE             4081  JOSEPH DR  WAUKEGAN    IL    60087   NaN       NaN           NaN              NaN          1010  Limited Business License       1141408.0            RENEW                      NaN               2008-03-24T00:00:00  2008-06-04T00:00:00                    N     2008-05-16T00:00:00          2010-05-15T00:00:00           2008-06-04T00:00:00  2008-06-05T00:00:00                        NaN   NaN        NaN        NaN                                                NaN            AAI"
      ]
     },
     "execution_count": 2,
     "metadata": {},
     "output_type": "execute_result"
    }
   ],
   "source": [
    "# Importing the dataset\n",
    "train_data = pd.read_csv(\"train_file.csv\")\n",
    "train_data.head()"
   ]
  },
  {
   "cell_type": "code",
   "execution_count": 3,
   "metadata": {},
   "outputs": [
    {
     "data": {
      "text/plain": [
       "(85895, 32)"
      ]
     },
     "execution_count": 3,
     "metadata": {},
     "output_type": "execute_result"
    }
   ],
   "source": [
    "train_data.shape"
   ]
  },
  {
   "cell_type": "code",
   "execution_count": 4,
   "metadata": {},
   "outputs": [
    {
     "data": {
      "text/html": [
       "<div>\n",
       "<style scoped>\n",
       "    .dataframe tbody tr th:only-of-type {\n",
       "        vertical-align: middle;\n",
       "    }\n",
       "\n",
       "    .dataframe tbody tr th {\n",
       "        vertical-align: top;\n",
       "    }\n",
       "\n",
       "    .dataframe thead th {\n",
       "        text-align: right;\n",
       "    }\n",
       "</style>\n",
       "<table border=\"1\" class=\"dataframe\">\n",
       "  <thead>\n",
       "    <tr style=\"text-align: right;\">\n",
       "      <th></th>\n",
       "      <th>ID</th>\n",
       "      <th>LICENSE ID</th>\n",
       "      <th>ACCOUNT NUMBER</th>\n",
       "      <th>SITE NUMBER</th>\n",
       "      <th>LEGAL NAME</th>\n",
       "      <th>DOING BUSINESS AS NAME</th>\n",
       "      <th>ADDRESS</th>\n",
       "      <th>CITY</th>\n",
       "      <th>STATE</th>\n",
       "      <th>ZIP CODE</th>\n",
       "      <th>WARD</th>\n",
       "      <th>PRECINCT</th>\n",
       "      <th>WARD PRECINCT</th>\n",
       "      <th>POLICE DISTRICT</th>\n",
       "      <th>LICENSE CODE</th>\n",
       "      <th>LICENSE DESCRIPTION</th>\n",
       "      <th>LICENSE NUMBER</th>\n",
       "      <th>APPLICATION TYPE</th>\n",
       "      <th>APPLICATION CREATED DATE</th>\n",
       "      <th>APPLICATION REQUIREMENTS COMPLETE</th>\n",
       "      <th>PAYMENT DATE</th>\n",
       "      <th>CONDITIONAL APPROVAL</th>\n",
       "      <th>LICENSE TERM START DATE</th>\n",
       "      <th>LICENSE TERM EXPIRATION DATE</th>\n",
       "      <th>LICENSE APPROVED FOR ISSUANCE</th>\n",
       "      <th>DATE ISSUED</th>\n",
       "      <th>LICENSE STATUS CHANGE DATE</th>\n",
       "      <th>SSA</th>\n",
       "      <th>LATITUDE</th>\n",
       "      <th>LONGITUDE</th>\n",
       "      <th>LOCATION</th>\n",
       "    </tr>\n",
       "  </thead>\n",
       "  <tbody>\n",
       "    <tr>\n",
       "      <th>0</th>\n",
       "      <td>1516615-20120216</td>\n",
       "      <td>2132209</td>\n",
       "      <td>280120</td>\n",
       "      <td>1</td>\n",
       "      <td>RS HOMES I LLC</td>\n",
       "      <td>RS HOMES I LLC</td>\n",
       "      <td>350 W HUBBARD ST 3 300</td>\n",
       "      <td>CHICAGO</td>\n",
       "      <td>IL</td>\n",
       "      <td>60610.0</td>\n",
       "      <td>42.0</td>\n",
       "      <td>67.0</td>\n",
       "      <td>42-67</td>\n",
       "      <td>18.0</td>\n",
       "      <td>1020</td>\n",
       "      <td>Residential Real Estate Developer</td>\n",
       "      <td>1516615.0</td>\n",
       "      <td>RENEW</td>\n",
       "      <td>NaN</td>\n",
       "      <td>2011-12-15T00:00:00</td>\n",
       "      <td>2012-01-19T00:00:00</td>\n",
       "      <td>N</td>\n",
       "      <td>2012-02-16T00:00:00</td>\n",
       "      <td>2014-02-15T00:00:00</td>\n",
       "      <td>2012-01-19T00:00:00</td>\n",
       "      <td>2012-01-20T00:00:00</td>\n",
       "      <td>2012-12-29T00:00:00</td>\n",
       "      <td>NaN</td>\n",
       "      <td>41.890047</td>\n",
       "      <td>-87.637467</td>\n",
       "      <td>{'latitude': '41.89004724888915', 'longitude':...</td>\n",
       "    </tr>\n",
       "    <tr>\n",
       "      <th>1</th>\n",
       "      <td>69813-20110616</td>\n",
       "      <td>2090759</td>\n",
       "      <td>65043</td>\n",
       "      <td>1</td>\n",
       "      <td>CSX INTERMODAL INC</td>\n",
       "      <td>CSX INTERMODAL</td>\n",
       "      <td>2101 W 59TH ST 1ST</td>\n",
       "      <td>CHICAGO</td>\n",
       "      <td>IL</td>\n",
       "      <td>60636.0</td>\n",
       "      <td>16.0</td>\n",
       "      <td>5.0</td>\n",
       "      <td>16-5</td>\n",
       "      <td>7.0</td>\n",
       "      <td>1010</td>\n",
       "      <td>Limited Business License</td>\n",
       "      <td>69813.0</td>\n",
       "      <td>RENEW</td>\n",
       "      <td>NaN</td>\n",
       "      <td>2011-04-15T00:00:00</td>\n",
       "      <td>2012-11-02T00:00:00</td>\n",
       "      <td>N</td>\n",
       "      <td>2011-06-16T00:00:00</td>\n",
       "      <td>2013-06-15T00:00:00</td>\n",
       "      <td>2012-11-02T00:00:00</td>\n",
       "      <td>2012-11-05T00:00:00</td>\n",
       "      <td>2012-12-29T00:00:00</td>\n",
       "      <td>NaN</td>\n",
       "      <td>41.786485</td>\n",
       "      <td>-87.676665</td>\n",
       "      <td>{'latitude': '41.786485235679486', 'longitude'...</td>\n",
       "    </tr>\n",
       "    <tr>\n",
       "      <th>2</th>\n",
       "      <td>1519227-20041116</td>\n",
       "      <td>1541990</td>\n",
       "      <td>281270</td>\n",
       "      <td>1</td>\n",
       "      <td>LOCOMIBILE  LOFTS LLC</td>\n",
       "      <td>LOCOMOBILE LOFTS LLC</td>\n",
       "      <td>1133 S WABASH AVE 1ST</td>\n",
       "      <td>CHICAGO</td>\n",
       "      <td>IL</td>\n",
       "      <td>60605.0</td>\n",
       "      <td>4.0</td>\n",
       "      <td>8.0</td>\n",
       "      <td>4-8</td>\n",
       "      <td>1.0</td>\n",
       "      <td>1020</td>\n",
       "      <td>Residential Real Estate Developer</td>\n",
       "      <td>1519227.0</td>\n",
       "      <td>RENEW</td>\n",
       "      <td>NaN</td>\n",
       "      <td>2004-09-27T00:00:00</td>\n",
       "      <td>2004-12-06T00:00:00</td>\n",
       "      <td>N</td>\n",
       "      <td>2004-11-16T00:00:00</td>\n",
       "      <td>2005-11-15T00:00:00</td>\n",
       "      <td>2004-12-06T00:00:00</td>\n",
       "      <td>2004-12-07T00:00:00</td>\n",
       "      <td>NaN</td>\n",
       "      <td>NaN</td>\n",
       "      <td>41.868269</td>\n",
       "      <td>-87.625695</td>\n",
       "      <td>{'latitude': '41.86826924843568', 'longitude':...</td>\n",
       "    </tr>\n",
       "    <tr>\n",
       "      <th>3</th>\n",
       "      <td>1922025-20100816</td>\n",
       "      <td>2041053</td>\n",
       "      <td>335243</td>\n",
       "      <td>1</td>\n",
       "      <td>ANNA F. JAMISON</td>\n",
       "      <td>ANNA F. JAMISON</td>\n",
       "      <td>13156 S FORRESTVILLE AVE</td>\n",
       "      <td>CHICAGO</td>\n",
       "      <td>IL</td>\n",
       "      <td>60827.0</td>\n",
       "      <td>9.0</td>\n",
       "      <td>33.0</td>\n",
       "      <td>9-33</td>\n",
       "      <td>5.0</td>\n",
       "      <td>1607</td>\n",
       "      <td>Peddler, non-food, special</td>\n",
       "      <td>1922025.0</td>\n",
       "      <td>RENEW</td>\n",
       "      <td>NaN</td>\n",
       "      <td>2010-06-15T00:00:00</td>\n",
       "      <td>2010-11-04T00:00:00</td>\n",
       "      <td>N</td>\n",
       "      <td>2010-08-16T00:00:00</td>\n",
       "      <td>2012-08-15T00:00:00</td>\n",
       "      <td>NaN</td>\n",
       "      <td>2010-11-04T00:00:00</td>\n",
       "      <td>2012-12-31T00:00:00</td>\n",
       "      <td>NaN</td>\n",
       "      <td>41.655762</td>\n",
       "      <td>-87.608686</td>\n",
       "      <td>{'latitude': '41.65576175146191', 'longitude':...</td>\n",
       "    </tr>\n",
       "    <tr>\n",
       "      <th>4</th>\n",
       "      <td>1675683-20070816</td>\n",
       "      <td>1837158</td>\n",
       "      <td>283018</td>\n",
       "      <td>3</td>\n",
       "      <td>MARINCA A. COVARRUBIAS</td>\n",
       "      <td>DETAILS</td>\n",
       "      <td>4208 S ARCHER AVE</td>\n",
       "      <td>CHICAGO</td>\n",
       "      <td>IL</td>\n",
       "      <td>60632.0</td>\n",
       "      <td>15.0</td>\n",
       "      <td>26.0</td>\n",
       "      <td>15-26</td>\n",
       "      <td>9.0</td>\n",
       "      <td>1010</td>\n",
       "      <td>Limited Business License</td>\n",
       "      <td>1675683.0</td>\n",
       "      <td>RENEW</td>\n",
       "      <td>NaN</td>\n",
       "      <td>2007-06-21T00:00:00</td>\n",
       "      <td>2007-08-15T00:00:00</td>\n",
       "      <td>N</td>\n",
       "      <td>2007-08-16T00:00:00</td>\n",
       "      <td>2009-06-15T00:00:00</td>\n",
       "      <td>2007-08-15T00:00:00</td>\n",
       "      <td>2007-08-16T00:00:00</td>\n",
       "      <td>2008-03-26T00:00:00</td>\n",
       "      <td>39.0</td>\n",
       "      <td>41.816969</td>\n",
       "      <td>-87.699785</td>\n",
       "      <td>{'latitude': '41.81696910012824', 'longitude':...</td>\n",
       "    </tr>\n",
       "  </tbody>\n",
       "</table>\n",
       "</div>"
      ],
      "text/plain": [
       "                 ID  LICENSE ID  ACCOUNT NUMBER  SITE NUMBER              LEGAL NAME DOING BUSINESS AS NAME                   ADDRESS     CITY STATE  ZIP CODE  WARD  PRECINCT WARD PRECINCT  POLICE DISTRICT  LICENSE CODE                LICENSE DESCRIPTION  LICENSE NUMBER APPLICATION TYPE APPLICATION CREATED DATE APPLICATION REQUIREMENTS COMPLETE         PAYMENT DATE CONDITIONAL APPROVAL LICENSE TERM START DATE LICENSE TERM EXPIRATION DATE LICENSE APPROVED FOR ISSUANCE          DATE ISSUED LICENSE STATUS CHANGE DATE   SSA   LATITUDE  LONGITUDE                                           LOCATION\n",
       "0  1516615-20120216     2132209          280120            1          RS HOMES I LLC         RS HOMES I LLC    350 W HUBBARD ST 3 300  CHICAGO    IL   60610.0  42.0      67.0         42-67             18.0          1020  Residential Real Estate Developer       1516615.0            RENEW                      NaN               2011-12-15T00:00:00  2012-01-19T00:00:00                    N     2012-02-16T00:00:00          2014-02-15T00:00:00           2012-01-19T00:00:00  2012-01-20T00:00:00        2012-12-29T00:00:00   NaN  41.890047 -87.637467  {'latitude': '41.89004724888915', 'longitude':...\n",
       "1    69813-20110616     2090759           65043            1      CSX INTERMODAL INC         CSX INTERMODAL        2101 W 59TH ST 1ST  CHICAGO    IL   60636.0  16.0       5.0          16-5              7.0          1010           Limited Business License         69813.0            RENEW                      NaN               2011-04-15T00:00:00  2012-11-02T00:00:00                    N     2011-06-16T00:00:00          2013-06-15T00:00:00           2012-11-02T00:00:00  2012-11-05T00:00:00        2012-12-29T00:00:00   NaN  41.786485 -87.676665  {'latitude': '41.786485235679486', 'longitude'...\n",
       "2  1519227-20041116     1541990          281270            1   LOCOMIBILE  LOFTS LLC   LOCOMOBILE LOFTS LLC     1133 S WABASH AVE 1ST  CHICAGO    IL   60605.0   4.0       8.0           4-8              1.0          1020  Residential Real Estate Developer       1519227.0            RENEW                      NaN               2004-09-27T00:00:00  2004-12-06T00:00:00                    N     2004-11-16T00:00:00          2005-11-15T00:00:00           2004-12-06T00:00:00  2004-12-07T00:00:00                        NaN   NaN  41.868269 -87.625695  {'latitude': '41.86826924843568', 'longitude':...\n",
       "3  1922025-20100816     2041053          335243            1         ANNA F. JAMISON        ANNA F. JAMISON  13156 S FORRESTVILLE AVE  CHICAGO    IL   60827.0   9.0      33.0          9-33              5.0          1607         Peddler, non-food, special       1922025.0            RENEW                      NaN               2010-06-15T00:00:00  2010-11-04T00:00:00                    N     2010-08-16T00:00:00          2012-08-15T00:00:00                           NaN  2010-11-04T00:00:00        2012-12-31T00:00:00   NaN  41.655762 -87.608686  {'latitude': '41.65576175146191', 'longitude':...\n",
       "4  1675683-20070816     1837158          283018            3  MARINCA A. COVARRUBIAS                DETAILS         4208 S ARCHER AVE  CHICAGO    IL   60632.0  15.0      26.0         15-26              9.0          1010           Limited Business License       1675683.0            RENEW                      NaN               2007-06-21T00:00:00  2007-08-15T00:00:00                    N     2007-08-16T00:00:00          2009-06-15T00:00:00           2007-08-15T00:00:00  2007-08-16T00:00:00        2008-03-26T00:00:00  39.0  41.816969 -87.699785  {'latitude': '41.81696910012824', 'longitude':..."
      ]
     },
     "execution_count": 4,
     "metadata": {},
     "output_type": "execute_result"
    }
   ],
   "source": [
    "# Importing the dataset\n",
    "test_data = pd.read_csv(\"test_file.csv\")\n",
    "test_data.head()"
   ]
  },
  {
   "cell_type": "code",
   "execution_count": 5,
   "metadata": {},
   "outputs": [
    {
     "data": {
      "text/plain": [
       "(57239, 31)"
      ]
     },
     "execution_count": 5,
     "metadata": {},
     "output_type": "execute_result"
    }
   ],
   "source": [
    "test_data.shape"
   ]
  },
  {
   "cell_type": "code",
   "execution_count": 6,
   "metadata": {},
   "outputs": [
    {
     "data": {
      "text/html": [
       "<div>\n",
       "<style scoped>\n",
       "    .dataframe tbody tr th:only-of-type {\n",
       "        vertical-align: middle;\n",
       "    }\n",
       "\n",
       "    .dataframe tbody tr th {\n",
       "        vertical-align: top;\n",
       "    }\n",
       "\n",
       "    .dataframe thead th {\n",
       "        text-align: right;\n",
       "    }\n",
       "</style>\n",
       "<table border=\"1\" class=\"dataframe\">\n",
       "  <thead>\n",
       "    <tr style=\"text-align: right;\">\n",
       "      <th></th>\n",
       "      <th>ID</th>\n",
       "    </tr>\n",
       "  </thead>\n",
       "  <tbody>\n",
       "    <tr>\n",
       "      <th>0</th>\n",
       "      <td>1516615-20120216</td>\n",
       "    </tr>\n",
       "    <tr>\n",
       "      <th>1</th>\n",
       "      <td>69813-20110616</td>\n",
       "    </tr>\n",
       "    <tr>\n",
       "      <th>2</th>\n",
       "      <td>1519227-20041116</td>\n",
       "    </tr>\n",
       "    <tr>\n",
       "      <th>3</th>\n",
       "      <td>1922025-20100816</td>\n",
       "    </tr>\n",
       "    <tr>\n",
       "      <th>4</th>\n",
       "      <td>1675683-20070816</td>\n",
       "    </tr>\n",
       "  </tbody>\n",
       "</table>\n",
       "</div>"
      ],
      "text/plain": [
       "                 ID\n",
       "0  1516615-20120216\n",
       "1    69813-20110616\n",
       "2  1519227-20041116\n",
       "3  1922025-20100816\n",
       "4  1675683-20070816"
      ]
     },
     "execution_count": 6,
     "metadata": {},
     "output_type": "execute_result"
    }
   ],
   "source": [
    "my_submission = pd.DataFrame({'ID': test_data.ID})\n",
    "my_submission.head()"
   ]
  },
  {
   "cell_type": "code",
   "execution_count": 7,
   "metadata": {},
   "outputs": [
    {
     "data": {
      "text/plain": [
       "(57239, 1)"
      ]
     },
     "execution_count": 7,
     "metadata": {},
     "output_type": "execute_result"
    }
   ],
   "source": [
    "my_submission.shape"
   ]
  },
  {
   "cell_type": "code",
   "execution_count": 8,
   "metadata": {},
   "outputs": [
    {
     "data": {
      "text/plain": [
       "Index(['ID', 'LICENSE ID', 'ACCOUNT NUMBER', 'SITE NUMBER', 'LEGAL NAME', 'DOING BUSINESS AS NAME', 'ADDRESS', 'CITY', 'STATE', 'ZIP CODE', 'WARD', 'PRECINCT', 'WARD PRECINCT', 'POLICE DISTRICT', 'LICENSE CODE', 'LICENSE DESCRIPTION', 'LICENSE NUMBER', 'APPLICATION TYPE', 'APPLICATION CREATED DATE', 'APPLICATION REQUIREMENTS COMPLETE', 'PAYMENT DATE', 'CONDITIONAL APPROVAL', 'LICENSE TERM START DATE', 'LICENSE TERM EXPIRATION DATE', 'LICENSE APPROVED FOR ISSUANCE', 'DATE ISSUED', 'LICENSE STATUS CHANGE DATE', 'SSA', 'LATITUDE', 'LONGITUDE', 'LOCATION', 'LICENSE STATUS'], dtype='object')"
      ]
     },
     "execution_count": 8,
     "metadata": {},
     "output_type": "execute_result"
    }
   ],
   "source": [
    "train_data.columns"
   ]
  },
  {
   "cell_type": "code",
   "execution_count": 9,
   "metadata": {},
   "outputs": [
    {
     "data": {
      "image/png": "[encoded data removed]",
      "text/plain": [
       "<Figure size 432x288 with 1 Axes>"
      ]
     },
     "metadata": {
      "needs_background": "light"
     },
     "output_type": "display_data"
    }
   ],
   "source": [
    "plt.title('Distribution of target variable')\n",
    "sns.countplot(train_data['LICENSE STATUS'])\n",
    "plt.show()"
   ]
  },
  {
   "cell_type": "code",
   "execution_count": 10,
   "metadata": {
    "scrolled": true
   },
   "outputs": [
    {
     "data": {
      "text/plain": [
       "AAI    55400\n",
       "AAC    30200\n",
       "REV      290\n",
       "REA        3\n",
       "INQ        2\n",
       "Name: LICENSE STATUS, dtype: int64"
      ]
     },
     "execution_count": 10,
     "metadata": {},
     "output_type": "execute_result"
    }
   ],
   "source": [
    "# Studying the target variable\n",
    "train_data['LICENSE STATUS'].value_counts()"
   ]
  },
  {
   "cell_type": "code",
   "execution_count": 11,
   "metadata": {},
   "outputs": [
    {
     "data": {
      "text/plain": [
       "ID                                       0\n",
       "LICENSE ID                               0\n",
       "ACCOUNT NUMBER                           0\n",
       "SITE NUMBER                              0\n",
       "LEGAL NAME                               0\n",
       "DOING BUSINESS AS NAME                   1\n",
       "ADDRESS                                  0\n",
       "CITY                                     0\n",
       "STATE                                    0\n",
       "ZIP CODE                                31\n",
       "WARD                                 49701\n",
       "PRECINCT                             56701\n",
       "WARD PRECINCT                        49700\n",
       "POLICE DISTRICT                      54012\n",
       "LICENSE CODE                             0\n",
       "LICENSE DESCRIPTION                      0\n",
       "LICENSE NUMBER                           1\n",
       "APPLICATION TYPE                         0\n",
       "APPLICATION CREATED DATE             64660\n",
       "APPLICATION REQUIREMENTS COMPLETE      214\n",
       "PAYMENT DATE                          1289\n",
       "CONDITIONAL APPROVAL                     0\n",
       "LICENSE TERM START DATE                228\n",
       "LICENSE TERM EXPIRATION DATE            18\n",
       "LICENSE APPROVED FOR ISSUANCE         6789\n",
       "DATE ISSUED                              0\n",
       "LICENSE STATUS CHANGE DATE           55400\n",
       "SSA                                  76446\n",
       "LATITUDE                             47246\n",
       "LONGITUDE                            47246\n",
       "LOCATION                             47246\n",
       "LICENSE STATUS                           0\n",
       "dtype: int64"
      ]
     },
     "execution_count": 11,
     "metadata": {},
     "output_type": "execute_result"
    }
   ],
   "source": [
    "train_data.isna().sum()"
   ]
  },
  {
   "cell_type": "code",
   "execution_count": 12,
   "metadata": {},
   "outputs": [
    {
     "data": {
      "text/plain": [
       "ID                                       0\n",
       "LICENSE ID                               0\n",
       "ACCOUNT NUMBER                           0\n",
       "SITE NUMBER                              0\n",
       "LEGAL NAME                               0\n",
       "DOING BUSINESS AS NAME                   2\n",
       "ADDRESS                                  0\n",
       "CITY                                     0\n",
       "STATE                                    0\n",
       "ZIP CODE                                12\n",
       "WARD                                   626\n",
       "PRECINCT                              1578\n",
       "WARD PRECINCT                          616\n",
       "POLICE DISTRICT                       1475\n",
       "LICENSE CODE                             0\n",
       "LICENSE DESCRIPTION                      0\n",
       "LICENSE NUMBER                           0\n",
       "APPLICATION TYPE                         0\n",
       "APPLICATION CREATED DATE             44587\n",
       "APPLICATION REQUIREMENTS COMPLETE      428\n",
       "PAYMENT DATE                          1051\n",
       "CONDITIONAL APPROVAL                     0\n",
       "LICENSE TERM START DATE                118\n",
       "LICENSE TERM EXPIRATION DATE             6\n",
       "LICENSE APPROVED FOR ISSUANCE         2379\n",
       "DATE ISSUED                              0\n",
       "LICENSE STATUS CHANGE DATE           23246\n",
       "SSA                                  41331\n",
       "LATITUDE                               910\n",
       "LONGITUDE                              910\n",
       "LOCATION                               910\n",
       "dtype: int64"
      ]
     },
     "execution_count": 12,
     "metadata": {},
     "output_type": "execute_result"
    }
   ],
   "source": [
    "test_data.isna().sum()"
   ]
  },
  {
   "cell_type": "code",
   "execution_count": 13,
   "metadata": {
    "scrolled": false
   },
   "outputs": [
    {
     "data": {
      "text/plain": [
       "ID                                   85895\n",
       "LICENSE ID                           85895\n",
       "ACCOUNT NUMBER                       38897\n",
       "SITE NUMBER                            177\n",
       "LEGAL NAME                           38744\n",
       "DOING BUSINESS AS NAME               41686\n",
       "ADDRESS                              42146\n",
       "CITY                                  1223\n",
       "STATE                                   54\n",
       "ZIP CODE                              2456\n",
       "WARD                                    50\n",
       "PRECINCT                                76\n",
       "WARD PRECINCT                         2383\n",
       "POLICE DISTRICT                         28\n",
       "LICENSE CODE                           106\n",
       "LICENSE DESCRIPTION                    106\n",
       "LICENSE NUMBER                       49768\n",
       "APPLICATION TYPE                         5\n",
       "APPLICATION CREATED DATE              2899\n",
       "APPLICATION REQUIREMENTS COMPLETE     3078\n",
       "PAYMENT DATE                          4356\n",
       "CONDITIONAL APPROVAL                     2\n",
       "LICENSE TERM START DATE               2825\n",
       "LICENSE TERM EXPIRATION DATE           297\n",
       "LICENSE APPROVED FOR ISSUANCE         4223\n",
       "DATE ISSUED                           3498\n",
       "LICENSE STATUS CHANGE DATE            3152\n",
       "SSA                                     53\n",
       "LATITUDE                             21386\n",
       "LONGITUDE                            21388\n",
       "LOCATION                             21388\n",
       "LICENSE STATUS                           5\n",
       "dtype: int64"
      ]
     },
     "execution_count": 13,
     "metadata": {},
     "output_type": "execute_result"
    }
   ],
   "source": [
    "train_data.nunique()"
   ]
  },
  {
   "cell_type": "code",
   "execution_count": 14,
   "metadata": {},
   "outputs": [
    {
     "data": {
      "text/plain": [
       "ID                                   57239\n",
       "LICENSE ID                           57239\n",
       "ACCOUNT NUMBER                       36724\n",
       "SITE NUMBER                            297\n",
       "LEGAL NAME                           36523\n",
       "DOING BUSINESS AS NAME               39364\n",
       "ADDRESS                              39637\n",
       "CITY                                   331\n",
       "STATE                                   43\n",
       "ZIP CODE                               420\n",
       "WARD                                    50\n",
       "PRECINCT                                76\n",
       "WARD PRECINCT                         2461\n",
       "POLICE DISTRICT                         25\n",
       "LICENSE CODE                           124\n",
       "LICENSE DESCRIPTION                    124\n",
       "LICENSE NUMBER                       49383\n",
       "APPLICATION TYPE                         6\n",
       "APPLICATION CREATED DATE              3684\n",
       "APPLICATION REQUIREMENTS COMPLETE     3884\n",
       "PAYMENT DATE                          4930\n",
       "CONDITIONAL APPROVAL                     2\n",
       "LICENSE TERM START DATE               3737\n",
       "LICENSE TERM EXPIRATION DATE           402\n",
       "LICENSE APPROVED FOR ISSUANCE         4844\n",
       "DATE ISSUED                           4042\n",
       "LICENSE STATUS CHANGE DATE            3934\n",
       "SSA                                     53\n",
       "LATITUDE                             28809\n",
       "LONGITUDE                            28809\n",
       "LOCATION                             28810\n",
       "dtype: int64"
      ]
     },
     "execution_count": 14,
     "metadata": {},
     "output_type": "execute_result"
    }
   ],
   "source": [
    "test_data.nunique()"
   ]
  },
  {
   "cell_type": "markdown",
   "metadata": {},
   "source": [
    "## Data Preprocessing"
   ]
  },
  {
   "cell_type": "code",
   "execution_count": 15,
   "metadata": {},
   "outputs": [],
   "source": [
    "# Dropping columns which will be of no use for our model\n",
    "col_list = ['APPLICATION CREATED DATE', 'SSA', 'LICENSE ID', 'ADDRESS', 'ID', 'LOCATION']"
   ]
  },
  {
   "cell_type": "code",
   "execution_count": 16,
   "metadata": {},
   "outputs": [],
   "source": [
    "# Dropping columns which will be of no use for our model\n",
    "train_data = train_data.drop(col_list, axis=1)\n",
    "test_data = test_data.drop(col_list, axis=1)"
   ]
  },
  {
   "cell_type": "code",
   "execution_count": 17,
   "metadata": {},
   "outputs": [],
   "source": [
    "# Function to extraxt year and month from datetime data\n",
    "def conv_date(date_list):\n",
    "    for i in date_list:\n",
    "        train_data[i] = pd.to_datetime(train_data[i])\n",
    "        test_data[i] = pd.to_datetime(test_data[i])"
   ]
  },
  {
   "cell_type": "code",
   "execution_count": 18,
   "metadata": {},
   "outputs": [],
   "source": [
    "date_list = ['APPLICATION REQUIREMENTS COMPLETE', 'PAYMENT DATE', 'LICENSE TERM EXPIRATION DATE', 'LICENSE TERM START DATE',\n",
    "             'DATE ISSUED', 'LICENSE APPROVED FOR ISSUANCE', 'LICENSE STATUS CHANGE DATE']\n",
    "conv_date(date_list)"
   ]
  },
  {
   "cell_type": "code",
   "execution_count": 19,
   "metadata": {},
   "outputs": [],
   "source": [
    "# Function to impute missing values by mean\n",
    "def impute_mean(imp_mean_list):\n",
    "    for i in imp_mean_list:\n",
    "        train_data[i] = train_data[i].fillna(train_data[i].mean())\n",
    "        test_data[i] = test_data[i].fillna(train_data[i].mean())"
   ]
  },
  {
   "cell_type": "code",
   "execution_count": 20,
   "metadata": {},
   "outputs": [],
   "source": [
    "imp_mean_list = ['LATITUDE', 'LONGITUDE']\n",
    "impute_mean(imp_mean_list)"
   ]
  },
  {
   "cell_type": "code",
   "execution_count": 21,
   "metadata": {},
   "outputs": [],
   "source": [
    "# Function to obtain year and month from datetime data\n",
    "def get_year(colname, dfcolname):\n",
    "    train_data[colname] = train_data[dfcolname].apply(lambda x:x.year)\n",
    "    test_data[colname] = test_data[dfcolname].apply(lambda x:x.year)\n",
    "def get_month(colname, dfcolname):\n",
    "    train_data[colname] = train_data[dfcolname].apply(lambda x:x.month)\n",
    "    test_data[colname] = test_data[dfcolname].apply(lambda x:x.month)"
   ]
  },
  {
   "cell_type": "code",
   "execution_count": 22,
   "metadata": {},
   "outputs": [],
   "source": [
    "get_year('PAYMENT YEAR', 'PAYMENT DATE')\n",
    "get_month('PAYMENT MONTH', 'PAYMENT DATE')\n",
    "get_year('APPLICATION REQUIREMENTS COMPLETE YEAR', 'APPLICATION REQUIREMENTS COMPLETE')\n",
    "get_year('DATE ISSUED YEAR', 'DATE ISSUED')\n",
    "get_year('LICENSE TERM EXPIRATION YEAR', 'LICENSE TERM EXPIRATION DATE')\n",
    "get_year('LICENSE TERM START YEAR', 'LICENSE TERM START DATE')\n",
    "get_year('LICENSE APPROVED YEAR', 'LICENSE APPROVED FOR ISSUANCE')\n",
    "get_year('LICENSE STATUS CHANGE YEAR', 'LICENSE STATUS CHANGE DATE')"
   ]
  },
  {
   "cell_type": "code",
   "execution_count": 23,
   "metadata": {},
   "outputs": [],
   "source": [
    "# Function to impute missing values by rounded value of mean\n",
    "def round_mean(imp_mean_list):\n",
    "    for i in imp_mean_list:\n",
    "        train_data[i] = train_data[i].fillna(round(train_data[i].mean()))\n",
    "        test_data[i] = test_data[i].fillna(round(train_data[i].mean()))"
   ]
  },
  {
   "cell_type": "code",
   "execution_count": 24,
   "metadata": {},
   "outputs": [],
   "source": [
    "imp_mean_list = ['LICENSE TERM EXPIRATION YEAR', 'LICENSE TERM START YEAR', 'PAYMENT YEAR', 'LICENSE APPROVED YEAR',\n",
    "                 'APPLICATION REQUIREMENTS COMPLETE YEAR', 'LICENSE STATUS CHANGE YEAR']\n",
    "round_mean(imp_mean_list)"
   ]
  },
  {
   "cell_type": "code",
   "execution_count": 25,
   "metadata": {},
   "outputs": [],
   "source": [
    "train_data['LICENSE VALIDITY'] = abs(train_data['LICENSE TERM EXPIRATION YEAR'] - train_data['LICENSE TERM START YEAR'])\n",
    "test_data['LICENSE VALIDITY'] = abs(test_data['LICENSE TERM EXPIRATION YEAR'] - test_data['LICENSE TERM START YEAR'])"
   ]
  },
  {
   "cell_type": "code",
   "execution_count": 26,
   "metadata": {},
   "outputs": [],
   "source": [
    "col_list = ['PAYMENT DATE', 'APPLICATION REQUIREMENTS COMPLETE', 'LICENSE TERM EXPIRATION DATE', 'DATE ISSUED', \n",
    "            'LICENSE TERM EXPIRATION YEAR', 'LICENSE TERM START DATE', 'LICENSE TERM START YEAR', \n",
    "            'LICENSE APPROVED FOR ISSUANCE', 'LICENSE STATUS CHANGE DATE']"
   ]
  },
  {
   "cell_type": "code",
   "execution_count": 27,
   "metadata": {},
   "outputs": [],
   "source": [
    "# Dropping columns which will be of no use for our model\n",
    "train_data = train_data.drop(col_list, axis=1)\n",
    "test_data = test_data.drop(col_list, axis=1)"
   ]
  },
  {
   "cell_type": "code",
   "execution_count": 28,
   "metadata": {},
   "outputs": [],
   "source": [
    "# Function to impute with None\n",
    "def impute_none(imp_none_list):\n",
    "    for i in imp_none_list:\n",
    "        train_data[i] = train_data[i].fillna('None')\n",
    "        test_data[i] = test_data[i].fillna('None')"
   ]
  },
  {
   "cell_type": "code",
   "execution_count": 29,
   "metadata": {},
   "outputs": [],
   "source": [
    "imp_none_list = ['LEGAL NAME', 'DOING BUSINESS AS NAME']\n",
    "impute_none(imp_none_list)"
   ]
  },
  {
   "cell_type": "code",
   "execution_count": 30,
   "metadata": {},
   "outputs": [
    {
     "data": {
      "text/html": [
       "<div>\n",
       "<style scoped>\n",
       "    .dataframe tbody tr th:only-of-type {\n",
       "        vertical-align: middle;\n",
       "    }\n",
       "\n",
       "    .dataframe tbody tr th {\n",
       "        vertical-align: top;\n",
       "    }\n",
       "\n",
       "    .dataframe thead th {\n",
       "        text-align: right;\n",
       "    }\n",
       "</style>\n",
       "<table border=\"1\" class=\"dataframe\">\n",
       "  <thead>\n",
       "    <tr style=\"text-align: right;\">\n",
       "      <th></th>\n",
       "      <th>ACCOUNT NUMBER</th>\n",
       "      <th>SITE NUMBER</th>\n",
       "      <th>LEGAL NAME</th>\n",
       "      <th>DOING BUSINESS AS NAME</th>\n",
       "      <th>CITY</th>\n",
       "      <th>STATE</th>\n",
       "      <th>ZIP CODE</th>\n",
       "      <th>WARD</th>\n",
       "      <th>PRECINCT</th>\n",
       "      <th>WARD PRECINCT</th>\n",
       "      <th>POLICE DISTRICT</th>\n",
       "      <th>LICENSE CODE</th>\n",
       "      <th>LICENSE DESCRIPTION</th>\n",
       "      <th>LICENSE NUMBER</th>\n",
       "      <th>APPLICATION TYPE</th>\n",
       "      <th>CONDITIONAL APPROVAL</th>\n",
       "      <th>LATITUDE</th>\n",
       "      <th>LONGITUDE</th>\n",
       "      <th>LICENSE STATUS</th>\n",
       "      <th>PAYMENT YEAR</th>\n",
       "      <th>PAYMENT MONTH</th>\n",
       "      <th>APPLICATION REQUIREMENTS COMPLETE YEAR</th>\n",
       "      <th>DATE ISSUED YEAR</th>\n",
       "      <th>LICENSE APPROVED YEAR</th>\n",
       "      <th>LICENSE STATUS CHANGE YEAR</th>\n",
       "      <th>LICENSE VALIDITY</th>\n",
       "    </tr>\n",
       "  </thead>\n",
       "  <tbody>\n",
       "    <tr>\n",
       "      <th>0</th>\n",
       "      <td>32811</td>\n",
       "      <td>1</td>\n",
       "      <td>CARMEN CAHUE</td>\n",
       "      <td>CLAUDIA'S BRIDAL SHOP</td>\n",
       "      <td>CHICAGO</td>\n",
       "      <td>IL</td>\n",
       "      <td>60623.0</td>\n",
       "      <td>22.0</td>\n",
       "      <td>28.0</td>\n",
       "      <td>22-28</td>\n",
       "      <td>10.0</td>\n",
       "      <td>1010</td>\n",
       "      <td>Limited Business License</td>\n",
       "      <td>35342.0</td>\n",
       "      <td>RENEW</td>\n",
       "      <td>N</td>\n",
       "      <td>41.843613</td>\n",
       "      <td>-87.714618</td>\n",
       "      <td>AAI</td>\n",
       "      <td>2002.0</td>\n",
       "      <td>8.0</td>\n",
       "      <td>2002.0</td>\n",
       "      <td>2006</td>\n",
       "      <td>2002.0</td>\n",
       "      <td>2009.0</td>\n",
       "      <td>1.0</td>\n",
       "    </tr>\n",
       "    <tr>\n",
       "      <th>1</th>\n",
       "      <td>262311</td>\n",
       "      <td>29</td>\n",
       "      <td>ISLA TROPICAL, INC.</td>\n",
       "      <td>ISLA TROPICAL</td>\n",
       "      <td>CHICAGO</td>\n",
       "      <td>IL</td>\n",
       "      <td>60618</td>\n",
       "      <td>33.0</td>\n",
       "      <td>23.0</td>\n",
       "      <td>33-23</td>\n",
       "      <td>17.0</td>\n",
       "      <td>1315</td>\n",
       "      <td>Mobile Food Dispenser</td>\n",
       "      <td>1358463.0</td>\n",
       "      <td>RENEW</td>\n",
       "      <td>N</td>\n",
       "      <td>41.961132</td>\n",
       "      <td>-87.699626</td>\n",
       "      <td>AAC</td>\n",
       "      <td>2005.0</td>\n",
       "      <td>11.0</td>\n",
       "      <td>2005.0</td>\n",
       "      <td>2006</td>\n",
       "      <td>2006.0</td>\n",
       "      <td>2006.0</td>\n",
       "      <td>1.0</td>\n",
       "    </tr>\n",
       "    <tr>\n",
       "      <th>2</th>\n",
       "      <td>345008</td>\n",
       "      <td>1</td>\n",
       "      <td>DJS REMODELING</td>\n",
       "      <td>DJS REMODELING, INC.</td>\n",
       "      <td>HIGHLAND</td>\n",
       "      <td>IL</td>\n",
       "      <td>60035</td>\n",
       "      <td>NaN</td>\n",
       "      <td>NaN</td>\n",
       "      <td>NaN</td>\n",
       "      <td>NaN</td>\n",
       "      <td>1011</td>\n",
       "      <td>Home Repair</td>\n",
       "      <td>1980233.0</td>\n",
       "      <td>ISSUE</td>\n",
       "      <td>N</td>\n",
       "      <td>41.880952</td>\n",
       "      <td>-87.681165</td>\n",
       "      <td>AAI</td>\n",
       "      <td>2009.0</td>\n",
       "      <td>7.0</td>\n",
       "      <td>2009.0</td>\n",
       "      <td>2009</td>\n",
       "      <td>2009.0</td>\n",
       "      <td>2009.0</td>\n",
       "      <td>2.0</td>\n",
       "    </tr>\n",
       "    <tr>\n",
       "      <th>3</th>\n",
       "      <td>273121</td>\n",
       "      <td>1</td>\n",
       "      <td>ALL-BRY CONSTRUCTION CO.</td>\n",
       "      <td>ALL-BRY CONSTRUCTION CO.</td>\n",
       "      <td>LEMONT</td>\n",
       "      <td>IL</td>\n",
       "      <td>60439</td>\n",
       "      <td>NaN</td>\n",
       "      <td>NaN</td>\n",
       "      <td>NaN</td>\n",
       "      <td>NaN</td>\n",
       "      <td>1010</td>\n",
       "      <td>Limited Business License</td>\n",
       "      <td>1476582.0</td>\n",
       "      <td>ISSUE</td>\n",
       "      <td>N</td>\n",
       "      <td>41.880952</td>\n",
       "      <td>-87.681165</td>\n",
       "      <td>AAI</td>\n",
       "      <td>2004.0</td>\n",
       "      <td>2.0</td>\n",
       "      <td>2004.0</td>\n",
       "      <td>2004</td>\n",
       "      <td>2004.0</td>\n",
       "      <td>2009.0</td>\n",
       "      <td>1.0</td>\n",
       "    </tr>\n",
       "    <tr>\n",
       "      <th>4</th>\n",
       "      <td>213785</td>\n",
       "      <td>1</td>\n",
       "      <td>MCDONOUGH MECHANICAL SERVICE</td>\n",
       "      <td>MCDONOUGH MECHANICAL SERVICE</td>\n",
       "      <td>WAUKEGAN</td>\n",
       "      <td>IL</td>\n",
       "      <td>60087</td>\n",
       "      <td>NaN</td>\n",
       "      <td>NaN</td>\n",
       "      <td>NaN</td>\n",
       "      <td>NaN</td>\n",
       "      <td>1010</td>\n",
       "      <td>Limited Business License</td>\n",
       "      <td>1141408.0</td>\n",
       "      <td>RENEW</td>\n",
       "      <td>N</td>\n",
       "      <td>41.880952</td>\n",
       "      <td>-87.681165</td>\n",
       "      <td>AAI</td>\n",
       "      <td>2008.0</td>\n",
       "      <td>6.0</td>\n",
       "      <td>2008.0</td>\n",
       "      <td>2008</td>\n",
       "      <td>2008.0</td>\n",
       "      <td>2009.0</td>\n",
       "      <td>2.0</td>\n",
       "    </tr>\n",
       "  </tbody>\n",
       "</table>\n",
       "</div>"
      ],
      "text/plain": [
       "   ACCOUNT NUMBER  SITE NUMBER                    LEGAL NAME        DOING BUSINESS AS NAME      CITY STATE ZIP CODE  WARD  PRECINCT WARD PRECINCT  POLICE DISTRICT  LICENSE CODE       LICENSE DESCRIPTION  LICENSE NUMBER APPLICATION TYPE CONDITIONAL APPROVAL   LATITUDE  LONGITUDE LICENSE STATUS  PAYMENT YEAR  PAYMENT MONTH  APPLICATION REQUIREMENTS COMPLETE YEAR  DATE ISSUED YEAR  LICENSE APPROVED YEAR  LICENSE STATUS CHANGE YEAR  LICENSE VALIDITY\n",
       "0           32811            1                  CARMEN CAHUE         CLAUDIA'S BRIDAL SHOP   CHICAGO    IL  60623.0  22.0      28.0         22-28             10.0          1010  Limited Business License         35342.0            RENEW                    N  41.843613 -87.714618            AAI        2002.0            8.0                                  2002.0              2006                 2002.0                      2009.0               1.0\n",
       "1          262311           29           ISLA TROPICAL, INC.                 ISLA TROPICAL   CHICAGO    IL    60618  33.0      23.0         33-23             17.0          1315     Mobile Food Dispenser       1358463.0            RENEW                    N  41.961132 -87.699626            AAC        2005.0           11.0                                  2005.0              2006                 2006.0                      2006.0               1.0\n",
       "2          345008            1                DJS REMODELING          DJS REMODELING, INC.  HIGHLAND    IL    60035   NaN       NaN           NaN              NaN          1011               Home Repair       1980233.0            ISSUE                    N  41.880952 -87.681165            AAI        2009.0            7.0                                  2009.0              2009                 2009.0                      2009.0               2.0\n",
       "3          273121            1      ALL-BRY CONSTRUCTION CO.      ALL-BRY CONSTRUCTION CO.    LEMONT    IL    60439   NaN       NaN           NaN              NaN          1010  Limited Business License       1476582.0            ISSUE                    N  41.880952 -87.681165            AAI        2004.0            2.0                                  2004.0              2004                 2004.0                      2009.0               1.0\n",
       "4          213785            1  MCDONOUGH MECHANICAL SERVICE  MCDONOUGH MECHANICAL SERVICE  WAUKEGAN    IL    60087   NaN       NaN           NaN              NaN          1010  Limited Business License       1141408.0            RENEW                    N  41.880952 -87.681165            AAI        2008.0            6.0                                  2008.0              2008                 2008.0                      2009.0               2.0"
      ]
     },
     "execution_count": 30,
     "metadata": {},
     "output_type": "execute_result"
    }
   ],
   "source": [
    "train_data['LEGAL NAME'].apply(lambda x: x.upper())\n",
    "train_data['DOING BUSINESS AS NAME'].apply(lambda x: x.upper())\n",
    "train_data.head()"
   ]
  },
  {
   "cell_type": "code",
   "execution_count": 31,
   "metadata": {},
   "outputs": [
    {
     "data": {
      "text/html": [
       "<div>\n",
       "<style scoped>\n",
       "    .dataframe tbody tr th:only-of-type {\n",
       "        vertical-align: middle;\n",
       "    }\n",
       "\n",
       "    .dataframe tbody tr th {\n",
       "        vertical-align: top;\n",
       "    }\n",
       "\n",
       "    .dataframe thead th {\n",
       "        text-align: right;\n",
       "    }\n",
       "</style>\n",
       "<table border=\"1\" class=\"dataframe\">\n",
       "  <thead>\n",
       "    <tr style=\"text-align: right;\">\n",
       "      <th></th>\n",
       "      <th>ACCOUNT NUMBER</th>\n",
       "      <th>SITE NUMBER</th>\n",
       "      <th>LEGAL NAME</th>\n",
       "      <th>DOING BUSINESS AS NAME</th>\n",
       "      <th>CITY</th>\n",
       "      <th>STATE</th>\n",
       "      <th>ZIP CODE</th>\n",
       "      <th>WARD</th>\n",
       "      <th>PRECINCT</th>\n",
       "      <th>WARD PRECINCT</th>\n",
       "      <th>POLICE DISTRICT</th>\n",
       "      <th>LICENSE CODE</th>\n",
       "      <th>LICENSE DESCRIPTION</th>\n",
       "      <th>LICENSE NUMBER</th>\n",
       "      <th>APPLICATION TYPE</th>\n",
       "      <th>CONDITIONAL APPROVAL</th>\n",
       "      <th>LATITUDE</th>\n",
       "      <th>LONGITUDE</th>\n",
       "      <th>PAYMENT YEAR</th>\n",
       "      <th>PAYMENT MONTH</th>\n",
       "      <th>APPLICATION REQUIREMENTS COMPLETE YEAR</th>\n",
       "      <th>DATE ISSUED YEAR</th>\n",
       "      <th>LICENSE APPROVED YEAR</th>\n",
       "      <th>LICENSE STATUS CHANGE YEAR</th>\n",
       "      <th>LICENSE VALIDITY</th>\n",
       "    </tr>\n",
       "  </thead>\n",
       "  <tbody>\n",
       "    <tr>\n",
       "      <th>0</th>\n",
       "      <td>280120</td>\n",
       "      <td>1</td>\n",
       "      <td>RS HOMES I LLC</td>\n",
       "      <td>RS HOMES I LLC</td>\n",
       "      <td>CHICAGO</td>\n",
       "      <td>IL</td>\n",
       "      <td>60610.0</td>\n",
       "      <td>42.0</td>\n",
       "      <td>67.0</td>\n",
       "      <td>42-67</td>\n",
       "      <td>18.0</td>\n",
       "      <td>1020</td>\n",
       "      <td>Residential Real Estate Developer</td>\n",
       "      <td>1516615.0</td>\n",
       "      <td>RENEW</td>\n",
       "      <td>N</td>\n",
       "      <td>41.890047</td>\n",
       "      <td>-87.637467</td>\n",
       "      <td>2012.0</td>\n",
       "      <td>1.0</td>\n",
       "      <td>2011.0</td>\n",
       "      <td>2012</td>\n",
       "      <td>2012.0</td>\n",
       "      <td>2012.0</td>\n",
       "      <td>2.0</td>\n",
       "    </tr>\n",
       "    <tr>\n",
       "      <th>1</th>\n",
       "      <td>65043</td>\n",
       "      <td>1</td>\n",
       "      <td>CSX INTERMODAL INC</td>\n",
       "      <td>CSX INTERMODAL</td>\n",
       "      <td>CHICAGO</td>\n",
       "      <td>IL</td>\n",
       "      <td>60636.0</td>\n",
       "      <td>16.0</td>\n",
       "      <td>5.0</td>\n",
       "      <td>16-5</td>\n",
       "      <td>7.0</td>\n",
       "      <td>1010</td>\n",
       "      <td>Limited Business License</td>\n",
       "      <td>69813.0</td>\n",
       "      <td>RENEW</td>\n",
       "      <td>N</td>\n",
       "      <td>41.786485</td>\n",
       "      <td>-87.676665</td>\n",
       "      <td>2012.0</td>\n",
       "      <td>11.0</td>\n",
       "      <td>2011.0</td>\n",
       "      <td>2012</td>\n",
       "      <td>2012.0</td>\n",
       "      <td>2012.0</td>\n",
       "      <td>2.0</td>\n",
       "    </tr>\n",
       "    <tr>\n",
       "      <th>2</th>\n",
       "      <td>281270</td>\n",
       "      <td>1</td>\n",
       "      <td>LOCOMIBILE  LOFTS LLC</td>\n",
       "      <td>LOCOMOBILE LOFTS LLC</td>\n",
       "      <td>CHICAGO</td>\n",
       "      <td>IL</td>\n",
       "      <td>60605.0</td>\n",
       "      <td>4.0</td>\n",
       "      <td>8.0</td>\n",
       "      <td>4-8</td>\n",
       "      <td>1.0</td>\n",
       "      <td>1020</td>\n",
       "      <td>Residential Real Estate Developer</td>\n",
       "      <td>1519227.0</td>\n",
       "      <td>RENEW</td>\n",
       "      <td>N</td>\n",
       "      <td>41.868269</td>\n",
       "      <td>-87.625695</td>\n",
       "      <td>2004.0</td>\n",
       "      <td>12.0</td>\n",
       "      <td>2004.0</td>\n",
       "      <td>2004</td>\n",
       "      <td>2004.0</td>\n",
       "      <td>2009.0</td>\n",
       "      <td>1.0</td>\n",
       "    </tr>\n",
       "    <tr>\n",
       "      <th>3</th>\n",
       "      <td>335243</td>\n",
       "      <td>1</td>\n",
       "      <td>ANNA F. JAMISON</td>\n",
       "      <td>ANNA F. JAMISON</td>\n",
       "      <td>CHICAGO</td>\n",
       "      <td>IL</td>\n",
       "      <td>60827.0</td>\n",
       "      <td>9.0</td>\n",
       "      <td>33.0</td>\n",
       "      <td>9-33</td>\n",
       "      <td>5.0</td>\n",
       "      <td>1607</td>\n",
       "      <td>Peddler, non-food, special</td>\n",
       "      <td>1922025.0</td>\n",
       "      <td>RENEW</td>\n",
       "      <td>N</td>\n",
       "      <td>41.655762</td>\n",
       "      <td>-87.608686</td>\n",
       "      <td>2010.0</td>\n",
       "      <td>11.0</td>\n",
       "      <td>2010.0</td>\n",
       "      <td>2010</td>\n",
       "      <td>2007.0</td>\n",
       "      <td>2012.0</td>\n",
       "      <td>2.0</td>\n",
       "    </tr>\n",
       "    <tr>\n",
       "      <th>4</th>\n",
       "      <td>283018</td>\n",
       "      <td>3</td>\n",
       "      <td>MARINCA A. COVARRUBIAS</td>\n",
       "      <td>DETAILS</td>\n",
       "      <td>CHICAGO</td>\n",
       "      <td>IL</td>\n",
       "      <td>60632.0</td>\n",
       "      <td>15.0</td>\n",
       "      <td>26.0</td>\n",
       "      <td>15-26</td>\n",
       "      <td>9.0</td>\n",
       "      <td>1010</td>\n",
       "      <td>Limited Business License</td>\n",
       "      <td>1675683.0</td>\n",
       "      <td>RENEW</td>\n",
       "      <td>N</td>\n",
       "      <td>41.816969</td>\n",
       "      <td>-87.699785</td>\n",
       "      <td>2007.0</td>\n",
       "      <td>8.0</td>\n",
       "      <td>2007.0</td>\n",
       "      <td>2007</td>\n",
       "      <td>2007.0</td>\n",
       "      <td>2008.0</td>\n",
       "      <td>2.0</td>\n",
       "    </tr>\n",
       "  </tbody>\n",
       "</table>\n",
       "</div>"
      ],
      "text/plain": [
       "   ACCOUNT NUMBER  SITE NUMBER              LEGAL NAME DOING BUSINESS AS NAME     CITY STATE  ZIP CODE  WARD  PRECINCT WARD PRECINCT  POLICE DISTRICT  LICENSE CODE                LICENSE DESCRIPTION  LICENSE NUMBER APPLICATION TYPE CONDITIONAL APPROVAL   LATITUDE  LONGITUDE  PAYMENT YEAR  PAYMENT MONTH  APPLICATION REQUIREMENTS COMPLETE YEAR  DATE ISSUED YEAR  LICENSE APPROVED YEAR  LICENSE STATUS CHANGE YEAR  LICENSE VALIDITY\n",
       "0          280120            1          RS HOMES I LLC         RS HOMES I LLC  CHICAGO    IL   60610.0  42.0      67.0         42-67             18.0          1020  Residential Real Estate Developer       1516615.0            RENEW                    N  41.890047 -87.637467        2012.0            1.0                                  2011.0              2012                 2012.0                      2012.0               2.0\n",
       "1           65043            1      CSX INTERMODAL INC         CSX INTERMODAL  CHICAGO    IL   60636.0  16.0       5.0          16-5              7.0          1010           Limited Business License         69813.0            RENEW                    N  41.786485 -87.676665        2012.0           11.0                                  2011.0              2012                 2012.0                      2012.0               2.0\n",
       "2          281270            1   LOCOMIBILE  LOFTS LLC   LOCOMOBILE LOFTS LLC  CHICAGO    IL   60605.0   4.0       8.0           4-8              1.0          1020  Residential Real Estate Developer       1519227.0            RENEW                    N  41.868269 -87.625695        2004.0           12.0                                  2004.0              2004                 2004.0                      2009.0               1.0\n",
       "3          335243            1         ANNA F. JAMISON        ANNA F. JAMISON  CHICAGO    IL   60827.0   9.0      33.0          9-33              5.0          1607         Peddler, non-food, special       1922025.0            RENEW                    N  41.655762 -87.608686        2010.0           11.0                                  2010.0              2010                 2007.0                      2012.0               2.0\n",
       "4          283018            3  MARINCA A. COVARRUBIAS                DETAILS  CHICAGO    IL   60632.0  15.0      26.0         15-26              9.0          1010           Limited Business License       1675683.0            RENEW                    N  41.816969 -87.699785        2007.0            8.0                                  2007.0              2007                 2007.0                      2008.0               2.0"
      ]
     },
     "execution_count": 31,
     "metadata": {},
     "output_type": "execute_result"
    }
   ],
   "source": [
    "test_data['LEGAL NAME'].apply(lambda x: x.upper())\n",
    "test_data['DOING BUSINESS AS NAME'].apply(lambda x: x.upper())\n",
    "test_data.head()"
   ]
  },
  {
   "cell_type": "code",
   "execution_count": 32,
   "metadata": {},
   "outputs": [],
   "source": [
    "train_data['LEGAL NAME'] = train_data['LEGAL NAME'].str.replace('.', '', regex=False)\n",
    "train_data['DOING BUSINESS AS NAME'] = train_data['DOING BUSINESS AS NAME'].str.replace('.', '', regex=False)"
   ]
  },
  {
   "cell_type": "code",
   "execution_count": 33,
   "metadata": {},
   "outputs": [],
   "source": [
    "test_data['LEGAL NAME'] = test_data['LEGAL NAME'].str.replace('.', '', regex=False)\n",
    "test_data['DOING BUSINESS AS NAME'] = test_data['DOING BUSINESS AS NAME'].str.replace('.', '', regex=False)"
   ]
  },
  {
   "cell_type": "code",
   "execution_count": 34,
   "metadata": {},
   "outputs": [],
   "source": [
    "train_data['LEGAL TYPE'] = 'PVT'\n",
    "test_data['LEGAL TYPE'] = 'PVT'"
   ]
  },
  {
   "cell_type": "code",
   "execution_count": 35,
   "metadata": {},
   "outputs": [],
   "source": [
    "train_data['LEGAL TYPE'] = np.where(train_data['LEGAL NAME'].str.contains('INC'), 'INC', train_data['LEGAL TYPE'])\n",
    "train_data['LEGAL TYPE'] = np.where(train_data['LEGAL NAME'].str.contains('INCORPORATED'), 'INC', train_data['LEGAL TYPE'])\n",
    "train_data['LEGAL TYPE'] = np.where(train_data['DOING BUSINESS AS NAME'].str.contains('INC'), 'INC', train_data['LEGAL TYPE'])\n",
    "train_data['LEGAL TYPE'] = np.where(train_data['DOING BUSINESS AS NAME'].str.contains('INCORPORATED'), 'INC', train_data['LEGAL TYPE'])"
   ]
  },
  {
   "cell_type": "code",
   "execution_count": 36,
   "metadata": {},
   "outputs": [],
   "source": [
    "test_data['LEGAL TYPE'] = np.where(test_data['LEGAL NAME'].str.contains('INC'), 'INC', test_data['LEGAL TYPE'])\n",
    "test_data['LEGAL TYPE'] = np.where(test_data['LEGAL NAME'].str.contains('INCORPORATED'), 'INC', test_data['LEGAL TYPE'])\n",
    "test_data['LEGAL TYPE'] = np.where(test_data['DOING BUSINESS AS NAME'].str.contains('INC'), 'INC', test_data['LEGAL TYPE'])\n",
    "test_data['LEGAL TYPE'] = np.where(test_data['DOING BUSINESS AS NAME'].str.contains('INCORPORATED'), 'INC', test_data['LEGAL TYPE'])"
   ]
  },
  {
   "cell_type": "code",
   "execution_count": 37,
   "metadata": {},
   "outputs": [],
   "source": [
    "train_data['LEGAL TYPE'] = np.where(train_data['LEGAL NAME'].str.contains('LLC'), 'LLC', train_data['LEGAL TYPE'])\n",
    "train_data['LEGAL TYPE'] = np.where(train_data['DOING BUSINESS AS NAME'].str.contains('LLC'), 'LLC', train_data['LEGAL TYPE'])"
   ]
  },
  {
   "cell_type": "code",
   "execution_count": 38,
   "metadata": {},
   "outputs": [],
   "source": [
    "test_data['LEGAL TYPE'] = np.where(test_data['LEGAL NAME'].str.contains('LLC'), 'LLC', test_data['LEGAL TYPE'])\n",
    "test_data['LEGAL TYPE'] = np.where(test_data['DOING BUSINESS AS NAME'].str.contains('LLC'), 'LLC', test_data['LEGAL TYPE'])"
   ]
  },
  {
   "cell_type": "code",
   "execution_count": 39,
   "metadata": {},
   "outputs": [],
   "source": [
    "train_data['LEGAL TYPE'] = np.where(train_data['LEGAL NAME'].str.contains('CO'), 'CORP', train_data['LEGAL TYPE'])\n",
    "train_data['LEGAL TYPE'] = np.where(train_data['LEGAL NAME'].str.contains('CORP'), 'CORP', train_data['LEGAL TYPE'])\n",
    "train_data['LEGAL TYPE'] = np.where(train_data['LEGAL NAME'].str.contains('CORPORATION'), 'CORP', train_data['LEGAL TYPE'])\n",
    "train_data['LEGAL TYPE'] = np.where(train_data['DOING BUSINESS AS NAME'].str.contains('CO'), 'CORP', train_data['LEGAL TYPE'])\n",
    "train_data['LEGAL TYPE'] = np.where(train_data['DOING BUSINESS AS NAME'].str.contains('CORP'), 'CORP', train_data['LEGAL TYPE'])\n",
    "train_data['LEGAL TYPE'] = np.where(train_data['DOING BUSINESS AS NAME'].str.contains('CORPORATION'), 'CORP', train_data['LEGAL TYPE'])"
   ]
  },
  {
   "cell_type": "code",
   "execution_count": 40,
   "metadata": {},
   "outputs": [],
   "source": [
    "test_data['LEGAL TYPE'] = np.where(test_data['LEGAL NAME'].str.contains('CO'), 'CORP', test_data['LEGAL TYPE'])\n",
    "test_data['LEGAL TYPE'] = np.where(test_data['LEGAL NAME'].str.contains('CORP'), 'CORP', test_data['LEGAL TYPE'])\n",
    "test_data['LEGAL TYPE'] = np.where(test_data['LEGAL NAME'].str.contains('CORPORATION'), 'CORP', test_data['LEGAL TYPE'])\n",
    "test_data['LEGAL TYPE'] = np.where(test_data['DOING BUSINESS AS NAME'].str.contains('CO'), 'CORP', test_data['LEGAL TYPE'])\n",
    "test_data['LEGAL TYPE'] = np.where(test_data['DOING BUSINESS AS NAME'].str.contains('CORP'), 'CORP', test_data['LEGAL TYPE'])\n",
    "test_data['LEGAL TYPE'] = np.where(test_data['DOING BUSINESS AS NAME'].str.contains('CORPORATION'), 'CORP', test_data['LEGAL TYPE'])"
   ]
  },
  {
   "cell_type": "code",
   "execution_count": 41,
   "metadata": {},
   "outputs": [],
   "source": [
    "train_data['LEGAL TYPE'] = np.where(train_data['LEGAL NAME'].str.contains('LTD'), 'LTD', train_data['LEGAL TYPE'])\n",
    "train_data['LEGAL TYPE'] = np.where(train_data['LEGAL NAME'].str.contains('LIMITED'), 'LTD', train_data['LEGAL TYPE'])\n",
    "train_data['LEGAL TYPE'] = np.where(train_data['DOING BUSINESS AS NAME'].str.contains('LTD'), 'LTD', train_data['LEGAL TYPE'])\n",
    "train_data['LEGAL TYPE'] = np.where(train_data['DOING BUSINESS AS NAME'].str.contains('LIMITED'), 'LTD', train_data['LEGAL TYPE'])"
   ]
  },
  {
   "cell_type": "code",
   "execution_count": 42,
   "metadata": {},
   "outputs": [],
   "source": [
    "test_data['LEGAL TYPE'] = np.where(test_data['LEGAL NAME'].str.contains('LTD'), 'LTD', test_data['LEGAL TYPE'])\n",
    "test_data['LEGAL TYPE'] = np.where(test_data['LEGAL NAME'].str.contains('LIMITED'), 'LTD', test_data['LEGAL TYPE'])\n",
    "test_data['LEGAL TYPE'] = np.where(test_data['DOING BUSINESS AS NAME'].str.contains('LTD'), 'LTD', test_data['LEGAL TYPE'])\n",
    "test_data['LEGAL TYPE'] = np.where(test_data['DOING BUSINESS AS NAME'].str.contains('LIMITED'), 'LTD', test_data['LEGAL TYPE'])"
   ]
  },
  {
   "cell_type": "code",
   "execution_count": 43,
   "metadata": {},
   "outputs": [
    {
     "data": {
      "text/plain": [
       "CORP    27765\n",
       "PVT     27020\n",
       "INC     24447\n",
       "LLC      5048\n",
       "LTD      1615\n",
       "Name: LEGAL TYPE, dtype: int64"
      ]
     },
     "execution_count": 43,
     "metadata": {},
     "output_type": "execute_result"
    }
   ],
   "source": [
    "train_data['LEGAL TYPE'].value_counts()"
   ]
  },
  {
   "cell_type": "code",
   "execution_count": 44,
   "metadata": {},
   "outputs": [],
   "source": [
    "col_list = ['DOING BUSINESS AS NAME', 'LEGAL NAME']"
   ]
  },
  {
   "cell_type": "code",
   "execution_count": 45,
   "metadata": {},
   "outputs": [],
   "source": [
    "# Dropping columns which will be of no use for our model\n",
    "train_data = train_data.drop(col_list, axis=1)\n",
    "test_data = test_data.drop(col_list, axis=1)"
   ]
  },
  {
   "cell_type": "code",
   "execution_count": 46,
   "metadata": {
    "scrolled": true
   },
   "outputs": [],
   "source": [
    "train_data['LICENSE DESCRIPTION'] = train_data['LICENSE DESCRIPTION'].replace('Motor Vehicle Repair : Engine Only (Class II)', 'Motor Vehicle Repair')\n",
    "train_data['LICENSE DESCRIPTION'] = train_data['LICENSE DESCRIPTION'].replace('Motor Vehicle Repair: Engine/Body(Class III)', 'Motor Vehicle Repair')\n",
    "train_data['LICENSE DESCRIPTION'] = train_data['LICENSE DESCRIPTION'].replace('Motor Vehicle Repair; Specialty(Class I)', 'Motor Vehicle Repair')\n",
    "train_data['LICENSE DESCRIPTION'] = train_data['LICENSE DESCRIPTION'].replace('Day Care Center Under 2 Years', 'Day Care Center')\n",
    "train_data['LICENSE DESCRIPTION'] = train_data['LICENSE DESCRIPTION'].replace('Day Care Center 2 - 6 Years', 'Day Care Center')\n",
    "train_data['LICENSE DESCRIPTION'] = train_data['LICENSE DESCRIPTION'].replace('Day Care Center Under 2 and 2 - 6 Years', 'Day Care Center')\n",
    "train_data['LICENSE DESCRIPTION'] = train_data['LICENSE DESCRIPTION'].replace('Peddler, non-food', 'Peddler')\n",
    "train_data['LICENSE DESCRIPTION'] = train_data['LICENSE DESCRIPTION'].replace('Peddler, non-food, special', 'Peddler')\n",
    "train_data['LICENSE DESCRIPTION'] = train_data['LICENSE DESCRIPTION'].replace('Peddler, food (fruits and vegtables only)', 'Peddler')\n",
    "train_data['LICENSE DESCRIPTION'] = train_data['LICENSE DESCRIPTION'].replace('Peddler,food - (fruits and vegetables only) - special', 'Peddler')\n",
    "train_data['LICENSE DESCRIPTION'] = train_data['LICENSE DESCRIPTION'].replace('Tire Facilty Class I (100 - 1,000 Tires)', 'Tire Facilty')\n",
    "train_data['LICENSE DESCRIPTION'] = train_data['LICENSE DESCRIPTION'].replace('Tire Facility Class II (1,001 - 5,000 Tires)', 'Tire Facilty')\n",
    "train_data['LICENSE DESCRIPTION'] = train_data['LICENSE DESCRIPTION'].replace('Tire Facility Class III (5,001 - More Tires)', 'Tire Facilty')\n",
    "train_data['LICENSE DESCRIPTION'] = train_data['LICENSE DESCRIPTION'].replace('Repossessor Class A', 'Repossessor')\n",
    "train_data['LICENSE DESCRIPTION'] = train_data['LICENSE DESCRIPTION'].replace('Repossessor Class B', 'Repossessor')\n",
    "train_data['LICENSE DESCRIPTION'] = train_data['LICENSE DESCRIPTION'].replace('Repossessor Class B Employee', 'Repossessor')\n",
    "train_data['LICENSE DESCRIPTION'] = train_data['LICENSE DESCRIPTION'].replace('Expediter - Class B', 'Expediter')\n",
    "train_data['LICENSE DESCRIPTION'] = train_data['LICENSE DESCRIPTION'].replace('Expediter - Class A', 'Expediter')\n",
    "train_data['LICENSE DESCRIPTION'] = train_data['LICENSE DESCRIPTION'].replace('Expediter - Class B Employee', 'Expediter')\n",
    "train_data['LICENSE DESCRIPTION'] = train_data['LICENSE DESCRIPTION'].replace('Itinerant Merchant, Class II', 'Itinerant Merchant')\n",
    "train_data['LICENSE DESCRIPTION'] = train_data['LICENSE DESCRIPTION'].replace('Itinerant Merchant, Class I', 'Itinerant Merchant')"
   ]
  },
  {
   "cell_type": "code",
   "execution_count": 47,
   "metadata": {},
   "outputs": [],
   "source": [
    "test_data['LICENSE DESCRIPTION'] = test_data['LICENSE DESCRIPTION'].replace('Motor Vehicle Repair : Engine Only (Class II)', 'Motor Vehicle Repair')\n",
    "test_data['LICENSE DESCRIPTION'] = test_data['LICENSE DESCRIPTION'].replace('Motor Vehicle Repair: Engine/Body(Class III)', 'Motor Vehicle Repair')\n",
    "test_data['LICENSE DESCRIPTION'] = test_data['LICENSE DESCRIPTION'].replace('Motor Vehicle Repair; Specialty(Class I)', 'Motor Vehicle Repair')\n",
    "test_data['LICENSE DESCRIPTION'] = test_data['LICENSE DESCRIPTION'].replace('Day Care Center Under 2 Years', 'Day Care Center')\n",
    "test_data['LICENSE DESCRIPTION'] = test_data['LICENSE DESCRIPTION'].replace('Day Care Center 2 - 6 Years', 'Day Care Center')\n",
    "test_data['LICENSE DESCRIPTION'] = test_data['LICENSE DESCRIPTION'].replace('Day Care Center Under 2 and 2 - 6 Years', 'Day Care Center')\n",
    "test_data['LICENSE DESCRIPTION'] = test_data['LICENSE DESCRIPTION'].replace('Peddler, non-food', 'Peddler')\n",
    "test_data['LICENSE DESCRIPTION'] = test_data['LICENSE DESCRIPTION'].replace('Peddler, non-food, special', 'Peddler')\n",
    "test_data['LICENSE DESCRIPTION'] = test_data['LICENSE DESCRIPTION'].replace('Peddler, food (fruits and vegtables only)', 'Peddler')\n",
    "test_data['LICENSE DESCRIPTION'] = test_data['LICENSE DESCRIPTION'].replace('Peddler,food - (fruits and vegetables only) - special', 'Peddler')\n",
    "test_data['LICENSE DESCRIPTION'] = test_data['LICENSE DESCRIPTION'].replace('Tire Facilty Class I (100 - 1,000 Tires)', 'Tire Facilty')\n",
    "test_data['LICENSE DESCRIPTION'] = test_data['LICENSE DESCRIPTION'].replace('Tire Facility Class II (1,001 - 5,000 Tires)', 'Tire Facilty')\n",
    "test_data['LICENSE DESCRIPTION'] = test_data['LICENSE DESCRIPTION'].replace('Tire Facility Class III (5,001 - More Tires)', 'Tire Facilty')\n",
    "test_data['LICENSE DESCRIPTION'] = test_data['LICENSE DESCRIPTION'].replace('Repossessor Class A', 'Repossessor')\n",
    "test_data['LICENSE DESCRIPTION'] = test_data['LICENSE DESCRIPTION'].replace('Repossessor Class B', 'Repossessor')\n",
    "test_data['LICENSE DESCRIPTION'] = test_data['LICENSE DESCRIPTION'].replace('Repossessor Class B Employee', 'Repossessor')\n",
    "test_data['LICENSE DESCRIPTION'] = test_data['LICENSE DESCRIPTION'].replace('Expediter - Class B', 'Expediter')\n",
    "test_data['LICENSE DESCRIPTION'] = test_data['LICENSE DESCRIPTION'].replace('Expediter - Class A', 'Expediter')\n",
    "test_data['LICENSE DESCRIPTION'] = test_data['LICENSE DESCRIPTION'].replace('Expediter - Class B Employee', 'Expediter')\n",
    "test_data['LICENSE DESCRIPTION'] = test_data['LICENSE DESCRIPTION'].replace('Itinerant Merchant, Class II', 'Itinerant Merchant')\n",
    "test_data['LICENSE DESCRIPTION'] = test_data['LICENSE DESCRIPTION'].replace('Itinerant Merchant, Class I', 'Itinerant Merchant')"
   ]
  },
  {
   "cell_type": "code",
   "execution_count": 48,
   "metadata": {},
   "outputs": [
    {
     "data": {
      "text/plain": [
       "Limited Business License                                        28094\n",
       "Retail Food Establishment                                        4788\n",
       "Home Occupation                                                  3021\n",
       "Tobacco                                                          2426\n",
       "Home Repair                                                      1860\n",
       "Motor Vehicle Repair                                             1746\n",
       "Peddler                                                          1208\n",
       "Consumption on Premises - Incidental Activity                    1207\n",
       "Hazardous Materials                                              1120\n",
       "Regulated Business License                                       1089\n",
       "Day Care Center                                                   730\n",
       "Manufacturing Establishments                                      639\n",
       "Massage Therapist                                                 569\n",
       "Broker                                                            498\n",
       "Residential Real Estate Developer                                 476\n",
       "Mobile Food Dispenser                                             413\n",
       "Massage Establishment                                             377\n",
       "Tavern                                                            367\n",
       "Electronic Equipment Repair                                       358\n",
       "Street Performer                                                  349\n",
       "Package Goods                                                     333\n",
       "Outdoor Patio                                                     294\n",
       "Commercial Garage                                                 293\n",
       "Tire Facilty                                                      258\n",
       "Public Place of Amusement                                         253\n",
       "Mobile Frozen Desserts Dispenser - Non-Motorized                  249\n",
       "Valet Parking Operator                                            219\n",
       "Accessory Garage                                                  210\n",
       "Scavenger, Private                                                188\n",
       "Secondhand Dealer                                                 172\n",
       "Wholesale Food Establishment                                      168\n",
       "Hotel                                                             162\n",
       "Late Hour                                                         161\n",
       "Music and Dance                                                   160\n",
       "Filling Station                                                   160\n",
       "Motor Vehicle Services License                                    137\n",
       "Retail Computing Center                                           116\n",
       "Secondhand Dealer (No Valuable Objects)                           114\n",
       "Peddler License                                                   111\n",
       "Children's Services Facility License                              109\n",
       "Expediter                                                         109\n",
       "Long-Term Care Facility                                           100\n",
       "Junk Peddler                                                       92\n",
       "Kennels and Catteries                                              91\n",
       "Laundry, Late Hour                                                 90\n",
       "Itinerant Merchant                                                 87\n",
       "Mobile Food License                                                85\n",
       "Veterinary Hospital                                                79\n",
       "Caterer's Liquor License                                           76\n",
       "Animal Care Facility                                               74\n",
       "Performing Arts Venue                                              74\n",
       "Children's Activities Facilities                                   73\n",
       "Explosives, Certificate of Fitness                                 69\n",
       "Single Room Occupancy Class I                                      58\n",
       "Pet Shop                                                           52\n",
       "Body Piercing                                                      50\n",
       "Raffles                                                            48\n",
       "Laboratories                                                       47\n",
       "Grooming Facility                                                  47\n",
       "Tobacco Dealer Wholesale                                           46\n",
       "Automatic Amusement Device Operator                                45\n",
       "Animal Care License                                                41\n",
       "Tobacco Vending, Individual                                        37\n",
       "Hospital                                                           34\n",
       "Vacation Rental                                                    34\n",
       "Day Labor Agency                                                   31\n",
       "Auctioneer                                                         23\n",
       "Retail Food Est.-Supplemental License for Dog-Friendly Areas       23\n",
       "Not-For-Profit Club                                                22\n",
       "Single Room Occupancy Class II                                     21\n",
       "Night Care Privilege                                               20\n",
       "Shared Kitchen User                                                20\n",
       "Caterer's Registration (Liquor)                                    19\n",
       "Bed-And-Breakfast Establishment                                    17\n",
       "Board-Up Work                                                      16\n",
       "Pharmaceutical Representative                                      15\n",
       "Navy Pier Vendor (Non-Food)                                        14\n",
       "Public Place of Amusement-TCC                                      13\n",
       "Humane Society                                                     13\n",
       "Wrigley Field                                                      13\n",
       "Animal Exhibition                                                  11\n",
       "Special Event Food                                                 10\n",
       "Pawnbroker                                                          9\n",
       "Food - Shared Kitchen - Supplemental                                9\n",
       "Secondhand Dealer - Children's Products                             7\n",
       "Special Event Liquor                                                7\n",
       "Repossessor                                                         5\n",
       "Produce Merchant                                                    5\n",
       "Emerging Business                                                   5\n",
       "Industrial Private Event Venue                                      5\n",
       "Tobacco Sampler                                                     4\n",
       "Navy Pier - Outdoor Fixed                                           4\n",
       "Navy Pier - Mobile                                                  4\n",
       "Weapons Dealer                                                      4\n",
       "Explosives                                                          4\n",
       "Liquor Airport Pushcart License                                     3\n",
       "Class A - Indoor Special Event                                      3\n",
       "Navy Pier Vendor (Food)                                             2\n",
       "Assisted Living/Shared Housing Establishment                        2\n",
       "Taxicab Two-Way Dispatch Service License                            2\n",
       "Indoor Special Event                                                2\n",
       "License Broker                                                      2\n",
       "Affiliation                                                         2\n",
       "Transportation Network Provider                                     1\n",
       "License Manager                                                     1\n",
       "Navy Pier Kiosk License                                             1\n",
       "Shared Housing Unit Operator                                        1\n",
       "Airport Pushcart Liquor O'Hare - Class A                            1\n",
       "Private Booting Operation                                           1\n",
       "Food - Shared Kitchen                                               1\n",
       "Bicycle Messenger Service                                           1\n",
       "Name: LICENSE DESCRIPTION, dtype: int64"
      ]
     },
     "execution_count": 48,
     "metadata": {},
     "output_type": "execute_result"
    }
   ],
   "source": [
    "test_data['LICENSE DESCRIPTION'].value_counts()"
   ]
  },
  {
   "cell_type": "code",
   "execution_count": 49,
   "metadata": {},
   "outputs": [],
   "source": [
    "imp_none_list = ['ZIP CODE']\n",
    "impute_none(imp_none_list)"
   ]
  },
  {
   "cell_type": "code",
   "execution_count": 50,
   "metadata": {},
   "outputs": [],
   "source": [
    "# Function to impute with 0\n",
    "def impute_nil(imp_nil_list):\n",
    "    for i in imp_nil_list:\n",
    "        train_data[i] = train_data[i].fillna(0)\n",
    "        test_data[i] = test_data[i].fillna(0)"
   ]
  },
  {
   "cell_type": "code",
   "execution_count": 51,
   "metadata": {},
   "outputs": [],
   "source": [
    "imp_nil_list = ['WARD', 'PRECINCT', 'POLICE DISTRICT', 'PAYMENT MONTH', 'WARD PRECINCT', 'LICENSE NUMBER']\n",
    "impute_nil(imp_nil_list)"
   ]
  },
  {
   "cell_type": "code",
   "execution_count": 52,
   "metadata": {},
   "outputs": [
    {
     "data": {
      "text/plain": [
       "ACCOUNT NUMBER                            0\n",
       "SITE NUMBER                               0\n",
       "CITY                                      0\n",
       "STATE                                     0\n",
       "ZIP CODE                                  0\n",
       "WARD                                      0\n",
       "PRECINCT                                  0\n",
       "WARD PRECINCT                             0\n",
       "POLICE DISTRICT                           0\n",
       "LICENSE CODE                              0\n",
       "LICENSE DESCRIPTION                       0\n",
       "LICENSE NUMBER                            0\n",
       "APPLICATION TYPE                          0\n",
       "CONDITIONAL APPROVAL                      0\n",
       "LATITUDE                                  0\n",
       "LONGITUDE                                 0\n",
       "PAYMENT YEAR                              0\n",
       "PAYMENT MONTH                             0\n",
       "APPLICATION REQUIREMENTS COMPLETE YEAR    0\n",
       "DATE ISSUED YEAR                          0\n",
       "LICENSE APPROVED YEAR                     0\n",
       "LICENSE STATUS CHANGE YEAR                0\n",
       "LICENSE VALIDITY                          0\n",
       "LEGAL TYPE                                0\n",
       "dtype: int64"
      ]
     },
     "execution_count": 52,
     "metadata": {},
     "output_type": "execute_result"
    }
   ],
   "source": [
    "test_data.isna().sum()"
   ]
  },
  {
   "cell_type": "markdown",
   "metadata": {},
   "source": [
    "## Encoding the values to prepare our model"
   ]
  },
  {
   "cell_type": "code",
   "execution_count": 53,
   "metadata": {},
   "outputs": [],
   "source": [
    "train_data[\"LICENSE STATUS\"] = train_data[\"LICENSE STATUS\"].replace('AAI', 0)\n",
    "train_data[\"LICENSE STATUS\"] = train_data[\"LICENSE STATUS\"].replace('AAC', 1)\n",
    "train_data[\"LICENSE STATUS\"] = train_data[\"LICENSE STATUS\"].replace('REV', 2)\n",
    "train_data[\"LICENSE STATUS\"] = train_data[\"LICENSE STATUS\"].replace('REA', 3)\n",
    "train_data[\"LICENSE STATUS\"] = train_data[\"LICENSE STATUS\"].replace('INQ', 4)"
   ]
  },
  {
   "cell_type": "code",
   "execution_count": 54,
   "metadata": {},
   "outputs": [],
   "source": [
    "# Function to LabelEncode all the non numerical values\n",
    "def create_dummies(df):\n",
    "    for i in df.columns:\n",
    "        if df[i].dtypes=='object':\n",
    "            print(i,'encoded')\n",
    "            mask = ~df[i].isnull()\n",
    "            label_encoder = LabelEncoder() \n",
    "            try:\n",
    "                df[i][mask] = label_encoder.fit_transform(df[i][mask])\n",
    "                df[i] = df[i].astype(int)\n",
    "            except Exception as e:\n",
    "                print(e)\n",
    "    return df"
   ]
  },
  {
   "cell_type": "code",
   "execution_count": 55,
   "metadata": {},
   "outputs": [
    {
     "name": "stdout",
     "output_type": "stream",
     "text": [
      "CITY encoded\n",
      "STATE encoded\n",
      "ZIP CODE encoded\n",
      "argument must be a string or number\n",
      "WARD PRECINCT encoded\n"
     ]
    },
    {
     "name": "stderr",
     "output_type": "stream",
     "text": [
      "F:\\Installed\\Anaconda3\\envs\\tf_gpu\\lib\\site-packages\\ipykernel_launcher.py:9: SettingWithCopyWarning: \n",
      "A value is trying to be set on a copy of a slice from a DataFrame\n",
      "\n",
      "See the caveats in the documentation: http://pandas.pydata.org/pandas-docs/stable/indexing.html#indexing-view-versus-copy\n",
      "  if __name__ == '__main__':\n"
     ]
    },
    {
     "name": "stdout",
     "output_type": "stream",
     "text": [
      "argument must be a string or number\n",
      "LICENSE DESCRIPTION encoded\n",
      "APPLICATION TYPE encoded\n",
      "CONDITIONAL APPROVAL encoded\n",
      "LEGAL TYPE encoded\n"
     ]
    }
   ],
   "source": [
    "train_data = create_dummies(train_data)"
   ]
  },
  {
   "cell_type": "code",
   "execution_count": 56,
   "metadata": {},
   "outputs": [
    {
     "name": "stdout",
     "output_type": "stream",
     "text": [
      "CITY encoded\n",
      "STATE encoded\n",
      "ZIP CODE"
     ]
    },
    {
     "name": "stderr",
     "output_type": "stream",
     "text": [
      "F:\\Installed\\Anaconda3\\envs\\tf_gpu\\lib\\site-packages\\ipykernel_launcher.py:9: SettingWithCopyWarning: \n",
      "A value is trying to be set on a copy of a slice from a DataFrame\n",
      "\n",
      "See the caveats in the documentation: http://pandas.pydata.org/pandas-docs/stable/indexing.html#indexing-view-versus-copy\n",
      "  if __name__ == '__main__':\n"
     ]
    },
    {
     "name": "stdout",
     "output_type": "stream",
     "text": [
      " encoded\n",
      "argument must be a string or number\n",
      "WARD PRECINCT encoded\n",
      "argument must be a string or number\n",
      "LICENSE DESCRIPTION encoded\n",
      "APPLICATION TYPE encoded\n",
      "CONDITIONAL APPROVAL encoded\n",
      "LEGAL TYPE encoded\n"
     ]
    }
   ],
   "source": [
    "test_data = create_dummies(test_data)"
   ]
  },
  {
   "cell_type": "code",
   "execution_count": 57,
   "metadata": {},
   "outputs": [],
   "source": [
    "encoder = LabelEncoder()\n",
    "train_data[\"WARD PRECINCT\"] = encoder.fit_transform(train_data[\"WARD PRECINCT\"].astype(str))\n",
    "test_data[\"WARD PRECINCT\"] = encoder.fit_transform(test_data[\"WARD PRECINCT\"].astype(str))"
   ]
  },
  {
   "cell_type": "code",
   "execution_count": 58,
   "metadata": {},
   "outputs": [],
   "source": [
    "encoder = LabelEncoder()\n",
    "train_data[\"ZIP CODE\"] = encoder.fit_transform(train_data[\"ZIP CODE\"].astype(str))\n",
    "test_data[\"ZIP CODE\"] = encoder.fit_transform(test_data[\"ZIP CODE\"].astype(str))"
   ]
  },
  {
   "cell_type": "code",
   "execution_count": 59,
   "metadata": {},
   "outputs": [
    {
     "data": {
      "text/plain": [
       "0    55400\n",
       "1    30200\n",
       "2      290\n",
       "3        3\n",
       "4        2\n",
       "Name: LICENSE STATUS, dtype: int64"
      ]
     },
     "execution_count": 59,
     "metadata": {},
     "output_type": "execute_result"
    }
   ],
   "source": [
    "train_data[\"LICENSE STATUS\"].value_counts()"
   ]
  },
  {
   "cell_type": "markdown",
   "metadata": {},
   "source": [
    "# Sampling the data"
   ]
  },
  {
   "cell_type": "code",
   "execution_count": 60,
   "metadata": {},
   "outputs": [
    {
     "data": {
      "text/html": [
       "<div>\n",
       "<style scoped>\n",
       "    .dataframe tbody tr th:only-of-type {\n",
       "        vertical-align: middle;\n",
       "    }\n",
       "\n",
       "    .dataframe tbody tr th {\n",
       "        vertical-align: top;\n",
       "    }\n",
       "\n",
       "    .dataframe thead th {\n",
       "        text-align: right;\n",
       "    }\n",
       "</style>\n",
       "<table border=\"1\" class=\"dataframe\">\n",
       "  <thead>\n",
       "    <tr style=\"text-align: right;\">\n",
       "      <th></th>\n",
       "      <th>ACCOUNT NUMBER</th>\n",
       "      <th>SITE NUMBER</th>\n",
       "      <th>CITY</th>\n",
       "      <th>STATE</th>\n",
       "      <th>ZIP CODE</th>\n",
       "      <th>WARD</th>\n",
       "      <th>PRECINCT</th>\n",
       "      <th>WARD PRECINCT</th>\n",
       "      <th>POLICE DISTRICT</th>\n",
       "      <th>LICENSE CODE</th>\n",
       "      <th>LICENSE DESCRIPTION</th>\n",
       "      <th>LICENSE NUMBER</th>\n",
       "      <th>APPLICATION TYPE</th>\n",
       "      <th>CONDITIONAL APPROVAL</th>\n",
       "      <th>LATITUDE</th>\n",
       "      <th>LONGITUDE</th>\n",
       "      <th>LICENSE STATUS</th>\n",
       "      <th>PAYMENT YEAR</th>\n",
       "      <th>PAYMENT MONTH</th>\n",
       "      <th>APPLICATION REQUIREMENTS COMPLETE YEAR</th>\n",
       "      <th>DATE ISSUED YEAR</th>\n",
       "      <th>LICENSE APPROVED YEAR</th>\n",
       "      <th>LICENSE STATUS CHANGE YEAR</th>\n",
       "      <th>LICENSE VALIDITY</th>\n",
       "      <th>LEGAL TYPE</th>\n",
       "    </tr>\n",
       "  </thead>\n",
       "  <tbody>\n",
       "    <tr>\n",
       "      <th>46179</th>\n",
       "      <td>327878</td>\n",
       "      <td>1</td>\n",
       "      <td>193</td>\n",
       "      <td>16</td>\n",
       "      <td>1591</td>\n",
       "      <td>45.0</td>\n",
       "      <td>31.0</td>\n",
       "      <td>1851</td>\n",
       "      <td>17.0</td>\n",
       "      <td>1524</td>\n",
       "      <td>44</td>\n",
       "      <td>1891919.0</td>\n",
       "      <td>4</td>\n",
       "      <td>0</td>\n",
       "      <td>41.953551</td>\n",
       "      <td>-87.745938</td>\n",
       "      <td>2</td>\n",
       "      <td>2009.0</td>\n",
       "      <td>7.0</td>\n",
       "      <td>2009.0</td>\n",
       "      <td>2009</td>\n",
       "      <td>2009.0</td>\n",
       "      <td>2010.0</td>\n",
       "      <td>2.0</td>\n",
       "      <td>4</td>\n",
       "    </tr>\n",
       "    <tr>\n",
       "      <th>22297</th>\n",
       "      <td>6085</td>\n",
       "      <td>1</td>\n",
       "      <td>193</td>\n",
       "      <td>16</td>\n",
       "      <td>1552</td>\n",
       "      <td>21.0</td>\n",
       "      <td>72.0</td>\n",
       "      <td>664</td>\n",
       "      <td>6.0</td>\n",
       "      <td>1010</td>\n",
       "      <td>41</td>\n",
       "      <td>12546.0</td>\n",
       "      <td>4</td>\n",
       "      <td>0</td>\n",
       "      <td>41.746948</td>\n",
       "      <td>-87.653788</td>\n",
       "      <td>2</td>\n",
       "      <td>2006.0</td>\n",
       "      <td>8.0</td>\n",
       "      <td>2006.0</td>\n",
       "      <td>2006</td>\n",
       "      <td>2006.0</td>\n",
       "      <td>2007.0</td>\n",
       "      <td>1.0</td>\n",
       "      <td>1</td>\n",
       "    </tr>\n",
       "    <tr>\n",
       "      <th>70561</th>\n",
       "      <td>308676</td>\n",
       "      <td>2</td>\n",
       "      <td>193</td>\n",
       "      <td>16</td>\n",
       "      <td>1597</td>\n",
       "      <td>29.0</td>\n",
       "      <td>14.0</td>\n",
       "      <td>1001</td>\n",
       "      <td>15.0</td>\n",
       "      <td>1010</td>\n",
       "      <td>41</td>\n",
       "      <td>1742441.0</td>\n",
       "      <td>4</td>\n",
       "      <td>0</td>\n",
       "      <td>41.880241</td>\n",
       "      <td>-87.756782</td>\n",
       "      <td>1</td>\n",
       "      <td>2011.0</td>\n",
       "      <td>5.0</td>\n",
       "      <td>2011.0</td>\n",
       "      <td>2011</td>\n",
       "      <td>2011.0</td>\n",
       "      <td>2013.0</td>\n",
       "      <td>2.0</td>\n",
       "      <td>1</td>\n",
       "    </tr>\n",
       "    <tr>\n",
       "      <th>56483</th>\n",
       "      <td>22618</td>\n",
       "      <td>4</td>\n",
       "      <td>193</td>\n",
       "      <td>16</td>\n",
       "      <td>1585</td>\n",
       "      <td>23.0</td>\n",
       "      <td>8.0</td>\n",
       "      <td>741</td>\n",
       "      <td>8.0</td>\n",
       "      <td>1008</td>\n",
       "      <td>28</td>\n",
       "      <td>31090.0</td>\n",
       "      <td>4</td>\n",
       "      <td>0</td>\n",
       "      <td>41.786822</td>\n",
       "      <td>-87.761926</td>\n",
       "      <td>1</td>\n",
       "      <td>2011.0</td>\n",
       "      <td>12.0</td>\n",
       "      <td>2011.0</td>\n",
       "      <td>2011</td>\n",
       "      <td>2011.0</td>\n",
       "      <td>2012.0</td>\n",
       "      <td>2.0</td>\n",
       "      <td>4</td>\n",
       "    </tr>\n",
       "    <tr>\n",
       "      <th>28612</th>\n",
       "      <td>264863</td>\n",
       "      <td>1</td>\n",
       "      <td>590</td>\n",
       "      <td>16</td>\n",
       "      <td>1043</td>\n",
       "      <td>0.0</td>\n",
       "      <td>0.0</td>\n",
       "      <td>1</td>\n",
       "      <td>0.0</td>\n",
       "      <td>1605</td>\n",
       "      <td>79</td>\n",
       "      <td>1379502.0</td>\n",
       "      <td>3</td>\n",
       "      <td>0</td>\n",
       "      <td>41.896399</td>\n",
       "      <td>-87.655882</td>\n",
       "      <td>0</td>\n",
       "      <td>2003.0</td>\n",
       "      <td>6.0</td>\n",
       "      <td>2003.0</td>\n",
       "      <td>2003</td>\n",
       "      <td>2007.0</td>\n",
       "      <td>2009.0</td>\n",
       "      <td>1.0</td>\n",
       "      <td>4</td>\n",
       "    </tr>\n",
       "  </tbody>\n",
       "</table>\n",
       "</div>"
      ],
      "text/plain": [
       "       ACCOUNT NUMBER  SITE NUMBER  CITY  STATE  ZIP CODE  WARD  PRECINCT  WARD PRECINCT  POLICE DISTRICT  LICENSE CODE  LICENSE DESCRIPTION  LICENSE NUMBER  APPLICATION TYPE  CONDITIONAL APPROVAL   LATITUDE  LONGITUDE  LICENSE STATUS  PAYMENT YEAR  PAYMENT MONTH  APPLICATION REQUIREMENTS COMPLETE YEAR  DATE ISSUED YEAR  LICENSE APPROVED YEAR  LICENSE STATUS CHANGE YEAR  LICENSE VALIDITY  LEGAL TYPE\n",
       "46179          327878            1   193     16      1591  45.0      31.0           1851             17.0          1524                   44       1891919.0                 4                     0  41.953551 -87.745938               2        2009.0            7.0                                  2009.0              2009                 2009.0                      2010.0               2.0           4\n",
       "22297            6085            1   193     16      1552  21.0      72.0            664              6.0          1010                   41         12546.0                 4                     0  41.746948 -87.653788               2        2006.0            8.0                                  2006.0              2006                 2006.0                      2007.0               1.0           1\n",
       "70561          308676            2   193     16      1597  29.0      14.0           1001             15.0          1010                   41       1742441.0                 4                     0  41.880241 -87.756782               1        2011.0            5.0                                  2011.0              2011                 2011.0                      2013.0               2.0           1\n",
       "56483           22618            4   193     16      1585  23.0       8.0            741              8.0          1008                   28         31090.0                 4                     0  41.786822 -87.761926               1        2011.0           12.0                                  2011.0              2011                 2011.0                      2012.0               2.0           4\n",
       "28612          264863            1   590     16      1043   0.0       0.0              1              0.0          1605                   79       1379502.0                 3                     0  41.896399 -87.655882               0        2003.0            6.0                                  2003.0              2003                 2007.0                      2009.0               1.0           4"
      ]
     },
     "execution_count": 60,
     "metadata": {},
     "output_type": "execute_result"
    }
   ],
   "source": [
    "# Since our classes are highly skewed we should make them equivalent in order to have a normal distribution of the classes.\n",
    "\n",
    "# Lets shuffle the data before creating the subsamples\n",
    "\n",
    "train_data = train_data.sample(frac=1)\n",
    "\n",
    "# Amount of fraud classes in proportion.\n",
    "fraud_df = train_data[train_data['LICENSE STATUS'] == 4]\n",
    "pending_df = train_data[train_data['LICENSE STATUS'] == 3]\n",
    "accepted_df = train_data[train_data['LICENSE STATUS'] == 2]\n",
    "\n",
    "non_fraud_df = train_data[train_data['LICENSE STATUS'] == 1][:290]\n",
    "non_accepted_df = train_data[train_data['LICENSE STATUS'] == 0][:300]\n",
    "\n",
    "normal_distributed_df = pd.concat([fraud_df, pending_df, accepted_df, non_fraud_df, non_accepted_df, fraud_df,\n",
    "                                  fraud_df, fraud_df, fraud_df, pending_df, pending_df, fraud_df, pending_df,\n",
    "                                  pending_df, pending_df, pending_df, fraud_df, fraud_df, fraud_df])\n",
    "\n",
    "# Shuffle dataframe rows\n",
    "new_df = normal_distributed_df.sample(frac=1, random_state=42)\n",
    "\n",
    "new_df.head()"
   ]
  },
  {
   "cell_type": "code",
   "execution_count": 61,
   "metadata": {},
   "outputs": [
    {
     "data": {
      "text/plain": [
       "0    300\n",
       "2    290\n",
       "1    290\n",
       "3     21\n",
       "4     18\n",
       "Name: LICENSE STATUS, dtype: int64"
      ]
     },
     "execution_count": 61,
     "metadata": {},
     "output_type": "execute_result"
    }
   ],
   "source": [
    "new_df['LICENSE STATUS'].value_counts()"
   ]
  },
  {
   "cell_type": "code",
   "execution_count": 62,
   "metadata": {},
   "outputs": [
    {
     "data": {
      "image/png": "[encoded data removed]",
      "text/plain": [
       "<Figure size 432x288 with 1 Axes>"
      ]
     },
     "metadata": {
      "needs_background": "light"
     },
     "output_type": "display_data"
    }
   ],
   "source": [
    "plt.title('Distribution of target variable')\n",
    "sns.countplot(new_df['LICENSE STATUS'])\n",
    "plt.show()"
   ]
  },
  {
   "cell_type": "code",
   "execution_count": 63,
   "metadata": {},
   "outputs": [],
   "source": [
    "# # Our Subsample\n",
    "# sub_sample_corr = new_df.corr()\n",
    "# plt.figure(figsize=(20,20))\n",
    "# sns.heatmap(sub_sample_corr, cbar=True, square= True, fmt='.1f', annot=True, annot_kws={'size':20}, cmap='Greens')\n",
    "# plt.title('Subsample Correlation Matrix \\n (use for reference)', fontsize=14)\n",
    "# plt.show()"
   ]
  },
  {
   "cell_type": "code",
   "execution_count": 64,
   "metadata": {},
   "outputs": [],
   "source": [
    "# Since all the years are highly correlated, we will consider the one that has the least missing values\n",
    "col_list = ['PAYMENT YEAR', 'APPLICATION REQUIREMENTS COMPLETE YEAR', 'LICENSE APPROVED YEAR']\n",
    "new_df = new_df.drop(col_list, axis=1)\n",
    "test_data = test_data.drop(col_list, axis=1)"
   ]
  },
  {
   "cell_type": "code",
   "execution_count": 65,
   "metadata": {},
   "outputs": [
    {
     "data": {
      "image/png": "[encoded data removed]",
      "text/plain": [
       "<Figure size 1440x1440 with 2 Axes>"
      ]
     },
     "metadata": {
      "needs_background": "light"
     },
     "output_type": "display_data"
    }
   ],
   "source": [
    "# Our Subsample\n",
    "sub_sample_corr = new_df.corr()\n",
    "plt.figure(figsize=(20,20))\n",
    "sns.heatmap(sub_sample_corr, cbar=True, square= True, fmt='.1f', annot=True, annot_kws={'size':20}, cmap='Greens')\n",
    "plt.title('Subsample Correlation Matrix \\n (use for reference)', fontsize=14)\n",
    "plt.show()"
   ]
  },
  {
   "cell_type": "code",
   "execution_count": 66,
   "metadata": {},
   "outputs": [],
   "source": [
    "# Undersampling before cross validating (prone to overfit)\n",
    "X = new_df.drop('LICENSE STATUS', axis=1)\n",
    "y = new_df['LICENSE STATUS']"
   ]
  },
  {
   "cell_type": "code",
   "execution_count": 67,
   "metadata": {},
   "outputs": [],
   "source": [
    "# Splitting the data into training set and testset\n",
    "from sklearn.model_selection import train_test_split\n",
    "X_train, X_test, y_train, y_test = train_test_split(X,y, test_size = 0.25, random_state = 42)"
   ]
  },
  {
   "cell_type": "code",
   "execution_count": 68,
   "metadata": {},
   "outputs": [],
   "source": [
    "# Create confusion matrix function to find out sensitivity and specificity\n",
    "from sklearn.metrics import confusion_matrix\n",
    "def draw_cm(actual, predicted):\n",
    "    cm = confusion_matrix( actual, predicted, [1,0]).T\n",
    "    sns.heatmap(cm, annot=True,  fmt='.2f', xticklabels = [\"Yes\",\"No\"] , yticklabels = [\"Yes\",\"No\"] )\n",
    "    plt.ylabel('Predicted')\n",
    "    plt.xlabel('Actual')\n",
    "    plt.show()"
   ]
  },
  {
   "cell_type": "markdown",
   "metadata": {},
   "source": [
    "# Decision Tree Classifier"
   ]
  },
  {
   "cell_type": "code",
   "execution_count": 69,
   "metadata": {},
   "outputs": [
    {
     "data": {
      "text/plain": [
       "DecisionTreeClassifier(class_weight=None, criterion='gini', max_depth=None,\n",
       "                       max_features=None, max_leaf_nodes=None,\n",
       "                       min_impurity_decrease=0.0, min_impurity_split=None,\n",
       "                       min_samples_leaf=1, min_samples_split=2,\n",
       "                       min_weight_fraction_leaf=0.0, presort=False,\n",
       "                       random_state=None, splitter='best')"
      ]
     },
     "execution_count": 69,
     "metadata": {},
     "output_type": "execute_result"
    }
   ],
   "source": [
    "# Decision Tree Classifier\n",
    "\n",
    "# Import Decision tree classifier\n",
    "from sklearn.tree import DecisionTreeClassifier\n",
    "\n",
    "# Create a Decision tree classifier model\n",
    "clf = DecisionTreeClassifier()\n",
    "\n",
    "# # Hyperparameter Optimization\n",
    "# parameters = [{'max_features': ['log2', 'sqrt','auto'], \n",
    "#               'criterion': ['entropy', 'gini'],\n",
    "#               'max_depth': [2, 3, 5, 10, 50], \n",
    "#               'min_samples_split': [2, 3, 50, 100],\n",
    "#               'min_samples_leaf': [1, 5, 8, 10]\n",
    "#              }\n",
    "# # Run the grid search\n",
    "# grid_obj = GridSearchCV(clf, parameters)\n",
    "# grid_obj = grid_obj.fit(X_train, y_train)\n",
    "\n",
    "# # Set the clf to the best combination of parameters\n",
    "# clf = grid_obj.best_estimator_\n",
    "\n",
    "# Train the model using the training sets \n",
    "clf.fit(X_train, y_train)"
   ]
  },
  {
   "cell_type": "code",
   "execution_count": 70,
   "metadata": {},
   "outputs": [],
   "source": [
    "# Model prediction on train data\n",
    "y_pred = clf.predict(X_train)"
   ]
  },
  {
   "cell_type": "code",
   "execution_count": 71,
   "metadata": {},
   "outputs": [],
   "source": [
    "# Finding the variable with more importance\n",
    "feature_importance = pd.DataFrame([X_train.columns, clf.tree_.compute_feature_importances()])\n",
    "feature_importance = feature_importance.T.sort_values(by = 1, ascending=False)[1:10]"
   ]
  },
  {
   "cell_type": "code",
   "execution_count": 72,
   "metadata": {},
   "outputs": [
    {
     "name": "stderr",
     "output_type": "stream",
     "text": [
      "No handles with labels found to put in legend.\n"
     ]
    },
    {
     "data": {
      "image/png": "[encoded data removed]",
      "text/plain": [
       "<Figure size 432x288 with 1 Axes>"
      ]
     },
     "metadata": {
      "needs_background": "light"
     },
     "output_type": "display_data"
    }
   ],
   "source": [
    "sns.barplot(x=feature_importance[1], y=feature_importance[0])\n",
    "# Add labels to the graph\n",
    "plt.xlabel('Feature Importance Score')\n",
    "plt.ylabel('Features')\n",
    "plt.title(\"Visualizing Important Features\")\n",
    "plt.legend()\n",
    "plt.show()"
   ]
  },
  {
   "cell_type": "code",
   "execution_count": 73,
   "metadata": {},
   "outputs": [],
   "source": [
    "# Prediction on test set\n",
    "y_pred = clf.predict(X_test)"
   ]
  },
  {
   "cell_type": "code",
   "execution_count": 74,
   "metadata": {},
   "outputs": [
    {
     "data": {
      "image/png": "[encoded data removed]",
      "text/plain": [
       "<Figure size 432x288 with 2 Axes>"
      ]
     },
     "metadata": {
      "needs_background": "light"
     },
     "output_type": "display_data"
    }
   ],
   "source": [
    "# Confusion matrix\n",
    "draw_cm(y_test, y_pred)"
   ]
  },
  {
   "cell_type": "code",
   "execution_count": 75,
   "metadata": {},
   "outputs": [
    {
     "name": "stdout",
     "output_type": "stream",
     "text": [
      "Total Accuracy :  84.78\n"
     ]
    }
   ],
   "source": [
    "# Calculating the accuracy, precision and the recall\n",
    "acc_dt = round( metrics.accuracy_score(y_test, y_pred) * 100, 2 )\n",
    "print( 'Total Accuracy : ', acc_dt )"
   ]
  },
  {
   "cell_type": "markdown",
   "metadata": {},
   "source": [
    "# Random Forest Classifier"
   ]
  },
  {
   "cell_type": "code",
   "execution_count": 76,
   "metadata": {},
   "outputs": [
    {
     "name": "stderr",
     "output_type": "stream",
     "text": [
      "F:\\Installed\\Anaconda3\\envs\\tf_gpu\\lib\\site-packages\\sklearn\\ensemble\\forest.py:245: FutureWarning: The default value of n_estimators will change from 10 in version 0.20 to 100 in 0.22.\n",
      "  \"10 in version 0.20 to 100 in 0.22.\", FutureWarning)\n"
     ]
    },
    {
     "data": {
      "text/plain": [
       "RandomForestClassifier(bootstrap=True, class_weight=None, criterion='gini',\n",
       "                       max_depth=None, max_features='auto', max_leaf_nodes=None,\n",
       "                       min_impurity_decrease=0.0, min_impurity_split=None,\n",
       "                       min_samples_leaf=1, min_samples_split=2,\n",
       "                       min_weight_fraction_leaf=0.0, n_estimators=10,\n",
       "                       n_jobs=None, oob_score=False, random_state=None,\n",
       "                       verbose=0, warm_start=False)"
      ]
     },
     "execution_count": 76,
     "metadata": {},
     "output_type": "execute_result"
    }
   ],
   "source": [
    "# Random Forest Classifier\n",
    "\n",
    "# Import library of RandomForestClassifier model\n",
    "from sklearn.ensemble import RandomForestClassifier\n",
    "\n",
    "# Create a Random Forest Classifier\n",
    "rf = RandomForestClassifier()\n",
    "\n",
    "# # Hyperparameter Optimization\n",
    "# parameters = {'n_estimators': [4, 6, 9, 10, 15], \n",
    "#               'max_features': ['log2', 'sqrt','auto'], \n",
    "#               'criterion': ['entropy', 'gini'],\n",
    "#               'max_depth': [2, 3, 5, 10], \n",
    "#               'min_samples_split': [2, 3, 5],\n",
    "#               'min_samples_leaf': [1, 5, 8]\n",
    "#              }\n",
    "\n",
    "# # Run the grid search\n",
    "# grid_obj = GridSearchCV(rf, parameters)\n",
    "# grid_obj = grid_obj.fit(X_train, y_train)\n",
    "\n",
    "# # Set the rf to the best combination of parameters\n",
    "# rf = grid_obj.best_estimator_\n",
    "\n",
    "# Train the model using the training sets \n",
    "rf.fit(X_train,y_train)"
   ]
  },
  {
   "cell_type": "code",
   "execution_count": 77,
   "metadata": {},
   "outputs": [
    {
     "name": "stderr",
     "output_type": "stream",
     "text": [
      "No handles with labels found to put in legend.\n"
     ]
    },
    {
     "data": {
      "image/png": "[encoded data removed]",
      "text/plain": [
       "<Figure size 432x288 with 1 Axes>"
      ]
     },
     "metadata": {
      "needs_background": "light"
     },
     "output_type": "display_data"
    }
   ],
   "source": [
    "# Finding the variable with more importance\n",
    "feature_imp = pd.Series(rf.feature_importances_,index= X_train.columns).sort_values(ascending=False)\n",
    "# Creating a bar plot\n",
    "feature_imp=feature_imp[0:10,]\n",
    "sns.barplot(x=feature_imp, y=feature_imp.index)\n",
    "# Add labels to the graph\n",
    "plt.xlabel('Feature Importance Score')\n",
    "plt.ylabel('Features')\n",
    "plt.title(\"Visualizing Important Features\")\n",
    "plt.legend()\n",
    "plt.show()"
   ]
  },
  {
   "cell_type": "code",
   "execution_count": 78,
   "metadata": {},
   "outputs": [],
   "source": [
    "# Prediction on test data\n",
    "y_pred = rf.predict(X_test)"
   ]
  },
  {
   "cell_type": "code",
   "execution_count": 79,
   "metadata": {},
   "outputs": [
    {
     "data": {
      "image/png": "[encoded data removed]",
      "text/plain": [
       "<Figure size 432x288 with 2 Axes>"
      ]
     },
     "metadata": {
      "needs_background": "light"
     },
     "output_type": "display_data"
    }
   ],
   "source": [
    "# Confusion metrix\n",
    "draw_cm(y_test, y_pred)"
   ]
  },
  {
   "cell_type": "code",
   "execution_count": 80,
   "metadata": {},
   "outputs": [
    {
     "name": "stdout",
     "output_type": "stream",
     "text": [
      "Total Accuracy :  86.09\n"
     ]
    }
   ],
   "source": [
    "# Calculating the accuracy, precision and the recall\n",
    "acc_rf = round( metrics.accuracy_score(y_test, y_pred) * 100 , 2 )\n",
    "print( 'Total Accuracy : ', acc_rf )"
   ]
  },
  {
   "cell_type": "markdown",
   "metadata": {},
   "source": [
    "# XGBoost"
   ]
  },
  {
   "cell_type": "code",
   "execution_count": 95,
   "metadata": {},
   "outputs": [
    {
     "data": {
      "text/plain": [
       "XGBClassifier(base_score=0.5, booster='gbtree', colsample_bylevel=1,\n",
       "              colsample_bynode=1, colsample_bytree=0.6, gamma=0.1,\n",
       "              learning_rate=0.02, max_delta_step=0, max_depth=3,\n",
       "              min_child_weight=1, missing=None, n_estimators=1000, n_jobs=1,\n",
       "              nthread=1, num_class=5, objective='multi:softprob',\n",
       "              random_state=0, reg_alpha=0, reg_lambda=1, scale_pos_weight=1,\n",
       "              seed=None, silent=True, subsample=0.6, verbosity=1)"
      ]
     },
     "execution_count": 95,
     "metadata": {},
     "output_type": "execute_result"
    }
   ],
   "source": [
    "# eXtreme Gradient Boosting\n",
    "\n",
    "# Import library of xgboost model\n",
    "from xgboost import XGBClassifier\n",
    "\n",
    "# # A parameter grid for XGBoost\n",
    "# params = {\n",
    "#         'min_child_weight': [1, 5, 10],\n",
    "#         'gamma': [0.5, 1, 1.5, 2, 5],\n",
    "#         'subsample': [0.6, 0.8, 1.0],\n",
    "#         'colsample_bytree': [0.6, 0.8, 1.0],\n",
    "#         'max_depth': [3, 4, 5]\n",
    "#         }\n",
    "\n",
    "# Create a XGB Classifier\n",
    "# xgb = XGBClassifier(learning_rate=0.02, n_estimators=600, objective='binary:logistic', silent=True, nthread=1)\n",
    "# gbm = XGBClassifier(learning_rate = 0.02, n_estimators= 2000, max_depth= 4, min_child_weight= 2, gamma=1, subsample=0.8, \n",
    "#                     colsample_bytree=0.8, objective= 'binary:logistic', nthread= -1, scale_pos_weight=1)\n",
    "# gbm = XGBClassifier()\n",
    "gbm = XGBClassifier(base_score=0.5, booster='gbtree', colsample_bylevel=1,\n",
    "              colsample_bynode=1, colsample_bytree=0.6, gamma=0.1,\n",
    "              learning_rate=0.02, max_delta_step=0, max_depth=5,\n",
    "              min_child_weight=1, missing=None, n_estimators=1000, n_jobs=1,\n",
    "              nthread=1, num_class=5, objective='multi:softprob',\n",
    "              random_state=0, reg_alpha=0, reg_lambda=1, scale_pos_weight=1,\n",
    "              seed=None, silent=True, subsample=0.6, verbosity=1)\n",
    "\n",
    "\n",
    "# Train the model using the training sets\n",
    "gbm.fit(X_train, y_train)"
   ]
  },
  {
   "cell_type": "code",
   "execution_count": 97,
   "metadata": {},
   "outputs": [],
   "source": [
    "# Prediction on test data\n",
    "y_pred = gbm.predict(X_test)"
   ]
  },
  {
   "cell_type": "code",
   "execution_count": 98,
   "metadata": {},
   "outputs": [
    {
     "name": "stdout",
     "output_type": "stream",
     "text": [
      "Total Accuracy :  93.91\n"
     ]
    }
   ],
   "source": [
    "# Calculating the accuracy, precision and the recall\n",
    "acc_xgb = round( metrics.accuracy_score(y_test, y_pred) * 100 , 2 )\n",
    "print( 'Total Accuracy : ', acc_xgb )"
   ]
  },
  {
   "cell_type": "code",
   "execution_count": 99,
   "metadata": {},
   "outputs": [
    {
     "data": {
      "image/png": "[encoded data removed]",
      "text/plain": [
       "<Figure size 432x288 with 2 Axes>"
      ]
     },
     "metadata": {
      "needs_background": "light"
     },
     "output_type": "display_data"
    }
   ],
   "source": [
    "# Confusion matrix \n",
    "draw_cm(y_test, y_pred)"
   ]
  },
  {
   "cell_type": "markdown",
   "metadata": {},
   "source": [
    "# Evaluation and comparision of all the models"
   ]
  },
  {
   "cell_type": "code",
   "execution_count": 100,
   "metadata": {},
   "outputs": [
    {
     "data": {
      "text/html": [
       "<div>\n",
       "<style scoped>\n",
       "    .dataframe tbody tr th:only-of-type {\n",
       "        vertical-align: middle;\n",
       "    }\n",
       "\n",
       "    .dataframe tbody tr th {\n",
       "        vertical-align: top;\n",
       "    }\n",
       "\n",
       "    .dataframe thead th {\n",
       "        text-align: right;\n",
       "    }\n",
       "</style>\n",
       "<table border=\"1\" class=\"dataframe\">\n",
       "  <thead>\n",
       "    <tr style=\"text-align: right;\">\n",
       "      <th></th>\n",
       "      <th>Model</th>\n",
       "      <th>Score</th>\n",
       "    </tr>\n",
       "  </thead>\n",
       "  <tbody>\n",
       "    <tr>\n",
       "      <th>2</th>\n",
       "      <td>XGBoost</td>\n",
       "      <td>93.91</td>\n",
       "    </tr>\n",
       "    <tr>\n",
       "      <th>1</th>\n",
       "      <td>Random Forest</td>\n",
       "      <td>86.09</td>\n",
       "    </tr>\n",
       "    <tr>\n",
       "      <th>0</th>\n",
       "      <td>Decision Tree</td>\n",
       "      <td>84.78</td>\n",
       "    </tr>\n",
       "  </tbody>\n",
       "</table>\n",
       "</div>"
      ],
      "text/plain": [
       "           Model  Score\n",
       "2        XGBoost  93.91\n",
       "1  Random Forest  86.09\n",
       "0  Decision Tree  84.78"
      ]
     },
     "execution_count": 100,
     "metadata": {},
     "output_type": "execute_result"
    }
   ],
   "source": [
    "models = pd.DataFrame({\n",
    "    'Model': ['Decision Tree', 'Random Forest', 'XGBoost'],\n",
    "    'Score': [acc_dt, acc_rf, acc_xgb]})\n",
    "models.sort_values(by='Score', ascending=False)"
   ]
  },
  {
   "cell_type": "markdown",
   "metadata": {},
   "source": [
    "## Selecting XGBoost as our best model"
   ]
  },
  {
   "cell_type": "code",
   "execution_count": null,
   "metadata": {},
   "outputs": [],
   "source": [
    "# XGBClassifier(base_score=0.5, booster='gbtree', colsample_bylevel=1,\n",
    "#               colsample_bynode=1, colsample_bytree=0.6, gamma=0.1,\n",
    "#               learning_rate=0.02, max_delta_step=0, max_depth=3,\n",
    "#               min_child_weight=1, missing=None, n_estimators=1000, n_jobs=1,\n",
    "#               nthread=1, num_class=5, objective='multi:softprob',\n",
    "#               random_state=0, reg_alpha=0, reg_lambda=1, scale_pos_weight=1,\n",
    "#               seed=None, silent=True, subsample=0.6, verbosity=1)"
   ]
  },
  {
   "cell_type": "code",
   "execution_count": 101,
   "metadata": {},
   "outputs": [
    {
     "data": {
      "text/plain": [
       "(85895, 25)"
      ]
     },
     "execution_count": 101,
     "metadata": {},
     "output_type": "execute_result"
    }
   ],
   "source": [
    "train_data.shape"
   ]
  },
  {
   "cell_type": "code",
   "execution_count": 102,
   "metadata": {},
   "outputs": [
    {
     "data": {
      "text/plain": [
       "(57239, 21)"
      ]
     },
     "execution_count": 102,
     "metadata": {},
     "output_type": "execute_result"
    }
   ],
   "source": [
    "test_data.shape"
   ]
  },
  {
   "cell_type": "code",
   "execution_count": 103,
   "metadata": {},
   "outputs": [],
   "source": [
    "# Predicting on the test dataset\n",
    "my_pred = gbm.predict(test_data)"
   ]
  },
  {
   "cell_type": "code",
   "execution_count": 104,
   "metadata": {},
   "outputs": [
    {
     "data": {
      "text/plain": [
       "(57239,)"
      ]
     },
     "execution_count": 104,
     "metadata": {},
     "output_type": "execute_result"
    }
   ],
   "source": [
    "my_pred.shape"
   ]
  },
  {
   "cell_type": "code",
   "execution_count": 105,
   "metadata": {},
   "outputs": [],
   "source": [
    "my_submission['LICENSE STATUS'] = my_pred"
   ]
  },
  {
   "cell_type": "code",
   "execution_count": 106,
   "metadata": {},
   "outputs": [
    {
     "data": {
      "text/plain": [
       "(57239, 2)"
      ]
     },
     "execution_count": 106,
     "metadata": {},
     "output_type": "execute_result"
    }
   ],
   "source": [
    "my_submission.shape"
   ]
  },
  {
   "cell_type": "code",
   "execution_count": 107,
   "metadata": {},
   "outputs": [],
   "source": [
    "my_submission['LICENSE STATUS'] = my_submission['LICENSE STATUS'].replace(0, 'AAI')\n",
    "my_submission['LICENSE STATUS'] = my_submission['LICENSE STATUS'].replace(1, 'AAC')\n",
    "my_submission['LICENSE STATUS'] = my_submission['LICENSE STATUS'].replace(2, 'REV')\n",
    "my_submission['LICENSE STATUS'] = my_submission['LICENSE STATUS'].replace(3, 'REA')\n",
    "my_submission['LICENSE STATUS'] = my_submission['LICENSE STATUS'].replace(4, 'INQ')"
   ]
  },
  {
   "cell_type": "code",
   "execution_count": 108,
   "metadata": {},
   "outputs": [],
   "source": [
    "# Saving predictions to file\n",
    "my_submission.to_csv('submission.csv', index=False)"
   ]
  },
  {
   "cell_type": "code",
   "execution_count": null,
   "metadata": {},
   "outputs": [],
   "source": []
  }
 ],
 "metadata": {
  "kernelspec": {
   "display_name": "Python [conda env:tf_gpu]",
   "language": "python",
   "name": "conda-env-tf_gpu-py"
  },
  "language_info": {
   "codemirror_mode": {
    "name": "ipython",
    "version": 3
   },
   "file_extension": ".py",
   "mimetype": "text/x-python",
   "name": "python",
   "nbconvert_exporter": "python",
   "pygments_lexer": "ipython3",
   "version": "3.6.8"
  },
  "varInspector": {
   "cols": {
    "lenName": 16,
    "lenType": 16,
    "lenVar": 40
   },
   "kernels_config": {
    "python": {
     "delete_cmd_postfix": "",
     "delete_cmd_prefix": "del ",
     "library": "var_list.py",
     "varRefreshCmd": "print(var_dic_list())"
    },
    "r": {
     "delete_cmd_postfix": ") ",
     "delete_cmd_prefix": "rm(",
     "library": "var_list.r",
     "varRefreshCmd": "cat(var_dic_list()) "
    }
   },
   "position": {
    "height": "858px",
    "left": "1074px",
    "right": "20px",
    "top": "-5px",
    "width": "800px"
   },
   "types_to_exclude": [
    "module",
    "function",
    "builtin_function_or_method",
    "instance",
    "_Feature"
   ],
   "window_display": false
  }
 },
 "nbformat": 4,
 "nbformat_minor": 2
}
