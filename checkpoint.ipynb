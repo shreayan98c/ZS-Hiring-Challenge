{
 "cells": [
  {
   "cell_type": "code",
   "execution_count": 1,
   "metadata": {},
   "outputs": [],
   "source": [
    "# Importing libraries\n",
    "import pandas as pd\n",
    "import numpy as np\n",
    "import matplotlib.pyplot as plt\n",
    "import seaborn as sns\n",
    "from sklearn.preprocessing import LabelEncoder\n",
    "from sklearn.preprocessing import OneHotEncoder\n",
    "from sklearn import metrics\n",
    "from sklearn.model_selection import GridSearchCV\n",
    "import random\n",
    "pd.set_option('display.max_rows', 500)\n",
    "pd.set_option('display.max_columns', 500)\n",
    "pd.set_option('display.width', 1000)"
   ]
  },
  {
   "cell_type": "code",
   "execution_count": 2,
   "metadata": {},
   "outputs": [
    {
     "name": "stderr",
     "output_type": "stream",
     "text": [
      "F:\\Installed\\Anaconda3\\envs\\tf_gpu\\lib\\site-packages\\IPython\\core\\interactiveshell.py:3049: DtypeWarning: Columns (9) have mixed types. Specify dtype option on import or set low_memory=False.\n",
      "  interactivity=interactivity, compiler=compiler, result=result)\n"
     ]
    },
    {
     "data": {
      "text/html": [
       "<div>\n",
       "<style scoped>\n",
       "    .dataframe tbody tr th:only-of-type {\n",
       "        vertical-align: middle;\n",
       "    }\n",
       "\n",
       "    .dataframe tbody tr th {\n",
       "        vertical-align: top;\n",
       "    }\n",
       "\n",
       "    .dataframe thead th {\n",
       "        text-align: right;\n",
       "    }\n",
       "</style>\n",
       "<table border=\"1\" class=\"dataframe\">\n",
       "  <thead>\n",
       "    <tr style=\"text-align: right;\">\n",
       "      <th></th>\n",
       "      <th>ID</th>\n",
       "      <th>LICENSE ID</th>\n",
       "      <th>ACCOUNT NUMBER</th>\n",
       "      <th>SITE NUMBER</th>\n",
       "      <th>LEGAL NAME</th>\n",
       "      <th>DOING BUSINESS AS NAME</th>\n",
       "      <th>ADDRESS</th>\n",
       "      <th>CITY</th>\n",
       "      <th>STATE</th>\n",
       "      <th>ZIP CODE</th>\n",
       "      <th>WARD</th>\n",
       "      <th>PRECINCT</th>\n",
       "      <th>WARD PRECINCT</th>\n",
       "      <th>POLICE DISTRICT</th>\n",
       "      <th>LICENSE CODE</th>\n",
       "      <th>LICENSE DESCRIPTION</th>\n",
       "      <th>LICENSE NUMBER</th>\n",
       "      <th>APPLICATION TYPE</th>\n",
       "      <th>APPLICATION CREATED DATE</th>\n",
       "      <th>APPLICATION REQUIREMENTS COMPLETE</th>\n",
       "      <th>PAYMENT DATE</th>\n",
       "      <th>CONDITIONAL APPROVAL</th>\n",
       "      <th>LICENSE TERM START DATE</th>\n",
       "      <th>LICENSE TERM EXPIRATION DATE</th>\n",
       "      <th>LICENSE APPROVED FOR ISSUANCE</th>\n",
       "      <th>DATE ISSUED</th>\n",
       "      <th>LICENSE STATUS CHANGE DATE</th>\n",
       "      <th>SSA</th>\n",
       "      <th>LATITUDE</th>\n",
       "      <th>LONGITUDE</th>\n",
       "      <th>LOCATION</th>\n",
       "      <th>LICENSE STATUS</th>\n",
       "    </tr>\n",
       "  </thead>\n",
       "  <tbody>\n",
       "    <tr>\n",
       "      <th>0</th>\n",
       "      <td>35342-20020816</td>\n",
       "      <td>1256593</td>\n",
       "      <td>32811</td>\n",
       "      <td>1</td>\n",
       "      <td>CARMEN CAHUE</td>\n",
       "      <td>CLAUDIA'S BRIDAL SHOP</td>\n",
       "      <td>2625 S CENTRAL PARK AVE  1</td>\n",
       "      <td>CHICAGO</td>\n",
       "      <td>IL</td>\n",
       "      <td>60623.0</td>\n",
       "      <td>22.0</td>\n",
       "      <td>28.0</td>\n",
       "      <td>22-28</td>\n",
       "      <td>10.0</td>\n",
       "      <td>1010</td>\n",
       "      <td>Limited Business License</td>\n",
       "      <td>35342.0</td>\n",
       "      <td>RENEW</td>\n",
       "      <td>NaN</td>\n",
       "      <td>2002-06-28T00:00:00</td>\n",
       "      <td>2002-08-21T00:00:00</td>\n",
       "      <td>N</td>\n",
       "      <td>2002-08-16T00:00:00</td>\n",
       "      <td>2003-08-15T00:00:00</td>\n",
       "      <td>2002-08-21T00:00:00</td>\n",
       "      <td>2006-04-11T00:00:00</td>\n",
       "      <td>NaN</td>\n",
       "      <td>25.0</td>\n",
       "      <td>41.843613</td>\n",
       "      <td>-87.714618</td>\n",
       "      <td>{'latitude': '41.843612879431845', 'longitude'...</td>\n",
       "      <td>AAI</td>\n",
       "    </tr>\n",
       "    <tr>\n",
       "      <th>1</th>\n",
       "      <td>1358463-20051116</td>\n",
       "      <td>1639294</td>\n",
       "      <td>262311</td>\n",
       "      <td>29</td>\n",
       "      <td>ISLA TROPICAL, INC.</td>\n",
       "      <td>ISLA TROPICAL</td>\n",
       "      <td>2825 W MONTROSE AVE</td>\n",
       "      <td>CHICAGO</td>\n",
       "      <td>IL</td>\n",
       "      <td>60618</td>\n",
       "      <td>33.0</td>\n",
       "      <td>23.0</td>\n",
       "      <td>33-23</td>\n",
       "      <td>17.0</td>\n",
       "      <td>1315</td>\n",
       "      <td>Mobile Food Dispenser</td>\n",
       "      <td>1358463.0</td>\n",
       "      <td>RENEW</td>\n",
       "      <td>NaN</td>\n",
       "      <td>2005-09-22T00:00:00</td>\n",
       "      <td>2005-11-03T00:00:00</td>\n",
       "      <td>N</td>\n",
       "      <td>2005-11-16T00:00:00</td>\n",
       "      <td>2006-11-15T00:00:00</td>\n",
       "      <td>2006-04-05T00:00:00</td>\n",
       "      <td>2006-06-12T00:00:00</td>\n",
       "      <td>2006-06-15T00:00:00</td>\n",
       "      <td>60.0</td>\n",
       "      <td>41.961132</td>\n",
       "      <td>-87.699626</td>\n",
       "      <td>{'latitude': '41.96113244107215', 'longitude':...</td>\n",
       "      <td>AAC</td>\n",
       "    </tr>\n",
       "    <tr>\n",
       "      <th>2</th>\n",
       "      <td>1980233-20090722</td>\n",
       "      <td>1980233</td>\n",
       "      <td>345008</td>\n",
       "      <td>1</td>\n",
       "      <td>DJS REMODELING</td>\n",
       "      <td>DJS REMODELING, INC.</td>\n",
       "      <td>1605  CLAVEY RD 1</td>\n",
       "      <td>HIGHLAND</td>\n",
       "      <td>IL</td>\n",
       "      <td>60035</td>\n",
       "      <td>NaN</td>\n",
       "      <td>NaN</td>\n",
       "      <td>NaN</td>\n",
       "      <td>NaN</td>\n",
       "      <td>1011</td>\n",
       "      <td>Home Repair</td>\n",
       "      <td>1980233.0</td>\n",
       "      <td>ISSUE</td>\n",
       "      <td>2009-06-29T00:00:00</td>\n",
       "      <td>2009-07-22T00:00:00</td>\n",
       "      <td>2009-07-22T00:00:00</td>\n",
       "      <td>N</td>\n",
       "      <td>2009-07-22T00:00:00</td>\n",
       "      <td>2011-07-15T00:00:00</td>\n",
       "      <td>2009-07-22T00:00:00</td>\n",
       "      <td>2009-07-22T00:00:00</td>\n",
       "      <td>NaN</td>\n",
       "      <td>NaN</td>\n",
       "      <td>NaN</td>\n",
       "      <td>NaN</td>\n",
       "      <td>NaN</td>\n",
       "      <td>AAI</td>\n",
       "    </tr>\n",
       "    <tr>\n",
       "      <th>3</th>\n",
       "      <td>1476582-20040211</td>\n",
       "      <td>1476582</td>\n",
       "      <td>273121</td>\n",
       "      <td>1</td>\n",
       "      <td>ALL-BRY CONSTRUCTION CO.</td>\n",
       "      <td>ALL-BRY CONSTRUCTION CO.</td>\n",
       "      <td>8  NORTH TRAIL</td>\n",
       "      <td>LEMONT</td>\n",
       "      <td>IL</td>\n",
       "      <td>60439</td>\n",
       "      <td>NaN</td>\n",
       "      <td>NaN</td>\n",
       "      <td>NaN</td>\n",
       "      <td>NaN</td>\n",
       "      <td>1010</td>\n",
       "      <td>Limited Business License</td>\n",
       "      <td>1476582.0</td>\n",
       "      <td>ISSUE</td>\n",
       "      <td>2004-02-10T00:00:00</td>\n",
       "      <td>2004-02-10T00:00:00</td>\n",
       "      <td>2004-02-10T00:00:00</td>\n",
       "      <td>N</td>\n",
       "      <td>2004-02-11T00:00:00</td>\n",
       "      <td>2005-02-15T00:00:00</td>\n",
       "      <td>2004-02-10T00:00:00</td>\n",
       "      <td>2004-02-11T00:00:00</td>\n",
       "      <td>NaN</td>\n",
       "      <td>NaN</td>\n",
       "      <td>NaN</td>\n",
       "      <td>NaN</td>\n",
       "      <td>NaN</td>\n",
       "      <td>AAI</td>\n",
       "    </tr>\n",
       "    <tr>\n",
       "      <th>4</th>\n",
       "      <td>1141408-20080516</td>\n",
       "      <td>1896750</td>\n",
       "      <td>213785</td>\n",
       "      <td>1</td>\n",
       "      <td>MCDONOUGH MECHANICAL SERVICE</td>\n",
       "      <td>MCDONOUGH MECHANICAL SERVICE</td>\n",
       "      <td>4081  JOSEPH DR</td>\n",
       "      <td>WAUKEGAN</td>\n",
       "      <td>IL</td>\n",
       "      <td>60087</td>\n",
       "      <td>NaN</td>\n",
       "      <td>NaN</td>\n",
       "      <td>NaN</td>\n",
       "      <td>NaN</td>\n",
       "      <td>1010</td>\n",
       "      <td>Limited Business License</td>\n",
       "      <td>1141408.0</td>\n",
       "      <td>RENEW</td>\n",
       "      <td>NaN</td>\n",
       "      <td>2008-03-24T00:00:00</td>\n",
       "      <td>2008-06-04T00:00:00</td>\n",
       "      <td>N</td>\n",
       "      <td>2008-05-16T00:00:00</td>\n",
       "      <td>2010-05-15T00:00:00</td>\n",
       "      <td>2008-06-04T00:00:00</td>\n",
       "      <td>2008-06-05T00:00:00</td>\n",
       "      <td>NaN</td>\n",
       "      <td>NaN</td>\n",
       "      <td>NaN</td>\n",
       "      <td>NaN</td>\n",
       "      <td>NaN</td>\n",
       "      <td>AAI</td>\n",
       "    </tr>\n",
       "  </tbody>\n",
       "</table>\n",
       "</div>"
      ],
      "text/plain": [
       "                 ID  LICENSE ID  ACCOUNT NUMBER  SITE NUMBER                    LEGAL NAME        DOING BUSINESS AS NAME                     ADDRESS      CITY STATE ZIP CODE  WARD  PRECINCT WARD PRECINCT  POLICE DISTRICT  LICENSE CODE       LICENSE DESCRIPTION  LICENSE NUMBER APPLICATION TYPE APPLICATION CREATED DATE APPLICATION REQUIREMENTS COMPLETE         PAYMENT DATE CONDITIONAL APPROVAL LICENSE TERM START DATE LICENSE TERM EXPIRATION DATE LICENSE APPROVED FOR ISSUANCE          DATE ISSUED LICENSE STATUS CHANGE DATE   SSA   LATITUDE  LONGITUDE                                           LOCATION LICENSE STATUS\n",
       "0    35342-20020816     1256593           32811            1                  CARMEN CAHUE         CLAUDIA'S BRIDAL SHOP  2625 S CENTRAL PARK AVE  1   CHICAGO    IL  60623.0  22.0      28.0         22-28             10.0          1010  Limited Business License         35342.0            RENEW                      NaN               2002-06-28T00:00:00  2002-08-21T00:00:00                    N     2002-08-16T00:00:00          2003-08-15T00:00:00           2002-08-21T00:00:00  2006-04-11T00:00:00                        NaN  25.0  41.843613 -87.714618  {'latitude': '41.843612879431845', 'longitude'...            AAI\n",
       "1  1358463-20051116     1639294          262311           29           ISLA TROPICAL, INC.                 ISLA TROPICAL         2825 W MONTROSE AVE   CHICAGO    IL    60618  33.0      23.0         33-23             17.0          1315     Mobile Food Dispenser       1358463.0            RENEW                      NaN               2005-09-22T00:00:00  2005-11-03T00:00:00                    N     2005-11-16T00:00:00          2006-11-15T00:00:00           2006-04-05T00:00:00  2006-06-12T00:00:00        2006-06-15T00:00:00  60.0  41.961132 -87.699626  {'latitude': '41.96113244107215', 'longitude':...            AAC\n",
       "2  1980233-20090722     1980233          345008            1                DJS REMODELING          DJS REMODELING, INC.           1605  CLAVEY RD 1  HIGHLAND    IL    60035   NaN       NaN           NaN              NaN          1011               Home Repair       1980233.0            ISSUE      2009-06-29T00:00:00               2009-07-22T00:00:00  2009-07-22T00:00:00                    N     2009-07-22T00:00:00          2011-07-15T00:00:00           2009-07-22T00:00:00  2009-07-22T00:00:00                        NaN   NaN        NaN        NaN                                                NaN            AAI\n",
       "3  1476582-20040211     1476582          273121            1      ALL-BRY CONSTRUCTION CO.      ALL-BRY CONSTRUCTION CO.              8  NORTH TRAIL    LEMONT    IL    60439   NaN       NaN           NaN              NaN          1010  Limited Business License       1476582.0            ISSUE      2004-02-10T00:00:00               2004-02-10T00:00:00  2004-02-10T00:00:00                    N     2004-02-11T00:00:00          2005-02-15T00:00:00           2004-02-10T00:00:00  2004-02-11T00:00:00                        NaN   NaN        NaN        NaN                                                NaN            AAI\n",
       "4  1141408-20080516     1896750          213785            1  MCDONOUGH MECHANICAL SERVICE  MCDONOUGH MECHANICAL SERVICE             4081  JOSEPH DR  WAUKEGAN    IL    60087   NaN       NaN           NaN              NaN          1010  Limited Business License       1141408.0            RENEW                      NaN               2008-03-24T00:00:00  2008-06-04T00:00:00                    N     2008-05-16T00:00:00          2010-05-15T00:00:00           2008-06-04T00:00:00  2008-06-05T00:00:00                        NaN   NaN        NaN        NaN                                                NaN            AAI"
      ]
     },
     "execution_count": 2,
     "metadata": {},
     "output_type": "execute_result"
    }
   ],
   "source": [
    "# Importing the dataset\n",
    "train_data = pd.read_csv(\"train_file.csv\")\n",
    "train_data.head()"
   ]
  },
  {
   "cell_type": "code",
   "execution_count": 3,
   "metadata": {},
   "outputs": [
    {
     "data": {
      "text/plain": [
       "(85895, 32)"
      ]
     },
     "execution_count": 3,
     "metadata": {},
     "output_type": "execute_result"
    }
   ],
   "source": [
    "train_data.shape"
   ]
  },
  {
   "cell_type": "code",
   "execution_count": 4,
   "metadata": {},
   "outputs": [
    {
     "data": {
      "text/html": [
       "<div>\n",
       "<style scoped>\n",
       "    .dataframe tbody tr th:only-of-type {\n",
       "        vertical-align: middle;\n",
       "    }\n",
       "\n",
       "    .dataframe tbody tr th {\n",
       "        vertical-align: top;\n",
       "    }\n",
       "\n",
       "    .dataframe thead th {\n",
       "        text-align: right;\n",
       "    }\n",
       "</style>\n",
       "<table border=\"1\" class=\"dataframe\">\n",
       "  <thead>\n",
       "    <tr style=\"text-align: right;\">\n",
       "      <th></th>\n",
       "      <th>ID</th>\n",
       "      <th>LICENSE ID</th>\n",
       "      <th>ACCOUNT NUMBER</th>\n",
       "      <th>SITE NUMBER</th>\n",
       "      <th>LEGAL NAME</th>\n",
       "      <th>DOING BUSINESS AS NAME</th>\n",
       "      <th>ADDRESS</th>\n",
       "      <th>CITY</th>\n",
       "      <th>STATE</th>\n",
       "      <th>ZIP CODE</th>\n",
       "      <th>WARD</th>\n",
       "      <th>PRECINCT</th>\n",
       "      <th>WARD PRECINCT</th>\n",
       "      <th>POLICE DISTRICT</th>\n",
       "      <th>LICENSE CODE</th>\n",
       "      <th>LICENSE DESCRIPTION</th>\n",
       "      <th>LICENSE NUMBER</th>\n",
       "      <th>APPLICATION TYPE</th>\n",
       "      <th>APPLICATION CREATED DATE</th>\n",
       "      <th>APPLICATION REQUIREMENTS COMPLETE</th>\n",
       "      <th>PAYMENT DATE</th>\n",
       "      <th>CONDITIONAL APPROVAL</th>\n",
       "      <th>LICENSE TERM START DATE</th>\n",
       "      <th>LICENSE TERM EXPIRATION DATE</th>\n",
       "      <th>LICENSE APPROVED FOR ISSUANCE</th>\n",
       "      <th>DATE ISSUED</th>\n",
       "      <th>LICENSE STATUS CHANGE DATE</th>\n",
       "      <th>SSA</th>\n",
       "      <th>LATITUDE</th>\n",
       "      <th>LONGITUDE</th>\n",
       "      <th>LOCATION</th>\n",
       "    </tr>\n",
       "  </thead>\n",
       "  <tbody>\n",
       "    <tr>\n",
       "      <th>0</th>\n",
       "      <td>1516615-20120216</td>\n",
       "      <td>2132209</td>\n",
       "      <td>280120</td>\n",
       "      <td>1</td>\n",
       "      <td>RS HOMES I LLC</td>\n",
       "      <td>RS HOMES I LLC</td>\n",
       "      <td>350 W HUBBARD ST 3 300</td>\n",
       "      <td>CHICAGO</td>\n",
       "      <td>IL</td>\n",
       "      <td>60610.0</td>\n",
       "      <td>42.0</td>\n",
       "      <td>67.0</td>\n",
       "      <td>42-67</td>\n",
       "      <td>18.0</td>\n",
       "      <td>1020</td>\n",
       "      <td>Residential Real Estate Developer</td>\n",
       "      <td>1516615.0</td>\n",
       "      <td>RENEW</td>\n",
       "      <td>NaN</td>\n",
       "      <td>2011-12-15T00:00:00</td>\n",
       "      <td>2012-01-19T00:00:00</td>\n",
       "      <td>N</td>\n",
       "      <td>2012-02-16T00:00:00</td>\n",
       "      <td>2014-02-15T00:00:00</td>\n",
       "      <td>2012-01-19T00:00:00</td>\n",
       "      <td>2012-01-20T00:00:00</td>\n",
       "      <td>2012-12-29T00:00:00</td>\n",
       "      <td>NaN</td>\n",
       "      <td>41.890047</td>\n",
       "      <td>-87.637467</td>\n",
       "      <td>{'latitude': '41.89004724888915', 'longitude':...</td>\n",
       "    </tr>\n",
       "    <tr>\n",
       "      <th>1</th>\n",
       "      <td>69813-20110616</td>\n",
       "      <td>2090759</td>\n",
       "      <td>65043</td>\n",
       "      <td>1</td>\n",
       "      <td>CSX INTERMODAL INC</td>\n",
       "      <td>CSX INTERMODAL</td>\n",
       "      <td>2101 W 59TH ST 1ST</td>\n",
       "      <td>CHICAGO</td>\n",
       "      <td>IL</td>\n",
       "      <td>60636.0</td>\n",
       "      <td>16.0</td>\n",
       "      <td>5.0</td>\n",
       "      <td>16-5</td>\n",
       "      <td>7.0</td>\n",
       "      <td>1010</td>\n",
       "      <td>Limited Business License</td>\n",
       "      <td>69813.0</td>\n",
       "      <td>RENEW</td>\n",
       "      <td>NaN</td>\n",
       "      <td>2011-04-15T00:00:00</td>\n",
       "      <td>2012-11-02T00:00:00</td>\n",
       "      <td>N</td>\n",
       "      <td>2011-06-16T00:00:00</td>\n",
       "      <td>2013-06-15T00:00:00</td>\n",
       "      <td>2012-11-02T00:00:00</td>\n",
       "      <td>2012-11-05T00:00:00</td>\n",
       "      <td>2012-12-29T00:00:00</td>\n",
       "      <td>NaN</td>\n",
       "      <td>41.786485</td>\n",
       "      <td>-87.676665</td>\n",
       "      <td>{'latitude': '41.786485235679486', 'longitude'...</td>\n",
       "    </tr>\n",
       "    <tr>\n",
       "      <th>2</th>\n",
       "      <td>1519227-20041116</td>\n",
       "      <td>1541990</td>\n",
       "      <td>281270</td>\n",
       "      <td>1</td>\n",
       "      <td>LOCOMIBILE  LOFTS LLC</td>\n",
       "      <td>LOCOMOBILE LOFTS LLC</td>\n",
       "      <td>1133 S WABASH AVE 1ST</td>\n",
       "      <td>CHICAGO</td>\n",
       "      <td>IL</td>\n",
       "      <td>60605.0</td>\n",
       "      <td>4.0</td>\n",
       "      <td>8.0</td>\n",
       "      <td>4-8</td>\n",
       "      <td>1.0</td>\n",
       "      <td>1020</td>\n",
       "      <td>Residential Real Estate Developer</td>\n",
       "      <td>1519227.0</td>\n",
       "      <td>RENEW</td>\n",
       "      <td>NaN</td>\n",
       "      <td>2004-09-27T00:00:00</td>\n",
       "      <td>2004-12-06T00:00:00</td>\n",
       "      <td>N</td>\n",
       "      <td>2004-11-16T00:00:00</td>\n",
       "      <td>2005-11-15T00:00:00</td>\n",
       "      <td>2004-12-06T00:00:00</td>\n",
       "      <td>2004-12-07T00:00:00</td>\n",
       "      <td>NaN</td>\n",
       "      <td>NaN</td>\n",
       "      <td>41.868269</td>\n",
       "      <td>-87.625695</td>\n",
       "      <td>{'latitude': '41.86826924843568', 'longitude':...</td>\n",
       "    </tr>\n",
       "    <tr>\n",
       "      <th>3</th>\n",
       "      <td>1922025-20100816</td>\n",
       "      <td>2041053</td>\n",
       "      <td>335243</td>\n",
       "      <td>1</td>\n",
       "      <td>ANNA F. JAMISON</td>\n",
       "      <td>ANNA F. JAMISON</td>\n",
       "      <td>13156 S FORRESTVILLE AVE</td>\n",
       "      <td>CHICAGO</td>\n",
       "      <td>IL</td>\n",
       "      <td>60827.0</td>\n",
       "      <td>9.0</td>\n",
       "      <td>33.0</td>\n",
       "      <td>9-33</td>\n",
       "      <td>5.0</td>\n",
       "      <td>1607</td>\n",
       "      <td>Peddler, non-food, special</td>\n",
       "      <td>1922025.0</td>\n",
       "      <td>RENEW</td>\n",
       "      <td>NaN</td>\n",
       "      <td>2010-06-15T00:00:00</td>\n",
       "      <td>2010-11-04T00:00:00</td>\n",
       "      <td>N</td>\n",
       "      <td>2010-08-16T00:00:00</td>\n",
       "      <td>2012-08-15T00:00:00</td>\n",
       "      <td>NaN</td>\n",
       "      <td>2010-11-04T00:00:00</td>\n",
       "      <td>2012-12-31T00:00:00</td>\n",
       "      <td>NaN</td>\n",
       "      <td>41.655762</td>\n",
       "      <td>-87.608686</td>\n",
       "      <td>{'latitude': '41.65576175146191', 'longitude':...</td>\n",
       "    </tr>\n",
       "    <tr>\n",
       "      <th>4</th>\n",
       "      <td>1675683-20070816</td>\n",
       "      <td>1837158</td>\n",
       "      <td>283018</td>\n",
       "      <td>3</td>\n",
       "      <td>MARINCA A. COVARRUBIAS</td>\n",
       "      <td>DETAILS</td>\n",
       "      <td>4208 S ARCHER AVE</td>\n",
       "      <td>CHICAGO</td>\n",
       "      <td>IL</td>\n",
       "      <td>60632.0</td>\n",
       "      <td>15.0</td>\n",
       "      <td>26.0</td>\n",
       "      <td>15-26</td>\n",
       "      <td>9.0</td>\n",
       "      <td>1010</td>\n",
       "      <td>Limited Business License</td>\n",
       "      <td>1675683.0</td>\n",
       "      <td>RENEW</td>\n",
       "      <td>NaN</td>\n",
       "      <td>2007-06-21T00:00:00</td>\n",
       "      <td>2007-08-15T00:00:00</td>\n",
       "      <td>N</td>\n",
       "      <td>2007-08-16T00:00:00</td>\n",
       "      <td>2009-06-15T00:00:00</td>\n",
       "      <td>2007-08-15T00:00:00</td>\n",
       "      <td>2007-08-16T00:00:00</td>\n",
       "      <td>2008-03-26T00:00:00</td>\n",
       "      <td>39.0</td>\n",
       "      <td>41.816969</td>\n",
       "      <td>-87.699785</td>\n",
       "      <td>{'latitude': '41.81696910012824', 'longitude':...</td>\n",
       "    </tr>\n",
       "  </tbody>\n",
       "</table>\n",
       "</div>"
      ],
      "text/plain": [
       "                 ID  LICENSE ID  ACCOUNT NUMBER  SITE NUMBER              LEGAL NAME DOING BUSINESS AS NAME                   ADDRESS     CITY STATE  ZIP CODE  WARD  PRECINCT WARD PRECINCT  POLICE DISTRICT  LICENSE CODE                LICENSE DESCRIPTION  LICENSE NUMBER APPLICATION TYPE APPLICATION CREATED DATE APPLICATION REQUIREMENTS COMPLETE         PAYMENT DATE CONDITIONAL APPROVAL LICENSE TERM START DATE LICENSE TERM EXPIRATION DATE LICENSE APPROVED FOR ISSUANCE          DATE ISSUED LICENSE STATUS CHANGE DATE   SSA   LATITUDE  LONGITUDE                                           LOCATION\n",
       "0  1516615-20120216     2132209          280120            1          RS HOMES I LLC         RS HOMES I LLC    350 W HUBBARD ST 3 300  CHICAGO    IL   60610.0  42.0      67.0         42-67             18.0          1020  Residential Real Estate Developer       1516615.0            RENEW                      NaN               2011-12-15T00:00:00  2012-01-19T00:00:00                    N     2012-02-16T00:00:00          2014-02-15T00:00:00           2012-01-19T00:00:00  2012-01-20T00:00:00        2012-12-29T00:00:00   NaN  41.890047 -87.637467  {'latitude': '41.89004724888915', 'longitude':...\n",
       "1    69813-20110616     2090759           65043            1      CSX INTERMODAL INC         CSX INTERMODAL        2101 W 59TH ST 1ST  CHICAGO    IL   60636.0  16.0       5.0          16-5              7.0          1010           Limited Business License         69813.0            RENEW                      NaN               2011-04-15T00:00:00  2012-11-02T00:00:00                    N     2011-06-16T00:00:00          2013-06-15T00:00:00           2012-11-02T00:00:00  2012-11-05T00:00:00        2012-12-29T00:00:00   NaN  41.786485 -87.676665  {'latitude': '41.786485235679486', 'longitude'...\n",
       "2  1519227-20041116     1541990          281270            1   LOCOMIBILE  LOFTS LLC   LOCOMOBILE LOFTS LLC     1133 S WABASH AVE 1ST  CHICAGO    IL   60605.0   4.0       8.0           4-8              1.0          1020  Residential Real Estate Developer       1519227.0            RENEW                      NaN               2004-09-27T00:00:00  2004-12-06T00:00:00                    N     2004-11-16T00:00:00          2005-11-15T00:00:00           2004-12-06T00:00:00  2004-12-07T00:00:00                        NaN   NaN  41.868269 -87.625695  {'latitude': '41.86826924843568', 'longitude':...\n",
       "3  1922025-20100816     2041053          335243            1         ANNA F. JAMISON        ANNA F. JAMISON  13156 S FORRESTVILLE AVE  CHICAGO    IL   60827.0   9.0      33.0          9-33              5.0          1607         Peddler, non-food, special       1922025.0            RENEW                      NaN               2010-06-15T00:00:00  2010-11-04T00:00:00                    N     2010-08-16T00:00:00          2012-08-15T00:00:00                           NaN  2010-11-04T00:00:00        2012-12-31T00:00:00   NaN  41.655762 -87.608686  {'latitude': '41.65576175146191', 'longitude':...\n",
       "4  1675683-20070816     1837158          283018            3  MARINCA A. COVARRUBIAS                DETAILS         4208 S ARCHER AVE  CHICAGO    IL   60632.0  15.0      26.0         15-26              9.0          1010           Limited Business License       1675683.0            RENEW                      NaN               2007-06-21T00:00:00  2007-08-15T00:00:00                    N     2007-08-16T00:00:00          2009-06-15T00:00:00           2007-08-15T00:00:00  2007-08-16T00:00:00        2008-03-26T00:00:00  39.0  41.816969 -87.699785  {'latitude': '41.81696910012824', 'longitude':..."
      ]
     },
     "execution_count": 4,
     "metadata": {},
     "output_type": "execute_result"
    }
   ],
   "source": [
    "# Importing the dataset\n",
    "test_data = pd.read_csv(\"test_file.csv\")\n",
    "test_data.head()"
   ]
  },
  {
   "cell_type": "code",
   "execution_count": 5,
   "metadata": {},
   "outputs": [
    {
     "data": {
      "text/plain": [
       "(57239, 31)"
      ]
     },
     "execution_count": 5,
     "metadata": {},
     "output_type": "execute_result"
    }
   ],
   "source": [
    "test_data.shape"
   ]
  },
  {
   "cell_type": "code",
   "execution_count": 6,
   "metadata": {},
   "outputs": [
    {
     "name": "stdout",
     "output_type": "stream",
     "text": [
      "ID                                       0\n",
      "LICENSE ID                               0\n",
      "ACCOUNT NUMBER                           0\n",
      "SITE NUMBER                              0\n",
      "LEGAL NAME                               0\n",
      "DOING BUSINESS AS NAME                   1\n",
      "ADDRESS                                  0\n",
      "CITY                                     0\n",
      "STATE                                    0\n",
      "ZIP CODE                                31\n",
      "WARD                                 49701\n",
      "PRECINCT                             56701\n",
      "WARD PRECINCT                        49700\n",
      "POLICE DISTRICT                      54012\n",
      "LICENSE CODE                             0\n",
      "LICENSE DESCRIPTION                      0\n",
      "LICENSE NUMBER                           1\n",
      "APPLICATION TYPE                         0\n",
      "APPLICATION CREATED DATE             64660\n",
      "APPLICATION REQUIREMENTS COMPLETE      214\n",
      "PAYMENT DATE                          1289\n",
      "CONDITIONAL APPROVAL                     0\n",
      "LICENSE TERM START DATE                228\n",
      "LICENSE TERM EXPIRATION DATE            18\n",
      "LICENSE APPROVED FOR ISSUANCE         6789\n",
      "DATE ISSUED                              0\n",
      "LICENSE STATUS CHANGE DATE           55400\n",
      "SSA                                  76446\n",
      "LATITUDE                             47246\n",
      "LONGITUDE                            47246\n",
      "LOCATION                             47246\n",
      "LICENSE STATUS                           0\n",
      "dtype: int64\n"
     ]
    }
   ],
   "source": [
    "# Check for any other unusable (NaN) values\n",
    "print(pd.isnull(train_data).sum())"
   ]
  },
  {
   "cell_type": "code",
   "execution_count": 7,
   "metadata": {},
   "outputs": [
    {
     "name": "stdout",
     "output_type": "stream",
     "text": [
      "ID                                       0\n",
      "LICENSE ID                               0\n",
      "ACCOUNT NUMBER                           0\n",
      "SITE NUMBER                              0\n",
      "LEGAL NAME                               0\n",
      "DOING BUSINESS AS NAME                   2\n",
      "ADDRESS                                  0\n",
      "CITY                                     0\n",
      "STATE                                    0\n",
      "ZIP CODE                                12\n",
      "WARD                                   626\n",
      "PRECINCT                              1578\n",
      "WARD PRECINCT                          616\n",
      "POLICE DISTRICT                       1475\n",
      "LICENSE CODE                             0\n",
      "LICENSE DESCRIPTION                      0\n",
      "LICENSE NUMBER                           0\n",
      "APPLICATION TYPE                         0\n",
      "APPLICATION CREATED DATE             44587\n",
      "APPLICATION REQUIREMENTS COMPLETE      428\n",
      "PAYMENT DATE                          1051\n",
      "CONDITIONAL APPROVAL                     0\n",
      "LICENSE TERM START DATE                118\n",
      "LICENSE TERM EXPIRATION DATE             6\n",
      "LICENSE APPROVED FOR ISSUANCE         2379\n",
      "DATE ISSUED                              0\n",
      "LICENSE STATUS CHANGE DATE           23246\n",
      "SSA                                  41331\n",
      "LATITUDE                               910\n",
      "LONGITUDE                              910\n",
      "LOCATION                               910\n",
      "dtype: int64\n"
     ]
    }
   ],
   "source": [
    "# Check for any other unusable (NaN) values\n",
    "print(pd.isnull(test_data).sum())"
   ]
  },
  {
   "cell_type": "code",
   "execution_count": 8,
   "metadata": {},
   "outputs": [
    {
     "data": {
      "text/html": [
       "<div>\n",
       "<style scoped>\n",
       "    .dataframe tbody tr th:only-of-type {\n",
       "        vertical-align: middle;\n",
       "    }\n",
       "\n",
       "    .dataframe tbody tr th {\n",
       "        vertical-align: top;\n",
       "    }\n",
       "\n",
       "    .dataframe thead th {\n",
       "        text-align: right;\n",
       "    }\n",
       "</style>\n",
       "<table border=\"1\" class=\"dataframe\">\n",
       "  <thead>\n",
       "    <tr style=\"text-align: right;\">\n",
       "      <th></th>\n",
       "      <th>ID</th>\n",
       "    </tr>\n",
       "  </thead>\n",
       "  <tbody>\n",
       "    <tr>\n",
       "      <th>0</th>\n",
       "      <td>1516615-20120216</td>\n",
       "    </tr>\n",
       "    <tr>\n",
       "      <th>1</th>\n",
       "      <td>69813-20110616</td>\n",
       "    </tr>\n",
       "    <tr>\n",
       "      <th>2</th>\n",
       "      <td>1519227-20041116</td>\n",
       "    </tr>\n",
       "    <tr>\n",
       "      <th>3</th>\n",
       "      <td>1922025-20100816</td>\n",
       "    </tr>\n",
       "    <tr>\n",
       "      <th>4</th>\n",
       "      <td>1675683-20070816</td>\n",
       "    </tr>\n",
       "  </tbody>\n",
       "</table>\n",
       "</div>"
      ],
      "text/plain": [
       "                 ID\n",
       "0  1516615-20120216\n",
       "1    69813-20110616\n",
       "2  1519227-20041116\n",
       "3  1922025-20100816\n",
       "4  1675683-20070816"
      ]
     },
     "execution_count": 8,
     "metadata": {},
     "output_type": "execute_result"
    }
   ],
   "source": [
    "my_submission = pd.DataFrame({'ID': test_data.ID})\n",
    "my_submission.head()"
   ]
  },
  {
   "cell_type": "code",
   "execution_count": 9,
   "metadata": {},
   "outputs": [
    {
     "data": {
      "text/plain": [
       "57239"
      ]
     },
     "execution_count": 9,
     "metadata": {},
     "output_type": "execute_result"
    }
   ],
   "source": [
    "my_submission['ID'].count()"
   ]
  },
  {
   "cell_type": "code",
   "execution_count": 10,
   "metadata": {},
   "outputs": [
    {
     "data": {
      "text/plain": [
       "(57239, 1)"
      ]
     },
     "execution_count": 10,
     "metadata": {},
     "output_type": "execute_result"
    }
   ],
   "source": [
    "my_submission.shape"
   ]
  },
  {
   "cell_type": "code",
   "execution_count": 11,
   "metadata": {},
   "outputs": [
    {
     "data": {
      "text/plain": [
       "Index(['ID', 'LICENSE ID', 'ACCOUNT NUMBER', 'SITE NUMBER', 'LEGAL NAME', 'DOING BUSINESS AS NAME', 'ADDRESS', 'CITY', 'STATE', 'ZIP CODE', 'WARD', 'PRECINCT', 'WARD PRECINCT', 'POLICE DISTRICT', 'LICENSE CODE', 'LICENSE DESCRIPTION', 'LICENSE NUMBER', 'APPLICATION TYPE', 'APPLICATION CREATED DATE', 'APPLICATION REQUIREMENTS COMPLETE', 'PAYMENT DATE', 'CONDITIONAL APPROVAL', 'LICENSE TERM START DATE', 'LICENSE TERM EXPIRATION DATE', 'LICENSE APPROVED FOR ISSUANCE', 'DATE ISSUED', 'LICENSE STATUS CHANGE DATE', 'SSA', 'LATITUDE', 'LONGITUDE', 'LOCATION', 'LICENSE STATUS'], dtype='object')"
      ]
     },
     "execution_count": 11,
     "metadata": {},
     "output_type": "execute_result"
    }
   ],
   "source": [
    "train_data.columns"
   ]
  },
  {
   "cell_type": "code",
   "execution_count": 12,
   "metadata": {},
   "outputs": [
    {
     "data": {
      "text/plain": [
       "AAI    55400\n",
       "AAC    30200\n",
       "REV      290\n",
       "REA        3\n",
       "INQ        2\n",
       "Name: LICENSE STATUS, dtype: int64"
      ]
     },
     "execution_count": 12,
     "metadata": {},
     "output_type": "execute_result"
    }
   ],
   "source": [
    "# Studying the target variable\n",
    "train_data['LICENSE STATUS'].value_counts()"
   ]
  },
  {
   "cell_type": "code",
   "execution_count": 13,
   "metadata": {},
   "outputs": [
    {
     "data": {
      "image/png": "[encoded data removed]",
      "text/plain": [
       "<Figure size 432x288 with 1 Axes>"
      ]
     },
     "metadata": {
      "needs_background": "light"
     },
     "output_type": "display_data"
    }
   ],
   "source": [
    "plt.title('Distribution of target variable')\n",
    "sns.countplot(train_data['LICENSE STATUS'])\n",
    "plt.show()"
   ]
  },
  {
   "cell_type": "code",
   "execution_count": 14,
   "metadata": {},
   "outputs": [
    {
     "data": {
      "text/plain": [
       "ID                                   85895\n",
       "LICENSE ID                           85895\n",
       "ACCOUNT NUMBER                       38897\n",
       "SITE NUMBER                            177\n",
       "LEGAL NAME                           38744\n",
       "DOING BUSINESS AS NAME               41686\n",
       "ADDRESS                              42146\n",
       "CITY                                  1223\n",
       "STATE                                   54\n",
       "ZIP CODE                              2456\n",
       "WARD                                    50\n",
       "PRECINCT                                76\n",
       "WARD PRECINCT                         2383\n",
       "POLICE DISTRICT                         28\n",
       "LICENSE CODE                           106\n",
       "LICENSE DESCRIPTION                    106\n",
       "LICENSE NUMBER                       49768\n",
       "APPLICATION TYPE                         5\n",
       "APPLICATION CREATED DATE              2899\n",
       "APPLICATION REQUIREMENTS COMPLETE     3078\n",
       "PAYMENT DATE                          4356\n",
       "CONDITIONAL APPROVAL                     2\n",
       "LICENSE TERM START DATE               2825\n",
       "LICENSE TERM EXPIRATION DATE           297\n",
       "LICENSE APPROVED FOR ISSUANCE         4223\n",
       "DATE ISSUED                           3498\n",
       "LICENSE STATUS CHANGE DATE            3152\n",
       "SSA                                     53\n",
       "LATITUDE                             21386\n",
       "LONGITUDE                            21388\n",
       "LOCATION                             21388\n",
       "LICENSE STATUS                           5\n",
       "dtype: int64"
      ]
     },
     "execution_count": 14,
     "metadata": {},
     "output_type": "execute_result"
    }
   ],
   "source": [
    "# Identifying the unique number of values in the dataset\n",
    "train_data.nunique()"
   ]
  },
  {
   "cell_type": "code",
   "execution_count": 15,
   "metadata": {},
   "outputs": [],
   "source": [
    "# Dropping columns which will be of no use for our model\n",
    "\n",
    "train_data = train_data.drop(['LICENSE ID'], axis = 1)\n",
    "test_data = test_data.drop(['LICENSE ID'], axis = 1)\n",
    "\n",
    "train_data = train_data.drop(['ID'], axis = 1)\n",
    "test_data = test_data.drop(['ID'], axis = 1)\n",
    "\n",
    "train_data = train_data.drop(['ADDRESS'], axis = 1)\n",
    "test_data = test_data.drop(['ADDRESS'], axis = 1)\n",
    "\n",
    "train_data = train_data.drop(['STATE'], axis = 1)\n",
    "test_data = test_data.drop(['STATE'], axis = 1)\n",
    "\n",
    "train_data = train_data.drop(['LICENSE NUMBER'], axis = 1)\n",
    "test_data = test_data.drop(['LICENSE NUMBER'], axis = 1)\n",
    "\n",
    "train_data = train_data.drop(['APPLICATION CREATED DATE'], axis = 1)\n",
    "test_data = test_data.drop(['APPLICATION CREATED DATE'], axis = 1)\n",
    "\n",
    "train_data = train_data.drop(['LOCATION'], axis = 1)\n",
    "test_data = test_data.drop(['LOCATION'], axis = 1)\n",
    "\n",
    "train_data = train_data.drop(['LICENSE STATUS CHANGE DATE'], axis = 1)\n",
    "test_data = test_data.drop(['LICENSE STATUS CHANGE DATE'], axis = 1)\n",
    "\n",
    "train_data = train_data.drop(['WARD PRECINCT'], axis = 1)\n",
    "test_data = test_data.drop(['WARD PRECINCT'], axis = 1)\n",
    "\n",
    "train_data = train_data.drop(['LATITUDE'], axis = 1)\n",
    "test_data = test_data.drop(['LATITUDE'], axis = 1)\n",
    "\n",
    "train_data = train_data.drop(['LONGITUDE'], axis = 1)\n",
    "test_data = test_data.drop(['LONGITUDE'], axis = 1)"
   ]
  },
  {
   "cell_type": "code",
   "execution_count": 16,
   "metadata": {},
   "outputs": [
    {
     "data": {
      "image/png": "[encoded data removed]",
      "text/plain": [
       "<Figure size 1800x720 with 2 Axes>"
      ]
     },
     "metadata": {
      "needs_background": "light"
     },
     "output_type": "display_data"
    }
   ],
   "source": [
    "import missingno as msno\n",
    "# Missing data in form of white lines \n",
    "msno.matrix(train_data)\n",
    "plt.show()"
   ]
  },
  {
   "cell_type": "code",
   "execution_count": 17,
   "metadata": {},
   "outputs": [],
   "source": [
    "train_data['PAYMENT DATE'] = pd.to_datetime(train_data['PAYMENT DATE'])\n",
    "train_data['APPLICATION REQUIREMENTS COMPLETE'] = pd.to_datetime(train_data['APPLICATION REQUIREMENTS COMPLETE'])\n",
    "train_data['LICENSE TERM EXPIRATION DATE'] = pd.to_datetime(train_data['LICENSE TERM EXPIRATION DATE'])\n",
    "train_data['LICENSE TERM START DATE'] = pd.to_datetime(train_data['LICENSE TERM START DATE'])\n",
    "train_data['DATE ISSUED'] = pd.to_datetime(train_data['DATE ISSUED'])\n",
    "train_data['LICENSE APPROVED FOR ISSUANCE'] = pd.to_datetime(train_data['LICENSE APPROVED FOR ISSUANCE'])"
   ]
  },
  {
   "cell_type": "code",
   "execution_count": 18,
   "metadata": {},
   "outputs": [],
   "source": [
    "test_data['PAYMENT DATE'] = pd.to_datetime(test_data['PAYMENT DATE'])\n",
    "test_data['APPLICATION REQUIREMENTS COMPLETE'] = pd.to_datetime(test_data['APPLICATION REQUIREMENTS COMPLETE'])\n",
    "test_data['LICENSE TERM EXPIRATION DATE'] = pd.to_datetime(test_data['LICENSE TERM EXPIRATION DATE'])\n",
    "test_data['LICENSE TERM START DATE'] = pd.to_datetime(test_data['LICENSE TERM START DATE'])\n",
    "test_data['DATE ISSUED'] = pd.to_datetime(test_data['DATE ISSUED'])\n",
    "test_data['LICENSE APPROVED FOR ISSUANCE'] = pd.to_datetime(test_data['LICENSE APPROVED FOR ISSUANCE'])"
   ]
  },
  {
   "cell_type": "code",
   "execution_count": 19,
   "metadata": {},
   "outputs": [],
   "source": [
    "train_data['PAYMENT YEAR'] = train_data['PAYMENT DATE'].apply(lambda x: x.year)"
   ]
  },
  {
   "cell_type": "code",
   "execution_count": 20,
   "metadata": {},
   "outputs": [],
   "source": [
    "test_data['PAYMENT YEAR'] = test_data['PAYMENT DATE'].apply(lambda x: x.year)"
   ]
  },
  {
   "cell_type": "code",
   "execution_count": 21,
   "metadata": {},
   "outputs": [],
   "source": [
    "train_data = train_data.drop(['PAYMENT DATE'], axis = 1)"
   ]
  },
  {
   "cell_type": "code",
   "execution_count": 22,
   "metadata": {},
   "outputs": [],
   "source": [
    "test_data = test_data.drop(['PAYMENT DATE'], axis = 1)"
   ]
  },
  {
   "cell_type": "code",
   "execution_count": 23,
   "metadata": {},
   "outputs": [],
   "source": [
    "train_data['APPLICATION REQUIREMENTS COMPLETE YEAR'] = train_data['APPLICATION REQUIREMENTS COMPLETE'].apply(lambda x: x.year)"
   ]
  },
  {
   "cell_type": "code",
   "execution_count": 24,
   "metadata": {},
   "outputs": [],
   "source": [
    "test_data['APPLICATION REQUIREMENTS COMPLETE YEAR'] = test_data['APPLICATION REQUIREMENTS COMPLETE'].apply(lambda x: x.year)"
   ]
  },
  {
   "cell_type": "code",
   "execution_count": 25,
   "metadata": {},
   "outputs": [],
   "source": [
    "train_data = train_data.drop(['APPLICATION REQUIREMENTS COMPLETE'], axis = 1)"
   ]
  },
  {
   "cell_type": "code",
   "execution_count": 26,
   "metadata": {},
   "outputs": [],
   "source": [
    "test_data = test_data.drop(['APPLICATION REQUIREMENTS COMPLETE'], axis = 1)"
   ]
  },
  {
   "cell_type": "code",
   "execution_count": 27,
   "metadata": {},
   "outputs": [],
   "source": [
    "train_data['DATE ISSUED YEAR'] = train_data['DATE ISSUED'].apply(lambda x: x.year)"
   ]
  },
  {
   "cell_type": "code",
   "execution_count": 28,
   "metadata": {},
   "outputs": [],
   "source": [
    "test_data['DATE ISSUED YEAR'] = test_data['DATE ISSUED'].apply(lambda x: x.year)"
   ]
  },
  {
   "cell_type": "code",
   "execution_count": 29,
   "metadata": {},
   "outputs": [],
   "source": [
    "train_data = train_data.drop(['DATE ISSUED'], axis = 1)"
   ]
  },
  {
   "cell_type": "code",
   "execution_count": 30,
   "metadata": {},
   "outputs": [],
   "source": [
    "test_data = test_data.drop(['DATE ISSUED'], axis = 1)"
   ]
  },
  {
   "cell_type": "code",
   "execution_count": 31,
   "metadata": {},
   "outputs": [],
   "source": [
    "train_data['LICENSE TERM EXPIRATION YEAR'] = train_data['LICENSE TERM EXPIRATION DATE'].apply(lambda x: x.year)\n",
    "train_data['LICENSE TERM START YEAR'] = train_data['LICENSE TERM START DATE'].apply(lambda x: x.year)"
   ]
  },
  {
   "cell_type": "code",
   "execution_count": 32,
   "metadata": {},
   "outputs": [],
   "source": [
    "test_data['LICENSE TERM EXPIRATION YEAR'] = test_data['LICENSE TERM EXPIRATION DATE'].apply(lambda x: x.year)\n",
    "test_data['LICENSE TERM START YEAR'] = test_data['LICENSE TERM START DATE'].apply(lambda x: x.year)"
   ]
  },
  {
   "cell_type": "code",
   "execution_count": 33,
   "metadata": {},
   "outputs": [],
   "source": [
    "train_data['LICENSE TERM EXPIRATION YEAR'] = train_data['LICENSE TERM EXPIRATION YEAR'].fillna(round(train_data['LICENSE TERM EXPIRATION YEAR'].mean()))"
   ]
  },
  {
   "cell_type": "code",
   "execution_count": 34,
   "metadata": {},
   "outputs": [],
   "source": [
    "test_data['LICENSE TERM EXPIRATION YEAR'] = test_data['LICENSE TERM EXPIRATION YEAR'].fillna(round(test_data['LICENSE TERM EXPIRATION YEAR'].mean()))"
   ]
  },
  {
   "cell_type": "code",
   "execution_count": 35,
   "metadata": {},
   "outputs": [],
   "source": [
    "train_data['LICENSE TERM START YEAR'] = train_data['LICENSE TERM START YEAR'].fillna(round(train_data['LICENSE TERM START YEAR'].mean()))"
   ]
  },
  {
   "cell_type": "code",
   "execution_count": 36,
   "metadata": {},
   "outputs": [],
   "source": [
    "test_data['LICENSE TERM START YEAR'] = test_data['LICENSE TERM START YEAR'].fillna(round(test_data['LICENSE TERM START YEAR'].mean()))"
   ]
  },
  {
   "cell_type": "code",
   "execution_count": 37,
   "metadata": {},
   "outputs": [],
   "source": [
    "train_data['LICENSE VALIDITY'] = abs(train_data['LICENSE TERM EXPIRATION YEAR'] - train_data['LICENSE TERM START YEAR'])"
   ]
  },
  {
   "cell_type": "code",
   "execution_count": 38,
   "metadata": {},
   "outputs": [],
   "source": [
    "test_data['LICENSE VALIDITY'] = abs(test_data['LICENSE TERM EXPIRATION YEAR'] - test_data['LICENSE TERM START YEAR'])"
   ]
  },
  {
   "cell_type": "code",
   "execution_count": 39,
   "metadata": {},
   "outputs": [],
   "source": [
    "train_data = train_data.drop(['LICENSE TERM EXPIRATION DATE'], axis = 1)\n",
    "train_data = train_data.drop(['LICENSE TERM EXPIRATION YEAR'], axis = 1)"
   ]
  },
  {
   "cell_type": "code",
   "execution_count": 40,
   "metadata": {},
   "outputs": [],
   "source": [
    "test_data = test_data.drop(['LICENSE TERM EXPIRATION DATE'], axis = 1)\n",
    "test_data = test_data.drop(['LICENSE TERM EXPIRATION YEAR'], axis = 1)"
   ]
  },
  {
   "cell_type": "code",
   "execution_count": 41,
   "metadata": {},
   "outputs": [],
   "source": [
    "train_data = train_data.drop(['LICENSE TERM START DATE'], axis = 1)\n",
    "train_data = train_data.drop(['LICENSE TERM START YEAR'], axis = 1)"
   ]
  },
  {
   "cell_type": "code",
   "execution_count": 42,
   "metadata": {},
   "outputs": [],
   "source": [
    "test_data = test_data.drop(['LICENSE TERM START DATE'], axis = 1)\n",
    "test_data = test_data.drop(['LICENSE TERM START YEAR'], axis = 1)"
   ]
  },
  {
   "cell_type": "code",
   "execution_count": 43,
   "metadata": {},
   "outputs": [],
   "source": [
    "train_data['LICENSE APPROVED YEAR'] = train_data['LICENSE APPROVED FOR ISSUANCE'].apply(lambda x: x.year)"
   ]
  },
  {
   "cell_type": "code",
   "execution_count": 44,
   "metadata": {},
   "outputs": [],
   "source": [
    "test_data['LICENSE APPROVED YEAR'] = test_data['LICENSE APPROVED FOR ISSUANCE'].apply(lambda x: x.year)"
   ]
  },
  {
   "cell_type": "code",
   "execution_count": 45,
   "metadata": {},
   "outputs": [],
   "source": [
    "train_data = train_data.drop(['LICENSE APPROVED FOR ISSUANCE'], axis = 1)"
   ]
  },
  {
   "cell_type": "code",
   "execution_count": 46,
   "metadata": {},
   "outputs": [],
   "source": [
    "test_data = test_data.drop(['LICENSE APPROVED FOR ISSUANCE'], axis = 1)"
   ]
  },
  {
   "cell_type": "code",
   "execution_count": 47,
   "metadata": {
    "scrolled": true
   },
   "outputs": [
    {
     "data": {
      "text/html": [
       "<div>\n",
       "<style scoped>\n",
       "    .dataframe tbody tr th:only-of-type {\n",
       "        vertical-align: middle;\n",
       "    }\n",
       "\n",
       "    .dataframe tbody tr th {\n",
       "        vertical-align: top;\n",
       "    }\n",
       "\n",
       "    .dataframe thead th {\n",
       "        text-align: right;\n",
       "    }\n",
       "</style>\n",
       "<table border=\"1\" class=\"dataframe\">\n",
       "  <thead>\n",
       "    <tr style=\"text-align: right;\">\n",
       "      <th></th>\n",
       "      <th>ACCOUNT NUMBER</th>\n",
       "      <th>SITE NUMBER</th>\n",
       "      <th>LEGAL NAME</th>\n",
       "      <th>DOING BUSINESS AS NAME</th>\n",
       "      <th>CITY</th>\n",
       "      <th>ZIP CODE</th>\n",
       "      <th>WARD</th>\n",
       "      <th>PRECINCT</th>\n",
       "      <th>POLICE DISTRICT</th>\n",
       "      <th>LICENSE CODE</th>\n",
       "      <th>LICENSE DESCRIPTION</th>\n",
       "      <th>APPLICATION TYPE</th>\n",
       "      <th>CONDITIONAL APPROVAL</th>\n",
       "      <th>SSA</th>\n",
       "      <th>LICENSE STATUS</th>\n",
       "      <th>PAYMENT YEAR</th>\n",
       "      <th>APPLICATION REQUIREMENTS COMPLETE YEAR</th>\n",
       "      <th>DATE ISSUED YEAR</th>\n",
       "      <th>LICENSE VALIDITY</th>\n",
       "      <th>LICENSE APPROVED YEAR</th>\n",
       "    </tr>\n",
       "  </thead>\n",
       "  <tbody>\n",
       "    <tr>\n",
       "      <th>0</th>\n",
       "      <td>32811</td>\n",
       "      <td>1</td>\n",
       "      <td>CARMEN CAHUE</td>\n",
       "      <td>CLAUDIA'S BRIDAL SHOP</td>\n",
       "      <td>CHICAGO</td>\n",
       "      <td>60623.0</td>\n",
       "      <td>22.0</td>\n",
       "      <td>28.0</td>\n",
       "      <td>10.0</td>\n",
       "      <td>1010</td>\n",
       "      <td>Limited Business License</td>\n",
       "      <td>RENEW</td>\n",
       "      <td>N</td>\n",
       "      <td>25.0</td>\n",
       "      <td>AAI</td>\n",
       "      <td>2002.0</td>\n",
       "      <td>2002.0</td>\n",
       "      <td>2006</td>\n",
       "      <td>1.0</td>\n",
       "      <td>2002.0</td>\n",
       "    </tr>\n",
       "    <tr>\n",
       "      <th>1</th>\n",
       "      <td>262311</td>\n",
       "      <td>29</td>\n",
       "      <td>ISLA TROPICAL, INC.</td>\n",
       "      <td>ISLA TROPICAL</td>\n",
       "      <td>CHICAGO</td>\n",
       "      <td>60618</td>\n",
       "      <td>33.0</td>\n",
       "      <td>23.0</td>\n",
       "      <td>17.0</td>\n",
       "      <td>1315</td>\n",
       "      <td>Mobile Food Dispenser</td>\n",
       "      <td>RENEW</td>\n",
       "      <td>N</td>\n",
       "      <td>60.0</td>\n",
       "      <td>AAC</td>\n",
       "      <td>2005.0</td>\n",
       "      <td>2005.0</td>\n",
       "      <td>2006</td>\n",
       "      <td>1.0</td>\n",
       "      <td>2006.0</td>\n",
       "    </tr>\n",
       "    <tr>\n",
       "      <th>2</th>\n",
       "      <td>345008</td>\n",
       "      <td>1</td>\n",
       "      <td>DJS REMODELING</td>\n",
       "      <td>DJS REMODELING, INC.</td>\n",
       "      <td>HIGHLAND</td>\n",
       "      <td>60035</td>\n",
       "      <td>NaN</td>\n",
       "      <td>NaN</td>\n",
       "      <td>NaN</td>\n",
       "      <td>1011</td>\n",
       "      <td>Home Repair</td>\n",
       "      <td>ISSUE</td>\n",
       "      <td>N</td>\n",
       "      <td>NaN</td>\n",
       "      <td>AAI</td>\n",
       "      <td>2009.0</td>\n",
       "      <td>2009.0</td>\n",
       "      <td>2009</td>\n",
       "      <td>2.0</td>\n",
       "      <td>2009.0</td>\n",
       "    </tr>\n",
       "    <tr>\n",
       "      <th>3</th>\n",
       "      <td>273121</td>\n",
       "      <td>1</td>\n",
       "      <td>ALL-BRY CONSTRUCTION CO.</td>\n",
       "      <td>ALL-BRY CONSTRUCTION CO.</td>\n",
       "      <td>LEMONT</td>\n",
       "      <td>60439</td>\n",
       "      <td>NaN</td>\n",
       "      <td>NaN</td>\n",
       "      <td>NaN</td>\n",
       "      <td>1010</td>\n",
       "      <td>Limited Business License</td>\n",
       "      <td>ISSUE</td>\n",
       "      <td>N</td>\n",
       "      <td>NaN</td>\n",
       "      <td>AAI</td>\n",
       "      <td>2004.0</td>\n",
       "      <td>2004.0</td>\n",
       "      <td>2004</td>\n",
       "      <td>1.0</td>\n",
       "      <td>2004.0</td>\n",
       "    </tr>\n",
       "    <tr>\n",
       "      <th>4</th>\n",
       "      <td>213785</td>\n",
       "      <td>1</td>\n",
       "      <td>MCDONOUGH MECHANICAL SERVICE</td>\n",
       "      <td>MCDONOUGH MECHANICAL SERVICE</td>\n",
       "      <td>WAUKEGAN</td>\n",
       "      <td>60087</td>\n",
       "      <td>NaN</td>\n",
       "      <td>NaN</td>\n",
       "      <td>NaN</td>\n",
       "      <td>1010</td>\n",
       "      <td>Limited Business License</td>\n",
       "      <td>RENEW</td>\n",
       "      <td>N</td>\n",
       "      <td>NaN</td>\n",
       "      <td>AAI</td>\n",
       "      <td>2008.0</td>\n",
       "      <td>2008.0</td>\n",
       "      <td>2008</td>\n",
       "      <td>2.0</td>\n",
       "      <td>2008.0</td>\n",
       "    </tr>\n",
       "  </tbody>\n",
       "</table>\n",
       "</div>"
      ],
      "text/plain": [
       "   ACCOUNT NUMBER  SITE NUMBER                    LEGAL NAME        DOING BUSINESS AS NAME      CITY ZIP CODE  WARD  PRECINCT  POLICE DISTRICT  LICENSE CODE       LICENSE DESCRIPTION APPLICATION TYPE CONDITIONAL APPROVAL   SSA LICENSE STATUS  PAYMENT YEAR  APPLICATION REQUIREMENTS COMPLETE YEAR  DATE ISSUED YEAR  LICENSE VALIDITY  LICENSE APPROVED YEAR\n",
       "0           32811            1                  CARMEN CAHUE         CLAUDIA'S BRIDAL SHOP   CHICAGO  60623.0  22.0      28.0             10.0          1010  Limited Business License            RENEW                    N  25.0            AAI        2002.0                                  2002.0              2006               1.0                 2002.0\n",
       "1          262311           29           ISLA TROPICAL, INC.                 ISLA TROPICAL   CHICAGO    60618  33.0      23.0             17.0          1315     Mobile Food Dispenser            RENEW                    N  60.0            AAC        2005.0                                  2005.0              2006               1.0                 2006.0\n",
       "2          345008            1                DJS REMODELING          DJS REMODELING, INC.  HIGHLAND    60035   NaN       NaN              NaN          1011               Home Repair            ISSUE                    N   NaN            AAI        2009.0                                  2009.0              2009               2.0                 2009.0\n",
       "3          273121            1      ALL-BRY CONSTRUCTION CO.      ALL-BRY CONSTRUCTION CO.    LEMONT    60439   NaN       NaN              NaN          1010  Limited Business License            ISSUE                    N   NaN            AAI        2004.0                                  2004.0              2004               1.0                 2004.0\n",
       "4          213785            1  MCDONOUGH MECHANICAL SERVICE  MCDONOUGH MECHANICAL SERVICE  WAUKEGAN    60087   NaN       NaN              NaN          1010  Limited Business License            RENEW                    N   NaN            AAI        2008.0                                  2008.0              2008               2.0                 2008.0"
      ]
     },
     "execution_count": 47,
     "metadata": {},
     "output_type": "execute_result"
    }
   ],
   "source": [
    "train_data.head()"
   ]
  },
  {
   "cell_type": "code",
   "execution_count": 48,
   "metadata": {},
   "outputs": [],
   "source": [
    "train_data['LEGAL NAME'] = train_data['LEGAL NAME'].fillna('None')\n",
    "train_data['DOING BUSINESS AS NAME'] = train_data['DOING BUSINESS AS NAME'].fillna('None')"
   ]
  },
  {
   "cell_type": "code",
   "execution_count": 49,
   "metadata": {},
   "outputs": [],
   "source": [
    "test_data['LEGAL NAME'] = test_data['LEGAL NAME'].fillna('None')\n",
    "test_data['DOING BUSINESS AS NAME'] = test_data['DOING BUSINESS AS NAME'].fillna('None')"
   ]
  },
  {
   "cell_type": "code",
   "execution_count": 50,
   "metadata": {},
   "outputs": [
    {
     "data": {
      "text/html": [
       "<div>\n",
       "<style scoped>\n",
       "    .dataframe tbody tr th:only-of-type {\n",
       "        vertical-align: middle;\n",
       "    }\n",
       "\n",
       "    .dataframe tbody tr th {\n",
       "        vertical-align: top;\n",
       "    }\n",
       "\n",
       "    .dataframe thead th {\n",
       "        text-align: right;\n",
       "    }\n",
       "</style>\n",
       "<table border=\"1\" class=\"dataframe\">\n",
       "  <thead>\n",
       "    <tr style=\"text-align: right;\">\n",
       "      <th></th>\n",
       "      <th>ACCOUNT NUMBER</th>\n",
       "      <th>SITE NUMBER</th>\n",
       "      <th>LEGAL NAME</th>\n",
       "      <th>DOING BUSINESS AS NAME</th>\n",
       "      <th>CITY</th>\n",
       "      <th>ZIP CODE</th>\n",
       "      <th>WARD</th>\n",
       "      <th>PRECINCT</th>\n",
       "      <th>POLICE DISTRICT</th>\n",
       "      <th>LICENSE CODE</th>\n",
       "      <th>LICENSE DESCRIPTION</th>\n",
       "      <th>APPLICATION TYPE</th>\n",
       "      <th>CONDITIONAL APPROVAL</th>\n",
       "      <th>SSA</th>\n",
       "      <th>LICENSE STATUS</th>\n",
       "      <th>PAYMENT YEAR</th>\n",
       "      <th>APPLICATION REQUIREMENTS COMPLETE YEAR</th>\n",
       "      <th>DATE ISSUED YEAR</th>\n",
       "      <th>LICENSE VALIDITY</th>\n",
       "      <th>LICENSE APPROVED YEAR</th>\n",
       "    </tr>\n",
       "  </thead>\n",
       "  <tbody>\n",
       "    <tr>\n",
       "      <th>0</th>\n",
       "      <td>32811</td>\n",
       "      <td>1</td>\n",
       "      <td>CARMEN CAHUE</td>\n",
       "      <td>CLAUDIA'S BRIDAL SHOP</td>\n",
       "      <td>CHICAGO</td>\n",
       "      <td>60623.0</td>\n",
       "      <td>22.0</td>\n",
       "      <td>28.0</td>\n",
       "      <td>10.0</td>\n",
       "      <td>1010</td>\n",
       "      <td>Limited Business License</td>\n",
       "      <td>RENEW</td>\n",
       "      <td>N</td>\n",
       "      <td>25.0</td>\n",
       "      <td>AAI</td>\n",
       "      <td>2002.0</td>\n",
       "      <td>2002.0</td>\n",
       "      <td>2006</td>\n",
       "      <td>1.0</td>\n",
       "      <td>2002.0</td>\n",
       "    </tr>\n",
       "    <tr>\n",
       "      <th>1</th>\n",
       "      <td>262311</td>\n",
       "      <td>29</td>\n",
       "      <td>ISLA TROPICAL, INC.</td>\n",
       "      <td>ISLA TROPICAL</td>\n",
       "      <td>CHICAGO</td>\n",
       "      <td>60618</td>\n",
       "      <td>33.0</td>\n",
       "      <td>23.0</td>\n",
       "      <td>17.0</td>\n",
       "      <td>1315</td>\n",
       "      <td>Mobile Food Dispenser</td>\n",
       "      <td>RENEW</td>\n",
       "      <td>N</td>\n",
       "      <td>60.0</td>\n",
       "      <td>AAC</td>\n",
       "      <td>2005.0</td>\n",
       "      <td>2005.0</td>\n",
       "      <td>2006</td>\n",
       "      <td>1.0</td>\n",
       "      <td>2006.0</td>\n",
       "    </tr>\n",
       "    <tr>\n",
       "      <th>2</th>\n",
       "      <td>345008</td>\n",
       "      <td>1</td>\n",
       "      <td>DJS REMODELING</td>\n",
       "      <td>DJS REMODELING, INC.</td>\n",
       "      <td>HIGHLAND</td>\n",
       "      <td>60035</td>\n",
       "      <td>NaN</td>\n",
       "      <td>NaN</td>\n",
       "      <td>NaN</td>\n",
       "      <td>1011</td>\n",
       "      <td>Home Repair</td>\n",
       "      <td>ISSUE</td>\n",
       "      <td>N</td>\n",
       "      <td>NaN</td>\n",
       "      <td>AAI</td>\n",
       "      <td>2009.0</td>\n",
       "      <td>2009.0</td>\n",
       "      <td>2009</td>\n",
       "      <td>2.0</td>\n",
       "      <td>2009.0</td>\n",
       "    </tr>\n",
       "    <tr>\n",
       "      <th>3</th>\n",
       "      <td>273121</td>\n",
       "      <td>1</td>\n",
       "      <td>ALL-BRY CONSTRUCTION CO.</td>\n",
       "      <td>ALL-BRY CONSTRUCTION CO.</td>\n",
       "      <td>LEMONT</td>\n",
       "      <td>60439</td>\n",
       "      <td>NaN</td>\n",
       "      <td>NaN</td>\n",
       "      <td>NaN</td>\n",
       "      <td>1010</td>\n",
       "      <td>Limited Business License</td>\n",
       "      <td>ISSUE</td>\n",
       "      <td>N</td>\n",
       "      <td>NaN</td>\n",
       "      <td>AAI</td>\n",
       "      <td>2004.0</td>\n",
       "      <td>2004.0</td>\n",
       "      <td>2004</td>\n",
       "      <td>1.0</td>\n",
       "      <td>2004.0</td>\n",
       "    </tr>\n",
       "    <tr>\n",
       "      <th>4</th>\n",
       "      <td>213785</td>\n",
       "      <td>1</td>\n",
       "      <td>MCDONOUGH MECHANICAL SERVICE</td>\n",
       "      <td>MCDONOUGH MECHANICAL SERVICE</td>\n",
       "      <td>WAUKEGAN</td>\n",
       "      <td>60087</td>\n",
       "      <td>NaN</td>\n",
       "      <td>NaN</td>\n",
       "      <td>NaN</td>\n",
       "      <td>1010</td>\n",
       "      <td>Limited Business License</td>\n",
       "      <td>RENEW</td>\n",
       "      <td>N</td>\n",
       "      <td>NaN</td>\n",
       "      <td>AAI</td>\n",
       "      <td>2008.0</td>\n",
       "      <td>2008.0</td>\n",
       "      <td>2008</td>\n",
       "      <td>2.0</td>\n",
       "      <td>2008.0</td>\n",
       "    </tr>\n",
       "  </tbody>\n",
       "</table>\n",
       "</div>"
      ],
      "text/plain": [
       "   ACCOUNT NUMBER  SITE NUMBER                    LEGAL NAME        DOING BUSINESS AS NAME      CITY ZIP CODE  WARD  PRECINCT  POLICE DISTRICT  LICENSE CODE       LICENSE DESCRIPTION APPLICATION TYPE CONDITIONAL APPROVAL   SSA LICENSE STATUS  PAYMENT YEAR  APPLICATION REQUIREMENTS COMPLETE YEAR  DATE ISSUED YEAR  LICENSE VALIDITY  LICENSE APPROVED YEAR\n",
       "0           32811            1                  CARMEN CAHUE         CLAUDIA'S BRIDAL SHOP   CHICAGO  60623.0  22.0      28.0             10.0          1010  Limited Business License            RENEW                    N  25.0            AAI        2002.0                                  2002.0              2006               1.0                 2002.0\n",
       "1          262311           29           ISLA TROPICAL, INC.                 ISLA TROPICAL   CHICAGO    60618  33.0      23.0             17.0          1315     Mobile Food Dispenser            RENEW                    N  60.0            AAC        2005.0                                  2005.0              2006               1.0                 2006.0\n",
       "2          345008            1                DJS REMODELING          DJS REMODELING, INC.  HIGHLAND    60035   NaN       NaN              NaN          1011               Home Repair            ISSUE                    N   NaN            AAI        2009.0                                  2009.0              2009               2.0                 2009.0\n",
       "3          273121            1      ALL-BRY CONSTRUCTION CO.      ALL-BRY CONSTRUCTION CO.    LEMONT    60439   NaN       NaN              NaN          1010  Limited Business License            ISSUE                    N   NaN            AAI        2004.0                                  2004.0              2004               1.0                 2004.0\n",
       "4          213785            1  MCDONOUGH MECHANICAL SERVICE  MCDONOUGH MECHANICAL SERVICE  WAUKEGAN    60087   NaN       NaN              NaN          1010  Limited Business License            RENEW                    N   NaN            AAI        2008.0                                  2008.0              2008               2.0                 2008.0"
      ]
     },
     "execution_count": 50,
     "metadata": {},
     "output_type": "execute_result"
    }
   ],
   "source": [
    "train_data['LEGAL NAME'].apply(lambda x: x.upper())\n",
    "train_data['DOING BUSINESS AS NAME'].apply(lambda x: x.upper())\n",
    "train_data.head()"
   ]
  },
  {
   "cell_type": "code",
   "execution_count": 51,
   "metadata": {},
   "outputs": [
    {
     "data": {
      "text/html": [
       "<div>\n",
       "<style scoped>\n",
       "    .dataframe tbody tr th:only-of-type {\n",
       "        vertical-align: middle;\n",
       "    }\n",
       "\n",
       "    .dataframe tbody tr th {\n",
       "        vertical-align: top;\n",
       "    }\n",
       "\n",
       "    .dataframe thead th {\n",
       "        text-align: right;\n",
       "    }\n",
       "</style>\n",
       "<table border=\"1\" class=\"dataframe\">\n",
       "  <thead>\n",
       "    <tr style=\"text-align: right;\">\n",
       "      <th></th>\n",
       "      <th>ACCOUNT NUMBER</th>\n",
       "      <th>SITE NUMBER</th>\n",
       "      <th>LEGAL NAME</th>\n",
       "      <th>DOING BUSINESS AS NAME</th>\n",
       "      <th>CITY</th>\n",
       "      <th>ZIP CODE</th>\n",
       "      <th>WARD</th>\n",
       "      <th>PRECINCT</th>\n",
       "      <th>POLICE DISTRICT</th>\n",
       "      <th>LICENSE CODE</th>\n",
       "      <th>LICENSE DESCRIPTION</th>\n",
       "      <th>APPLICATION TYPE</th>\n",
       "      <th>CONDITIONAL APPROVAL</th>\n",
       "      <th>SSA</th>\n",
       "      <th>PAYMENT YEAR</th>\n",
       "      <th>APPLICATION REQUIREMENTS COMPLETE YEAR</th>\n",
       "      <th>DATE ISSUED YEAR</th>\n",
       "      <th>LICENSE VALIDITY</th>\n",
       "      <th>LICENSE APPROVED YEAR</th>\n",
       "    </tr>\n",
       "  </thead>\n",
       "  <tbody>\n",
       "    <tr>\n",
       "      <th>0</th>\n",
       "      <td>280120</td>\n",
       "      <td>1</td>\n",
       "      <td>RS HOMES I LLC</td>\n",
       "      <td>RS HOMES I LLC</td>\n",
       "      <td>CHICAGO</td>\n",
       "      <td>60610.0</td>\n",
       "      <td>42.0</td>\n",
       "      <td>67.0</td>\n",
       "      <td>18.0</td>\n",
       "      <td>1020</td>\n",
       "      <td>Residential Real Estate Developer</td>\n",
       "      <td>RENEW</td>\n",
       "      <td>N</td>\n",
       "      <td>NaN</td>\n",
       "      <td>2012.0</td>\n",
       "      <td>2011.0</td>\n",
       "      <td>2012</td>\n",
       "      <td>2.0</td>\n",
       "      <td>2012.0</td>\n",
       "    </tr>\n",
       "    <tr>\n",
       "      <th>1</th>\n",
       "      <td>65043</td>\n",
       "      <td>1</td>\n",
       "      <td>CSX INTERMODAL INC</td>\n",
       "      <td>CSX INTERMODAL</td>\n",
       "      <td>CHICAGO</td>\n",
       "      <td>60636.0</td>\n",
       "      <td>16.0</td>\n",
       "      <td>5.0</td>\n",
       "      <td>7.0</td>\n",
       "      <td>1010</td>\n",
       "      <td>Limited Business License</td>\n",
       "      <td>RENEW</td>\n",
       "      <td>N</td>\n",
       "      <td>NaN</td>\n",
       "      <td>2012.0</td>\n",
       "      <td>2011.0</td>\n",
       "      <td>2012</td>\n",
       "      <td>2.0</td>\n",
       "      <td>2012.0</td>\n",
       "    </tr>\n",
       "    <tr>\n",
       "      <th>2</th>\n",
       "      <td>281270</td>\n",
       "      <td>1</td>\n",
       "      <td>LOCOMIBILE  LOFTS LLC</td>\n",
       "      <td>LOCOMOBILE LOFTS LLC</td>\n",
       "      <td>CHICAGO</td>\n",
       "      <td>60605.0</td>\n",
       "      <td>4.0</td>\n",
       "      <td>8.0</td>\n",
       "      <td>1.0</td>\n",
       "      <td>1020</td>\n",
       "      <td>Residential Real Estate Developer</td>\n",
       "      <td>RENEW</td>\n",
       "      <td>N</td>\n",
       "      <td>NaN</td>\n",
       "      <td>2004.0</td>\n",
       "      <td>2004.0</td>\n",
       "      <td>2004</td>\n",
       "      <td>1.0</td>\n",
       "      <td>2004.0</td>\n",
       "    </tr>\n",
       "    <tr>\n",
       "      <th>3</th>\n",
       "      <td>335243</td>\n",
       "      <td>1</td>\n",
       "      <td>ANNA F. JAMISON</td>\n",
       "      <td>ANNA F. JAMISON</td>\n",
       "      <td>CHICAGO</td>\n",
       "      <td>60827.0</td>\n",
       "      <td>9.0</td>\n",
       "      <td>33.0</td>\n",
       "      <td>5.0</td>\n",
       "      <td>1607</td>\n",
       "      <td>Peddler, non-food, special</td>\n",
       "      <td>RENEW</td>\n",
       "      <td>N</td>\n",
       "      <td>NaN</td>\n",
       "      <td>2010.0</td>\n",
       "      <td>2010.0</td>\n",
       "      <td>2010</td>\n",
       "      <td>2.0</td>\n",
       "      <td>NaN</td>\n",
       "    </tr>\n",
       "    <tr>\n",
       "      <th>4</th>\n",
       "      <td>283018</td>\n",
       "      <td>3</td>\n",
       "      <td>MARINCA A. COVARRUBIAS</td>\n",
       "      <td>DETAILS</td>\n",
       "      <td>CHICAGO</td>\n",
       "      <td>60632.0</td>\n",
       "      <td>15.0</td>\n",
       "      <td>26.0</td>\n",
       "      <td>9.0</td>\n",
       "      <td>1010</td>\n",
       "      <td>Limited Business License</td>\n",
       "      <td>RENEW</td>\n",
       "      <td>N</td>\n",
       "      <td>39.0</td>\n",
       "      <td>2007.0</td>\n",
       "      <td>2007.0</td>\n",
       "      <td>2007</td>\n",
       "      <td>2.0</td>\n",
       "      <td>2007.0</td>\n",
       "    </tr>\n",
       "  </tbody>\n",
       "</table>\n",
       "</div>"
      ],
      "text/plain": [
       "   ACCOUNT NUMBER  SITE NUMBER              LEGAL NAME DOING BUSINESS AS NAME     CITY  ZIP CODE  WARD  PRECINCT  POLICE DISTRICT  LICENSE CODE                LICENSE DESCRIPTION APPLICATION TYPE CONDITIONAL APPROVAL   SSA  PAYMENT YEAR  APPLICATION REQUIREMENTS COMPLETE YEAR  DATE ISSUED YEAR  LICENSE VALIDITY  LICENSE APPROVED YEAR\n",
       "0          280120            1          RS HOMES I LLC         RS HOMES I LLC  CHICAGO   60610.0  42.0      67.0             18.0          1020  Residential Real Estate Developer            RENEW                    N   NaN        2012.0                                  2011.0              2012               2.0                 2012.0\n",
       "1           65043            1      CSX INTERMODAL INC         CSX INTERMODAL  CHICAGO   60636.0  16.0       5.0              7.0          1010           Limited Business License            RENEW                    N   NaN        2012.0                                  2011.0              2012               2.0                 2012.0\n",
       "2          281270            1   LOCOMIBILE  LOFTS LLC   LOCOMOBILE LOFTS LLC  CHICAGO   60605.0   4.0       8.0              1.0          1020  Residential Real Estate Developer            RENEW                    N   NaN        2004.0                                  2004.0              2004               1.0                 2004.0\n",
       "3          335243            1         ANNA F. JAMISON        ANNA F. JAMISON  CHICAGO   60827.0   9.0      33.0              5.0          1607         Peddler, non-food, special            RENEW                    N   NaN        2010.0                                  2010.0              2010               2.0                    NaN\n",
       "4          283018            3  MARINCA A. COVARRUBIAS                DETAILS  CHICAGO   60632.0  15.0      26.0              9.0          1010           Limited Business License            RENEW                    N  39.0        2007.0                                  2007.0              2007               2.0                 2007.0"
      ]
     },
     "execution_count": 51,
     "metadata": {},
     "output_type": "execute_result"
    }
   ],
   "source": [
    "test_data['LEGAL NAME'].apply(lambda x: x.upper())\n",
    "test_data['DOING BUSINESS AS NAME'].apply(lambda x: x.upper())\n",
    "test_data.head()"
   ]
  },
  {
   "cell_type": "code",
   "execution_count": 52,
   "metadata": {},
   "outputs": [],
   "source": [
    "train_data['LEGAL NAME'] = train_data['LEGAL NAME'].str.replace('.', '', regex=False)\n",
    "train_data['DOING BUSINESS AS NAME'] = train_data['DOING BUSINESS AS NAME'].str.replace('.', '', regex=False)"
   ]
  },
  {
   "cell_type": "code",
   "execution_count": 53,
   "metadata": {},
   "outputs": [],
   "source": [
    "test_data['LEGAL NAME'] = test_data['LEGAL NAME'].str.replace('.', '', regex=False)\n",
    "test_data['DOING BUSINESS AS NAME'] = test_data['DOING BUSINESS AS NAME'].str.replace('.', '', regex=False)"
   ]
  },
  {
   "cell_type": "code",
   "execution_count": 54,
   "metadata": {},
   "outputs": [
    {
     "data": {
      "text/html": [
       "<div>\n",
       "<style scoped>\n",
       "    .dataframe tbody tr th:only-of-type {\n",
       "        vertical-align: middle;\n",
       "    }\n",
       "\n",
       "    .dataframe tbody tr th {\n",
       "        vertical-align: top;\n",
       "    }\n",
       "\n",
       "    .dataframe thead th {\n",
       "        text-align: right;\n",
       "    }\n",
       "</style>\n",
       "<table border=\"1\" class=\"dataframe\">\n",
       "  <thead>\n",
       "    <tr style=\"text-align: right;\">\n",
       "      <th></th>\n",
       "      <th>ACCOUNT NUMBER</th>\n",
       "      <th>SITE NUMBER</th>\n",
       "      <th>LEGAL NAME</th>\n",
       "      <th>DOING BUSINESS AS NAME</th>\n",
       "      <th>CITY</th>\n",
       "      <th>ZIP CODE</th>\n",
       "      <th>WARD</th>\n",
       "      <th>PRECINCT</th>\n",
       "      <th>POLICE DISTRICT</th>\n",
       "      <th>LICENSE CODE</th>\n",
       "      <th>LICENSE DESCRIPTION</th>\n",
       "      <th>APPLICATION TYPE</th>\n",
       "      <th>CONDITIONAL APPROVAL</th>\n",
       "      <th>SSA</th>\n",
       "      <th>LICENSE STATUS</th>\n",
       "      <th>PAYMENT YEAR</th>\n",
       "      <th>APPLICATION REQUIREMENTS COMPLETE YEAR</th>\n",
       "      <th>DATE ISSUED YEAR</th>\n",
       "      <th>LICENSE VALIDITY</th>\n",
       "      <th>LICENSE APPROVED YEAR</th>\n",
       "      <th>LEGAL TYPE</th>\n",
       "    </tr>\n",
       "  </thead>\n",
       "  <tbody>\n",
       "    <tr>\n",
       "      <th>0</th>\n",
       "      <td>32811</td>\n",
       "      <td>1</td>\n",
       "      <td>CARMEN CAHUE</td>\n",
       "      <td>CLAUDIA'S BRIDAL SHOP</td>\n",
       "      <td>CHICAGO</td>\n",
       "      <td>60623.0</td>\n",
       "      <td>22.0</td>\n",
       "      <td>28.0</td>\n",
       "      <td>10.0</td>\n",
       "      <td>1010</td>\n",
       "      <td>Limited Business License</td>\n",
       "      <td>RENEW</td>\n",
       "      <td>N</td>\n",
       "      <td>25.0</td>\n",
       "      <td>AAI</td>\n",
       "      <td>2002.0</td>\n",
       "      <td>2002.0</td>\n",
       "      <td>2006</td>\n",
       "      <td>1.0</td>\n",
       "      <td>2002.0</td>\n",
       "      <td>PVT</td>\n",
       "    </tr>\n",
       "    <tr>\n",
       "      <th>1</th>\n",
       "      <td>262311</td>\n",
       "      <td>29</td>\n",
       "      <td>ISLA TROPICAL, INC</td>\n",
       "      <td>ISLA TROPICAL</td>\n",
       "      <td>CHICAGO</td>\n",
       "      <td>60618</td>\n",
       "      <td>33.0</td>\n",
       "      <td>23.0</td>\n",
       "      <td>17.0</td>\n",
       "      <td>1315</td>\n",
       "      <td>Mobile Food Dispenser</td>\n",
       "      <td>RENEW</td>\n",
       "      <td>N</td>\n",
       "      <td>60.0</td>\n",
       "      <td>AAC</td>\n",
       "      <td>2005.0</td>\n",
       "      <td>2005.0</td>\n",
       "      <td>2006</td>\n",
       "      <td>1.0</td>\n",
       "      <td>2006.0</td>\n",
       "      <td>PVT</td>\n",
       "    </tr>\n",
       "    <tr>\n",
       "      <th>2</th>\n",
       "      <td>345008</td>\n",
       "      <td>1</td>\n",
       "      <td>DJS REMODELING</td>\n",
       "      <td>DJS REMODELING, INC</td>\n",
       "      <td>HIGHLAND</td>\n",
       "      <td>60035</td>\n",
       "      <td>NaN</td>\n",
       "      <td>NaN</td>\n",
       "      <td>NaN</td>\n",
       "      <td>1011</td>\n",
       "      <td>Home Repair</td>\n",
       "      <td>ISSUE</td>\n",
       "      <td>N</td>\n",
       "      <td>NaN</td>\n",
       "      <td>AAI</td>\n",
       "      <td>2009.0</td>\n",
       "      <td>2009.0</td>\n",
       "      <td>2009</td>\n",
       "      <td>2.0</td>\n",
       "      <td>2009.0</td>\n",
       "      <td>PVT</td>\n",
       "    </tr>\n",
       "    <tr>\n",
       "      <th>3</th>\n",
       "      <td>273121</td>\n",
       "      <td>1</td>\n",
       "      <td>ALL-BRY CONSTRUCTION CO</td>\n",
       "      <td>ALL-BRY CONSTRUCTION CO</td>\n",
       "      <td>LEMONT</td>\n",
       "      <td>60439</td>\n",
       "      <td>NaN</td>\n",
       "      <td>NaN</td>\n",
       "      <td>NaN</td>\n",
       "      <td>1010</td>\n",
       "      <td>Limited Business License</td>\n",
       "      <td>ISSUE</td>\n",
       "      <td>N</td>\n",
       "      <td>NaN</td>\n",
       "      <td>AAI</td>\n",
       "      <td>2004.0</td>\n",
       "      <td>2004.0</td>\n",
       "      <td>2004</td>\n",
       "      <td>1.0</td>\n",
       "      <td>2004.0</td>\n",
       "      <td>PVT</td>\n",
       "    </tr>\n",
       "    <tr>\n",
       "      <th>4</th>\n",
       "      <td>213785</td>\n",
       "      <td>1</td>\n",
       "      <td>MCDONOUGH MECHANICAL SERVICE</td>\n",
       "      <td>MCDONOUGH MECHANICAL SERVICE</td>\n",
       "      <td>WAUKEGAN</td>\n",
       "      <td>60087</td>\n",
       "      <td>NaN</td>\n",
       "      <td>NaN</td>\n",
       "      <td>NaN</td>\n",
       "      <td>1010</td>\n",
       "      <td>Limited Business License</td>\n",
       "      <td>RENEW</td>\n",
       "      <td>N</td>\n",
       "      <td>NaN</td>\n",
       "      <td>AAI</td>\n",
       "      <td>2008.0</td>\n",
       "      <td>2008.0</td>\n",
       "      <td>2008</td>\n",
       "      <td>2.0</td>\n",
       "      <td>2008.0</td>\n",
       "      <td>PVT</td>\n",
       "    </tr>\n",
       "  </tbody>\n",
       "</table>\n",
       "</div>"
      ],
      "text/plain": [
       "   ACCOUNT NUMBER  SITE NUMBER                    LEGAL NAME        DOING BUSINESS AS NAME      CITY ZIP CODE  WARD  PRECINCT  POLICE DISTRICT  LICENSE CODE       LICENSE DESCRIPTION APPLICATION TYPE CONDITIONAL APPROVAL   SSA LICENSE STATUS  PAYMENT YEAR  APPLICATION REQUIREMENTS COMPLETE YEAR  DATE ISSUED YEAR  LICENSE VALIDITY  LICENSE APPROVED YEAR LEGAL TYPE\n",
       "0           32811            1                  CARMEN CAHUE         CLAUDIA'S BRIDAL SHOP   CHICAGO  60623.0  22.0      28.0             10.0          1010  Limited Business License            RENEW                    N  25.0            AAI        2002.0                                  2002.0              2006               1.0                 2002.0        PVT\n",
       "1          262311           29            ISLA TROPICAL, INC                 ISLA TROPICAL   CHICAGO    60618  33.0      23.0             17.0          1315     Mobile Food Dispenser            RENEW                    N  60.0            AAC        2005.0                                  2005.0              2006               1.0                 2006.0        PVT\n",
       "2          345008            1                DJS REMODELING           DJS REMODELING, INC  HIGHLAND    60035   NaN       NaN              NaN          1011               Home Repair            ISSUE                    N   NaN            AAI        2009.0                                  2009.0              2009               2.0                 2009.0        PVT\n",
       "3          273121            1       ALL-BRY CONSTRUCTION CO       ALL-BRY CONSTRUCTION CO    LEMONT    60439   NaN       NaN              NaN          1010  Limited Business License            ISSUE                    N   NaN            AAI        2004.0                                  2004.0              2004               1.0                 2004.0        PVT\n",
       "4          213785            1  MCDONOUGH MECHANICAL SERVICE  MCDONOUGH MECHANICAL SERVICE  WAUKEGAN    60087   NaN       NaN              NaN          1010  Limited Business License            RENEW                    N   NaN            AAI        2008.0                                  2008.0              2008               2.0                 2008.0        PVT"
      ]
     },
     "execution_count": 54,
     "metadata": {},
     "output_type": "execute_result"
    }
   ],
   "source": [
    "train_data['LEGAL TYPE'] = 'PVT'\n",
    "train_data.head()"
   ]
  },
  {
   "cell_type": "code",
   "execution_count": 55,
   "metadata": {},
   "outputs": [
    {
     "data": {
      "text/html": [
       "<div>\n",
       "<style scoped>\n",
       "    .dataframe tbody tr th:only-of-type {\n",
       "        vertical-align: middle;\n",
       "    }\n",
       "\n",
       "    .dataframe tbody tr th {\n",
       "        vertical-align: top;\n",
       "    }\n",
       "\n",
       "    .dataframe thead th {\n",
       "        text-align: right;\n",
       "    }\n",
       "</style>\n",
       "<table border=\"1\" class=\"dataframe\">\n",
       "  <thead>\n",
       "    <tr style=\"text-align: right;\">\n",
       "      <th></th>\n",
       "      <th>ACCOUNT NUMBER</th>\n",
       "      <th>SITE NUMBER</th>\n",
       "      <th>LEGAL NAME</th>\n",
       "      <th>DOING BUSINESS AS NAME</th>\n",
       "      <th>CITY</th>\n",
       "      <th>ZIP CODE</th>\n",
       "      <th>WARD</th>\n",
       "      <th>PRECINCT</th>\n",
       "      <th>POLICE DISTRICT</th>\n",
       "      <th>LICENSE CODE</th>\n",
       "      <th>LICENSE DESCRIPTION</th>\n",
       "      <th>APPLICATION TYPE</th>\n",
       "      <th>CONDITIONAL APPROVAL</th>\n",
       "      <th>SSA</th>\n",
       "      <th>PAYMENT YEAR</th>\n",
       "      <th>APPLICATION REQUIREMENTS COMPLETE YEAR</th>\n",
       "      <th>DATE ISSUED YEAR</th>\n",
       "      <th>LICENSE VALIDITY</th>\n",
       "      <th>LICENSE APPROVED YEAR</th>\n",
       "      <th>LEGAL TYPE</th>\n",
       "    </tr>\n",
       "  </thead>\n",
       "  <tbody>\n",
       "    <tr>\n",
       "      <th>0</th>\n",
       "      <td>280120</td>\n",
       "      <td>1</td>\n",
       "      <td>RS HOMES I LLC</td>\n",
       "      <td>RS HOMES I LLC</td>\n",
       "      <td>CHICAGO</td>\n",
       "      <td>60610.0</td>\n",
       "      <td>42.0</td>\n",
       "      <td>67.0</td>\n",
       "      <td>18.0</td>\n",
       "      <td>1020</td>\n",
       "      <td>Residential Real Estate Developer</td>\n",
       "      <td>RENEW</td>\n",
       "      <td>N</td>\n",
       "      <td>NaN</td>\n",
       "      <td>2012.0</td>\n",
       "      <td>2011.0</td>\n",
       "      <td>2012</td>\n",
       "      <td>2.0</td>\n",
       "      <td>2012.0</td>\n",
       "      <td>PVT</td>\n",
       "    </tr>\n",
       "    <tr>\n",
       "      <th>1</th>\n",
       "      <td>65043</td>\n",
       "      <td>1</td>\n",
       "      <td>CSX INTERMODAL INC</td>\n",
       "      <td>CSX INTERMODAL</td>\n",
       "      <td>CHICAGO</td>\n",
       "      <td>60636.0</td>\n",
       "      <td>16.0</td>\n",
       "      <td>5.0</td>\n",
       "      <td>7.0</td>\n",
       "      <td>1010</td>\n",
       "      <td>Limited Business License</td>\n",
       "      <td>RENEW</td>\n",
       "      <td>N</td>\n",
       "      <td>NaN</td>\n",
       "      <td>2012.0</td>\n",
       "      <td>2011.0</td>\n",
       "      <td>2012</td>\n",
       "      <td>2.0</td>\n",
       "      <td>2012.0</td>\n",
       "      <td>PVT</td>\n",
       "    </tr>\n",
       "    <tr>\n",
       "      <th>2</th>\n",
       "      <td>281270</td>\n",
       "      <td>1</td>\n",
       "      <td>LOCOMIBILE  LOFTS LLC</td>\n",
       "      <td>LOCOMOBILE LOFTS LLC</td>\n",
       "      <td>CHICAGO</td>\n",
       "      <td>60605.0</td>\n",
       "      <td>4.0</td>\n",
       "      <td>8.0</td>\n",
       "      <td>1.0</td>\n",
       "      <td>1020</td>\n",
       "      <td>Residential Real Estate Developer</td>\n",
       "      <td>RENEW</td>\n",
       "      <td>N</td>\n",
       "      <td>NaN</td>\n",
       "      <td>2004.0</td>\n",
       "      <td>2004.0</td>\n",
       "      <td>2004</td>\n",
       "      <td>1.0</td>\n",
       "      <td>2004.0</td>\n",
       "      <td>PVT</td>\n",
       "    </tr>\n",
       "    <tr>\n",
       "      <th>3</th>\n",
       "      <td>335243</td>\n",
       "      <td>1</td>\n",
       "      <td>ANNA F JAMISON</td>\n",
       "      <td>ANNA F JAMISON</td>\n",
       "      <td>CHICAGO</td>\n",
       "      <td>60827.0</td>\n",
       "      <td>9.0</td>\n",
       "      <td>33.0</td>\n",
       "      <td>5.0</td>\n",
       "      <td>1607</td>\n",
       "      <td>Peddler, non-food, special</td>\n",
       "      <td>RENEW</td>\n",
       "      <td>N</td>\n",
       "      <td>NaN</td>\n",
       "      <td>2010.0</td>\n",
       "      <td>2010.0</td>\n",
       "      <td>2010</td>\n",
       "      <td>2.0</td>\n",
       "      <td>NaN</td>\n",
       "      <td>PVT</td>\n",
       "    </tr>\n",
       "    <tr>\n",
       "      <th>4</th>\n",
       "      <td>283018</td>\n",
       "      <td>3</td>\n",
       "      <td>MARINCA A COVARRUBIAS</td>\n",
       "      <td>DETAILS</td>\n",
       "      <td>CHICAGO</td>\n",
       "      <td>60632.0</td>\n",
       "      <td>15.0</td>\n",
       "      <td>26.0</td>\n",
       "      <td>9.0</td>\n",
       "      <td>1010</td>\n",
       "      <td>Limited Business License</td>\n",
       "      <td>RENEW</td>\n",
       "      <td>N</td>\n",
       "      <td>39.0</td>\n",
       "      <td>2007.0</td>\n",
       "      <td>2007.0</td>\n",
       "      <td>2007</td>\n",
       "      <td>2.0</td>\n",
       "      <td>2007.0</td>\n",
       "      <td>PVT</td>\n",
       "    </tr>\n",
       "  </tbody>\n",
       "</table>\n",
       "</div>"
      ],
      "text/plain": [
       "   ACCOUNT NUMBER  SITE NUMBER             LEGAL NAME DOING BUSINESS AS NAME     CITY  ZIP CODE  WARD  PRECINCT  POLICE DISTRICT  LICENSE CODE                LICENSE DESCRIPTION APPLICATION TYPE CONDITIONAL APPROVAL   SSA  PAYMENT YEAR  APPLICATION REQUIREMENTS COMPLETE YEAR  DATE ISSUED YEAR  LICENSE VALIDITY  LICENSE APPROVED YEAR LEGAL TYPE\n",
       "0          280120            1         RS HOMES I LLC         RS HOMES I LLC  CHICAGO   60610.0  42.0      67.0             18.0          1020  Residential Real Estate Developer            RENEW                    N   NaN        2012.0                                  2011.0              2012               2.0                 2012.0        PVT\n",
       "1           65043            1     CSX INTERMODAL INC         CSX INTERMODAL  CHICAGO   60636.0  16.0       5.0              7.0          1010           Limited Business License            RENEW                    N   NaN        2012.0                                  2011.0              2012               2.0                 2012.0        PVT\n",
       "2          281270            1  LOCOMIBILE  LOFTS LLC   LOCOMOBILE LOFTS LLC  CHICAGO   60605.0   4.0       8.0              1.0          1020  Residential Real Estate Developer            RENEW                    N   NaN        2004.0                                  2004.0              2004               1.0                 2004.0        PVT\n",
       "3          335243            1         ANNA F JAMISON         ANNA F JAMISON  CHICAGO   60827.0   9.0      33.0              5.0          1607         Peddler, non-food, special            RENEW                    N   NaN        2010.0                                  2010.0              2010               2.0                    NaN        PVT\n",
       "4          283018            3  MARINCA A COVARRUBIAS                DETAILS  CHICAGO   60632.0  15.0      26.0              9.0          1010           Limited Business License            RENEW                    N  39.0        2007.0                                  2007.0              2007               2.0                 2007.0        PVT"
      ]
     },
     "execution_count": 55,
     "metadata": {},
     "output_type": "execute_result"
    }
   ],
   "source": [
    "test_data['LEGAL TYPE'] = 'PVT'\n",
    "test_data.head()"
   ]
  },
  {
   "cell_type": "code",
   "execution_count": 56,
   "metadata": {},
   "outputs": [
    {
     "data": {
      "text/html": [
       "<div>\n",
       "<style scoped>\n",
       "    .dataframe tbody tr th:only-of-type {\n",
       "        vertical-align: middle;\n",
       "    }\n",
       "\n",
       "    .dataframe tbody tr th {\n",
       "        vertical-align: top;\n",
       "    }\n",
       "\n",
       "    .dataframe thead th {\n",
       "        text-align: right;\n",
       "    }\n",
       "</style>\n",
       "<table border=\"1\" class=\"dataframe\">\n",
       "  <thead>\n",
       "    <tr style=\"text-align: right;\">\n",
       "      <th></th>\n",
       "      <th>ACCOUNT NUMBER</th>\n",
       "      <th>SITE NUMBER</th>\n",
       "      <th>LEGAL NAME</th>\n",
       "      <th>DOING BUSINESS AS NAME</th>\n",
       "      <th>CITY</th>\n",
       "      <th>ZIP CODE</th>\n",
       "      <th>WARD</th>\n",
       "      <th>PRECINCT</th>\n",
       "      <th>POLICE DISTRICT</th>\n",
       "      <th>LICENSE CODE</th>\n",
       "      <th>LICENSE DESCRIPTION</th>\n",
       "      <th>APPLICATION TYPE</th>\n",
       "      <th>CONDITIONAL APPROVAL</th>\n",
       "      <th>SSA</th>\n",
       "      <th>LICENSE STATUS</th>\n",
       "      <th>PAYMENT YEAR</th>\n",
       "      <th>APPLICATION REQUIREMENTS COMPLETE YEAR</th>\n",
       "      <th>DATE ISSUED YEAR</th>\n",
       "      <th>LICENSE VALIDITY</th>\n",
       "      <th>LICENSE APPROVED YEAR</th>\n",
       "      <th>LEGAL TYPE</th>\n",
       "    </tr>\n",
       "  </thead>\n",
       "  <tbody>\n",
       "    <tr>\n",
       "      <th>0</th>\n",
       "      <td>32811</td>\n",
       "      <td>1</td>\n",
       "      <td>CARMEN CAHUE</td>\n",
       "      <td>CLAUDIA'S BRIDAL SHOP</td>\n",
       "      <td>CHICAGO</td>\n",
       "      <td>60623.0</td>\n",
       "      <td>22.0</td>\n",
       "      <td>28.0</td>\n",
       "      <td>10.0</td>\n",
       "      <td>1010</td>\n",
       "      <td>Limited Business License</td>\n",
       "      <td>RENEW</td>\n",
       "      <td>N</td>\n",
       "      <td>25.0</td>\n",
       "      <td>AAI</td>\n",
       "      <td>2002.0</td>\n",
       "      <td>2002.0</td>\n",
       "      <td>2006</td>\n",
       "      <td>1.0</td>\n",
       "      <td>2002.0</td>\n",
       "      <td>PVT</td>\n",
       "    </tr>\n",
       "    <tr>\n",
       "      <th>1</th>\n",
       "      <td>262311</td>\n",
       "      <td>29</td>\n",
       "      <td>ISLA TROPICAL, INC</td>\n",
       "      <td>ISLA TROPICAL</td>\n",
       "      <td>CHICAGO</td>\n",
       "      <td>60618</td>\n",
       "      <td>33.0</td>\n",
       "      <td>23.0</td>\n",
       "      <td>17.0</td>\n",
       "      <td>1315</td>\n",
       "      <td>Mobile Food Dispenser</td>\n",
       "      <td>RENEW</td>\n",
       "      <td>N</td>\n",
       "      <td>60.0</td>\n",
       "      <td>AAC</td>\n",
       "      <td>2005.0</td>\n",
       "      <td>2005.0</td>\n",
       "      <td>2006</td>\n",
       "      <td>1.0</td>\n",
       "      <td>2006.0</td>\n",
       "      <td>INC</td>\n",
       "    </tr>\n",
       "    <tr>\n",
       "      <th>2</th>\n",
       "      <td>345008</td>\n",
       "      <td>1</td>\n",
       "      <td>DJS REMODELING</td>\n",
       "      <td>DJS REMODELING, INC</td>\n",
       "      <td>HIGHLAND</td>\n",
       "      <td>60035</td>\n",
       "      <td>NaN</td>\n",
       "      <td>NaN</td>\n",
       "      <td>NaN</td>\n",
       "      <td>1011</td>\n",
       "      <td>Home Repair</td>\n",
       "      <td>ISSUE</td>\n",
       "      <td>N</td>\n",
       "      <td>NaN</td>\n",
       "      <td>AAI</td>\n",
       "      <td>2009.0</td>\n",
       "      <td>2009.0</td>\n",
       "      <td>2009</td>\n",
       "      <td>2.0</td>\n",
       "      <td>2009.0</td>\n",
       "      <td>INC</td>\n",
       "    </tr>\n",
       "    <tr>\n",
       "      <th>3</th>\n",
       "      <td>273121</td>\n",
       "      <td>1</td>\n",
       "      <td>ALL-BRY CONSTRUCTION CO</td>\n",
       "      <td>ALL-BRY CONSTRUCTION CO</td>\n",
       "      <td>LEMONT</td>\n",
       "      <td>60439</td>\n",
       "      <td>NaN</td>\n",
       "      <td>NaN</td>\n",
       "      <td>NaN</td>\n",
       "      <td>1010</td>\n",
       "      <td>Limited Business License</td>\n",
       "      <td>ISSUE</td>\n",
       "      <td>N</td>\n",
       "      <td>NaN</td>\n",
       "      <td>AAI</td>\n",
       "      <td>2004.0</td>\n",
       "      <td>2004.0</td>\n",
       "      <td>2004</td>\n",
       "      <td>1.0</td>\n",
       "      <td>2004.0</td>\n",
       "      <td>PVT</td>\n",
       "    </tr>\n",
       "    <tr>\n",
       "      <th>4</th>\n",
       "      <td>213785</td>\n",
       "      <td>1</td>\n",
       "      <td>MCDONOUGH MECHANICAL SERVICE</td>\n",
       "      <td>MCDONOUGH MECHANICAL SERVICE</td>\n",
       "      <td>WAUKEGAN</td>\n",
       "      <td>60087</td>\n",
       "      <td>NaN</td>\n",
       "      <td>NaN</td>\n",
       "      <td>NaN</td>\n",
       "      <td>1010</td>\n",
       "      <td>Limited Business License</td>\n",
       "      <td>RENEW</td>\n",
       "      <td>N</td>\n",
       "      <td>NaN</td>\n",
       "      <td>AAI</td>\n",
       "      <td>2008.0</td>\n",
       "      <td>2008.0</td>\n",
       "      <td>2008</td>\n",
       "      <td>2.0</td>\n",
       "      <td>2008.0</td>\n",
       "      <td>PVT</td>\n",
       "    </tr>\n",
       "  </tbody>\n",
       "</table>\n",
       "</div>"
      ],
      "text/plain": [
       "   ACCOUNT NUMBER  SITE NUMBER                    LEGAL NAME        DOING BUSINESS AS NAME      CITY ZIP CODE  WARD  PRECINCT  POLICE DISTRICT  LICENSE CODE       LICENSE DESCRIPTION APPLICATION TYPE CONDITIONAL APPROVAL   SSA LICENSE STATUS  PAYMENT YEAR  APPLICATION REQUIREMENTS COMPLETE YEAR  DATE ISSUED YEAR  LICENSE VALIDITY  LICENSE APPROVED YEAR LEGAL TYPE\n",
       "0           32811            1                  CARMEN CAHUE         CLAUDIA'S BRIDAL SHOP   CHICAGO  60623.0  22.0      28.0             10.0          1010  Limited Business License            RENEW                    N  25.0            AAI        2002.0                                  2002.0              2006               1.0                 2002.0        PVT\n",
       "1          262311           29            ISLA TROPICAL, INC                 ISLA TROPICAL   CHICAGO    60618  33.0      23.0             17.0          1315     Mobile Food Dispenser            RENEW                    N  60.0            AAC        2005.0                                  2005.0              2006               1.0                 2006.0        INC\n",
       "2          345008            1                DJS REMODELING           DJS REMODELING, INC  HIGHLAND    60035   NaN       NaN              NaN          1011               Home Repair            ISSUE                    N   NaN            AAI        2009.0                                  2009.0              2009               2.0                 2009.0        INC\n",
       "3          273121            1       ALL-BRY CONSTRUCTION CO       ALL-BRY CONSTRUCTION CO    LEMONT    60439   NaN       NaN              NaN          1010  Limited Business License            ISSUE                    N   NaN            AAI        2004.0                                  2004.0              2004               1.0                 2004.0        PVT\n",
       "4          213785            1  MCDONOUGH MECHANICAL SERVICE  MCDONOUGH MECHANICAL SERVICE  WAUKEGAN    60087   NaN       NaN              NaN          1010  Limited Business License            RENEW                    N   NaN            AAI        2008.0                                  2008.0              2008               2.0                 2008.0        PVT"
      ]
     },
     "execution_count": 56,
     "metadata": {},
     "output_type": "execute_result"
    }
   ],
   "source": [
    "train_data['LEGAL TYPE'] = np.where(train_data['LEGAL NAME'].str.contains('INC'), 'INC', train_data['LEGAL TYPE'])\n",
    "train_data['LEGAL TYPE'] = np.where(train_data['LEGAL NAME'].str.contains('INCORPORATED'), 'INC', train_data['LEGAL TYPE'])\n",
    "train_data['LEGAL TYPE'] = np.where(train_data['DOING BUSINESS AS NAME'].str.contains('INC'), 'INC', train_data['LEGAL TYPE'])\n",
    "train_data['LEGAL TYPE'] = np.where(train_data['DOING BUSINESS AS NAME'].str.contains('INCORPORATED'), 'INC', train_data['LEGAL TYPE'])\n",
    "train_data.head()"
   ]
  },
  {
   "cell_type": "code",
   "execution_count": 57,
   "metadata": {},
   "outputs": [
    {
     "data": {
      "text/html": [
       "<div>\n",
       "<style scoped>\n",
       "    .dataframe tbody tr th:only-of-type {\n",
       "        vertical-align: middle;\n",
       "    }\n",
       "\n",
       "    .dataframe tbody tr th {\n",
       "        vertical-align: top;\n",
       "    }\n",
       "\n",
       "    .dataframe thead th {\n",
       "        text-align: right;\n",
       "    }\n",
       "</style>\n",
       "<table border=\"1\" class=\"dataframe\">\n",
       "  <thead>\n",
       "    <tr style=\"text-align: right;\">\n",
       "      <th></th>\n",
       "      <th>ACCOUNT NUMBER</th>\n",
       "      <th>SITE NUMBER</th>\n",
       "      <th>LEGAL NAME</th>\n",
       "      <th>DOING BUSINESS AS NAME</th>\n",
       "      <th>CITY</th>\n",
       "      <th>ZIP CODE</th>\n",
       "      <th>WARD</th>\n",
       "      <th>PRECINCT</th>\n",
       "      <th>POLICE DISTRICT</th>\n",
       "      <th>LICENSE CODE</th>\n",
       "      <th>LICENSE DESCRIPTION</th>\n",
       "      <th>APPLICATION TYPE</th>\n",
       "      <th>CONDITIONAL APPROVAL</th>\n",
       "      <th>SSA</th>\n",
       "      <th>PAYMENT YEAR</th>\n",
       "      <th>APPLICATION REQUIREMENTS COMPLETE YEAR</th>\n",
       "      <th>DATE ISSUED YEAR</th>\n",
       "      <th>LICENSE VALIDITY</th>\n",
       "      <th>LICENSE APPROVED YEAR</th>\n",
       "      <th>LEGAL TYPE</th>\n",
       "    </tr>\n",
       "  </thead>\n",
       "  <tbody>\n",
       "    <tr>\n",
       "      <th>0</th>\n",
       "      <td>280120</td>\n",
       "      <td>1</td>\n",
       "      <td>RS HOMES I LLC</td>\n",
       "      <td>RS HOMES I LLC</td>\n",
       "      <td>CHICAGO</td>\n",
       "      <td>60610.0</td>\n",
       "      <td>42.0</td>\n",
       "      <td>67.0</td>\n",
       "      <td>18.0</td>\n",
       "      <td>1020</td>\n",
       "      <td>Residential Real Estate Developer</td>\n",
       "      <td>RENEW</td>\n",
       "      <td>N</td>\n",
       "      <td>NaN</td>\n",
       "      <td>2012.0</td>\n",
       "      <td>2011.0</td>\n",
       "      <td>2012</td>\n",
       "      <td>2.0</td>\n",
       "      <td>2012.0</td>\n",
       "      <td>PVT</td>\n",
       "    </tr>\n",
       "    <tr>\n",
       "      <th>1</th>\n",
       "      <td>65043</td>\n",
       "      <td>1</td>\n",
       "      <td>CSX INTERMODAL INC</td>\n",
       "      <td>CSX INTERMODAL</td>\n",
       "      <td>CHICAGO</td>\n",
       "      <td>60636.0</td>\n",
       "      <td>16.0</td>\n",
       "      <td>5.0</td>\n",
       "      <td>7.0</td>\n",
       "      <td>1010</td>\n",
       "      <td>Limited Business License</td>\n",
       "      <td>RENEW</td>\n",
       "      <td>N</td>\n",
       "      <td>NaN</td>\n",
       "      <td>2012.0</td>\n",
       "      <td>2011.0</td>\n",
       "      <td>2012</td>\n",
       "      <td>2.0</td>\n",
       "      <td>2012.0</td>\n",
       "      <td>INC</td>\n",
       "    </tr>\n",
       "    <tr>\n",
       "      <th>2</th>\n",
       "      <td>281270</td>\n",
       "      <td>1</td>\n",
       "      <td>LOCOMIBILE  LOFTS LLC</td>\n",
       "      <td>LOCOMOBILE LOFTS LLC</td>\n",
       "      <td>CHICAGO</td>\n",
       "      <td>60605.0</td>\n",
       "      <td>4.0</td>\n",
       "      <td>8.0</td>\n",
       "      <td>1.0</td>\n",
       "      <td>1020</td>\n",
       "      <td>Residential Real Estate Developer</td>\n",
       "      <td>RENEW</td>\n",
       "      <td>N</td>\n",
       "      <td>NaN</td>\n",
       "      <td>2004.0</td>\n",
       "      <td>2004.0</td>\n",
       "      <td>2004</td>\n",
       "      <td>1.0</td>\n",
       "      <td>2004.0</td>\n",
       "      <td>PVT</td>\n",
       "    </tr>\n",
       "    <tr>\n",
       "      <th>3</th>\n",
       "      <td>335243</td>\n",
       "      <td>1</td>\n",
       "      <td>ANNA F JAMISON</td>\n",
       "      <td>ANNA F JAMISON</td>\n",
       "      <td>CHICAGO</td>\n",
       "      <td>60827.0</td>\n",
       "      <td>9.0</td>\n",
       "      <td>33.0</td>\n",
       "      <td>5.0</td>\n",
       "      <td>1607</td>\n",
       "      <td>Peddler, non-food, special</td>\n",
       "      <td>RENEW</td>\n",
       "      <td>N</td>\n",
       "      <td>NaN</td>\n",
       "      <td>2010.0</td>\n",
       "      <td>2010.0</td>\n",
       "      <td>2010</td>\n",
       "      <td>2.0</td>\n",
       "      <td>NaN</td>\n",
       "      <td>PVT</td>\n",
       "    </tr>\n",
       "    <tr>\n",
       "      <th>4</th>\n",
       "      <td>283018</td>\n",
       "      <td>3</td>\n",
       "      <td>MARINCA A COVARRUBIAS</td>\n",
       "      <td>DETAILS</td>\n",
       "      <td>CHICAGO</td>\n",
       "      <td>60632.0</td>\n",
       "      <td>15.0</td>\n",
       "      <td>26.0</td>\n",
       "      <td>9.0</td>\n",
       "      <td>1010</td>\n",
       "      <td>Limited Business License</td>\n",
       "      <td>RENEW</td>\n",
       "      <td>N</td>\n",
       "      <td>39.0</td>\n",
       "      <td>2007.0</td>\n",
       "      <td>2007.0</td>\n",
       "      <td>2007</td>\n",
       "      <td>2.0</td>\n",
       "      <td>2007.0</td>\n",
       "      <td>INC</td>\n",
       "    </tr>\n",
       "  </tbody>\n",
       "</table>\n",
       "</div>"
      ],
      "text/plain": [
       "   ACCOUNT NUMBER  SITE NUMBER             LEGAL NAME DOING BUSINESS AS NAME     CITY  ZIP CODE  WARD  PRECINCT  POLICE DISTRICT  LICENSE CODE                LICENSE DESCRIPTION APPLICATION TYPE CONDITIONAL APPROVAL   SSA  PAYMENT YEAR  APPLICATION REQUIREMENTS COMPLETE YEAR  DATE ISSUED YEAR  LICENSE VALIDITY  LICENSE APPROVED YEAR LEGAL TYPE\n",
       "0          280120            1         RS HOMES I LLC         RS HOMES I LLC  CHICAGO   60610.0  42.0      67.0             18.0          1020  Residential Real Estate Developer            RENEW                    N   NaN        2012.0                                  2011.0              2012               2.0                 2012.0        PVT\n",
       "1           65043            1     CSX INTERMODAL INC         CSX INTERMODAL  CHICAGO   60636.0  16.0       5.0              7.0          1010           Limited Business License            RENEW                    N   NaN        2012.0                                  2011.0              2012               2.0                 2012.0        INC\n",
       "2          281270            1  LOCOMIBILE  LOFTS LLC   LOCOMOBILE LOFTS LLC  CHICAGO   60605.0   4.0       8.0              1.0          1020  Residential Real Estate Developer            RENEW                    N   NaN        2004.0                                  2004.0              2004               1.0                 2004.0        PVT\n",
       "3          335243            1         ANNA F JAMISON         ANNA F JAMISON  CHICAGO   60827.0   9.0      33.0              5.0          1607         Peddler, non-food, special            RENEW                    N   NaN        2010.0                                  2010.0              2010               2.0                    NaN        PVT\n",
       "4          283018            3  MARINCA A COVARRUBIAS                DETAILS  CHICAGO   60632.0  15.0      26.0              9.0          1010           Limited Business License            RENEW                    N  39.0        2007.0                                  2007.0              2007               2.0                 2007.0        INC"
      ]
     },
     "execution_count": 57,
     "metadata": {},
     "output_type": "execute_result"
    }
   ],
   "source": [
    "test_data['LEGAL TYPE'] = np.where(test_data['LEGAL NAME'].str.contains('INC'), 'INC', test_data['LEGAL TYPE'])\n",
    "test_data['LEGAL TYPE'] = np.where(test_data['LEGAL NAME'].str.contains('INCORPORATED'), 'INC', test_data['LEGAL TYPE'])\n",
    "test_data['LEGAL TYPE'] = np.where(test_data['DOING BUSINESS AS NAME'].str.contains('INC'), 'INC', test_data['LEGAL TYPE'])\n",
    "test_data['LEGAL TYPE'] = np.where(test_data['DOING BUSINESS AS NAME'].str.contains('INCORPORATED'), 'INC', test_data['LEGAL TYPE'])\n",
    "test_data.head()"
   ]
  },
  {
   "cell_type": "code",
   "execution_count": 58,
   "metadata": {},
   "outputs": [
    {
     "data": {
      "text/html": [
       "<div>\n",
       "<style scoped>\n",
       "    .dataframe tbody tr th:only-of-type {\n",
       "        vertical-align: middle;\n",
       "    }\n",
       "\n",
       "    .dataframe tbody tr th {\n",
       "        vertical-align: top;\n",
       "    }\n",
       "\n",
       "    .dataframe thead th {\n",
       "        text-align: right;\n",
       "    }\n",
       "</style>\n",
       "<table border=\"1\" class=\"dataframe\">\n",
       "  <thead>\n",
       "    <tr style=\"text-align: right;\">\n",
       "      <th></th>\n",
       "      <th>ACCOUNT NUMBER</th>\n",
       "      <th>SITE NUMBER</th>\n",
       "      <th>LEGAL NAME</th>\n",
       "      <th>DOING BUSINESS AS NAME</th>\n",
       "      <th>CITY</th>\n",
       "      <th>ZIP CODE</th>\n",
       "      <th>WARD</th>\n",
       "      <th>PRECINCT</th>\n",
       "      <th>POLICE DISTRICT</th>\n",
       "      <th>LICENSE CODE</th>\n",
       "      <th>LICENSE DESCRIPTION</th>\n",
       "      <th>APPLICATION TYPE</th>\n",
       "      <th>CONDITIONAL APPROVAL</th>\n",
       "      <th>SSA</th>\n",
       "      <th>LICENSE STATUS</th>\n",
       "      <th>PAYMENT YEAR</th>\n",
       "      <th>APPLICATION REQUIREMENTS COMPLETE YEAR</th>\n",
       "      <th>DATE ISSUED YEAR</th>\n",
       "      <th>LICENSE VALIDITY</th>\n",
       "      <th>LICENSE APPROVED YEAR</th>\n",
       "      <th>LEGAL TYPE</th>\n",
       "    </tr>\n",
       "  </thead>\n",
       "  <tbody>\n",
       "    <tr>\n",
       "      <th>0</th>\n",
       "      <td>32811</td>\n",
       "      <td>1</td>\n",
       "      <td>CARMEN CAHUE</td>\n",
       "      <td>CLAUDIA'S BRIDAL SHOP</td>\n",
       "      <td>CHICAGO</td>\n",
       "      <td>60623.0</td>\n",
       "      <td>22.0</td>\n",
       "      <td>28.0</td>\n",
       "      <td>10.0</td>\n",
       "      <td>1010</td>\n",
       "      <td>Limited Business License</td>\n",
       "      <td>RENEW</td>\n",
       "      <td>N</td>\n",
       "      <td>25.0</td>\n",
       "      <td>AAI</td>\n",
       "      <td>2002.0</td>\n",
       "      <td>2002.0</td>\n",
       "      <td>2006</td>\n",
       "      <td>1.0</td>\n",
       "      <td>2002.0</td>\n",
       "      <td>PVT</td>\n",
       "    </tr>\n",
       "    <tr>\n",
       "      <th>1</th>\n",
       "      <td>262311</td>\n",
       "      <td>29</td>\n",
       "      <td>ISLA TROPICAL, INC</td>\n",
       "      <td>ISLA TROPICAL</td>\n",
       "      <td>CHICAGO</td>\n",
       "      <td>60618</td>\n",
       "      <td>33.0</td>\n",
       "      <td>23.0</td>\n",
       "      <td>17.0</td>\n",
       "      <td>1315</td>\n",
       "      <td>Mobile Food Dispenser</td>\n",
       "      <td>RENEW</td>\n",
       "      <td>N</td>\n",
       "      <td>60.0</td>\n",
       "      <td>AAC</td>\n",
       "      <td>2005.0</td>\n",
       "      <td>2005.0</td>\n",
       "      <td>2006</td>\n",
       "      <td>1.0</td>\n",
       "      <td>2006.0</td>\n",
       "      <td>INC</td>\n",
       "    </tr>\n",
       "    <tr>\n",
       "      <th>2</th>\n",
       "      <td>345008</td>\n",
       "      <td>1</td>\n",
       "      <td>DJS REMODELING</td>\n",
       "      <td>DJS REMODELING, INC</td>\n",
       "      <td>HIGHLAND</td>\n",
       "      <td>60035</td>\n",
       "      <td>NaN</td>\n",
       "      <td>NaN</td>\n",
       "      <td>NaN</td>\n",
       "      <td>1011</td>\n",
       "      <td>Home Repair</td>\n",
       "      <td>ISSUE</td>\n",
       "      <td>N</td>\n",
       "      <td>NaN</td>\n",
       "      <td>AAI</td>\n",
       "      <td>2009.0</td>\n",
       "      <td>2009.0</td>\n",
       "      <td>2009</td>\n",
       "      <td>2.0</td>\n",
       "      <td>2009.0</td>\n",
       "      <td>INC</td>\n",
       "    </tr>\n",
       "    <tr>\n",
       "      <th>3</th>\n",
       "      <td>273121</td>\n",
       "      <td>1</td>\n",
       "      <td>ALL-BRY CONSTRUCTION CO</td>\n",
       "      <td>ALL-BRY CONSTRUCTION CO</td>\n",
       "      <td>LEMONT</td>\n",
       "      <td>60439</td>\n",
       "      <td>NaN</td>\n",
       "      <td>NaN</td>\n",
       "      <td>NaN</td>\n",
       "      <td>1010</td>\n",
       "      <td>Limited Business License</td>\n",
       "      <td>ISSUE</td>\n",
       "      <td>N</td>\n",
       "      <td>NaN</td>\n",
       "      <td>AAI</td>\n",
       "      <td>2004.0</td>\n",
       "      <td>2004.0</td>\n",
       "      <td>2004</td>\n",
       "      <td>1.0</td>\n",
       "      <td>2004.0</td>\n",
       "      <td>PVT</td>\n",
       "    </tr>\n",
       "    <tr>\n",
       "      <th>4</th>\n",
       "      <td>213785</td>\n",
       "      <td>1</td>\n",
       "      <td>MCDONOUGH MECHANICAL SERVICE</td>\n",
       "      <td>MCDONOUGH MECHANICAL SERVICE</td>\n",
       "      <td>WAUKEGAN</td>\n",
       "      <td>60087</td>\n",
       "      <td>NaN</td>\n",
       "      <td>NaN</td>\n",
       "      <td>NaN</td>\n",
       "      <td>1010</td>\n",
       "      <td>Limited Business License</td>\n",
       "      <td>RENEW</td>\n",
       "      <td>N</td>\n",
       "      <td>NaN</td>\n",
       "      <td>AAI</td>\n",
       "      <td>2008.0</td>\n",
       "      <td>2008.0</td>\n",
       "      <td>2008</td>\n",
       "      <td>2.0</td>\n",
       "      <td>2008.0</td>\n",
       "      <td>PVT</td>\n",
       "    </tr>\n",
       "  </tbody>\n",
       "</table>\n",
       "</div>"
      ],
      "text/plain": [
       "   ACCOUNT NUMBER  SITE NUMBER                    LEGAL NAME        DOING BUSINESS AS NAME      CITY ZIP CODE  WARD  PRECINCT  POLICE DISTRICT  LICENSE CODE       LICENSE DESCRIPTION APPLICATION TYPE CONDITIONAL APPROVAL   SSA LICENSE STATUS  PAYMENT YEAR  APPLICATION REQUIREMENTS COMPLETE YEAR  DATE ISSUED YEAR  LICENSE VALIDITY  LICENSE APPROVED YEAR LEGAL TYPE\n",
       "0           32811            1                  CARMEN CAHUE         CLAUDIA'S BRIDAL SHOP   CHICAGO  60623.0  22.0      28.0             10.0          1010  Limited Business License            RENEW                    N  25.0            AAI        2002.0                                  2002.0              2006               1.0                 2002.0        PVT\n",
       "1          262311           29            ISLA TROPICAL, INC                 ISLA TROPICAL   CHICAGO    60618  33.0      23.0             17.0          1315     Mobile Food Dispenser            RENEW                    N  60.0            AAC        2005.0                                  2005.0              2006               1.0                 2006.0        INC\n",
       "2          345008            1                DJS REMODELING           DJS REMODELING, INC  HIGHLAND    60035   NaN       NaN              NaN          1011               Home Repair            ISSUE                    N   NaN            AAI        2009.0                                  2009.0              2009               2.0                 2009.0        INC\n",
       "3          273121            1       ALL-BRY CONSTRUCTION CO       ALL-BRY CONSTRUCTION CO    LEMONT    60439   NaN       NaN              NaN          1010  Limited Business License            ISSUE                    N   NaN            AAI        2004.0                                  2004.0              2004               1.0                 2004.0        PVT\n",
       "4          213785            1  MCDONOUGH MECHANICAL SERVICE  MCDONOUGH MECHANICAL SERVICE  WAUKEGAN    60087   NaN       NaN              NaN          1010  Limited Business License            RENEW                    N   NaN            AAI        2008.0                                  2008.0              2008               2.0                 2008.0        PVT"
      ]
     },
     "execution_count": 58,
     "metadata": {},
     "output_type": "execute_result"
    }
   ],
   "source": [
    "train_data['LEGAL TYPE'] = np.where(train_data['LEGAL NAME'].str.contains('LLC'), 'LLC', train_data['LEGAL TYPE'])\n",
    "train_data['LEGAL TYPE'] = np.where(train_data['DOING BUSINESS AS NAME'].str.contains('LLC'), 'LLC', train_data['LEGAL TYPE'])\n",
    "train_data.head()"
   ]
  },
  {
   "cell_type": "code",
   "execution_count": 59,
   "metadata": {},
   "outputs": [
    {
     "data": {
      "text/html": [
       "<div>\n",
       "<style scoped>\n",
       "    .dataframe tbody tr th:only-of-type {\n",
       "        vertical-align: middle;\n",
       "    }\n",
       "\n",
       "    .dataframe tbody tr th {\n",
       "        vertical-align: top;\n",
       "    }\n",
       "\n",
       "    .dataframe thead th {\n",
       "        text-align: right;\n",
       "    }\n",
       "</style>\n",
       "<table border=\"1\" class=\"dataframe\">\n",
       "  <thead>\n",
       "    <tr style=\"text-align: right;\">\n",
       "      <th></th>\n",
       "      <th>ACCOUNT NUMBER</th>\n",
       "      <th>SITE NUMBER</th>\n",
       "      <th>LEGAL NAME</th>\n",
       "      <th>DOING BUSINESS AS NAME</th>\n",
       "      <th>CITY</th>\n",
       "      <th>ZIP CODE</th>\n",
       "      <th>WARD</th>\n",
       "      <th>PRECINCT</th>\n",
       "      <th>POLICE DISTRICT</th>\n",
       "      <th>LICENSE CODE</th>\n",
       "      <th>LICENSE DESCRIPTION</th>\n",
       "      <th>APPLICATION TYPE</th>\n",
       "      <th>CONDITIONAL APPROVAL</th>\n",
       "      <th>SSA</th>\n",
       "      <th>PAYMENT YEAR</th>\n",
       "      <th>APPLICATION REQUIREMENTS COMPLETE YEAR</th>\n",
       "      <th>DATE ISSUED YEAR</th>\n",
       "      <th>LICENSE VALIDITY</th>\n",
       "      <th>LICENSE APPROVED YEAR</th>\n",
       "      <th>LEGAL TYPE</th>\n",
       "    </tr>\n",
       "  </thead>\n",
       "  <tbody>\n",
       "    <tr>\n",
       "      <th>0</th>\n",
       "      <td>280120</td>\n",
       "      <td>1</td>\n",
       "      <td>RS HOMES I LLC</td>\n",
       "      <td>RS HOMES I LLC</td>\n",
       "      <td>CHICAGO</td>\n",
       "      <td>60610.0</td>\n",
       "      <td>42.0</td>\n",
       "      <td>67.0</td>\n",
       "      <td>18.0</td>\n",
       "      <td>1020</td>\n",
       "      <td>Residential Real Estate Developer</td>\n",
       "      <td>RENEW</td>\n",
       "      <td>N</td>\n",
       "      <td>NaN</td>\n",
       "      <td>2012.0</td>\n",
       "      <td>2011.0</td>\n",
       "      <td>2012</td>\n",
       "      <td>2.0</td>\n",
       "      <td>2012.0</td>\n",
       "      <td>LLC</td>\n",
       "    </tr>\n",
       "    <tr>\n",
       "      <th>1</th>\n",
       "      <td>65043</td>\n",
       "      <td>1</td>\n",
       "      <td>CSX INTERMODAL INC</td>\n",
       "      <td>CSX INTERMODAL</td>\n",
       "      <td>CHICAGO</td>\n",
       "      <td>60636.0</td>\n",
       "      <td>16.0</td>\n",
       "      <td>5.0</td>\n",
       "      <td>7.0</td>\n",
       "      <td>1010</td>\n",
       "      <td>Limited Business License</td>\n",
       "      <td>RENEW</td>\n",
       "      <td>N</td>\n",
       "      <td>NaN</td>\n",
       "      <td>2012.0</td>\n",
       "      <td>2011.0</td>\n",
       "      <td>2012</td>\n",
       "      <td>2.0</td>\n",
       "      <td>2012.0</td>\n",
       "      <td>INC</td>\n",
       "    </tr>\n",
       "    <tr>\n",
       "      <th>2</th>\n",
       "      <td>281270</td>\n",
       "      <td>1</td>\n",
       "      <td>LOCOMIBILE  LOFTS LLC</td>\n",
       "      <td>LOCOMOBILE LOFTS LLC</td>\n",
       "      <td>CHICAGO</td>\n",
       "      <td>60605.0</td>\n",
       "      <td>4.0</td>\n",
       "      <td>8.0</td>\n",
       "      <td>1.0</td>\n",
       "      <td>1020</td>\n",
       "      <td>Residential Real Estate Developer</td>\n",
       "      <td>RENEW</td>\n",
       "      <td>N</td>\n",
       "      <td>NaN</td>\n",
       "      <td>2004.0</td>\n",
       "      <td>2004.0</td>\n",
       "      <td>2004</td>\n",
       "      <td>1.0</td>\n",
       "      <td>2004.0</td>\n",
       "      <td>LLC</td>\n",
       "    </tr>\n",
       "    <tr>\n",
       "      <th>3</th>\n",
       "      <td>335243</td>\n",
       "      <td>1</td>\n",
       "      <td>ANNA F JAMISON</td>\n",
       "      <td>ANNA F JAMISON</td>\n",
       "      <td>CHICAGO</td>\n",
       "      <td>60827.0</td>\n",
       "      <td>9.0</td>\n",
       "      <td>33.0</td>\n",
       "      <td>5.0</td>\n",
       "      <td>1607</td>\n",
       "      <td>Peddler, non-food, special</td>\n",
       "      <td>RENEW</td>\n",
       "      <td>N</td>\n",
       "      <td>NaN</td>\n",
       "      <td>2010.0</td>\n",
       "      <td>2010.0</td>\n",
       "      <td>2010</td>\n",
       "      <td>2.0</td>\n",
       "      <td>NaN</td>\n",
       "      <td>PVT</td>\n",
       "    </tr>\n",
       "    <tr>\n",
       "      <th>4</th>\n",
       "      <td>283018</td>\n",
       "      <td>3</td>\n",
       "      <td>MARINCA A COVARRUBIAS</td>\n",
       "      <td>DETAILS</td>\n",
       "      <td>CHICAGO</td>\n",
       "      <td>60632.0</td>\n",
       "      <td>15.0</td>\n",
       "      <td>26.0</td>\n",
       "      <td>9.0</td>\n",
       "      <td>1010</td>\n",
       "      <td>Limited Business License</td>\n",
       "      <td>RENEW</td>\n",
       "      <td>N</td>\n",
       "      <td>39.0</td>\n",
       "      <td>2007.0</td>\n",
       "      <td>2007.0</td>\n",
       "      <td>2007</td>\n",
       "      <td>2.0</td>\n",
       "      <td>2007.0</td>\n",
       "      <td>INC</td>\n",
       "    </tr>\n",
       "  </tbody>\n",
       "</table>\n",
       "</div>"
      ],
      "text/plain": [
       "   ACCOUNT NUMBER  SITE NUMBER             LEGAL NAME DOING BUSINESS AS NAME     CITY  ZIP CODE  WARD  PRECINCT  POLICE DISTRICT  LICENSE CODE                LICENSE DESCRIPTION APPLICATION TYPE CONDITIONAL APPROVAL   SSA  PAYMENT YEAR  APPLICATION REQUIREMENTS COMPLETE YEAR  DATE ISSUED YEAR  LICENSE VALIDITY  LICENSE APPROVED YEAR LEGAL TYPE\n",
       "0          280120            1         RS HOMES I LLC         RS HOMES I LLC  CHICAGO   60610.0  42.0      67.0             18.0          1020  Residential Real Estate Developer            RENEW                    N   NaN        2012.0                                  2011.0              2012               2.0                 2012.0        LLC\n",
       "1           65043            1     CSX INTERMODAL INC         CSX INTERMODAL  CHICAGO   60636.0  16.0       5.0              7.0          1010           Limited Business License            RENEW                    N   NaN        2012.0                                  2011.0              2012               2.0                 2012.0        INC\n",
       "2          281270            1  LOCOMIBILE  LOFTS LLC   LOCOMOBILE LOFTS LLC  CHICAGO   60605.0   4.0       8.0              1.0          1020  Residential Real Estate Developer            RENEW                    N   NaN        2004.0                                  2004.0              2004               1.0                 2004.0        LLC\n",
       "3          335243            1         ANNA F JAMISON         ANNA F JAMISON  CHICAGO   60827.0   9.0      33.0              5.0          1607         Peddler, non-food, special            RENEW                    N   NaN        2010.0                                  2010.0              2010               2.0                    NaN        PVT\n",
       "4          283018            3  MARINCA A COVARRUBIAS                DETAILS  CHICAGO   60632.0  15.0      26.0              9.0          1010           Limited Business License            RENEW                    N  39.0        2007.0                                  2007.0              2007               2.0                 2007.0        INC"
      ]
     },
     "execution_count": 59,
     "metadata": {},
     "output_type": "execute_result"
    }
   ],
   "source": [
    "test_data['LEGAL TYPE'] = np.where(test_data['LEGAL NAME'].str.contains('LLC'), 'LLC', test_data['LEGAL TYPE'])\n",
    "test_data['LEGAL TYPE'] = np.where(test_data['DOING BUSINESS AS NAME'].str.contains('LLC'), 'LLC', test_data['LEGAL TYPE'])\n",
    "test_data.head()"
   ]
  },
  {
   "cell_type": "code",
   "execution_count": 60,
   "metadata": {},
   "outputs": [
    {
     "data": {
      "text/html": [
       "<div>\n",
       "<style scoped>\n",
       "    .dataframe tbody tr th:only-of-type {\n",
       "        vertical-align: middle;\n",
       "    }\n",
       "\n",
       "    .dataframe tbody tr th {\n",
       "        vertical-align: top;\n",
       "    }\n",
       "\n",
       "    .dataframe thead th {\n",
       "        text-align: right;\n",
       "    }\n",
       "</style>\n",
       "<table border=\"1\" class=\"dataframe\">\n",
       "  <thead>\n",
       "    <tr style=\"text-align: right;\">\n",
       "      <th></th>\n",
       "      <th>ACCOUNT NUMBER</th>\n",
       "      <th>SITE NUMBER</th>\n",
       "      <th>LEGAL NAME</th>\n",
       "      <th>DOING BUSINESS AS NAME</th>\n",
       "      <th>CITY</th>\n",
       "      <th>ZIP CODE</th>\n",
       "      <th>WARD</th>\n",
       "      <th>PRECINCT</th>\n",
       "      <th>POLICE DISTRICT</th>\n",
       "      <th>LICENSE CODE</th>\n",
       "      <th>LICENSE DESCRIPTION</th>\n",
       "      <th>APPLICATION TYPE</th>\n",
       "      <th>CONDITIONAL APPROVAL</th>\n",
       "      <th>SSA</th>\n",
       "      <th>LICENSE STATUS</th>\n",
       "      <th>PAYMENT YEAR</th>\n",
       "      <th>APPLICATION REQUIREMENTS COMPLETE YEAR</th>\n",
       "      <th>DATE ISSUED YEAR</th>\n",
       "      <th>LICENSE VALIDITY</th>\n",
       "      <th>LICENSE APPROVED YEAR</th>\n",
       "      <th>LEGAL TYPE</th>\n",
       "    </tr>\n",
       "  </thead>\n",
       "  <tbody>\n",
       "    <tr>\n",
       "      <th>0</th>\n",
       "      <td>32811</td>\n",
       "      <td>1</td>\n",
       "      <td>CARMEN CAHUE</td>\n",
       "      <td>CLAUDIA'S BRIDAL SHOP</td>\n",
       "      <td>CHICAGO</td>\n",
       "      <td>60623.0</td>\n",
       "      <td>22.0</td>\n",
       "      <td>28.0</td>\n",
       "      <td>10.0</td>\n",
       "      <td>1010</td>\n",
       "      <td>Limited Business License</td>\n",
       "      <td>RENEW</td>\n",
       "      <td>N</td>\n",
       "      <td>25.0</td>\n",
       "      <td>AAI</td>\n",
       "      <td>2002.0</td>\n",
       "      <td>2002.0</td>\n",
       "      <td>2006</td>\n",
       "      <td>1.0</td>\n",
       "      <td>2002.0</td>\n",
       "      <td>PVT</td>\n",
       "    </tr>\n",
       "    <tr>\n",
       "      <th>1</th>\n",
       "      <td>262311</td>\n",
       "      <td>29</td>\n",
       "      <td>ISLA TROPICAL, INC</td>\n",
       "      <td>ISLA TROPICAL</td>\n",
       "      <td>CHICAGO</td>\n",
       "      <td>60618</td>\n",
       "      <td>33.0</td>\n",
       "      <td>23.0</td>\n",
       "      <td>17.0</td>\n",
       "      <td>1315</td>\n",
       "      <td>Mobile Food Dispenser</td>\n",
       "      <td>RENEW</td>\n",
       "      <td>N</td>\n",
       "      <td>60.0</td>\n",
       "      <td>AAC</td>\n",
       "      <td>2005.0</td>\n",
       "      <td>2005.0</td>\n",
       "      <td>2006</td>\n",
       "      <td>1.0</td>\n",
       "      <td>2006.0</td>\n",
       "      <td>INC</td>\n",
       "    </tr>\n",
       "    <tr>\n",
       "      <th>2</th>\n",
       "      <td>345008</td>\n",
       "      <td>1</td>\n",
       "      <td>DJS REMODELING</td>\n",
       "      <td>DJS REMODELING, INC</td>\n",
       "      <td>HIGHLAND</td>\n",
       "      <td>60035</td>\n",
       "      <td>NaN</td>\n",
       "      <td>NaN</td>\n",
       "      <td>NaN</td>\n",
       "      <td>1011</td>\n",
       "      <td>Home Repair</td>\n",
       "      <td>ISSUE</td>\n",
       "      <td>N</td>\n",
       "      <td>NaN</td>\n",
       "      <td>AAI</td>\n",
       "      <td>2009.0</td>\n",
       "      <td>2009.0</td>\n",
       "      <td>2009</td>\n",
       "      <td>2.0</td>\n",
       "      <td>2009.0</td>\n",
       "      <td>INC</td>\n",
       "    </tr>\n",
       "    <tr>\n",
       "      <th>3</th>\n",
       "      <td>273121</td>\n",
       "      <td>1</td>\n",
       "      <td>ALL-BRY CONSTRUCTION CO</td>\n",
       "      <td>ALL-BRY CONSTRUCTION CO</td>\n",
       "      <td>LEMONT</td>\n",
       "      <td>60439</td>\n",
       "      <td>NaN</td>\n",
       "      <td>NaN</td>\n",
       "      <td>NaN</td>\n",
       "      <td>1010</td>\n",
       "      <td>Limited Business License</td>\n",
       "      <td>ISSUE</td>\n",
       "      <td>N</td>\n",
       "      <td>NaN</td>\n",
       "      <td>AAI</td>\n",
       "      <td>2004.0</td>\n",
       "      <td>2004.0</td>\n",
       "      <td>2004</td>\n",
       "      <td>1.0</td>\n",
       "      <td>2004.0</td>\n",
       "      <td>CORP</td>\n",
       "    </tr>\n",
       "    <tr>\n",
       "      <th>4</th>\n",
       "      <td>213785</td>\n",
       "      <td>1</td>\n",
       "      <td>MCDONOUGH MECHANICAL SERVICE</td>\n",
       "      <td>MCDONOUGH MECHANICAL SERVICE</td>\n",
       "      <td>WAUKEGAN</td>\n",
       "      <td>60087</td>\n",
       "      <td>NaN</td>\n",
       "      <td>NaN</td>\n",
       "      <td>NaN</td>\n",
       "      <td>1010</td>\n",
       "      <td>Limited Business License</td>\n",
       "      <td>RENEW</td>\n",
       "      <td>N</td>\n",
       "      <td>NaN</td>\n",
       "      <td>AAI</td>\n",
       "      <td>2008.0</td>\n",
       "      <td>2008.0</td>\n",
       "      <td>2008</td>\n",
       "      <td>2.0</td>\n",
       "      <td>2008.0</td>\n",
       "      <td>PVT</td>\n",
       "    </tr>\n",
       "  </tbody>\n",
       "</table>\n",
       "</div>"
      ],
      "text/plain": [
       "   ACCOUNT NUMBER  SITE NUMBER                    LEGAL NAME        DOING BUSINESS AS NAME      CITY ZIP CODE  WARD  PRECINCT  POLICE DISTRICT  LICENSE CODE       LICENSE DESCRIPTION APPLICATION TYPE CONDITIONAL APPROVAL   SSA LICENSE STATUS  PAYMENT YEAR  APPLICATION REQUIREMENTS COMPLETE YEAR  DATE ISSUED YEAR  LICENSE VALIDITY  LICENSE APPROVED YEAR LEGAL TYPE\n",
       "0           32811            1                  CARMEN CAHUE         CLAUDIA'S BRIDAL SHOP   CHICAGO  60623.0  22.0      28.0             10.0          1010  Limited Business License            RENEW                    N  25.0            AAI        2002.0                                  2002.0              2006               1.0                 2002.0        PVT\n",
       "1          262311           29            ISLA TROPICAL, INC                 ISLA TROPICAL   CHICAGO    60618  33.0      23.0             17.0          1315     Mobile Food Dispenser            RENEW                    N  60.0            AAC        2005.0                                  2005.0              2006               1.0                 2006.0        INC\n",
       "2          345008            1                DJS REMODELING           DJS REMODELING, INC  HIGHLAND    60035   NaN       NaN              NaN          1011               Home Repair            ISSUE                    N   NaN            AAI        2009.0                                  2009.0              2009               2.0                 2009.0        INC\n",
       "3          273121            1       ALL-BRY CONSTRUCTION CO       ALL-BRY CONSTRUCTION CO    LEMONT    60439   NaN       NaN              NaN          1010  Limited Business License            ISSUE                    N   NaN            AAI        2004.0                                  2004.0              2004               1.0                 2004.0       CORP\n",
       "4          213785            1  MCDONOUGH MECHANICAL SERVICE  MCDONOUGH MECHANICAL SERVICE  WAUKEGAN    60087   NaN       NaN              NaN          1010  Limited Business License            RENEW                    N   NaN            AAI        2008.0                                  2008.0              2008               2.0                 2008.0        PVT"
      ]
     },
     "execution_count": 60,
     "metadata": {},
     "output_type": "execute_result"
    }
   ],
   "source": [
    "train_data['LEGAL TYPE'] = np.where(train_data['LEGAL NAME'].str.contains('CO'), 'CORP', train_data['LEGAL TYPE'])\n",
    "train_data['LEGAL TYPE'] = np.where(train_data['LEGAL NAME'].str.contains('CORP'), 'CORP', train_data['LEGAL TYPE'])\n",
    "train_data['LEGAL TYPE'] = np.where(train_data['LEGAL NAME'].str.contains('CORPORATION'), 'CORP', train_data['LEGAL TYPE'])\n",
    "train_data['LEGAL TYPE'] = np.where(train_data['DOING BUSINESS AS NAME'].str.contains('CO'), 'CORP', train_data['LEGAL TYPE'])\n",
    "train_data['LEGAL TYPE'] = np.where(train_data['DOING BUSINESS AS NAME'].str.contains('CORP'), 'CORP', train_data['LEGAL TYPE'])\n",
    "train_data['LEGAL TYPE'] = np.where(train_data['DOING BUSINESS AS NAME'].str.contains('CORPORATION'), 'CORP', train_data['LEGAL TYPE'])\n",
    "train_data.head()"
   ]
  },
  {
   "cell_type": "code",
   "execution_count": 61,
   "metadata": {},
   "outputs": [
    {
     "data": {
      "text/html": [
       "<div>\n",
       "<style scoped>\n",
       "    .dataframe tbody tr th:only-of-type {\n",
       "        vertical-align: middle;\n",
       "    }\n",
       "\n",
       "    .dataframe tbody tr th {\n",
       "        vertical-align: top;\n",
       "    }\n",
       "\n",
       "    .dataframe thead th {\n",
       "        text-align: right;\n",
       "    }\n",
       "</style>\n",
       "<table border=\"1\" class=\"dataframe\">\n",
       "  <thead>\n",
       "    <tr style=\"text-align: right;\">\n",
       "      <th></th>\n",
       "      <th>ACCOUNT NUMBER</th>\n",
       "      <th>SITE NUMBER</th>\n",
       "      <th>LEGAL NAME</th>\n",
       "      <th>DOING BUSINESS AS NAME</th>\n",
       "      <th>CITY</th>\n",
       "      <th>ZIP CODE</th>\n",
       "      <th>WARD</th>\n",
       "      <th>PRECINCT</th>\n",
       "      <th>POLICE DISTRICT</th>\n",
       "      <th>LICENSE CODE</th>\n",
       "      <th>LICENSE DESCRIPTION</th>\n",
       "      <th>APPLICATION TYPE</th>\n",
       "      <th>CONDITIONAL APPROVAL</th>\n",
       "      <th>SSA</th>\n",
       "      <th>PAYMENT YEAR</th>\n",
       "      <th>APPLICATION REQUIREMENTS COMPLETE YEAR</th>\n",
       "      <th>DATE ISSUED YEAR</th>\n",
       "      <th>LICENSE VALIDITY</th>\n",
       "      <th>LICENSE APPROVED YEAR</th>\n",
       "      <th>LEGAL TYPE</th>\n",
       "    </tr>\n",
       "  </thead>\n",
       "  <tbody>\n",
       "    <tr>\n",
       "      <th>0</th>\n",
       "      <td>280120</td>\n",
       "      <td>1</td>\n",
       "      <td>RS HOMES I LLC</td>\n",
       "      <td>RS HOMES I LLC</td>\n",
       "      <td>CHICAGO</td>\n",
       "      <td>60610.0</td>\n",
       "      <td>42.0</td>\n",
       "      <td>67.0</td>\n",
       "      <td>18.0</td>\n",
       "      <td>1020</td>\n",
       "      <td>Residential Real Estate Developer</td>\n",
       "      <td>RENEW</td>\n",
       "      <td>N</td>\n",
       "      <td>NaN</td>\n",
       "      <td>2012.0</td>\n",
       "      <td>2011.0</td>\n",
       "      <td>2012</td>\n",
       "      <td>2.0</td>\n",
       "      <td>2012.0</td>\n",
       "      <td>LLC</td>\n",
       "    </tr>\n",
       "    <tr>\n",
       "      <th>1</th>\n",
       "      <td>65043</td>\n",
       "      <td>1</td>\n",
       "      <td>CSX INTERMODAL INC</td>\n",
       "      <td>CSX INTERMODAL</td>\n",
       "      <td>CHICAGO</td>\n",
       "      <td>60636.0</td>\n",
       "      <td>16.0</td>\n",
       "      <td>5.0</td>\n",
       "      <td>7.0</td>\n",
       "      <td>1010</td>\n",
       "      <td>Limited Business License</td>\n",
       "      <td>RENEW</td>\n",
       "      <td>N</td>\n",
       "      <td>NaN</td>\n",
       "      <td>2012.0</td>\n",
       "      <td>2011.0</td>\n",
       "      <td>2012</td>\n",
       "      <td>2.0</td>\n",
       "      <td>2012.0</td>\n",
       "      <td>INC</td>\n",
       "    </tr>\n",
       "    <tr>\n",
       "      <th>2</th>\n",
       "      <td>281270</td>\n",
       "      <td>1</td>\n",
       "      <td>LOCOMIBILE  LOFTS LLC</td>\n",
       "      <td>LOCOMOBILE LOFTS LLC</td>\n",
       "      <td>CHICAGO</td>\n",
       "      <td>60605.0</td>\n",
       "      <td>4.0</td>\n",
       "      <td>8.0</td>\n",
       "      <td>1.0</td>\n",
       "      <td>1020</td>\n",
       "      <td>Residential Real Estate Developer</td>\n",
       "      <td>RENEW</td>\n",
       "      <td>N</td>\n",
       "      <td>NaN</td>\n",
       "      <td>2004.0</td>\n",
       "      <td>2004.0</td>\n",
       "      <td>2004</td>\n",
       "      <td>1.0</td>\n",
       "      <td>2004.0</td>\n",
       "      <td>CORP</td>\n",
       "    </tr>\n",
       "    <tr>\n",
       "      <th>3</th>\n",
       "      <td>335243</td>\n",
       "      <td>1</td>\n",
       "      <td>ANNA F JAMISON</td>\n",
       "      <td>ANNA F JAMISON</td>\n",
       "      <td>CHICAGO</td>\n",
       "      <td>60827.0</td>\n",
       "      <td>9.0</td>\n",
       "      <td>33.0</td>\n",
       "      <td>5.0</td>\n",
       "      <td>1607</td>\n",
       "      <td>Peddler, non-food, special</td>\n",
       "      <td>RENEW</td>\n",
       "      <td>N</td>\n",
       "      <td>NaN</td>\n",
       "      <td>2010.0</td>\n",
       "      <td>2010.0</td>\n",
       "      <td>2010</td>\n",
       "      <td>2.0</td>\n",
       "      <td>NaN</td>\n",
       "      <td>PVT</td>\n",
       "    </tr>\n",
       "    <tr>\n",
       "      <th>4</th>\n",
       "      <td>283018</td>\n",
       "      <td>3</td>\n",
       "      <td>MARINCA A COVARRUBIAS</td>\n",
       "      <td>DETAILS</td>\n",
       "      <td>CHICAGO</td>\n",
       "      <td>60632.0</td>\n",
       "      <td>15.0</td>\n",
       "      <td>26.0</td>\n",
       "      <td>9.0</td>\n",
       "      <td>1010</td>\n",
       "      <td>Limited Business License</td>\n",
       "      <td>RENEW</td>\n",
       "      <td>N</td>\n",
       "      <td>39.0</td>\n",
       "      <td>2007.0</td>\n",
       "      <td>2007.0</td>\n",
       "      <td>2007</td>\n",
       "      <td>2.0</td>\n",
       "      <td>2007.0</td>\n",
       "      <td>CORP</td>\n",
       "    </tr>\n",
       "  </tbody>\n",
       "</table>\n",
       "</div>"
      ],
      "text/plain": [
       "   ACCOUNT NUMBER  SITE NUMBER             LEGAL NAME DOING BUSINESS AS NAME     CITY  ZIP CODE  WARD  PRECINCT  POLICE DISTRICT  LICENSE CODE                LICENSE DESCRIPTION APPLICATION TYPE CONDITIONAL APPROVAL   SSA  PAYMENT YEAR  APPLICATION REQUIREMENTS COMPLETE YEAR  DATE ISSUED YEAR  LICENSE VALIDITY  LICENSE APPROVED YEAR LEGAL TYPE\n",
       "0          280120            1         RS HOMES I LLC         RS HOMES I LLC  CHICAGO   60610.0  42.0      67.0             18.0          1020  Residential Real Estate Developer            RENEW                    N   NaN        2012.0                                  2011.0              2012               2.0                 2012.0        LLC\n",
       "1           65043            1     CSX INTERMODAL INC         CSX INTERMODAL  CHICAGO   60636.0  16.0       5.0              7.0          1010           Limited Business License            RENEW                    N   NaN        2012.0                                  2011.0              2012               2.0                 2012.0        INC\n",
       "2          281270            1  LOCOMIBILE  LOFTS LLC   LOCOMOBILE LOFTS LLC  CHICAGO   60605.0   4.0       8.0              1.0          1020  Residential Real Estate Developer            RENEW                    N   NaN        2004.0                                  2004.0              2004               1.0                 2004.0       CORP\n",
       "3          335243            1         ANNA F JAMISON         ANNA F JAMISON  CHICAGO   60827.0   9.0      33.0              5.0          1607         Peddler, non-food, special            RENEW                    N   NaN        2010.0                                  2010.0              2010               2.0                    NaN        PVT\n",
       "4          283018            3  MARINCA A COVARRUBIAS                DETAILS  CHICAGO   60632.0  15.0      26.0              9.0          1010           Limited Business License            RENEW                    N  39.0        2007.0                                  2007.0              2007               2.0                 2007.0       CORP"
      ]
     },
     "execution_count": 61,
     "metadata": {},
     "output_type": "execute_result"
    }
   ],
   "source": [
    "test_data['LEGAL TYPE'] = np.where(test_data['LEGAL NAME'].str.contains('CO'), 'CORP', test_data['LEGAL TYPE'])\n",
    "test_data['LEGAL TYPE'] = np.where(test_data['LEGAL NAME'].str.contains('CORP'), 'CORP', test_data['LEGAL TYPE'])\n",
    "test_data['LEGAL TYPE'] = np.where(test_data['LEGAL NAME'].str.contains('CORPORATION'), 'CORP', test_data['LEGAL TYPE'])\n",
    "test_data['LEGAL TYPE'] = np.where(test_data['DOING BUSINESS AS NAME'].str.contains('CO'), 'CORP', test_data['LEGAL TYPE'])\n",
    "test_data['LEGAL TYPE'] = np.where(test_data['DOING BUSINESS AS NAME'].str.contains('CORP'), 'CORP', test_data['LEGAL TYPE'])\n",
    "test_data['LEGAL TYPE'] = np.where(test_data['DOING BUSINESS AS NAME'].str.contains('CORPORATION'), 'CORP', test_data['LEGAL TYPE'])\n",
    "test_data.head()"
   ]
  },
  {
   "cell_type": "code",
   "execution_count": 62,
   "metadata": {},
   "outputs": [
    {
     "data": {
      "text/html": [
       "<div>\n",
       "<style scoped>\n",
       "    .dataframe tbody tr th:only-of-type {\n",
       "        vertical-align: middle;\n",
       "    }\n",
       "\n",
       "    .dataframe tbody tr th {\n",
       "        vertical-align: top;\n",
       "    }\n",
       "\n",
       "    .dataframe thead th {\n",
       "        text-align: right;\n",
       "    }\n",
       "</style>\n",
       "<table border=\"1\" class=\"dataframe\">\n",
       "  <thead>\n",
       "    <tr style=\"text-align: right;\">\n",
       "      <th></th>\n",
       "      <th>ACCOUNT NUMBER</th>\n",
       "      <th>SITE NUMBER</th>\n",
       "      <th>LEGAL NAME</th>\n",
       "      <th>DOING BUSINESS AS NAME</th>\n",
       "      <th>CITY</th>\n",
       "      <th>ZIP CODE</th>\n",
       "      <th>WARD</th>\n",
       "      <th>PRECINCT</th>\n",
       "      <th>POLICE DISTRICT</th>\n",
       "      <th>LICENSE CODE</th>\n",
       "      <th>LICENSE DESCRIPTION</th>\n",
       "      <th>APPLICATION TYPE</th>\n",
       "      <th>CONDITIONAL APPROVAL</th>\n",
       "      <th>SSA</th>\n",
       "      <th>LICENSE STATUS</th>\n",
       "      <th>PAYMENT YEAR</th>\n",
       "      <th>APPLICATION REQUIREMENTS COMPLETE YEAR</th>\n",
       "      <th>DATE ISSUED YEAR</th>\n",
       "      <th>LICENSE VALIDITY</th>\n",
       "      <th>LICENSE APPROVED YEAR</th>\n",
       "      <th>LEGAL TYPE</th>\n",
       "    </tr>\n",
       "  </thead>\n",
       "  <tbody>\n",
       "    <tr>\n",
       "      <th>0</th>\n",
       "      <td>32811</td>\n",
       "      <td>1</td>\n",
       "      <td>CARMEN CAHUE</td>\n",
       "      <td>CLAUDIA'S BRIDAL SHOP</td>\n",
       "      <td>CHICAGO</td>\n",
       "      <td>60623.0</td>\n",
       "      <td>22.0</td>\n",
       "      <td>28.0</td>\n",
       "      <td>10.0</td>\n",
       "      <td>1010</td>\n",
       "      <td>Limited Business License</td>\n",
       "      <td>RENEW</td>\n",
       "      <td>N</td>\n",
       "      <td>25.0</td>\n",
       "      <td>AAI</td>\n",
       "      <td>2002.0</td>\n",
       "      <td>2002.0</td>\n",
       "      <td>2006</td>\n",
       "      <td>1.0</td>\n",
       "      <td>2002.0</td>\n",
       "      <td>PVT</td>\n",
       "    </tr>\n",
       "    <tr>\n",
       "      <th>1</th>\n",
       "      <td>262311</td>\n",
       "      <td>29</td>\n",
       "      <td>ISLA TROPICAL, INC</td>\n",
       "      <td>ISLA TROPICAL</td>\n",
       "      <td>CHICAGO</td>\n",
       "      <td>60618</td>\n",
       "      <td>33.0</td>\n",
       "      <td>23.0</td>\n",
       "      <td>17.0</td>\n",
       "      <td>1315</td>\n",
       "      <td>Mobile Food Dispenser</td>\n",
       "      <td>RENEW</td>\n",
       "      <td>N</td>\n",
       "      <td>60.0</td>\n",
       "      <td>AAC</td>\n",
       "      <td>2005.0</td>\n",
       "      <td>2005.0</td>\n",
       "      <td>2006</td>\n",
       "      <td>1.0</td>\n",
       "      <td>2006.0</td>\n",
       "      <td>INC</td>\n",
       "    </tr>\n",
       "    <tr>\n",
       "      <th>2</th>\n",
       "      <td>345008</td>\n",
       "      <td>1</td>\n",
       "      <td>DJS REMODELING</td>\n",
       "      <td>DJS REMODELING, INC</td>\n",
       "      <td>HIGHLAND</td>\n",
       "      <td>60035</td>\n",
       "      <td>NaN</td>\n",
       "      <td>NaN</td>\n",
       "      <td>NaN</td>\n",
       "      <td>1011</td>\n",
       "      <td>Home Repair</td>\n",
       "      <td>ISSUE</td>\n",
       "      <td>N</td>\n",
       "      <td>NaN</td>\n",
       "      <td>AAI</td>\n",
       "      <td>2009.0</td>\n",
       "      <td>2009.0</td>\n",
       "      <td>2009</td>\n",
       "      <td>2.0</td>\n",
       "      <td>2009.0</td>\n",
       "      <td>INC</td>\n",
       "    </tr>\n",
       "    <tr>\n",
       "      <th>3</th>\n",
       "      <td>273121</td>\n",
       "      <td>1</td>\n",
       "      <td>ALL-BRY CONSTRUCTION CO</td>\n",
       "      <td>ALL-BRY CONSTRUCTION CO</td>\n",
       "      <td>LEMONT</td>\n",
       "      <td>60439</td>\n",
       "      <td>NaN</td>\n",
       "      <td>NaN</td>\n",
       "      <td>NaN</td>\n",
       "      <td>1010</td>\n",
       "      <td>Limited Business License</td>\n",
       "      <td>ISSUE</td>\n",
       "      <td>N</td>\n",
       "      <td>NaN</td>\n",
       "      <td>AAI</td>\n",
       "      <td>2004.0</td>\n",
       "      <td>2004.0</td>\n",
       "      <td>2004</td>\n",
       "      <td>1.0</td>\n",
       "      <td>2004.0</td>\n",
       "      <td>CORP</td>\n",
       "    </tr>\n",
       "    <tr>\n",
       "      <th>4</th>\n",
       "      <td>213785</td>\n",
       "      <td>1</td>\n",
       "      <td>MCDONOUGH MECHANICAL SERVICE</td>\n",
       "      <td>MCDONOUGH MECHANICAL SERVICE</td>\n",
       "      <td>WAUKEGAN</td>\n",
       "      <td>60087</td>\n",
       "      <td>NaN</td>\n",
       "      <td>NaN</td>\n",
       "      <td>NaN</td>\n",
       "      <td>1010</td>\n",
       "      <td>Limited Business License</td>\n",
       "      <td>RENEW</td>\n",
       "      <td>N</td>\n",
       "      <td>NaN</td>\n",
       "      <td>AAI</td>\n",
       "      <td>2008.0</td>\n",
       "      <td>2008.0</td>\n",
       "      <td>2008</td>\n",
       "      <td>2.0</td>\n",
       "      <td>2008.0</td>\n",
       "      <td>PVT</td>\n",
       "    </tr>\n",
       "  </tbody>\n",
       "</table>\n",
       "</div>"
      ],
      "text/plain": [
       "   ACCOUNT NUMBER  SITE NUMBER                    LEGAL NAME        DOING BUSINESS AS NAME      CITY ZIP CODE  WARD  PRECINCT  POLICE DISTRICT  LICENSE CODE       LICENSE DESCRIPTION APPLICATION TYPE CONDITIONAL APPROVAL   SSA LICENSE STATUS  PAYMENT YEAR  APPLICATION REQUIREMENTS COMPLETE YEAR  DATE ISSUED YEAR  LICENSE VALIDITY  LICENSE APPROVED YEAR LEGAL TYPE\n",
       "0           32811            1                  CARMEN CAHUE         CLAUDIA'S BRIDAL SHOP   CHICAGO  60623.0  22.0      28.0             10.0          1010  Limited Business License            RENEW                    N  25.0            AAI        2002.0                                  2002.0              2006               1.0                 2002.0        PVT\n",
       "1          262311           29            ISLA TROPICAL, INC                 ISLA TROPICAL   CHICAGO    60618  33.0      23.0             17.0          1315     Mobile Food Dispenser            RENEW                    N  60.0            AAC        2005.0                                  2005.0              2006               1.0                 2006.0        INC\n",
       "2          345008            1                DJS REMODELING           DJS REMODELING, INC  HIGHLAND    60035   NaN       NaN              NaN          1011               Home Repair            ISSUE                    N   NaN            AAI        2009.0                                  2009.0              2009               2.0                 2009.0        INC\n",
       "3          273121            1       ALL-BRY CONSTRUCTION CO       ALL-BRY CONSTRUCTION CO    LEMONT    60439   NaN       NaN              NaN          1010  Limited Business License            ISSUE                    N   NaN            AAI        2004.0                                  2004.0              2004               1.0                 2004.0       CORP\n",
       "4          213785            1  MCDONOUGH MECHANICAL SERVICE  MCDONOUGH MECHANICAL SERVICE  WAUKEGAN    60087   NaN       NaN              NaN          1010  Limited Business License            RENEW                    N   NaN            AAI        2008.0                                  2008.0              2008               2.0                 2008.0        PVT"
      ]
     },
     "execution_count": 62,
     "metadata": {},
     "output_type": "execute_result"
    }
   ],
   "source": [
    "train_data['LEGAL TYPE'] = np.where(train_data['LEGAL NAME'].str.contains('LTD'), 'LTD', train_data['LEGAL TYPE'])\n",
    "train_data['LEGAL TYPE'] = np.where(train_data['LEGAL NAME'].str.contains('LIMITED'), 'LTD', train_data['LEGAL TYPE'])\n",
    "train_data['LEGAL TYPE'] = np.where(train_data['DOING BUSINESS AS NAME'].str.contains('LTD'), 'LTD', train_data['LEGAL TYPE'])\n",
    "train_data['LEGAL TYPE'] = np.where(train_data['DOING BUSINESS AS NAME'].str.contains('LIMITED'), 'LTD', train_data['LEGAL TYPE'])\n",
    "train_data.head()"
   ]
  },
  {
   "cell_type": "code",
   "execution_count": 63,
   "metadata": {},
   "outputs": [
    {
     "data": {
      "text/html": [
       "<div>\n",
       "<style scoped>\n",
       "    .dataframe tbody tr th:only-of-type {\n",
       "        vertical-align: middle;\n",
       "    }\n",
       "\n",
       "    .dataframe tbody tr th {\n",
       "        vertical-align: top;\n",
       "    }\n",
       "\n",
       "    .dataframe thead th {\n",
       "        text-align: right;\n",
       "    }\n",
       "</style>\n",
       "<table border=\"1\" class=\"dataframe\">\n",
       "  <thead>\n",
       "    <tr style=\"text-align: right;\">\n",
       "      <th></th>\n",
       "      <th>ACCOUNT NUMBER</th>\n",
       "      <th>SITE NUMBER</th>\n",
       "      <th>LEGAL NAME</th>\n",
       "      <th>DOING BUSINESS AS NAME</th>\n",
       "      <th>CITY</th>\n",
       "      <th>ZIP CODE</th>\n",
       "      <th>WARD</th>\n",
       "      <th>PRECINCT</th>\n",
       "      <th>POLICE DISTRICT</th>\n",
       "      <th>LICENSE CODE</th>\n",
       "      <th>LICENSE DESCRIPTION</th>\n",
       "      <th>APPLICATION TYPE</th>\n",
       "      <th>CONDITIONAL APPROVAL</th>\n",
       "      <th>SSA</th>\n",
       "      <th>PAYMENT YEAR</th>\n",
       "      <th>APPLICATION REQUIREMENTS COMPLETE YEAR</th>\n",
       "      <th>DATE ISSUED YEAR</th>\n",
       "      <th>LICENSE VALIDITY</th>\n",
       "      <th>LICENSE APPROVED YEAR</th>\n",
       "      <th>LEGAL TYPE</th>\n",
       "    </tr>\n",
       "  </thead>\n",
       "  <tbody>\n",
       "    <tr>\n",
       "      <th>0</th>\n",
       "      <td>280120</td>\n",
       "      <td>1</td>\n",
       "      <td>RS HOMES I LLC</td>\n",
       "      <td>RS HOMES I LLC</td>\n",
       "      <td>CHICAGO</td>\n",
       "      <td>60610.0</td>\n",
       "      <td>42.0</td>\n",
       "      <td>67.0</td>\n",
       "      <td>18.0</td>\n",
       "      <td>1020</td>\n",
       "      <td>Residential Real Estate Developer</td>\n",
       "      <td>RENEW</td>\n",
       "      <td>N</td>\n",
       "      <td>NaN</td>\n",
       "      <td>2012.0</td>\n",
       "      <td>2011.0</td>\n",
       "      <td>2012</td>\n",
       "      <td>2.0</td>\n",
       "      <td>2012.0</td>\n",
       "      <td>LLC</td>\n",
       "    </tr>\n",
       "    <tr>\n",
       "      <th>1</th>\n",
       "      <td>65043</td>\n",
       "      <td>1</td>\n",
       "      <td>CSX INTERMODAL INC</td>\n",
       "      <td>CSX INTERMODAL</td>\n",
       "      <td>CHICAGO</td>\n",
       "      <td>60636.0</td>\n",
       "      <td>16.0</td>\n",
       "      <td>5.0</td>\n",
       "      <td>7.0</td>\n",
       "      <td>1010</td>\n",
       "      <td>Limited Business License</td>\n",
       "      <td>RENEW</td>\n",
       "      <td>N</td>\n",
       "      <td>NaN</td>\n",
       "      <td>2012.0</td>\n",
       "      <td>2011.0</td>\n",
       "      <td>2012</td>\n",
       "      <td>2.0</td>\n",
       "      <td>2012.0</td>\n",
       "      <td>INC</td>\n",
       "    </tr>\n",
       "    <tr>\n",
       "      <th>2</th>\n",
       "      <td>281270</td>\n",
       "      <td>1</td>\n",
       "      <td>LOCOMIBILE  LOFTS LLC</td>\n",
       "      <td>LOCOMOBILE LOFTS LLC</td>\n",
       "      <td>CHICAGO</td>\n",
       "      <td>60605.0</td>\n",
       "      <td>4.0</td>\n",
       "      <td>8.0</td>\n",
       "      <td>1.0</td>\n",
       "      <td>1020</td>\n",
       "      <td>Residential Real Estate Developer</td>\n",
       "      <td>RENEW</td>\n",
       "      <td>N</td>\n",
       "      <td>NaN</td>\n",
       "      <td>2004.0</td>\n",
       "      <td>2004.0</td>\n",
       "      <td>2004</td>\n",
       "      <td>1.0</td>\n",
       "      <td>2004.0</td>\n",
       "      <td>CORP</td>\n",
       "    </tr>\n",
       "    <tr>\n",
       "      <th>3</th>\n",
       "      <td>335243</td>\n",
       "      <td>1</td>\n",
       "      <td>ANNA F JAMISON</td>\n",
       "      <td>ANNA F JAMISON</td>\n",
       "      <td>CHICAGO</td>\n",
       "      <td>60827.0</td>\n",
       "      <td>9.0</td>\n",
       "      <td>33.0</td>\n",
       "      <td>5.0</td>\n",
       "      <td>1607</td>\n",
       "      <td>Peddler, non-food, special</td>\n",
       "      <td>RENEW</td>\n",
       "      <td>N</td>\n",
       "      <td>NaN</td>\n",
       "      <td>2010.0</td>\n",
       "      <td>2010.0</td>\n",
       "      <td>2010</td>\n",
       "      <td>2.0</td>\n",
       "      <td>NaN</td>\n",
       "      <td>PVT</td>\n",
       "    </tr>\n",
       "    <tr>\n",
       "      <th>4</th>\n",
       "      <td>283018</td>\n",
       "      <td>3</td>\n",
       "      <td>MARINCA A COVARRUBIAS</td>\n",
       "      <td>DETAILS</td>\n",
       "      <td>CHICAGO</td>\n",
       "      <td>60632.0</td>\n",
       "      <td>15.0</td>\n",
       "      <td>26.0</td>\n",
       "      <td>9.0</td>\n",
       "      <td>1010</td>\n",
       "      <td>Limited Business License</td>\n",
       "      <td>RENEW</td>\n",
       "      <td>N</td>\n",
       "      <td>39.0</td>\n",
       "      <td>2007.0</td>\n",
       "      <td>2007.0</td>\n",
       "      <td>2007</td>\n",
       "      <td>2.0</td>\n",
       "      <td>2007.0</td>\n",
       "      <td>CORP</td>\n",
       "    </tr>\n",
       "  </tbody>\n",
       "</table>\n",
       "</div>"
      ],
      "text/plain": [
       "   ACCOUNT NUMBER  SITE NUMBER             LEGAL NAME DOING BUSINESS AS NAME     CITY  ZIP CODE  WARD  PRECINCT  POLICE DISTRICT  LICENSE CODE                LICENSE DESCRIPTION APPLICATION TYPE CONDITIONAL APPROVAL   SSA  PAYMENT YEAR  APPLICATION REQUIREMENTS COMPLETE YEAR  DATE ISSUED YEAR  LICENSE VALIDITY  LICENSE APPROVED YEAR LEGAL TYPE\n",
       "0          280120            1         RS HOMES I LLC         RS HOMES I LLC  CHICAGO   60610.0  42.0      67.0             18.0          1020  Residential Real Estate Developer            RENEW                    N   NaN        2012.0                                  2011.0              2012               2.0                 2012.0        LLC\n",
       "1           65043            1     CSX INTERMODAL INC         CSX INTERMODAL  CHICAGO   60636.0  16.0       5.0              7.0          1010           Limited Business License            RENEW                    N   NaN        2012.0                                  2011.0              2012               2.0                 2012.0        INC\n",
       "2          281270            1  LOCOMIBILE  LOFTS LLC   LOCOMOBILE LOFTS LLC  CHICAGO   60605.0   4.0       8.0              1.0          1020  Residential Real Estate Developer            RENEW                    N   NaN        2004.0                                  2004.0              2004               1.0                 2004.0       CORP\n",
       "3          335243            1         ANNA F JAMISON         ANNA F JAMISON  CHICAGO   60827.0   9.0      33.0              5.0          1607         Peddler, non-food, special            RENEW                    N   NaN        2010.0                                  2010.0              2010               2.0                    NaN        PVT\n",
       "4          283018            3  MARINCA A COVARRUBIAS                DETAILS  CHICAGO   60632.0  15.0      26.0              9.0          1010           Limited Business License            RENEW                    N  39.0        2007.0                                  2007.0              2007               2.0                 2007.0       CORP"
      ]
     },
     "execution_count": 63,
     "metadata": {},
     "output_type": "execute_result"
    }
   ],
   "source": [
    "test_data['LEGAL TYPE'] = np.where(test_data['LEGAL NAME'].str.contains('LTD'), 'LTD', test_data['LEGAL TYPE'])\n",
    "test_data['LEGAL TYPE'] = np.where(test_data['LEGAL NAME'].str.contains('LIMITED'), 'LTD', test_data['LEGAL TYPE'])\n",
    "test_data['LEGAL TYPE'] = np.where(test_data['DOING BUSINESS AS NAME'].str.contains('LTD'), 'LTD', test_data['LEGAL TYPE'])\n",
    "test_data['LEGAL TYPE'] = np.where(test_data['DOING BUSINESS AS NAME'].str.contains('LIMITED'), 'LTD', test_data['LEGAL TYPE'])\n",
    "test_data.head()"
   ]
  },
  {
   "cell_type": "code",
   "execution_count": 64,
   "metadata": {},
   "outputs": [
    {
     "data": {
      "text/plain": [
       "CORP    27765\n",
       "PVT     27020\n",
       "INC     24447\n",
       "LLC      5048\n",
       "LTD      1615\n",
       "Name: LEGAL TYPE, dtype: int64"
      ]
     },
     "execution_count": 64,
     "metadata": {},
     "output_type": "execute_result"
    }
   ],
   "source": [
    "train_data['LEGAL TYPE'].value_counts()"
   ]
  },
  {
   "cell_type": "code",
   "execution_count": 65,
   "metadata": {},
   "outputs": [],
   "source": [
    "train_data = train_data.drop(['LEGAL NAME'], axis = 1)\n",
    "train_data = train_data.drop(['DOING BUSINESS AS NAME'], axis = 1)"
   ]
  },
  {
   "cell_type": "code",
   "execution_count": 66,
   "metadata": {},
   "outputs": [],
   "source": [
    "test_data = test_data.drop(['LEGAL NAME'], axis = 1)\n",
    "test_data = test_data.drop(['DOING BUSINESS AS NAME'], axis = 1)"
   ]
  },
  {
   "cell_type": "code",
   "execution_count": 67,
   "metadata": {},
   "outputs": [
    {
     "data": {
      "text/html": [
       "<div>\n",
       "<style scoped>\n",
       "    .dataframe tbody tr th:only-of-type {\n",
       "        vertical-align: middle;\n",
       "    }\n",
       "\n",
       "    .dataframe tbody tr th {\n",
       "        vertical-align: top;\n",
       "    }\n",
       "\n",
       "    .dataframe thead th {\n",
       "        text-align: right;\n",
       "    }\n",
       "</style>\n",
       "<table border=\"1\" class=\"dataframe\">\n",
       "  <thead>\n",
       "    <tr style=\"text-align: right;\">\n",
       "      <th></th>\n",
       "      <th>ACCOUNT NUMBER</th>\n",
       "      <th>SITE NUMBER</th>\n",
       "      <th>CITY</th>\n",
       "      <th>ZIP CODE</th>\n",
       "      <th>WARD</th>\n",
       "      <th>PRECINCT</th>\n",
       "      <th>POLICE DISTRICT</th>\n",
       "      <th>LICENSE CODE</th>\n",
       "      <th>LICENSE DESCRIPTION</th>\n",
       "      <th>APPLICATION TYPE</th>\n",
       "      <th>CONDITIONAL APPROVAL</th>\n",
       "      <th>SSA</th>\n",
       "      <th>LICENSE STATUS</th>\n",
       "      <th>PAYMENT YEAR</th>\n",
       "      <th>APPLICATION REQUIREMENTS COMPLETE YEAR</th>\n",
       "      <th>DATE ISSUED YEAR</th>\n",
       "      <th>LICENSE VALIDITY</th>\n",
       "      <th>LICENSE APPROVED YEAR</th>\n",
       "      <th>LEGAL TYPE</th>\n",
       "    </tr>\n",
       "  </thead>\n",
       "  <tbody>\n",
       "    <tr>\n",
       "      <th>0</th>\n",
       "      <td>32811</td>\n",
       "      <td>1</td>\n",
       "      <td>CHICAGO</td>\n",
       "      <td>60623.0</td>\n",
       "      <td>22.0</td>\n",
       "      <td>28.0</td>\n",
       "      <td>10.0</td>\n",
       "      <td>1010</td>\n",
       "      <td>Limited Business License</td>\n",
       "      <td>RENEW</td>\n",
       "      <td>N</td>\n",
       "      <td>25.0</td>\n",
       "      <td>AAI</td>\n",
       "      <td>2002.0</td>\n",
       "      <td>2002.0</td>\n",
       "      <td>2006</td>\n",
       "      <td>1.0</td>\n",
       "      <td>2002.0</td>\n",
       "      <td>PVT</td>\n",
       "    </tr>\n",
       "    <tr>\n",
       "      <th>1</th>\n",
       "      <td>262311</td>\n",
       "      <td>29</td>\n",
       "      <td>CHICAGO</td>\n",
       "      <td>60618</td>\n",
       "      <td>33.0</td>\n",
       "      <td>23.0</td>\n",
       "      <td>17.0</td>\n",
       "      <td>1315</td>\n",
       "      <td>Mobile Food Dispenser</td>\n",
       "      <td>RENEW</td>\n",
       "      <td>N</td>\n",
       "      <td>60.0</td>\n",
       "      <td>AAC</td>\n",
       "      <td>2005.0</td>\n",
       "      <td>2005.0</td>\n",
       "      <td>2006</td>\n",
       "      <td>1.0</td>\n",
       "      <td>2006.0</td>\n",
       "      <td>INC</td>\n",
       "    </tr>\n",
       "    <tr>\n",
       "      <th>2</th>\n",
       "      <td>345008</td>\n",
       "      <td>1</td>\n",
       "      <td>HIGHLAND</td>\n",
       "      <td>60035</td>\n",
       "      <td>NaN</td>\n",
       "      <td>NaN</td>\n",
       "      <td>NaN</td>\n",
       "      <td>1011</td>\n",
       "      <td>Home Repair</td>\n",
       "      <td>ISSUE</td>\n",
       "      <td>N</td>\n",
       "      <td>NaN</td>\n",
       "      <td>AAI</td>\n",
       "      <td>2009.0</td>\n",
       "      <td>2009.0</td>\n",
       "      <td>2009</td>\n",
       "      <td>2.0</td>\n",
       "      <td>2009.0</td>\n",
       "      <td>INC</td>\n",
       "    </tr>\n",
       "    <tr>\n",
       "      <th>3</th>\n",
       "      <td>273121</td>\n",
       "      <td>1</td>\n",
       "      <td>LEMONT</td>\n",
       "      <td>60439</td>\n",
       "      <td>NaN</td>\n",
       "      <td>NaN</td>\n",
       "      <td>NaN</td>\n",
       "      <td>1010</td>\n",
       "      <td>Limited Business License</td>\n",
       "      <td>ISSUE</td>\n",
       "      <td>N</td>\n",
       "      <td>NaN</td>\n",
       "      <td>AAI</td>\n",
       "      <td>2004.0</td>\n",
       "      <td>2004.0</td>\n",
       "      <td>2004</td>\n",
       "      <td>1.0</td>\n",
       "      <td>2004.0</td>\n",
       "      <td>CORP</td>\n",
       "    </tr>\n",
       "    <tr>\n",
       "      <th>4</th>\n",
       "      <td>213785</td>\n",
       "      <td>1</td>\n",
       "      <td>WAUKEGAN</td>\n",
       "      <td>60087</td>\n",
       "      <td>NaN</td>\n",
       "      <td>NaN</td>\n",
       "      <td>NaN</td>\n",
       "      <td>1010</td>\n",
       "      <td>Limited Business License</td>\n",
       "      <td>RENEW</td>\n",
       "      <td>N</td>\n",
       "      <td>NaN</td>\n",
       "      <td>AAI</td>\n",
       "      <td>2008.0</td>\n",
       "      <td>2008.0</td>\n",
       "      <td>2008</td>\n",
       "      <td>2.0</td>\n",
       "      <td>2008.0</td>\n",
       "      <td>PVT</td>\n",
       "    </tr>\n",
       "  </tbody>\n",
       "</table>\n",
       "</div>"
      ],
      "text/plain": [
       "   ACCOUNT NUMBER  SITE NUMBER      CITY ZIP CODE  WARD  PRECINCT  POLICE DISTRICT  LICENSE CODE       LICENSE DESCRIPTION APPLICATION TYPE CONDITIONAL APPROVAL   SSA LICENSE STATUS  PAYMENT YEAR  APPLICATION REQUIREMENTS COMPLETE YEAR  DATE ISSUED YEAR  LICENSE VALIDITY  LICENSE APPROVED YEAR LEGAL TYPE\n",
       "0           32811            1   CHICAGO  60623.0  22.0      28.0             10.0          1010  Limited Business License            RENEW                    N  25.0            AAI        2002.0                                  2002.0              2006               1.0                 2002.0        PVT\n",
       "1          262311           29   CHICAGO    60618  33.0      23.0             17.0          1315     Mobile Food Dispenser            RENEW                    N  60.0            AAC        2005.0                                  2005.0              2006               1.0                 2006.0        INC\n",
       "2          345008            1  HIGHLAND    60035   NaN       NaN              NaN          1011               Home Repair            ISSUE                    N   NaN            AAI        2009.0                                  2009.0              2009               2.0                 2009.0        INC\n",
       "3          273121            1    LEMONT    60439   NaN       NaN              NaN          1010  Limited Business License            ISSUE                    N   NaN            AAI        2004.0                                  2004.0              2004               1.0                 2004.0       CORP\n",
       "4          213785            1  WAUKEGAN    60087   NaN       NaN              NaN          1010  Limited Business License            RENEW                    N   NaN            AAI        2008.0                                  2008.0              2008               2.0                 2008.0        PVT"
      ]
     },
     "execution_count": 67,
     "metadata": {},
     "output_type": "execute_result"
    }
   ],
   "source": [
    "train_data.head()"
   ]
  },
  {
   "cell_type": "code",
   "execution_count": 68,
   "metadata": {},
   "outputs": [
    {
     "data": {
      "text/plain": [
       "Limited Business License                                        50078\n",
       "Home Repair                                                     10633\n",
       "Peddler                                                          3782\n",
       "Home Occupation                                                  2809\n",
       "Retail Food Establishment                                        2321\n",
       "Massage Therapist                                                1952\n",
       "Street Performer                                                 1889\n",
       "Scavenger, Private                                               1549\n",
       "Motor Vehicle Repair                                             1534\n",
       "Hazardous Materials                                              1126\n",
       "Residential Real Estate Developer                                1087\n",
       "Automatic Amusement Device Operator                               773\n",
       "Mobile Food Dispenser                                             525\n",
       "Day Care Center                                                   522\n",
       "Manufacturing Establishments                                      458\n",
       "Broker                                                            439\n",
       "Electronic Equipment Repair                                       325\n",
       "Consumption on Premises - Incidental Activity                     321\n",
       "Repossessor                                                       306\n",
       "Mobile Frozen Desserts Dispenser - Non-Motorized                  254\n",
       "Expediter                                                         221\n",
       "Tire Facilty                                                      194\n",
       "Package Goods                                                     174\n",
       "Auctioneer                                                        164\n",
       "Tavern                                                            151\n",
       "Junk Peddler                                                      132\n",
       "Hotel                                                             130\n",
       "Wholesale Food Establishment                                      127\n",
       "Massage Establishment                                             111\n",
       "Retail Computing Center                                           106\n",
       "Kennels and Catteries                                              96\n",
       "Board-Up Work                                                      92\n",
       "Public Place of Amusement                                          79\n",
       "Children's Activities Facilities                                   78\n",
       "Long-Term Care Facility                                            76\n",
       "Music and Dance                                                    75\n",
       "Laundry, Late Hour                                                 75\n",
       "Tobacco Vending Machine Operator                                   72\n",
       "Grooming Facility                                                  69\n",
       "Navy Pier - Outdoor Fixed                                          62\n",
       "Pet Shop                                                           62\n",
       "Animal Care Facility                                               61\n",
       "Filling Station                                                    61\n",
       "Vacation Rental                                                    54\n",
       "Body Piercing                                                      52\n",
       "Veterinary Hospital                                                52\n",
       "Single Room Occupancy Class I                                      49\n",
       "Raffles                                                            41\n",
       "Late Hour                                                          41\n",
       "Itinerant Merchant                                                 41\n",
       "Navy Pier Vendor (Non-Food)                                        40\n",
       "Outdoor Patio                                                      31\n",
       "Hospital                                                           29\n",
       "Day Labor Agency                                                   26\n",
       "Tobacco Vending, Individual                                        23\n",
       "Laboratories                                                       22\n",
       "Animal Exhibition                                                  22\n",
       "Night Care Privilege                                               21\n",
       "Tobacco Dealer Wholesale                                           18\n",
       "Accessory Garage                                                   17\n",
       "Bed-And-Breakfast Establishment                                    16\n",
       "Retail Food Est.-Supplemental License for Dog-Friendly Areas       15\n",
       "Single Room Occupancy Class II                                     15\n",
       "Riverwalk Venue Liquor License                                      9\n",
       "Explosives, Certificate of Fitness                                  9\n",
       "Produce Merchant                                                    8\n",
       "Caterer's Liquor License                                            8\n",
       "Humane Society                                                      8\n",
       "Public Place of Amusement-TCC                                       7\n",
       "Valet Parking Operator                                              7\n",
       "Secondhand Dealer - Children's Products                             6\n",
       "Pawnbroker                                                          5\n",
       "Bicycle Messenger Service                                           5\n",
       "Wrigley Field                                                       5\n",
       "Secondhand Dealer (No Valuable Objects)                             5\n",
       "Animal Care License                                                 4\n",
       "Performing Arts Venue                                               4\n",
       "Assisted Living/Shared Housing Establishment                        4\n",
       "Weapons Dealer                                                      4\n",
       "Regulated Business License                                          4\n",
       "Tobacco Sampler                                                     3\n",
       "Navy Pier - Mobile                                                  2\n",
       "Explosives                                                          2\n",
       "Private Booting Operation                                           2\n",
       "Airport Pushcart Liquor Midway - Class A                            1\n",
       "Guard Dog Service                                                   1\n",
       "Not-For-Profit Club                                                 1\n",
       "Airport Pushcart Liquor O'Hare - Class A                            1\n",
       "Motor Vehicle Services License                                      1\n",
       "Affiliation                                                         1\n",
       "Caterer's Registration (Liquor)                                     1\n",
       "Indoor Special Event                                                1\n",
       "Name: LICENSE DESCRIPTION, dtype: int64"
      ]
     },
     "execution_count": 68,
     "metadata": {},
     "output_type": "execute_result"
    }
   ],
   "source": [
    "train_data['LICENSE DESCRIPTION'] = train_data['LICENSE DESCRIPTION'].replace('Motor Vehicle Repair : Engine Only (Class II)', 'Motor Vehicle Repair')\n",
    "train_data['LICENSE DESCRIPTION'] = train_data['LICENSE DESCRIPTION'].replace('Motor Vehicle Repair: Engine/Body(Class III)', 'Motor Vehicle Repair')\n",
    "train_data['LICENSE DESCRIPTION'] = train_data['LICENSE DESCRIPTION'].replace('Motor Vehicle Repair; Specialty(Class I)', 'Motor Vehicle Repair')\n",
    "train_data['LICENSE DESCRIPTION'] = train_data['LICENSE DESCRIPTION'].replace('Day Care Center Under 2 Years', 'Day Care Center')\n",
    "train_data['LICENSE DESCRIPTION'] = train_data['LICENSE DESCRIPTION'].replace('Day Care Center 2 - 6 Years', 'Day Care Center')\n",
    "train_data['LICENSE DESCRIPTION'] = train_data['LICENSE DESCRIPTION'].replace('Day Care Center Under 2 and 2 - 6 Years', 'Day Care Center')\n",
    "train_data['LICENSE DESCRIPTION'] = train_data['LICENSE DESCRIPTION'].replace('Peddler, non-food', 'Peddler')\n",
    "train_data['LICENSE DESCRIPTION'] = train_data['LICENSE DESCRIPTION'].replace('Peddler, non-food, special', 'Peddler')\n",
    "train_data['LICENSE DESCRIPTION'] = train_data['LICENSE DESCRIPTION'].replace('Peddler, food (fruits and vegtables only)', 'Peddler')\n",
    "train_data['LICENSE DESCRIPTION'] = train_data['LICENSE DESCRIPTION'].replace('Peddler,food - (fruits and vegetables only) - special', 'Peddler')\n",
    "train_data['LICENSE DESCRIPTION'] = train_data['LICENSE DESCRIPTION'].replace('Tire Facilty Class I (100 - 1,000 Tires)', 'Tire Facilty')\n",
    "train_data['LICENSE DESCRIPTION'] = train_data['LICENSE DESCRIPTION'].replace('Tire Facility Class II (1,001 - 5,000 Tires)', 'Tire Facilty')\n",
    "train_data['LICENSE DESCRIPTION'] = train_data['LICENSE DESCRIPTION'].replace('Tire Facility Class III (5,001 - More Tires)', 'Tire Facilty')\n",
    "train_data['LICENSE DESCRIPTION'] = train_data['LICENSE DESCRIPTION'].replace('Repossessor Class A', 'Repossessor')\n",
    "train_data['LICENSE DESCRIPTION'] = train_data['LICENSE DESCRIPTION'].replace('Repossessor Class B', 'Repossessor')\n",
    "train_data['LICENSE DESCRIPTION'] = train_data['LICENSE DESCRIPTION'].replace('Repossessor Class B Employee', 'Repossessor')\n",
    "train_data['LICENSE DESCRIPTION'] = train_data['LICENSE DESCRIPTION'].replace('Expediter - Class B', 'Expediter')\n",
    "train_data['LICENSE DESCRIPTION'] = train_data['LICENSE DESCRIPTION'].replace('Expediter - Class A', 'Expediter')\n",
    "train_data['LICENSE DESCRIPTION'] = train_data['LICENSE DESCRIPTION'].replace('Expediter - Class B Employee', 'Expediter')\n",
    "train_data['LICENSE DESCRIPTION'] = train_data['LICENSE DESCRIPTION'].replace('Itinerant Merchant, Class II', 'Itinerant Merchant')\n",
    "train_data['LICENSE DESCRIPTION'] = train_data['LICENSE DESCRIPTION'].replace('Itinerant Merchant, Class I', 'Itinerant Merchant')\n",
    "train_data['LICENSE DESCRIPTION'].value_counts()"
   ]
  },
  {
   "cell_type": "code",
   "execution_count": 69,
   "metadata": {},
   "outputs": [
    {
     "data": {
      "text/plain": [
       "Limited Business License                                        28094\n",
       "Retail Food Establishment                                        4788\n",
       "Home Occupation                                                  3021\n",
       "Tobacco                                                          2426\n",
       "Home Repair                                                      1860\n",
       "Motor Vehicle Repair                                             1746\n",
       "Peddler                                                          1208\n",
       "Consumption on Premises - Incidental Activity                    1207\n",
       "Hazardous Materials                                              1120\n",
       "Regulated Business License                                       1089\n",
       "Day Care Center                                                   730\n",
       "Manufacturing Establishments                                      639\n",
       "Massage Therapist                                                 569\n",
       "Broker                                                            498\n",
       "Residential Real Estate Developer                                 476\n",
       "Mobile Food Dispenser                                             413\n",
       "Massage Establishment                                             377\n",
       "Tavern                                                            367\n",
       "Electronic Equipment Repair                                       358\n",
       "Street Performer                                                  349\n",
       "Package Goods                                                     333\n",
       "Outdoor Patio                                                     294\n",
       "Commercial Garage                                                 293\n",
       "Tire Facilty                                                      258\n",
       "Public Place of Amusement                                         253\n",
       "Mobile Frozen Desserts Dispenser - Non-Motorized                  249\n",
       "Valet Parking Operator                                            219\n",
       "Accessory Garage                                                  210\n",
       "Scavenger, Private                                                188\n",
       "Secondhand Dealer                                                 172\n",
       "Wholesale Food Establishment                                      168\n",
       "Hotel                                                             162\n",
       "Late Hour                                                         161\n",
       "Filling Station                                                   160\n",
       "Music and Dance                                                   160\n",
       "Motor Vehicle Services License                                    137\n",
       "Retail Computing Center                                           116\n",
       "Secondhand Dealer (No Valuable Objects)                           114\n",
       "Peddler License                                                   111\n",
       "Children's Services Facility License                              109\n",
       "Expediter                                                         109\n",
       "Long-Term Care Facility                                           100\n",
       "Junk Peddler                                                       92\n",
       "Kennels and Catteries                                              91\n",
       "Laundry, Late Hour                                                 90\n",
       "Itinerant Merchant                                                 87\n",
       "Mobile Food License                                                85\n",
       "Veterinary Hospital                                                79\n",
       "Caterer's Liquor License                                           76\n",
       "Performing Arts Venue                                              74\n",
       "Animal Care Facility                                               74\n",
       "Children's Activities Facilities                                   73\n",
       "Explosives, Certificate of Fitness                                 69\n",
       "Single Room Occupancy Class I                                      58\n",
       "Pet Shop                                                           52\n",
       "Body Piercing                                                      50\n",
       "Raffles                                                            48\n",
       "Laboratories                                                       47\n",
       "Grooming Facility                                                  47\n",
       "Tobacco Dealer Wholesale                                           46\n",
       "Automatic Amusement Device Operator                                45\n",
       "Animal Care License                                                41\n",
       "Tobacco Vending, Individual                                        37\n",
       "Hospital                                                           34\n",
       "Vacation Rental                                                    34\n",
       "Day Labor Agency                                                   31\n",
       "Auctioneer                                                         23\n",
       "Retail Food Est.-Supplemental License for Dog-Friendly Areas       23\n",
       "Not-For-Profit Club                                                22\n",
       "Single Room Occupancy Class II                                     21\n",
       "Shared Kitchen User                                                20\n",
       "Night Care Privilege                                               20\n",
       "Caterer's Registration (Liquor)                                    19\n",
       "Bed-And-Breakfast Establishment                                    17\n",
       "Board-Up Work                                                      16\n",
       "Pharmaceutical Representative                                      15\n",
       "Navy Pier Vendor (Non-Food)                                        14\n",
       "Public Place of Amusement-TCC                                      13\n",
       "Wrigley Field                                                      13\n",
       "Humane Society                                                     13\n",
       "Animal Exhibition                                                  11\n",
       "Special Event Food                                                 10\n",
       "Food - Shared Kitchen - Supplemental                                9\n",
       "Pawnbroker                                                          9\n",
       "Secondhand Dealer - Children's Products                             7\n",
       "Special Event Liquor                                                7\n",
       "Industrial Private Event Venue                                      5\n",
       "Produce Merchant                                                    5\n",
       "Repossessor                                                         5\n",
       "Emerging Business                                                   5\n",
       "Weapons Dealer                                                      4\n",
       "Tobacco Sampler                                                     4\n",
       "Explosives                                                          4\n",
       "Navy Pier - Outdoor Fixed                                           4\n",
       "Navy Pier - Mobile                                                  4\n",
       "Liquor Airport Pushcart License                                     3\n",
       "Class A - Indoor Special Event                                      3\n",
       "Taxicab Two-Way Dispatch Service License                            2\n",
       "Affiliation                                                         2\n",
       "Assisted Living/Shared Housing Establishment                        2\n",
       "License Broker                                                      2\n",
       "Indoor Special Event                                                2\n",
       "Navy Pier Vendor (Food)                                             2\n",
       "Transportation Network Provider                                     1\n",
       "Airport Pushcart Liquor O'Hare - Class A                            1\n",
       "Private Booting Operation                                           1\n",
       "Navy Pier Kiosk License                                             1\n",
       "Bicycle Messenger Service                                           1\n",
       "License Manager                                                     1\n",
       "Food - Shared Kitchen                                               1\n",
       "Shared Housing Unit Operator                                        1\n",
       "Name: LICENSE DESCRIPTION, dtype: int64"
      ]
     },
     "execution_count": 69,
     "metadata": {},
     "output_type": "execute_result"
    }
   ],
   "source": [
    "test_data['LICENSE DESCRIPTION'] = test_data['LICENSE DESCRIPTION'].replace('Motor Vehicle Repair : Engine Only (Class II)', 'Motor Vehicle Repair')\n",
    "test_data['LICENSE DESCRIPTION'] = test_data['LICENSE DESCRIPTION'].replace('Motor Vehicle Repair: Engine/Body(Class III)', 'Motor Vehicle Repair')\n",
    "test_data['LICENSE DESCRIPTION'] = test_data['LICENSE DESCRIPTION'].replace('Motor Vehicle Repair; Specialty(Class I)', 'Motor Vehicle Repair')\n",
    "test_data['LICENSE DESCRIPTION'] = test_data['LICENSE DESCRIPTION'].replace('Day Care Center Under 2 Years', 'Day Care Center')\n",
    "test_data['LICENSE DESCRIPTION'] = test_data['LICENSE DESCRIPTION'].replace('Day Care Center 2 - 6 Years', 'Day Care Center')\n",
    "test_data['LICENSE DESCRIPTION'] = test_data['LICENSE DESCRIPTION'].replace('Day Care Center Under 2 and 2 - 6 Years', 'Day Care Center')\n",
    "test_data['LICENSE DESCRIPTION'] = test_data['LICENSE DESCRIPTION'].replace('Peddler, non-food', 'Peddler')\n",
    "test_data['LICENSE DESCRIPTION'] = test_data['LICENSE DESCRIPTION'].replace('Peddler, non-food, special', 'Peddler')\n",
    "test_data['LICENSE DESCRIPTION'] = test_data['LICENSE DESCRIPTION'].replace('Peddler, food (fruits and vegtables only)', 'Peddler')\n",
    "test_data['LICENSE DESCRIPTION'] = test_data['LICENSE DESCRIPTION'].replace('Peddler,food - (fruits and vegetables only) - special', 'Peddler')\n",
    "test_data['LICENSE DESCRIPTION'] = test_data['LICENSE DESCRIPTION'].replace('Tire Facilty Class I (100 - 1,000 Tires)', 'Tire Facilty')\n",
    "test_data['LICENSE DESCRIPTION'] = test_data['LICENSE DESCRIPTION'].replace('Tire Facility Class II (1,001 - 5,000 Tires)', 'Tire Facilty')\n",
    "test_data['LICENSE DESCRIPTION'] = test_data['LICENSE DESCRIPTION'].replace('Tire Facility Class III (5,001 - More Tires)', 'Tire Facilty')\n",
    "test_data['LICENSE DESCRIPTION'] = test_data['LICENSE DESCRIPTION'].replace('Repossessor Class A', 'Repossessor')\n",
    "test_data['LICENSE DESCRIPTION'] = test_data['LICENSE DESCRIPTION'].replace('Repossessor Class B', 'Repossessor')\n",
    "test_data['LICENSE DESCRIPTION'] = test_data['LICENSE DESCRIPTION'].replace('Repossessor Class B Employee', 'Repossessor')\n",
    "test_data['LICENSE DESCRIPTION'] = test_data['LICENSE DESCRIPTION'].replace('Expediter - Class B', 'Expediter')\n",
    "test_data['LICENSE DESCRIPTION'] = test_data['LICENSE DESCRIPTION'].replace('Expediter - Class A', 'Expediter')\n",
    "test_data['LICENSE DESCRIPTION'] = test_data['LICENSE DESCRIPTION'].replace('Expediter - Class B Employee', 'Expediter')\n",
    "test_data['LICENSE DESCRIPTION'] = test_data['LICENSE DESCRIPTION'].replace('Itinerant Merchant, Class II', 'Itinerant Merchant')\n",
    "test_data['LICENSE DESCRIPTION'] = test_data['LICENSE DESCRIPTION'].replace('Itinerant Merchant, Class I', 'Itinerant Merchant')\n",
    "test_data['LICENSE DESCRIPTION'].value_counts()"
   ]
  },
  {
   "cell_type": "code",
   "execution_count": 70,
   "metadata": {},
   "outputs": [
    {
     "data": {
      "text/plain": [
       "RENEW     61085\n",
       "ISSUE     23398\n",
       "C_LOC      1400\n",
       "C_CAPA        7\n",
       "C_EXPA        5\n",
       "Name: APPLICATION TYPE, dtype: int64"
      ]
     },
     "execution_count": 70,
     "metadata": {},
     "output_type": "execute_result"
    }
   ],
   "source": [
    "train_data['APPLICATION TYPE'].value_counts()"
   ]
  },
  {
   "cell_type": "code",
   "execution_count": 71,
   "metadata": {},
   "outputs": [
    {
     "data": {
      "text/plain": [
       "N    85877\n",
       "Y       18\n",
       "Name: CONDITIONAL APPROVAL, dtype: int64"
      ]
     },
     "execution_count": 71,
     "metadata": {},
     "output_type": "execute_result"
    }
   ],
   "source": [
    "train_data['CONDITIONAL APPROVAL'].value_counts()"
   ]
  },
  {
   "cell_type": "code",
   "execution_count": 72,
   "metadata": {},
   "outputs": [
    {
     "data": {
      "text/plain": [
       "ACCOUNT NUMBER                                0\n",
       "SITE NUMBER                                   0\n",
       "CITY                                          0\n",
       "ZIP CODE                                     31\n",
       "WARD                                      49701\n",
       "PRECINCT                                  56701\n",
       "POLICE DISTRICT                           54012\n",
       "LICENSE CODE                                  0\n",
       "LICENSE DESCRIPTION                           0\n",
       "APPLICATION TYPE                              0\n",
       "CONDITIONAL APPROVAL                          0\n",
       "SSA                                       76446\n",
       "LICENSE STATUS                                0\n",
       "PAYMENT YEAR                               1289\n",
       "APPLICATION REQUIREMENTS COMPLETE YEAR      214\n",
       "DATE ISSUED YEAR                              0\n",
       "LICENSE VALIDITY                              0\n",
       "LICENSE APPROVED YEAR                      6789\n",
       "LEGAL TYPE                                    0\n",
       "dtype: int64"
      ]
     },
     "execution_count": 72,
     "metadata": {},
     "output_type": "execute_result"
    }
   ],
   "source": [
    "train_data.isna().sum()"
   ]
  },
  {
   "cell_type": "code",
   "execution_count": 73,
   "metadata": {},
   "outputs": [
    {
     "data": {
      "text/plain": [
       "ACCOUNT NUMBER                              int64\n",
       "SITE NUMBER                                 int64\n",
       "CITY                                       object\n",
       "ZIP CODE                                   object\n",
       "WARD                                      float64\n",
       "PRECINCT                                  float64\n",
       "POLICE DISTRICT                           float64\n",
       "LICENSE CODE                                int64\n",
       "LICENSE DESCRIPTION                        object\n",
       "APPLICATION TYPE                           object\n",
       "CONDITIONAL APPROVAL                       object\n",
       "SSA                                       float64\n",
       "LICENSE STATUS                             object\n",
       "PAYMENT YEAR                              float64\n",
       "APPLICATION REQUIREMENTS COMPLETE YEAR    float64\n",
       "DATE ISSUED YEAR                            int64\n",
       "LICENSE VALIDITY                          float64\n",
       "LICENSE APPROVED YEAR                     float64\n",
       "LEGAL TYPE                                 object\n",
       "dtype: object"
      ]
     },
     "execution_count": 73,
     "metadata": {},
     "output_type": "execute_result"
    }
   ],
   "source": [
    "train_data.dtypes"
   ]
  },
  {
   "cell_type": "code",
   "execution_count": 74,
   "metadata": {},
   "outputs": [],
   "source": [
    "train_data['ZIP CODE'] = train_data['ZIP CODE'].fillna('None')\n",
    "test_data['ZIP CODE'] = test_data['ZIP CODE'].fillna('None')"
   ]
  },
  {
   "cell_type": "code",
   "execution_count": 75,
   "metadata": {},
   "outputs": [],
   "source": [
    "# train_data['WARD'] = train_data['WARD'].fillna(random.randint(1,47))\n",
    "# test_data['WARD'] = test_data['WARD'].fillna(random.randint(1,47))\n",
    "train_data['WARD'] = train_data['WARD'].fillna(0)\n",
    "test_data['WARD'] = test_data['WARD'].fillna(0)"
   ]
  },
  {
   "cell_type": "code",
   "execution_count": 76,
   "metadata": {},
   "outputs": [],
   "source": [
    "# train_data['PRECINCT'] = train_data['PRECINCT'].fillna(random.randint(1,76))\n",
    "# test_data['PRECINCT'] = test_data['PRECINCT'].fillna(random.randint(1,76))\n",
    "train_data['PRECINCT'] = train_data['PRECINCT'].fillna(0)\n",
    "test_data['PRECINCT'] = test_data['PRECINCT'].fillna(0)"
   ]
  },
  {
   "cell_type": "code",
   "execution_count": 77,
   "metadata": {},
   "outputs": [],
   "source": [
    "# train_data['POLICE DISTRICT'] = train_data['POLICE DISTRICT'].fillna(random.randint(1,25))\n",
    "# test_data['POLICE DISTRICT'] = test_data['POLICE DISTRICT'].fillna(random.randint(1,25))\n",
    "train_data['POLICE DISTRICT'] = train_data['POLICE DISTRICT'].fillna(0)\n",
    "test_data['POLICE DISTRICT'] = test_data['POLICE DISTRICT'].fillna(0)"
   ]
  },
  {
   "cell_type": "code",
   "execution_count": 78,
   "metadata": {},
   "outputs": [],
   "source": [
    "# train_data['SSA'] = train_data['SSA'].fillna(random.randint(1,69))\n",
    "# test_data['SSA'] = test_data['SSA'].fillna(random.randint(1,69))\n",
    "train_data['SSA'] = train_data['SSA'].fillna(0)\n",
    "test_data['SSA'] = test_data['SSA'].fillna(0)"
   ]
  },
  {
   "cell_type": "code",
   "execution_count": 79,
   "metadata": {},
   "outputs": [],
   "source": [
    "train_data['PAYMENT YEAR'] = train_data['PAYMENT YEAR'].fillna(round(train_data['PAYMENT YEAR'].mean()))\n",
    "test_data['PAYMENT YEAR'] = test_data['PAYMENT YEAR'].fillna(round(test_data['PAYMENT YEAR'].mean()))"
   ]
  },
  {
   "cell_type": "code",
   "execution_count": 80,
   "metadata": {},
   "outputs": [],
   "source": [
    "train_data['LICENSE APPROVED YEAR'] = train_data['LICENSE APPROVED YEAR'].fillna(round(train_data['LICENSE APPROVED YEAR'].mean()))\n",
    "test_data['LICENSE APPROVED YEAR'] = test_data['LICENSE APPROVED YEAR'].fillna(round(test_data['LICENSE APPROVED YEAR'].mean()))"
   ]
  },
  {
   "cell_type": "code",
   "execution_count": 81,
   "metadata": {},
   "outputs": [],
   "source": [
    "train_data['APPLICATION REQUIREMENTS COMPLETE YEAR'] = train_data['APPLICATION REQUIREMENTS COMPLETE YEAR'].fillna(round(train_data['APPLICATION REQUIREMENTS COMPLETE YEAR'].mean()))\n",
    "test_data['APPLICATION REQUIREMENTS COMPLETE YEAR'] = test_data['APPLICATION REQUIREMENTS COMPLETE YEAR'].fillna(round(test_data['APPLICATION REQUIREMENTS COMPLETE YEAR'].mean()))"
   ]
  },
  {
   "cell_type": "code",
   "execution_count": 82,
   "metadata": {
    "scrolled": true
   },
   "outputs": [
    {
     "data": {
      "text/plain": [
       "ACCOUNT NUMBER                            0\n",
       "SITE NUMBER                               0\n",
       "CITY                                      0\n",
       "ZIP CODE                                  0\n",
       "WARD                                      0\n",
       "PRECINCT                                  0\n",
       "POLICE DISTRICT                           0\n",
       "LICENSE CODE                              0\n",
       "LICENSE DESCRIPTION                       0\n",
       "APPLICATION TYPE                          0\n",
       "CONDITIONAL APPROVAL                      0\n",
       "SSA                                       0\n",
       "LICENSE STATUS                            0\n",
       "PAYMENT YEAR                              0\n",
       "APPLICATION REQUIREMENTS COMPLETE YEAR    0\n",
       "DATE ISSUED YEAR                          0\n",
       "LICENSE VALIDITY                          0\n",
       "LICENSE APPROVED YEAR                     0\n",
       "LEGAL TYPE                                0\n",
       "dtype: int64"
      ]
     },
     "execution_count": 82,
     "metadata": {},
     "output_type": "execute_result"
    }
   ],
   "source": [
    "train_data.isna().sum()"
   ]
  },
  {
   "cell_type": "code",
   "execution_count": 83,
   "metadata": {},
   "outputs": [
    {
     "data": {
      "text/plain": [
       "ACCOUNT NUMBER                            0\n",
       "SITE NUMBER                               0\n",
       "CITY                                      0\n",
       "ZIP CODE                                  0\n",
       "WARD                                      0\n",
       "PRECINCT                                  0\n",
       "POLICE DISTRICT                           0\n",
       "LICENSE CODE                              0\n",
       "LICENSE DESCRIPTION                       0\n",
       "APPLICATION TYPE                          0\n",
       "CONDITIONAL APPROVAL                      0\n",
       "SSA                                       0\n",
       "PAYMENT YEAR                              0\n",
       "APPLICATION REQUIREMENTS COMPLETE YEAR    0\n",
       "DATE ISSUED YEAR                          0\n",
       "LICENSE VALIDITY                          0\n",
       "LICENSE APPROVED YEAR                     0\n",
       "LEGAL TYPE                                0\n",
       "dtype: int64"
      ]
     },
     "execution_count": 83,
     "metadata": {},
     "output_type": "execute_result"
    }
   ],
   "source": [
    "test_data.isna().sum()"
   ]
  },
  {
   "cell_type": "code",
   "execution_count": 84,
   "metadata": {},
   "outputs": [
    {
     "data": {
      "text/plain": [
       "(85895, 19)"
      ]
     },
     "execution_count": 84,
     "metadata": {},
     "output_type": "execute_result"
    }
   ],
   "source": [
    "train_data.shape"
   ]
  },
  {
   "cell_type": "code",
   "execution_count": 85,
   "metadata": {},
   "outputs": [
    {
     "data": {
      "text/plain": [
       "(57239, 18)"
      ]
     },
     "execution_count": 85,
     "metadata": {},
     "output_type": "execute_result"
    }
   ],
   "source": [
    "test_data.shape"
   ]
  },
  {
   "cell_type": "code",
   "execution_count": 86,
   "metadata": {},
   "outputs": [
    {
     "data": {
      "text/plain": [
       "Index(['ACCOUNT NUMBER', 'SITE NUMBER', 'CITY', 'ZIP CODE', 'WARD', 'PRECINCT', 'POLICE DISTRICT', 'LICENSE CODE', 'LICENSE DESCRIPTION', 'APPLICATION TYPE', 'CONDITIONAL APPROVAL', 'SSA', 'LICENSE STATUS', 'PAYMENT YEAR', 'APPLICATION REQUIREMENTS COMPLETE YEAR', 'DATE ISSUED YEAR', 'LICENSE VALIDITY', 'LICENSE APPROVED YEAR', 'LEGAL TYPE'], dtype='object')"
      ]
     },
     "execution_count": 86,
     "metadata": {},
     "output_type": "execute_result"
    }
   ],
   "source": [
    "train_data.columns"
   ]
  },
  {
   "cell_type": "code",
   "execution_count": 87,
   "metadata": {},
   "outputs": [
    {
     "data": {
      "text/plain": [
       "ACCOUNT NUMBER                              int64\n",
       "SITE NUMBER                                 int64\n",
       "CITY                                       object\n",
       "ZIP CODE                                   object\n",
       "WARD                                      float64\n",
       "PRECINCT                                  float64\n",
       "POLICE DISTRICT                           float64\n",
       "LICENSE CODE                                int64\n",
       "LICENSE DESCRIPTION                        object\n",
       "APPLICATION TYPE                           object\n",
       "CONDITIONAL APPROVAL                       object\n",
       "SSA                                       float64\n",
       "LICENSE STATUS                             object\n",
       "PAYMENT YEAR                              float64\n",
       "APPLICATION REQUIREMENTS COMPLETE YEAR    float64\n",
       "DATE ISSUED YEAR                            int64\n",
       "LICENSE VALIDITY                          float64\n",
       "LICENSE APPROVED YEAR                     float64\n",
       "LEGAL TYPE                                 object\n",
       "dtype: object"
      ]
     },
     "execution_count": 87,
     "metadata": {},
     "output_type": "execute_result"
    }
   ],
   "source": [
    "train_data.dtypes"
   ]
  },
  {
   "cell_type": "code",
   "execution_count": 88,
   "metadata": {},
   "outputs": [
    {
     "data": {
      "text/html": [
       "<div>\n",
       "<style scoped>\n",
       "    .dataframe tbody tr th:only-of-type {\n",
       "        vertical-align: middle;\n",
       "    }\n",
       "\n",
       "    .dataframe tbody tr th {\n",
       "        vertical-align: top;\n",
       "    }\n",
       "\n",
       "    .dataframe thead th {\n",
       "        text-align: right;\n",
       "    }\n",
       "</style>\n",
       "<table border=\"1\" class=\"dataframe\">\n",
       "  <thead>\n",
       "    <tr style=\"text-align: right;\">\n",
       "      <th></th>\n",
       "      <th>ACCOUNT NUMBER</th>\n",
       "      <th>SITE NUMBER</th>\n",
       "      <th>CITY</th>\n",
       "      <th>ZIP CODE</th>\n",
       "      <th>WARD</th>\n",
       "      <th>PRECINCT</th>\n",
       "      <th>POLICE DISTRICT</th>\n",
       "      <th>LICENSE CODE</th>\n",
       "      <th>LICENSE DESCRIPTION</th>\n",
       "      <th>APPLICATION TYPE</th>\n",
       "      <th>CONDITIONAL APPROVAL</th>\n",
       "      <th>SSA</th>\n",
       "      <th>LICENSE STATUS</th>\n",
       "      <th>PAYMENT YEAR</th>\n",
       "      <th>APPLICATION REQUIREMENTS COMPLETE YEAR</th>\n",
       "      <th>DATE ISSUED YEAR</th>\n",
       "      <th>LICENSE VALIDITY</th>\n",
       "      <th>LICENSE APPROVED YEAR</th>\n",
       "      <th>LEGAL TYPE</th>\n",
       "    </tr>\n",
       "  </thead>\n",
       "  <tbody>\n",
       "    <tr>\n",
       "      <th>0</th>\n",
       "      <td>32811</td>\n",
       "      <td>1</td>\n",
       "      <td>193</td>\n",
       "      <td>1559</td>\n",
       "      <td>22.0</td>\n",
       "      <td>28.0</td>\n",
       "      <td>10.0</td>\n",
       "      <td>1010</td>\n",
       "      <td>41</td>\n",
       "      <td>4</td>\n",
       "      <td>0</td>\n",
       "      <td>25.0</td>\n",
       "      <td>AAI</td>\n",
       "      <td>2002.0</td>\n",
       "      <td>2002.0</td>\n",
       "      <td>2006</td>\n",
       "      <td>1.0</td>\n",
       "      <td>2002.0</td>\n",
       "      <td>4</td>\n",
       "    </tr>\n",
       "    <tr>\n",
       "      <th>1</th>\n",
       "      <td>262311</td>\n",
       "      <td>29</td>\n",
       "      <td>193</td>\n",
       "      <td>1548</td>\n",
       "      <td>33.0</td>\n",
       "      <td>23.0</td>\n",
       "      <td>17.0</td>\n",
       "      <td>1315</td>\n",
       "      <td>46</td>\n",
       "      <td>4</td>\n",
       "      <td>0</td>\n",
       "      <td>60.0</td>\n",
       "      <td>AAC</td>\n",
       "      <td>2005.0</td>\n",
       "      <td>2005.0</td>\n",
       "      <td>2006</td>\n",
       "      <td>1.0</td>\n",
       "      <td>2006.0</td>\n",
       "      <td>1</td>\n",
       "    </tr>\n",
       "    <tr>\n",
       "      <th>2</th>\n",
       "      <td>345008</td>\n",
       "      <td>1</td>\n",
       "      <td>466</td>\n",
       "      <td>1025</td>\n",
       "      <td>0.0</td>\n",
       "      <td>0.0</td>\n",
       "      <td>0.0</td>\n",
       "      <td>1011</td>\n",
       "      <td>30</td>\n",
       "      <td>3</td>\n",
       "      <td>0</td>\n",
       "      <td>0.0</td>\n",
       "      <td>AAI</td>\n",
       "      <td>2009.0</td>\n",
       "      <td>2009.0</td>\n",
       "      <td>2009</td>\n",
       "      <td>2.0</td>\n",
       "      <td>2009.0</td>\n",
       "      <td>1</td>\n",
       "    </tr>\n",
       "    <tr>\n",
       "      <th>3</th>\n",
       "      <td>273121</td>\n",
       "      <td>1</td>\n",
       "      <td>585</td>\n",
       "      <td>1329</td>\n",
       "      <td>0.0</td>\n",
       "      <td>0.0</td>\n",
       "      <td>0.0</td>\n",
       "      <td>1010</td>\n",
       "      <td>41</td>\n",
       "      <td>3</td>\n",
       "      <td>0</td>\n",
       "      <td>0.0</td>\n",
       "      <td>AAI</td>\n",
       "      <td>2004.0</td>\n",
       "      <td>2004.0</td>\n",
       "      <td>2004</td>\n",
       "      <td>1.0</td>\n",
       "      <td>2004.0</td>\n",
       "      <td>0</td>\n",
       "    </tr>\n",
       "    <tr>\n",
       "      <th>4</th>\n",
       "      <td>213785</td>\n",
       "      <td>1</td>\n",
       "      <td>1145</td>\n",
       "      <td>1095</td>\n",
       "      <td>0.0</td>\n",
       "      <td>0.0</td>\n",
       "      <td>0.0</td>\n",
       "      <td>1010</td>\n",
       "      <td>41</td>\n",
       "      <td>4</td>\n",
       "      <td>0</td>\n",
       "      <td>0.0</td>\n",
       "      <td>AAI</td>\n",
       "      <td>2008.0</td>\n",
       "      <td>2008.0</td>\n",
       "      <td>2008</td>\n",
       "      <td>2.0</td>\n",
       "      <td>2008.0</td>\n",
       "      <td>4</td>\n",
       "    </tr>\n",
       "  </tbody>\n",
       "</table>\n",
       "</div>"
      ],
      "text/plain": [
       "   ACCOUNT NUMBER  SITE NUMBER  CITY  ZIP CODE  WARD  PRECINCT  POLICE DISTRICT  LICENSE CODE  LICENSE DESCRIPTION  APPLICATION TYPE  CONDITIONAL APPROVAL   SSA LICENSE STATUS  PAYMENT YEAR  APPLICATION REQUIREMENTS COMPLETE YEAR  DATE ISSUED YEAR  LICENSE VALIDITY  LICENSE APPROVED YEAR  LEGAL TYPE\n",
       "0           32811            1   193      1559  22.0      28.0             10.0          1010                   41                 4                     0  25.0            AAI        2002.0                                  2002.0              2006               1.0                 2002.0           4\n",
       "1          262311           29   193      1548  33.0      23.0             17.0          1315                   46                 4                     0  60.0            AAC        2005.0                                  2005.0              2006               1.0                 2006.0           1\n",
       "2          345008            1   466      1025   0.0       0.0              0.0          1011                   30                 3                     0   0.0            AAI        2009.0                                  2009.0              2009               2.0                 2009.0           1\n",
       "3          273121            1   585      1329   0.0       0.0              0.0          1010                   41                 3                     0   0.0            AAI        2004.0                                  2004.0              2004               1.0                 2004.0           0\n",
       "4          213785            1  1145      1095   0.0       0.0              0.0          1010                   41                 4                     0   0.0            AAI        2008.0                                  2008.0              2008               2.0                 2008.0           4"
      ]
     },
     "execution_count": 88,
     "metadata": {},
     "output_type": "execute_result"
    }
   ],
   "source": [
    "encoder = LabelEncoder()\n",
    "train_data[\"CITY\"] = encoder.fit_transform(train_data[\"CITY\"])\n",
    "train_data[\"ZIP CODE\"] = encoder.fit_transform(train_data[\"ZIP CODE\"].astype(str))\n",
    "train_data[\"LICENSE DESCRIPTION\"] = encoder.fit_transform(train_data[\"LICENSE DESCRIPTION\"])\n",
    "train_data[\"APPLICATION TYPE\"] = encoder.fit_transform(train_data[\"APPLICATION TYPE\"])\n",
    "train_data[\"CONDITIONAL APPROVAL\"] = encoder.fit_transform(train_data[\"CONDITIONAL APPROVAL\"])\n",
    "# train_data[\"LICENSE STATUS\"] = encoder.fit_transform(train_data[\"LICENSE STATUS\"])\n",
    "train_data[\"LEGAL TYPE\"] = encoder.fit_transform(train_data[\"LEGAL TYPE\"])\n",
    "train_data.head()"
   ]
  },
  {
   "cell_type": "code",
   "execution_count": 89,
   "metadata": {},
   "outputs": [
    {
     "data": {
      "text/plain": [
       "AAI    55400\n",
       "AAC    30200\n",
       "REV      290\n",
       "REA        3\n",
       "INQ        2\n",
       "Name: LICENSE STATUS, dtype: int64"
      ]
     },
     "execution_count": 89,
     "metadata": {},
     "output_type": "execute_result"
    }
   ],
   "source": [
    "train_data[\"LICENSE STATUS\"].value_counts()"
   ]
  },
  {
   "cell_type": "code",
   "execution_count": 90,
   "metadata": {},
   "outputs": [],
   "source": [
    "train_data[\"LICENSE STATUS\"] = train_data[\"LICENSE STATUS\"].replace('AAI', 0)\n",
    "train_data[\"LICENSE STATUS\"] = train_data[\"LICENSE STATUS\"].replace('AAC', 1)\n",
    "train_data[\"LICENSE STATUS\"] = train_data[\"LICENSE STATUS\"].replace('REV', 2)\n",
    "train_data[\"LICENSE STATUS\"] = train_data[\"LICENSE STATUS\"].replace('REA', 3)\n",
    "train_data[\"LICENSE STATUS\"] = train_data[\"LICENSE STATUS\"].replace('INQ', 4)"
   ]
  },
  {
   "cell_type": "code",
   "execution_count": 91,
   "metadata": {},
   "outputs": [
    {
     "data": {
      "text/html": [
       "<div>\n",
       "<style scoped>\n",
       "    .dataframe tbody tr th:only-of-type {\n",
       "        vertical-align: middle;\n",
       "    }\n",
       "\n",
       "    .dataframe tbody tr th {\n",
       "        vertical-align: top;\n",
       "    }\n",
       "\n",
       "    .dataframe thead th {\n",
       "        text-align: right;\n",
       "    }\n",
       "</style>\n",
       "<table border=\"1\" class=\"dataframe\">\n",
       "  <thead>\n",
       "    <tr style=\"text-align: right;\">\n",
       "      <th></th>\n",
       "      <th>ACCOUNT NUMBER</th>\n",
       "      <th>SITE NUMBER</th>\n",
       "      <th>CITY</th>\n",
       "      <th>ZIP CODE</th>\n",
       "      <th>WARD</th>\n",
       "      <th>PRECINCT</th>\n",
       "      <th>POLICE DISTRICT</th>\n",
       "      <th>LICENSE CODE</th>\n",
       "      <th>LICENSE DESCRIPTION</th>\n",
       "      <th>APPLICATION TYPE</th>\n",
       "      <th>CONDITIONAL APPROVAL</th>\n",
       "      <th>SSA</th>\n",
       "      <th>PAYMENT YEAR</th>\n",
       "      <th>APPLICATION REQUIREMENTS COMPLETE YEAR</th>\n",
       "      <th>DATE ISSUED YEAR</th>\n",
       "      <th>LICENSE VALIDITY</th>\n",
       "      <th>LICENSE APPROVED YEAR</th>\n",
       "      <th>LEGAL TYPE</th>\n",
       "    </tr>\n",
       "  </thead>\n",
       "  <tbody>\n",
       "    <tr>\n",
       "      <th>0</th>\n",
       "      <td>280120</td>\n",
       "      <td>1</td>\n",
       "      <td>59</td>\n",
       "      <td>255</td>\n",
       "      <td>42.0</td>\n",
       "      <td>67.0</td>\n",
       "      <td>18.0</td>\n",
       "      <td>1020</td>\n",
       "      <td>82</td>\n",
       "      <td>5</td>\n",
       "      <td>0</td>\n",
       "      <td>0.0</td>\n",
       "      <td>2012.0</td>\n",
       "      <td>2011.0</td>\n",
       "      <td>2012</td>\n",
       "      <td>2.0</td>\n",
       "      <td>2012.0</td>\n",
       "      <td>2</td>\n",
       "    </tr>\n",
       "    <tr>\n",
       "      <th>1</th>\n",
       "      <td>65043</td>\n",
       "      <td>1</td>\n",
       "      <td>59</td>\n",
       "      <td>280</td>\n",
       "      <td>16.0</td>\n",
       "      <td>5.0</td>\n",
       "      <td>7.0</td>\n",
       "      <td>1010</td>\n",
       "      <td>48</td>\n",
       "      <td>5</td>\n",
       "      <td>0</td>\n",
       "      <td>0.0</td>\n",
       "      <td>2012.0</td>\n",
       "      <td>2011.0</td>\n",
       "      <td>2012</td>\n",
       "      <td>2.0</td>\n",
       "      <td>2012.0</td>\n",
       "      <td>1</td>\n",
       "    </tr>\n",
       "    <tr>\n",
       "      <th>2</th>\n",
       "      <td>281270</td>\n",
       "      <td>1</td>\n",
       "      <td>59</td>\n",
       "      <td>250</td>\n",
       "      <td>4.0</td>\n",
       "      <td>8.0</td>\n",
       "      <td>1.0</td>\n",
       "      <td>1020</td>\n",
       "      <td>82</td>\n",
       "      <td>5</td>\n",
       "      <td>0</td>\n",
       "      <td>0.0</td>\n",
       "      <td>2004.0</td>\n",
       "      <td>2004.0</td>\n",
       "      <td>2004</td>\n",
       "      <td>1.0</td>\n",
       "      <td>2004.0</td>\n",
       "      <td>0</td>\n",
       "    </tr>\n",
       "    <tr>\n",
       "      <th>3</th>\n",
       "      <td>335243</td>\n",
       "      <td>1</td>\n",
       "      <td>59</td>\n",
       "      <td>311</td>\n",
       "      <td>9.0</td>\n",
       "      <td>33.0</td>\n",
       "      <td>5.0</td>\n",
       "      <td>1607</td>\n",
       "      <td>70</td>\n",
       "      <td>5</td>\n",
       "      <td>0</td>\n",
       "      <td>0.0</td>\n",
       "      <td>2010.0</td>\n",
       "      <td>2010.0</td>\n",
       "      <td>2010</td>\n",
       "      <td>2.0</td>\n",
       "      <td>2008.0</td>\n",
       "      <td>4</td>\n",
       "    </tr>\n",
       "    <tr>\n",
       "      <th>4</th>\n",
       "      <td>283018</td>\n",
       "      <td>3</td>\n",
       "      <td>59</td>\n",
       "      <td>276</td>\n",
       "      <td>15.0</td>\n",
       "      <td>26.0</td>\n",
       "      <td>9.0</td>\n",
       "      <td>1010</td>\n",
       "      <td>48</td>\n",
       "      <td>5</td>\n",
       "      <td>0</td>\n",
       "      <td>39.0</td>\n",
       "      <td>2007.0</td>\n",
       "      <td>2007.0</td>\n",
       "      <td>2007</td>\n",
       "      <td>2.0</td>\n",
       "      <td>2007.0</td>\n",
       "      <td>0</td>\n",
       "    </tr>\n",
       "  </tbody>\n",
       "</table>\n",
       "</div>"
      ],
      "text/plain": [
       "   ACCOUNT NUMBER  SITE NUMBER  CITY  ZIP CODE  WARD  PRECINCT  POLICE DISTRICT  LICENSE CODE  LICENSE DESCRIPTION  APPLICATION TYPE  CONDITIONAL APPROVAL   SSA  PAYMENT YEAR  APPLICATION REQUIREMENTS COMPLETE YEAR  DATE ISSUED YEAR  LICENSE VALIDITY  LICENSE APPROVED YEAR  LEGAL TYPE\n",
       "0          280120            1    59       255  42.0      67.0             18.0          1020                   82                 5                     0   0.0        2012.0                                  2011.0              2012               2.0                 2012.0           2\n",
       "1           65043            1    59       280  16.0       5.0              7.0          1010                   48                 5                     0   0.0        2012.0                                  2011.0              2012               2.0                 2012.0           1\n",
       "2          281270            1    59       250   4.0       8.0              1.0          1020                   82                 5                     0   0.0        2004.0                                  2004.0              2004               1.0                 2004.0           0\n",
       "3          335243            1    59       311   9.0      33.0              5.0          1607                   70                 5                     0   0.0        2010.0                                  2010.0              2010               2.0                 2008.0           4\n",
       "4          283018            3    59       276  15.0      26.0              9.0          1010                   48                 5                     0  39.0        2007.0                                  2007.0              2007               2.0                 2007.0           0"
      ]
     },
     "execution_count": 91,
     "metadata": {},
     "output_type": "execute_result"
    }
   ],
   "source": [
    "encoder = LabelEncoder()\n",
    "test_data[\"CITY\"] = encoder.fit_transform(test_data[\"CITY\"])\n",
    "test_data[\"ZIP CODE\"] = encoder.fit_transform(test_data[\"ZIP CODE\"].astype(str))\n",
    "test_data[\"LICENSE DESCRIPTION\"] = encoder.fit_transform(test_data[\"LICENSE DESCRIPTION\"])\n",
    "test_data[\"APPLICATION TYPE\"] = encoder.fit_transform(test_data[\"APPLICATION TYPE\"])\n",
    "test_data[\"CONDITIONAL APPROVAL\"] = encoder.fit_transform(test_data[\"CONDITIONAL APPROVAL\"])\n",
    "test_data[\"LEGAL TYPE\"] = encoder.fit_transform(test_data[\"LEGAL TYPE\"])\n",
    "test_data.head()"
   ]
  },
  {
   "cell_type": "code",
   "execution_count": 92,
   "metadata": {},
   "outputs": [
    {
     "data": {
      "text/plain": [
       "(19, 19)"
      ]
     },
     "execution_count": 92,
     "metadata": {},
     "output_type": "execute_result"
    }
   ],
   "source": [
    "# Finding out the correlation between the features\n",
    "corr = train_data.corr()\n",
    "corr.shape"
   ]
  },
  {
   "cell_type": "code",
   "execution_count": 93,
   "metadata": {
    "scrolled": false
   },
   "outputs": [
    {
     "data": {
      "image/png": "[encoded data removed]",
      "text/plain": [
       "<Figure size 1440x1440 with 2 Axes>"
      ]
     },
     "metadata": {
      "needs_background": "light"
     },
     "output_type": "display_data"
    }
   ],
   "source": [
    "# Plotting the heatmap of correlation between features\n",
    "plt.figure(figsize=(20,20))\n",
    "sns.heatmap(corr, cbar=True, square= True, fmt='.1f', annot=True, annot_kws={'size':15}, cmap='Greens')\n",
    "plt.show()"
   ]
  },
  {
   "cell_type": "code",
   "execution_count": 94,
   "metadata": {},
   "outputs": [
    {
     "data": {
      "text/html": [
       "<div>\n",
       "<style scoped>\n",
       "    .dataframe tbody tr th:only-of-type {\n",
       "        vertical-align: middle;\n",
       "    }\n",
       "\n",
       "    .dataframe tbody tr th {\n",
       "        vertical-align: top;\n",
       "    }\n",
       "\n",
       "    .dataframe thead th {\n",
       "        text-align: right;\n",
       "    }\n",
       "</style>\n",
       "<table border=\"1\" class=\"dataframe\">\n",
       "  <thead>\n",
       "    <tr style=\"text-align: right;\">\n",
       "      <th></th>\n",
       "      <th>ACCOUNT NUMBER</th>\n",
       "      <th>SITE NUMBER</th>\n",
       "      <th>CITY</th>\n",
       "      <th>ZIP CODE</th>\n",
       "      <th>WARD</th>\n",
       "      <th>PRECINCT</th>\n",
       "      <th>POLICE DISTRICT</th>\n",
       "      <th>LICENSE CODE</th>\n",
       "      <th>LICENSE DESCRIPTION</th>\n",
       "      <th>APPLICATION TYPE</th>\n",
       "      <th>CONDITIONAL APPROVAL</th>\n",
       "      <th>SSA</th>\n",
       "      <th>LICENSE STATUS</th>\n",
       "      <th>PAYMENT YEAR</th>\n",
       "      <th>APPLICATION REQUIREMENTS COMPLETE YEAR</th>\n",
       "      <th>DATE ISSUED YEAR</th>\n",
       "      <th>LICENSE VALIDITY</th>\n",
       "      <th>LICENSE APPROVED YEAR</th>\n",
       "      <th>LEGAL TYPE</th>\n",
       "    </tr>\n",
       "  </thead>\n",
       "  <tbody>\n",
       "    <tr>\n",
       "      <th>0</th>\n",
       "      <td>32811</td>\n",
       "      <td>1</td>\n",
       "      <td>193</td>\n",
       "      <td>1559</td>\n",
       "      <td>22.0</td>\n",
       "      <td>28.0</td>\n",
       "      <td>10.0</td>\n",
       "      <td>1010</td>\n",
       "      <td>41</td>\n",
       "      <td>4</td>\n",
       "      <td>0</td>\n",
       "      <td>25.0</td>\n",
       "      <td>0</td>\n",
       "      <td>2002.0</td>\n",
       "      <td>2002.0</td>\n",
       "      <td>2006</td>\n",
       "      <td>1.0</td>\n",
       "      <td>2002.0</td>\n",
       "      <td>4</td>\n",
       "    </tr>\n",
       "    <tr>\n",
       "      <th>1</th>\n",
       "      <td>262311</td>\n",
       "      <td>29</td>\n",
       "      <td>193</td>\n",
       "      <td>1548</td>\n",
       "      <td>33.0</td>\n",
       "      <td>23.0</td>\n",
       "      <td>17.0</td>\n",
       "      <td>1315</td>\n",
       "      <td>46</td>\n",
       "      <td>4</td>\n",
       "      <td>0</td>\n",
       "      <td>60.0</td>\n",
       "      <td>1</td>\n",
       "      <td>2005.0</td>\n",
       "      <td>2005.0</td>\n",
       "      <td>2006</td>\n",
       "      <td>1.0</td>\n",
       "      <td>2006.0</td>\n",
       "      <td>1</td>\n",
       "    </tr>\n",
       "    <tr>\n",
       "      <th>2</th>\n",
       "      <td>345008</td>\n",
       "      <td>1</td>\n",
       "      <td>466</td>\n",
       "      <td>1025</td>\n",
       "      <td>0.0</td>\n",
       "      <td>0.0</td>\n",
       "      <td>0.0</td>\n",
       "      <td>1011</td>\n",
       "      <td>30</td>\n",
       "      <td>3</td>\n",
       "      <td>0</td>\n",
       "      <td>0.0</td>\n",
       "      <td>0</td>\n",
       "      <td>2009.0</td>\n",
       "      <td>2009.0</td>\n",
       "      <td>2009</td>\n",
       "      <td>2.0</td>\n",
       "      <td>2009.0</td>\n",
       "      <td>1</td>\n",
       "    </tr>\n",
       "    <tr>\n",
       "      <th>3</th>\n",
       "      <td>273121</td>\n",
       "      <td>1</td>\n",
       "      <td>585</td>\n",
       "      <td>1329</td>\n",
       "      <td>0.0</td>\n",
       "      <td>0.0</td>\n",
       "      <td>0.0</td>\n",
       "      <td>1010</td>\n",
       "      <td>41</td>\n",
       "      <td>3</td>\n",
       "      <td>0</td>\n",
       "      <td>0.0</td>\n",
       "      <td>0</td>\n",
       "      <td>2004.0</td>\n",
       "      <td>2004.0</td>\n",
       "      <td>2004</td>\n",
       "      <td>1.0</td>\n",
       "      <td>2004.0</td>\n",
       "      <td>0</td>\n",
       "    </tr>\n",
       "    <tr>\n",
       "      <th>4</th>\n",
       "      <td>213785</td>\n",
       "      <td>1</td>\n",
       "      <td>1145</td>\n",
       "      <td>1095</td>\n",
       "      <td>0.0</td>\n",
       "      <td>0.0</td>\n",
       "      <td>0.0</td>\n",
       "      <td>1010</td>\n",
       "      <td>41</td>\n",
       "      <td>4</td>\n",
       "      <td>0</td>\n",
       "      <td>0.0</td>\n",
       "      <td>0</td>\n",
       "      <td>2008.0</td>\n",
       "      <td>2008.0</td>\n",
       "      <td>2008</td>\n",
       "      <td>2.0</td>\n",
       "      <td>2008.0</td>\n",
       "      <td>4</td>\n",
       "    </tr>\n",
       "  </tbody>\n",
       "</table>\n",
       "</div>"
      ],
      "text/plain": [
       "   ACCOUNT NUMBER  SITE NUMBER  CITY  ZIP CODE  WARD  PRECINCT  POLICE DISTRICT  LICENSE CODE  LICENSE DESCRIPTION  APPLICATION TYPE  CONDITIONAL APPROVAL   SSA  LICENSE STATUS  PAYMENT YEAR  APPLICATION REQUIREMENTS COMPLETE YEAR  DATE ISSUED YEAR  LICENSE VALIDITY  LICENSE APPROVED YEAR  LEGAL TYPE\n",
       "0           32811            1   193      1559  22.0      28.0             10.0          1010                   41                 4                     0  25.0               0        2002.0                                  2002.0              2006               1.0                 2002.0           4\n",
       "1          262311           29   193      1548  33.0      23.0             17.0          1315                   46                 4                     0  60.0               1        2005.0                                  2005.0              2006               1.0                 2006.0           1\n",
       "2          345008            1   466      1025   0.0       0.0              0.0          1011                   30                 3                     0   0.0               0        2009.0                                  2009.0              2009               2.0                 2009.0           1\n",
       "3          273121            1   585      1329   0.0       0.0              0.0          1010                   41                 3                     0   0.0               0        2004.0                                  2004.0              2004               1.0                 2004.0           0\n",
       "4          213785            1  1145      1095   0.0       0.0              0.0          1010                   41                 4                     0   0.0               0        2008.0                                  2008.0              2008               2.0                 2008.0           4"
      ]
     },
     "execution_count": 94,
     "metadata": {},
     "output_type": "execute_result"
    }
   ],
   "source": [
    "train_data.head()"
   ]
  },
  {
   "cell_type": "code",
   "execution_count": 95,
   "metadata": {},
   "outputs": [],
   "source": [
    "# Spliting target variable and independent variables\n",
    "X = train_data.drop(['LICENSE STATUS'], axis = 1)\n",
    "y = train_data['LICENSE STATUS']"
   ]
  },
  {
   "cell_type": "code",
   "execution_count": 96,
   "metadata": {},
   "outputs": [],
   "source": [
    "# Splitting the data into training set and testset\n",
    "from sklearn.model_selection import train_test_split\n",
    "X_train, X_test, y_train, y_test = train_test_split(X,y, test_size = 0.25, random_state = 0, stratify=y)"
   ]
  },
  {
   "cell_type": "markdown",
   "metadata": {},
   "source": [
    "# Logistic Regression"
   ]
  },
  {
   "cell_type": "code",
   "execution_count": 97,
   "metadata": {},
   "outputs": [
    {
     "name": "stderr",
     "output_type": "stream",
     "text": [
      "F:\\Installed\\Anaconda3\\envs\\tf_gpu\\lib\\site-packages\\sklearn\\linear_model\\logistic.py:432: FutureWarning: Default solver will be changed to 'lbfgs' in 0.22. Specify a solver to silence this warning.\n",
      "  FutureWarning)\n",
      "F:\\Installed\\Anaconda3\\envs\\tf_gpu\\lib\\site-packages\\sklearn\\linear_model\\logistic.py:469: FutureWarning: Default multi_class will be changed to 'auto' in 0.22. Specify the multi_class option to silence this warning.\n",
      "  \"this warning.\", FutureWarning)\n"
     ]
    },
    {
     "data": {
      "text/plain": [
       "LogisticRegression(C=1.0, class_weight=None, dual=False, fit_intercept=True,\n",
       "                   intercept_scaling=1, l1_ratio=None, max_iter=100,\n",
       "                   multi_class='warn', n_jobs=None, penalty='l2',\n",
       "                   random_state=None, solver='warn', tol=0.0001, verbose=0,\n",
       "                   warm_start=False)"
      ]
     },
     "execution_count": 97,
     "metadata": {},
     "output_type": "execute_result"
    }
   ],
   "source": [
    "# Logistic Regression\n",
    "\n",
    "# Import library for LogisticRegression\n",
    "from sklearn.linear_model import LogisticRegression\n",
    "\n",
    "# Create a Logistic regression classifier\n",
    "logreg = LogisticRegression()\n",
    "\n",
    "# Train the model using the training sets \n",
    "logreg.fit(X_train, y_train)"
   ]
  },
  {
   "cell_type": "code",
   "execution_count": 98,
   "metadata": {},
   "outputs": [],
   "source": [
    "# Prediction on test data\n",
    "y_pred = logreg.predict(X_test)"
   ]
  },
  {
   "cell_type": "code",
   "execution_count": 99,
   "metadata": {},
   "outputs": [
    {
     "name": "stdout",
     "output_type": "stream",
     "text": [
      "Total Accuracy :  80.68\n"
     ]
    }
   ],
   "source": [
    "# Calculating the accuracy, precision and the recall\n",
    "acc_logreg = round( metrics.accuracy_score(y_test, y_pred) * 100, 2 )\n",
    "print( 'Total Accuracy : ', acc_logreg )"
   ]
  },
  {
   "cell_type": "code",
   "execution_count": 100,
   "metadata": {},
   "outputs": [],
   "source": [
    "# Create confusion matrix function to find out sensitivity and specificity\n",
    "from sklearn.metrics import confusion_matrix\n",
    "def draw_cm(actual, predicted):\n",
    "    cm = confusion_matrix( actual, predicted, [1,0]).T\n",
    "    sns.heatmap(cm, annot=True,  fmt='.2f', xticklabels = [\"Yes\",\"No\"] , yticklabels = [\"Yes\",\"No\"] )\n",
    "    plt.ylabel('Predicted')\n",
    "    plt.xlabel('Actual')\n",
    "    plt.show()"
   ]
  },
  {
   "cell_type": "code",
   "execution_count": 101,
   "metadata": {},
   "outputs": [
    {
     "data": {
      "image/png": "[encoded data removed]",
      "text/plain": [
       "<Figure size 432x288 with 2 Axes>"
      ]
     },
     "metadata": {
      "needs_background": "light"
     },
     "output_type": "display_data"
    }
   ],
   "source": [
    "# Confusion matrix \n",
    "draw_cm(y_test, y_pred)"
   ]
  },
  {
   "cell_type": "markdown",
   "metadata": {},
   "source": [
    "# Gaussian Naive Bayes"
   ]
  },
  {
   "cell_type": "code",
   "execution_count": 102,
   "metadata": {},
   "outputs": [
    {
     "data": {
      "text/plain": [
       "GaussianNB(priors=None, var_smoothing=1e-09)"
      ]
     },
     "execution_count": 102,
     "metadata": {},
     "output_type": "execute_result"
    }
   ],
   "source": [
    "# Gaussian Naive Bayes\n",
    "\n",
    "# Import library of Gaussian Naive Bayes model\n",
    "from sklearn.naive_bayes import GaussianNB\n",
    "\n",
    "# Create a Gaussian Classifier\n",
    "model = GaussianNB()\n",
    "\n",
    "# Train the model using the training sets \n",
    "model.fit(X_train,y_train)"
   ]
  },
  {
   "cell_type": "code",
   "execution_count": 103,
   "metadata": {},
   "outputs": [],
   "source": [
    "# Prediction on test set\n",
    "y_pred = model.predict(X_test)"
   ]
  },
  {
   "cell_type": "code",
   "execution_count": 104,
   "metadata": {},
   "outputs": [
    {
     "name": "stdout",
     "output_type": "stream",
     "text": [
      "Total Accuracy :  58.49\n"
     ]
    }
   ],
   "source": [
    "# Calculating the accuracy, precision and the recall\n",
    "acc_nb = round( metrics.accuracy_score(y_test, y_pred) * 100, 2 )\n",
    "print( 'Total Accuracy : ', acc_nb )"
   ]
  },
  {
   "cell_type": "code",
   "execution_count": 105,
   "metadata": {},
   "outputs": [
    {
     "data": {
      "image/png": "[encoded data removed]",
      "text/plain": [
       "<Figure size 432x288 with 2 Axes>"
      ]
     },
     "metadata": {
      "needs_background": "light"
     },
     "output_type": "display_data"
    }
   ],
   "source": [
    "# Confusion matrix \n",
    "draw_cm(y_test, y_pred)"
   ]
  },
  {
   "cell_type": "markdown",
   "metadata": {},
   "source": [
    "# Decision Tree Classifier"
   ]
  },
  {
   "cell_type": "code",
   "execution_count": 106,
   "metadata": {},
   "outputs": [
    {
     "data": {
      "text/plain": [
       "DecisionTreeClassifier(class_weight=None, criterion='gini', max_depth=None,\n",
       "                       max_features=None, max_leaf_nodes=None,\n",
       "                       min_impurity_decrease=0.0, min_impurity_split=None,\n",
       "                       min_samples_leaf=1, min_samples_split=2,\n",
       "                       min_weight_fraction_leaf=0.0, presort=False,\n",
       "                       random_state=None, splitter='best')"
      ]
     },
     "execution_count": 106,
     "metadata": {},
     "output_type": "execute_result"
    }
   ],
   "source": [
    "# Decision Tree Classifier\n",
    "\n",
    "# Import Decision tree classifier\n",
    "from sklearn.tree import DecisionTreeClassifier\n",
    "\n",
    "# Create a Decision tree classifier model\n",
    "clf = DecisionTreeClassifier()\n",
    "\n",
    "# # Hyperparameter Optimization\n",
    "# parameters = [{'max_features': ['log2', 'sqrt','auto'], \n",
    "#               'criterion': ['entropy', 'gini'],\n",
    "#               'max_depth': [2, 3, 5, 10, 50], \n",
    "#               'min_samples_split': [2, 3, 50, 100],\n",
    "#               'min_samples_leaf': [1, 5, 8, 10]\n",
    "#              }\n",
    "# # Run the grid search\n",
    "# grid_obj = GridSearchCV(clf, parameters)\n",
    "# grid_obj = grid_obj.fit(X_train, y_train)\n",
    "\n",
    "# # Set the clf to the best combination of parameters\n",
    "# clf = grid_obj.best_estimator_\n",
    "\n",
    "# Train the model using the training sets \n",
    "clf.fit(X_train, y_train)"
   ]
  },
  {
   "cell_type": "code",
   "execution_count": 107,
   "metadata": {},
   "outputs": [],
   "source": [
    "# Model prediction on train data\n",
    "y_pred = clf.predict(X_train)"
   ]
  },
  {
   "cell_type": "code",
   "execution_count": 108,
   "metadata": {},
   "outputs": [],
   "source": [
    "# Finding the variable with more importance\n",
    "feature_importance = pd.DataFrame([X_train.columns, clf.tree_.compute_feature_importances()])\n",
    "feature_importance = feature_importance.T.sort_values(by = 1, ascending=False)[1:10]"
   ]
  },
  {
   "cell_type": "code",
   "execution_count": 109,
   "metadata": {},
   "outputs": [
    {
     "name": "stderr",
     "output_type": "stream",
     "text": [
      "No handles with labels found to put in legend.\n"
     ]
    },
    {
     "data": {
      "image/png": "[encoded data removed]",
      "text/plain": [
       "<Figure size 432x288 with 1 Axes>"
      ]
     },
     "metadata": {
      "needs_background": "light"
     },
     "output_type": "display_data"
    }
   ],
   "source": [
    "sns.barplot(x=feature_importance[1], y=feature_importance[0])\n",
    "# Add labels to the graph\n",
    "plt.xlabel('Feature Importance Score')\n",
    "plt.ylabel('Features')\n",
    "plt.title(\"Visualizing Important Features\")\n",
    "plt.legend()\n",
    "plt.show()"
   ]
  },
  {
   "cell_type": "code",
   "execution_count": 110,
   "metadata": {},
   "outputs": [],
   "source": [
    "# Prediction on test set\n",
    "y_pred = clf.predict(X_test)"
   ]
  },
  {
   "cell_type": "code",
   "execution_count": 111,
   "metadata": {},
   "outputs": [
    {
     "data": {
      "image/png": "[encoded data removed]",
      "text/plain": [
       "<Figure size 432x288 with 2 Axes>"
      ]
     },
     "metadata": {
      "needs_background": "light"
     },
     "output_type": "display_data"
    }
   ],
   "source": [
    "# Confusion matrix\n",
    "draw_cm(y_test, y_pred)"
   ]
  },
  {
   "cell_type": "code",
   "execution_count": 112,
   "metadata": {},
   "outputs": [
    {
     "name": "stdout",
     "output_type": "stream",
     "text": [
      "Total Accuracy :  90.77\n"
     ]
    }
   ],
   "source": [
    "# Calculating the accuracy, precision and the recall\n",
    "acc_dt = round( metrics.accuracy_score(y_test, y_pred) * 100, 2 )\n",
    "print( 'Total Accuracy : ', acc_dt )"
   ]
  },
  {
   "cell_type": "markdown",
   "metadata": {},
   "source": [
    "# Random Forest Classifier"
   ]
  },
  {
   "cell_type": "code",
   "execution_count": 113,
   "metadata": {},
   "outputs": [
    {
     "name": "stderr",
     "output_type": "stream",
     "text": [
      "F:\\Installed\\Anaconda3\\envs\\tf_gpu\\lib\\site-packages\\sklearn\\ensemble\\forest.py:245: FutureWarning: The default value of n_estimators will change from 10 in version 0.20 to 100 in 0.22.\n",
      "  \"10 in version 0.20 to 100 in 0.22.\", FutureWarning)\n"
     ]
    },
    {
     "data": {
      "text/plain": [
       "RandomForestClassifier(bootstrap=True, class_weight=None, criterion='gini',\n",
       "                       max_depth=None, max_features='auto', max_leaf_nodes=None,\n",
       "                       min_impurity_decrease=0.0, min_impurity_split=None,\n",
       "                       min_samples_leaf=1, min_samples_split=2,\n",
       "                       min_weight_fraction_leaf=0.0, n_estimators=10,\n",
       "                       n_jobs=None, oob_score=False, random_state=None,\n",
       "                       verbose=0, warm_start=False)"
      ]
     },
     "execution_count": 113,
     "metadata": {},
     "output_type": "execute_result"
    }
   ],
   "source": [
    "# Random Forest Classifier\n",
    "\n",
    "# Import library of RandomForestClassifier model\n",
    "from sklearn.ensemble import RandomForestClassifier\n",
    "\n",
    "# Create a Random Forest Classifier\n",
    "rf = RandomForestClassifier()\n",
    "\n",
    "# # Hyperparameter Optimization\n",
    "# parameters = {'n_estimators': [4, 6, 9, 10, 15], \n",
    "#               'max_features': ['log2', 'sqrt','auto'], \n",
    "#               'criterion': ['entropy', 'gini'],\n",
    "#               'max_depth': [2, 3, 5, 10], \n",
    "#               'min_samples_split': [2, 3, 5],\n",
    "#               'min_samples_leaf': [1, 5, 8]\n",
    "#              }\n",
    "\n",
    "# # Run the grid search\n",
    "# grid_obj = GridSearchCV(rf, parameters)\n",
    "# grid_obj = grid_obj.fit(X_train, y_train)\n",
    "\n",
    "# # Set the rf to the best combination of parameters\n",
    "# rf = grid_obj.best_estimator_\n",
    "\n",
    "# Train the model using the training sets \n",
    "rf.fit(X_train,y_train)"
   ]
  },
  {
   "cell_type": "code",
   "execution_count": 114,
   "metadata": {},
   "outputs": [
    {
     "name": "stderr",
     "output_type": "stream",
     "text": [
      "No handles with labels found to put in legend.\n"
     ]
    },
    {
     "data": {
      "image/png": "[encoded data removed]",
      "text/plain": [
       "<Figure size 432x288 with 1 Axes>"
      ]
     },
     "metadata": {
      "needs_background": "light"
     },
     "output_type": "display_data"
    }
   ],
   "source": [
    "# Finding the variable with more importance\n",
    "feature_imp = pd.Series(rf.feature_importances_,index= X_train.columns).sort_values(ascending=False)\n",
    "# Creating a bar plot\n",
    "feature_imp=feature_imp[0:10,]\n",
    "sns.barplot(x=feature_imp, y=feature_imp.index)\n",
    "# Add labels to the graph\n",
    "plt.xlabel('Feature Importance Score')\n",
    "plt.ylabel('Features')\n",
    "plt.title(\"Visualizing Important Features\")\n",
    "plt.legend()\n",
    "plt.show()"
   ]
  },
  {
   "cell_type": "code",
   "execution_count": 115,
   "metadata": {},
   "outputs": [],
   "source": [
    "# Prediction on test data\n",
    "y_pred = rf.predict(X_test)"
   ]
  },
  {
   "cell_type": "code",
   "execution_count": 116,
   "metadata": {},
   "outputs": [
    {
     "data": {
      "image/png": "[encoded data removed]",
      "text/plain": [
       "<Figure size 432x288 with 2 Axes>"
      ]
     },
     "metadata": {
      "needs_background": "light"
     },
     "output_type": "display_data"
    }
   ],
   "source": [
    "# Confusion metrix\n",
    "draw_cm(y_test, y_pred)"
   ]
  },
  {
   "cell_type": "code",
   "execution_count": 117,
   "metadata": {},
   "outputs": [
    {
     "name": "stdout",
     "output_type": "stream",
     "text": [
      "Total Accuracy :  92.9\n"
     ]
    }
   ],
   "source": [
    "# Calculating the accuracy, precision and the recall\n",
    "acc_rf = round( metrics.accuracy_score(y_test, y_pred) * 100 , 2 )\n",
    "print( 'Total Accuracy : ', acc_rf )"
   ]
  },
  {
   "cell_type": "markdown",
   "metadata": {},
   "source": [
    "# SVM Classifier"
   ]
  },
  {
   "cell_type": "code",
   "execution_count": 118,
   "metadata": {},
   "outputs": [],
   "source": [
    "# SVM Classifier\n",
    "\n",
    "# Creating scaled set to be used in model to improve the results\n",
    "from sklearn.preprocessing import StandardScaler\n",
    "sc = StandardScaler()\n",
    "X_train = sc.fit_transform(X_train)\n",
    "X_test = sc.transform(X_test)"
   ]
  },
  {
   "cell_type": "code",
   "execution_count": 119,
   "metadata": {},
   "outputs": [
    {
     "data": {
      "text/plain": [
       "SVC(C=1.0, cache_size=200, class_weight=None, coef0=0.0,\n",
       "    decision_function_shape='ovr', degree=3, gamma='auto_deprecated',\n",
       "    kernel='rbf', max_iter=-1, probability=False, random_state=None,\n",
       "    shrinking=True, tol=0.001, verbose=False)"
      ]
     },
     "execution_count": 119,
     "metadata": {},
     "output_type": "execute_result"
    }
   ],
   "source": [
    "# Import Library of Support Vector Machine model\n",
    "from sklearn import svm\n",
    "\n",
    "# Create a Support Vector Classifier\n",
    "svc = svm.SVC()\n",
    "\n",
    "# # Hyperparameter Optimization\n",
    "# parameters = [\n",
    "#   {'C': [1, 10, 100, 1000], 'kernel': ['linear']},\n",
    "#   {'C': [1, 10, 100, 1000], 'gamma': [0.001, 0.0001], 'kernel': ['rbf']},\n",
    "# ]\n",
    "\n",
    "# # Run the grid search\n",
    "# grid_obj = GridSearchCV(svc, parameters)\n",
    "# grid_obj = grid_obj.fit(X_train, y_train)\n",
    "\n",
    "# # Set the svc to the best combination of parameters\n",
    "# svc = grid_obj.best_estimator_\n",
    "\n",
    "# Train the model using the training sets \n",
    "svc.fit(X_train,y_train)"
   ]
  },
  {
   "cell_type": "code",
   "execution_count": 120,
   "metadata": {},
   "outputs": [],
   "source": [
    "# Prediction on test data\n",
    "y_pred = svc.predict(X_test)"
   ]
  },
  {
   "cell_type": "code",
   "execution_count": 121,
   "metadata": {},
   "outputs": [
    {
     "data": {
      "image/png": "[encoded data removed]",
      "text/plain": [
       "<Figure size 432x288 with 2 Axes>"
      ]
     },
     "metadata": {
      "needs_background": "light"
     },
     "output_type": "display_data"
    }
   ],
   "source": [
    "# Confusion Matrix\n",
    "draw_cm(y_test, y_pred)"
   ]
  },
  {
   "cell_type": "code",
   "execution_count": 122,
   "metadata": {},
   "outputs": [
    {
     "name": "stdout",
     "output_type": "stream",
     "text": [
      "Total Accuracy :  90.9\n"
     ]
    }
   ],
   "source": [
    "# Calculating the accuracy, precision and the recall\n",
    "acc_svm = round( metrics.accuracy_score(y_test, y_pred) * 100, 2 )\n",
    "print( 'Total Accuracy : ', acc_svm )"
   ]
  },
  {
   "cell_type": "markdown",
   "metadata": {},
   "source": [
    "# K - Nearest Neighbors"
   ]
  },
  {
   "cell_type": "code",
   "execution_count": 123,
   "metadata": {},
   "outputs": [
    {
     "data": {
      "text/plain": [
       "KNeighborsClassifier(algorithm='auto', leaf_size=30, metric='minkowski',\n",
       "                     metric_params=None, n_jobs=None, n_neighbors=5, p=2,\n",
       "                     weights='uniform')"
      ]
     },
     "execution_count": 123,
     "metadata": {},
     "output_type": "execute_result"
    }
   ],
   "source": [
    "# K - Nearest Neighbors\n",
    "\n",
    "# Import library of KNeighborsClassifier model\n",
    "from sklearn.neighbors import KNeighborsClassifier\n",
    "\n",
    "# Create a KNN Classifier\n",
    "knn = KNeighborsClassifier()\n",
    "\n",
    "# # Hyperparameter Optimization\n",
    "# parameters = {'n_neighbors': [3, 4, 5, 10], \n",
    "#               'weights': ['uniform', 'distance'],\n",
    "#               'algorithm' : ['auto', 'ball_tree', 'kd_tree', 'brute'],\n",
    "#               'leaf_size' : [10, 20, 30, 50]\n",
    "#              }\n",
    "\n",
    "# # Run the grid search\n",
    "# grid_obj = GridSearchCV(knn, parameters)\n",
    "# grid_obj = grid_obj.fit(X_train, y_train)\n",
    "\n",
    "# # Set the knn to the best combination of parameters\n",
    "# knn = grid_obj.best_estimator_\n",
    "\n",
    "# Train the model using the training sets \n",
    "knn.fit(X_train,y_train)"
   ]
  },
  {
   "cell_type": "code",
   "execution_count": 124,
   "metadata": {},
   "outputs": [],
   "source": [
    "# Prediction on test data\n",
    "y_pred = knn.predict(X_test)"
   ]
  },
  {
   "cell_type": "code",
   "execution_count": 125,
   "metadata": {},
   "outputs": [
    {
     "data": {
      "image/png": "[encoded data removed]",
      "text/plain": [
       "<Figure size 432x288 with 2 Axes>"
      ]
     },
     "metadata": {
      "needs_background": "light"
     },
     "output_type": "display_data"
    }
   ],
   "source": [
    "# Confusion Matrix\n",
    "draw_cm(y_test, y_pred)"
   ]
  },
  {
   "cell_type": "code",
   "execution_count": 126,
   "metadata": {},
   "outputs": [
    {
     "name": "stdout",
     "output_type": "stream",
     "text": [
      "Total Accuracy :  90.02\n"
     ]
    }
   ],
   "source": [
    "# Calculating the accuracy, precision and the recall\n",
    "acc_knn = round( metrics.accuracy_score(y_test, y_pred) * 100, 2 )\n",
    "print( 'Total Accuracy : ', acc_knn )"
   ]
  },
  {
   "cell_type": "markdown",
   "metadata": {},
   "source": [
    "# XGBoost"
   ]
  },
  {
   "cell_type": "code",
   "execution_count": 127,
   "metadata": {},
   "outputs": [
    {
     "data": {
      "text/plain": [
       "XGBClassifier(base_score=0.5, booster='gbtree', colsample_bylevel=1,\n",
       "              colsample_bynode=1, colsample_bytree=1, gamma=0,\n",
       "              learning_rate=0.1, max_delta_step=0, max_depth=3,\n",
       "              min_child_weight=1, missing=None, n_estimators=100, n_jobs=1,\n",
       "              nthread=None, objective='multi:softprob', random_state=0,\n",
       "              reg_alpha=0, reg_lambda=1, scale_pos_weight=1, seed=None,\n",
       "              silent=None, subsample=1, verbosity=1)"
      ]
     },
     "execution_count": 127,
     "metadata": {},
     "output_type": "execute_result"
    }
   ],
   "source": [
    "# eXtreme Gradient Boosting\n",
    "\n",
    "# Import library of xgboost model\n",
    "from xgboost import XGBClassifier\n",
    "\n",
    "# Create a XGB Classifier\n",
    "# gbm = XGBClassifier(learning_rate = 0.02, n_estimators= 2000, max_depth= 4, min_child_weight= 2, gamma=1, subsample=0.8, \n",
    "#                     colsample_bytree=0.8, objective= 'binary:logistic', nthread= -1, scale_pos_weight=1)\n",
    "gbm = XGBClassifier()\n",
    "\n",
    "# Train the model using the training sets\n",
    "gbm.fit(X_train, y_train)"
   ]
  },
  {
   "cell_type": "code",
   "execution_count": 128,
   "metadata": {},
   "outputs": [],
   "source": [
    "# Prediction on test data\n",
    "y_pred = gbm.predict(X_test)"
   ]
  },
  {
   "cell_type": "code",
   "execution_count": 129,
   "metadata": {},
   "outputs": [
    {
     "name": "stdout",
     "output_type": "stream",
     "text": [
      "Total Accuracy :  92.91\n"
     ]
    }
   ],
   "source": [
    "# Calculating the accuracy, precision and the recall\n",
    "acc_xgb = round( metrics.accuracy_score(y_test, y_pred) * 100 , 2 )\n",
    "print( 'Total Accuracy : ', acc_xgb )"
   ]
  },
  {
   "cell_type": "code",
   "execution_count": 130,
   "metadata": {},
   "outputs": [
    {
     "data": {
      "image/png": "[encoded data removed]",
      "text/plain": [
       "<Figure size 432x288 with 2 Axes>"
      ]
     },
     "metadata": {
      "needs_background": "light"
     },
     "output_type": "display_data"
    }
   ],
   "source": [
    "# Confusion matrix \n",
    "draw_cm(y_test, y_pred)"
   ]
  },
  {
   "cell_type": "markdown",
   "metadata": {},
   "source": [
    "# Artificial Neural Network"
   ]
  },
  {
   "cell_type": "code",
   "execution_count": 131,
   "metadata": {},
   "outputs": [],
   "source": [
    "# Spliting target variable and independent variables\n",
    "X = train_data.drop(['LICENSE STATUS'], axis = 1)\n",
    "y = train_data['LICENSE STATUS']"
   ]
  },
  {
   "cell_type": "code",
   "execution_count": 132,
   "metadata": {},
   "outputs": [],
   "source": [
    "# Splitting the data into training set and testset\n",
    "from sklearn.model_selection import train_test_split\n",
    "X_train, X_test, y_train, y_test = train_test_split(X,y, test_size = 0.25, random_state = 0, stratify=y)"
   ]
  },
  {
   "cell_type": "code",
   "execution_count": 133,
   "metadata": {},
   "outputs": [],
   "source": [
    "# Feature Scaling\n",
    "from sklearn.preprocessing import StandardScaler\n",
    "sc = StandardScaler()\n",
    "X_train = sc.fit_transform(X_train)\n",
    "X_test = sc.transform(X_test)"
   ]
  },
  {
   "cell_type": "code",
   "execution_count": 134,
   "metadata": {
    "scrolled": true
   },
   "outputs": [
    {
     "name": "stderr",
     "output_type": "stream",
     "text": [
      "Using TensorFlow backend.\n"
     ]
    }
   ],
   "source": [
    "# Importing the Keras libraries and packages\n",
    "import keras"
   ]
  },
  {
   "cell_type": "code",
   "execution_count": 135,
   "metadata": {},
   "outputs": [],
   "source": [
    "from keras.models import Sequential\n",
    "from keras.layers import Dense"
   ]
  },
  {
   "cell_type": "code",
   "execution_count": 136,
   "metadata": {},
   "outputs": [],
   "source": [
    "# Initializing the CNN\n",
    "classifier = Sequential()"
   ]
  },
  {
   "cell_type": "code",
   "execution_count": 137,
   "metadata": {},
   "outputs": [
    {
     "name": "stdout",
     "output_type": "stream",
     "text": [
      "WARNING:tensorflow:From F:\\Installed\\Anaconda3\\envs\\tf_gpu\\lib\\site-packages\\tensorflow\\python\\framework\\op_def_library.py:263: colocate_with (from tensorflow.python.framework.ops) is deprecated and will be removed in a future version.\n",
      "Instructions for updating:\n",
      "Colocations handled automatically by placer.\n"
     ]
    },
    {
     "name": "stderr",
     "output_type": "stream",
     "text": [
      "F:\\Installed\\Anaconda3\\envs\\tf_gpu\\lib\\site-packages\\ipykernel_launcher.py:2: UserWarning: Update your `Dense` call to the Keras 2 API: `Dense(10, activation=\"relu\", input_dim=18, kernel_initializer=\"uniform\")`\n",
      "  \n"
     ]
    }
   ],
   "source": [
    "# Adding the input layer and the first hidden layer\n",
    "classifier.add(Dense(10, init = 'uniform', activation = 'relu', input_dim = 18))"
   ]
  },
  {
   "cell_type": "code",
   "execution_count": 138,
   "metadata": {},
   "outputs": [
    {
     "name": "stderr",
     "output_type": "stream",
     "text": [
      "F:\\Installed\\Anaconda3\\envs\\tf_gpu\\lib\\site-packages\\ipykernel_launcher.py:2: UserWarning: Update your `Dense` call to the Keras 2 API: `Dense(units=10, activation=\"relu\", kernel_initializer=\"uniform\")`\n",
      "  \n"
     ]
    }
   ],
   "source": [
    "# Adding the second hidden layer\n",
    "classifier.add(Dense(units = 10, init = 'uniform', activation = 'relu'))"
   ]
  },
  {
   "cell_type": "code",
   "execution_count": 139,
   "metadata": {},
   "outputs": [
    {
     "name": "stderr",
     "output_type": "stream",
     "text": [
      "F:\\Installed\\Anaconda3\\envs\\tf_gpu\\lib\\site-packages\\ipykernel_launcher.py:2: UserWarning: Update your `Dense` call to the Keras 2 API: `Dense(units=10, activation=\"relu\", kernel_initializer=\"uniform\")`\n",
      "  \n"
     ]
    }
   ],
   "source": [
    "# Adding the third hidden layer\n",
    "classifier.add(Dense(units = 10, init = 'uniform', activation = 'relu'))"
   ]
  },
  {
   "cell_type": "code",
   "execution_count": 140,
   "metadata": {},
   "outputs": [
    {
     "name": "stderr",
     "output_type": "stream",
     "text": [
      "F:\\Installed\\Anaconda3\\envs\\tf_gpu\\lib\\site-packages\\ipykernel_launcher.py:2: UserWarning: Update your `Dense` call to the Keras 2 API: `Dense(units=10, activation=\"relu\", kernel_initializer=\"uniform\")`\n",
      "  \n"
     ]
    }
   ],
   "source": [
    "# Adding the fourth hidden layer\n",
    "classifier.add(Dense(units = 10, init = 'uniform', activation = 'relu'))"
   ]
  },
  {
   "cell_type": "code",
   "execution_count": 141,
   "metadata": {},
   "outputs": [
    {
     "name": "stderr",
     "output_type": "stream",
     "text": [
      "F:\\Installed\\Anaconda3\\envs\\tf_gpu\\lib\\site-packages\\ipykernel_launcher.py:2: UserWarning: Update your `Dense` call to the Keras 2 API: `Dense(units=1, activation=\"sigmoid\", kernel_initializer=\"uniform\")`\n",
      "  \n"
     ]
    }
   ],
   "source": [
    "# Adding the output layer\n",
    "classifier.add(Dense(units = 1, init = 'uniform', activation = 'sigmoid'))"
   ]
  },
  {
   "cell_type": "code",
   "execution_count": 142,
   "metadata": {},
   "outputs": [],
   "source": [
    "# Compiling the ANN\n",
    "classifier.compile(optimizer = 'adam', loss = 'binary_crossentropy', metrics = ['accuracy'])"
   ]
  },
  {
   "cell_type": "code",
   "execution_count": 143,
   "metadata": {},
   "outputs": [
    {
     "name": "stdout",
     "output_type": "stream",
     "text": [
      "WARNING:tensorflow:From F:\\Installed\\Anaconda3\\envs\\tf_gpu\\lib\\site-packages\\tensorflow\\python\\ops\\math_ops.py:3066: to_int32 (from tensorflow.python.ops.math_ops) is deprecated and will be removed in a future version.\n",
      "Instructions for updating:\n",
      "Use tf.cast instead.\n"
     ]
    },
    {
     "name": "stderr",
     "output_type": "stream",
     "text": [
      "F:\\Installed\\Anaconda3\\envs\\tf_gpu\\lib\\site-packages\\ipykernel_launcher.py:2: UserWarning: The `nb_epoch` argument in `fit` has been renamed `epochs`.\n",
      "  \n"
     ]
    },
    {
     "name": "stdout",
     "output_type": "stream",
     "text": [
      "Train on 64421 samples, validate on 21474 samples\n",
      "Epoch 1/10\n",
      "64421/64421 [==============================] - 124s 2ms/step - loss: 0.3685 - acc: 0.8513 - val_loss: 0.3235 - val_acc: 0.8735\n",
      "Epoch 2/10\n",
      "64421/64421 [==============================] - 120s 2ms/step - loss: 0.3152 - acc: 0.8807 - val_loss: 0.3104 - val_acc: 0.8830\n",
      "Epoch 3/10\n",
      "64421/64421 [==============================] - 121s 2ms/step - loss: 0.3069 - acc: 0.8853 - val_loss: 0.3021 - val_acc: 0.8858\n",
      "Epoch 4/10\n",
      "64421/64421 [==============================] - 117s 2ms/step - loss: 0.2871 - acc: 0.8962 - val_loss: 0.2735 - val_acc: 0.9017\n",
      "Epoch 5/10\n",
      "64421/64421 [==============================] - 126s 2ms/step - loss: 0.2718 - acc: 0.9044 - val_loss: 0.2688 - val_acc: 0.9055\n",
      "Epoch 6/10\n",
      "64421/64421 [==============================] - 112s 2ms/step - loss: 0.2664 - acc: 0.9076 - val_loss: 0.2627 - val_acc: 0.9089\n",
      "Epoch 7/10\n",
      "64421/64421 [==============================] - 124s 2ms/step - loss: 0.2637 - acc: 0.9087 - val_loss: 0.2568 - val_acc: 0.9124\n",
      "Epoch 8/10\n",
      "64421/64421 [==============================] - 116s 2ms/step - loss: 0.2613 - acc: 0.9103 - val_loss: 0.2537 - val_acc: 0.9129\n",
      "Epoch 9/10\n",
      "64421/64421 [==============================] - 122s 2ms/step - loss: 0.2598 - acc: 0.9110 - val_loss: 0.2547 - val_acc: 0.9125\n",
      "Epoch 10/10\n",
      "64421/64421 [==============================] - 119s 2ms/step - loss: 0.2589 - acc: 0.9110 - val_loss: 0.2557 - val_acc: 0.9127\n"
     ]
    }
   ],
   "source": [
    "# Fitting the ANN to the training set\n",
    "nn_history = classifier.fit(X_train, y_train, batch_size = 10, nb_epoch = 10, validation_data = (X_test, y_test))"
   ]
  },
  {
   "cell_type": "code",
   "execution_count": 144,
   "metadata": {},
   "outputs": [
    {
     "data": {
      "image/png": "[encoded data removed]",
      "text/plain": [
       "<Figure size 432x288 with 1 Axes>"
      ]
     },
     "metadata": {
      "needs_background": "light"
     },
     "output_type": "display_data"
    }
   ],
   "source": [
    "plt.plot(nn_history.history['acc'])\n",
    "plt.plot(nn_history.history['val_acc'])\n",
    "plt.title('Accuracy')\n",
    "plt.legend(['Train', 'Test'])\n",
    "plt.show()"
   ]
  },
  {
   "cell_type": "code",
   "execution_count": 145,
   "metadata": {},
   "outputs": [
    {
     "data": {
      "image/png": "[encoded data removed]",
      "text/plain": [
       "<Figure size 432x288 with 1 Axes>"
      ]
     },
     "metadata": {
      "needs_background": "light"
     },
     "output_type": "display_data"
    }
   ],
   "source": [
    "plt.plot(nn_history.history['loss'])\n",
    "plt.plot(nn_history.history['val_loss'])\n",
    "plt.plot('Loss')\n",
    "plt.legend(['Train', 'Test'])\n",
    "plt.show()"
   ]
  },
  {
   "cell_type": "code",
   "execution_count": 146,
   "metadata": {},
   "outputs": [],
   "source": [
    "# Predicting the test set result\n",
    "y_pred = classifier.predict(X_test)"
   ]
  },
  {
   "cell_type": "code",
   "execution_count": 156,
   "metadata": {},
   "outputs": [
    {
     "data": {
      "text/plain": [
       "array([[0.01989126],\n",
       "       [0.02434185],\n",
       "       [0.8784162 ],\n",
       "       ...,\n",
       "       [0.05538943],\n",
       "       [0.01767302],\n",
       "       [0.02383897]], dtype=float32)"
      ]
     },
     "execution_count": 156,
     "metadata": {},
     "output_type": "execute_result"
    }
   ],
   "source": [
    "acc_ann = nn_history.history['acc']\n",
    "acc_ann = max(acc_ann)*100\n",
    "y_pred"
   ]
  },
  {
   "cell_type": "markdown",
   "metadata": {},
   "source": [
    "# Evaluation and comparision of all the models"
   ]
  },
  {
   "cell_type": "code",
   "execution_count": 157,
   "metadata": {},
   "outputs": [
    {
     "data": {
      "text/html": [
       "<div>\n",
       "<style scoped>\n",
       "    .dataframe tbody tr th:only-of-type {\n",
       "        vertical-align: middle;\n",
       "    }\n",
       "\n",
       "    .dataframe tbody tr th {\n",
       "        vertical-align: top;\n",
       "    }\n",
       "\n",
       "    .dataframe thead th {\n",
       "        text-align: right;\n",
       "    }\n",
       "</style>\n",
       "<table border=\"1\" class=\"dataframe\">\n",
       "  <thead>\n",
       "    <tr style=\"text-align: right;\">\n",
       "      <th></th>\n",
       "      <th>Model</th>\n",
       "      <th>Score</th>\n",
       "    </tr>\n",
       "  </thead>\n",
       "  <tbody>\n",
       "    <tr>\n",
       "      <th>6</th>\n",
       "      <td>XGBoost</td>\n",
       "      <td>92.910000</td>\n",
       "    </tr>\n",
       "    <tr>\n",
       "      <th>3</th>\n",
       "      <td>Random Forest</td>\n",
       "      <td>92.900000</td>\n",
       "    </tr>\n",
       "    <tr>\n",
       "      <th>7</th>\n",
       "      <td>Artificial Neural Networks</td>\n",
       "      <td>91.099175</td>\n",
       "    </tr>\n",
       "    <tr>\n",
       "      <th>4</th>\n",
       "      <td>Support Vector Machines</td>\n",
       "      <td>90.900000</td>\n",
       "    </tr>\n",
       "    <tr>\n",
       "      <th>2</th>\n",
       "      <td>Decision Tree</td>\n",
       "      <td>90.770000</td>\n",
       "    </tr>\n",
       "    <tr>\n",
       "      <th>5</th>\n",
       "      <td>K - Nearest Neighbors</td>\n",
       "      <td>90.020000</td>\n",
       "    </tr>\n",
       "    <tr>\n",
       "      <th>0</th>\n",
       "      <td>Logistic Regression</td>\n",
       "      <td>80.680000</td>\n",
       "    </tr>\n",
       "    <tr>\n",
       "      <th>1</th>\n",
       "      <td>Naive Bayes</td>\n",
       "      <td>58.490000</td>\n",
       "    </tr>\n",
       "  </tbody>\n",
       "</table>\n",
       "</div>"
      ],
      "text/plain": [
       "                        Model      Score\n",
       "6                     XGBoost  92.910000\n",
       "3               Random Forest  92.900000\n",
       "7  Artificial Neural Networks  91.099175\n",
       "4     Support Vector Machines  90.900000\n",
       "2               Decision Tree  90.770000\n",
       "5       K - Nearest Neighbors  90.020000\n",
       "0         Logistic Regression  80.680000\n",
       "1                 Naive Bayes  58.490000"
      ]
     },
     "execution_count": 157,
     "metadata": {},
     "output_type": "execute_result"
    }
   ],
   "source": [
    "models = pd.DataFrame({\n",
    "    'Model': ['Logistic Regression', 'Naive Bayes', 'Decision Tree', 'Random Forest', 'Support Vector Machines', \n",
    "              'K - Nearest Neighbors', 'XGBoost', 'Artificial Neural Networks'],\n",
    "    'Score': [acc_logreg, acc_nb, acc_dt, acc_rf, acc_svm, acc_knn, acc_xgb, acc_ann]})\n",
    "models.sort_values(by='Score', ascending=False)"
   ]
  },
  {
   "cell_type": "code",
   "execution_count": 158,
   "metadata": {},
   "outputs": [
    {
     "data": {
      "text/html": [
       "<div>\n",
       "<style scoped>\n",
       "    .dataframe tbody tr th:only-of-type {\n",
       "        vertical-align: middle;\n",
       "    }\n",
       "\n",
       "    .dataframe tbody tr th {\n",
       "        vertical-align: top;\n",
       "    }\n",
       "\n",
       "    .dataframe thead th {\n",
       "        text-align: right;\n",
       "    }\n",
       "</style>\n",
       "<table border=\"1\" class=\"dataframe\">\n",
       "  <thead>\n",
       "    <tr style=\"text-align: right;\">\n",
       "      <th></th>\n",
       "      <th>ACCOUNT NUMBER</th>\n",
       "      <th>SITE NUMBER</th>\n",
       "      <th>CITY</th>\n",
       "      <th>ZIP CODE</th>\n",
       "      <th>WARD</th>\n",
       "      <th>PRECINCT</th>\n",
       "      <th>POLICE DISTRICT</th>\n",
       "      <th>LICENSE CODE</th>\n",
       "      <th>LICENSE DESCRIPTION</th>\n",
       "      <th>APPLICATION TYPE</th>\n",
       "      <th>CONDITIONAL APPROVAL</th>\n",
       "      <th>SSA</th>\n",
       "      <th>LICENSE STATUS</th>\n",
       "      <th>PAYMENT YEAR</th>\n",
       "      <th>APPLICATION REQUIREMENTS COMPLETE YEAR</th>\n",
       "      <th>DATE ISSUED YEAR</th>\n",
       "      <th>LICENSE VALIDITY</th>\n",
       "      <th>LICENSE APPROVED YEAR</th>\n",
       "      <th>LEGAL TYPE</th>\n",
       "    </tr>\n",
       "  </thead>\n",
       "  <tbody>\n",
       "    <tr>\n",
       "      <th>0</th>\n",
       "      <td>32811</td>\n",
       "      <td>1</td>\n",
       "      <td>193</td>\n",
       "      <td>1559</td>\n",
       "      <td>22.0</td>\n",
       "      <td>28.0</td>\n",
       "      <td>10.0</td>\n",
       "      <td>1010</td>\n",
       "      <td>41</td>\n",
       "      <td>4</td>\n",
       "      <td>0</td>\n",
       "      <td>25.0</td>\n",
       "      <td>0</td>\n",
       "      <td>2002.0</td>\n",
       "      <td>2002.0</td>\n",
       "      <td>2006</td>\n",
       "      <td>1.0</td>\n",
       "      <td>2002.0</td>\n",
       "      <td>4</td>\n",
       "    </tr>\n",
       "    <tr>\n",
       "      <th>1</th>\n",
       "      <td>262311</td>\n",
       "      <td>29</td>\n",
       "      <td>193</td>\n",
       "      <td>1548</td>\n",
       "      <td>33.0</td>\n",
       "      <td>23.0</td>\n",
       "      <td>17.0</td>\n",
       "      <td>1315</td>\n",
       "      <td>46</td>\n",
       "      <td>4</td>\n",
       "      <td>0</td>\n",
       "      <td>60.0</td>\n",
       "      <td>1</td>\n",
       "      <td>2005.0</td>\n",
       "      <td>2005.0</td>\n",
       "      <td>2006</td>\n",
       "      <td>1.0</td>\n",
       "      <td>2006.0</td>\n",
       "      <td>1</td>\n",
       "    </tr>\n",
       "    <tr>\n",
       "      <th>2</th>\n",
       "      <td>345008</td>\n",
       "      <td>1</td>\n",
       "      <td>466</td>\n",
       "      <td>1025</td>\n",
       "      <td>0.0</td>\n",
       "      <td>0.0</td>\n",
       "      <td>0.0</td>\n",
       "      <td>1011</td>\n",
       "      <td>30</td>\n",
       "      <td>3</td>\n",
       "      <td>0</td>\n",
       "      <td>0.0</td>\n",
       "      <td>0</td>\n",
       "      <td>2009.0</td>\n",
       "      <td>2009.0</td>\n",
       "      <td>2009</td>\n",
       "      <td>2.0</td>\n",
       "      <td>2009.0</td>\n",
       "      <td>1</td>\n",
       "    </tr>\n",
       "    <tr>\n",
       "      <th>3</th>\n",
       "      <td>273121</td>\n",
       "      <td>1</td>\n",
       "      <td>585</td>\n",
       "      <td>1329</td>\n",
       "      <td>0.0</td>\n",
       "      <td>0.0</td>\n",
       "      <td>0.0</td>\n",
       "      <td>1010</td>\n",
       "      <td>41</td>\n",
       "      <td>3</td>\n",
       "      <td>0</td>\n",
       "      <td>0.0</td>\n",
       "      <td>0</td>\n",
       "      <td>2004.0</td>\n",
       "      <td>2004.0</td>\n",
       "      <td>2004</td>\n",
       "      <td>1.0</td>\n",
       "      <td>2004.0</td>\n",
       "      <td>0</td>\n",
       "    </tr>\n",
       "    <tr>\n",
       "      <th>4</th>\n",
       "      <td>213785</td>\n",
       "      <td>1</td>\n",
       "      <td>1145</td>\n",
       "      <td>1095</td>\n",
       "      <td>0.0</td>\n",
       "      <td>0.0</td>\n",
       "      <td>0.0</td>\n",
       "      <td>1010</td>\n",
       "      <td>41</td>\n",
       "      <td>4</td>\n",
       "      <td>0</td>\n",
       "      <td>0.0</td>\n",
       "      <td>0</td>\n",
       "      <td>2008.0</td>\n",
       "      <td>2008.0</td>\n",
       "      <td>2008</td>\n",
       "      <td>2.0</td>\n",
       "      <td>2008.0</td>\n",
       "      <td>4</td>\n",
       "    </tr>\n",
       "  </tbody>\n",
       "</table>\n",
       "</div>"
      ],
      "text/plain": [
       "   ACCOUNT NUMBER  SITE NUMBER  CITY  ZIP CODE  WARD  PRECINCT  POLICE DISTRICT  LICENSE CODE  LICENSE DESCRIPTION  APPLICATION TYPE  CONDITIONAL APPROVAL   SSA  LICENSE STATUS  PAYMENT YEAR  APPLICATION REQUIREMENTS COMPLETE YEAR  DATE ISSUED YEAR  LICENSE VALIDITY  LICENSE APPROVED YEAR  LEGAL TYPE\n",
       "0           32811            1   193      1559  22.0      28.0             10.0          1010                   41                 4                     0  25.0               0        2002.0                                  2002.0              2006               1.0                 2002.0           4\n",
       "1          262311           29   193      1548  33.0      23.0             17.0          1315                   46                 4                     0  60.0               1        2005.0                                  2005.0              2006               1.0                 2006.0           1\n",
       "2          345008            1   466      1025   0.0       0.0              0.0          1011                   30                 3                     0   0.0               0        2009.0                                  2009.0              2009               2.0                 2009.0           1\n",
       "3          273121            1   585      1329   0.0       0.0              0.0          1010                   41                 3                     0   0.0               0        2004.0                                  2004.0              2004               1.0                 2004.0           0\n",
       "4          213785            1  1145      1095   0.0       0.0              0.0          1010                   41                 4                     0   0.0               0        2008.0                                  2008.0              2008               2.0                 2008.0           4"
      ]
     },
     "execution_count": 158,
     "metadata": {},
     "output_type": "execute_result"
    }
   ],
   "source": [
    "# Predicting on the test dataset\n",
    "train_data.head()"
   ]
  },
  {
   "cell_type": "code",
   "execution_count": 159,
   "metadata": {},
   "outputs": [
    {
     "data": {
      "text/html": [
       "<div>\n",
       "<style scoped>\n",
       "    .dataframe tbody tr th:only-of-type {\n",
       "        vertical-align: middle;\n",
       "    }\n",
       "\n",
       "    .dataframe tbody tr th {\n",
       "        vertical-align: top;\n",
       "    }\n",
       "\n",
       "    .dataframe thead th {\n",
       "        text-align: right;\n",
       "    }\n",
       "</style>\n",
       "<table border=\"1\" class=\"dataframe\">\n",
       "  <thead>\n",
       "    <tr style=\"text-align: right;\">\n",
       "      <th></th>\n",
       "      <th>ACCOUNT NUMBER</th>\n",
       "      <th>SITE NUMBER</th>\n",
       "      <th>CITY</th>\n",
       "      <th>ZIP CODE</th>\n",
       "      <th>WARD</th>\n",
       "      <th>PRECINCT</th>\n",
       "      <th>POLICE DISTRICT</th>\n",
       "      <th>LICENSE CODE</th>\n",
       "      <th>LICENSE DESCRIPTION</th>\n",
       "      <th>APPLICATION TYPE</th>\n",
       "      <th>CONDITIONAL APPROVAL</th>\n",
       "      <th>SSA</th>\n",
       "      <th>PAYMENT YEAR</th>\n",
       "      <th>APPLICATION REQUIREMENTS COMPLETE YEAR</th>\n",
       "      <th>DATE ISSUED YEAR</th>\n",
       "      <th>LICENSE VALIDITY</th>\n",
       "      <th>LICENSE APPROVED YEAR</th>\n",
       "      <th>LEGAL TYPE</th>\n",
       "    </tr>\n",
       "  </thead>\n",
       "  <tbody>\n",
       "    <tr>\n",
       "      <th>0</th>\n",
       "      <td>280120</td>\n",
       "      <td>1</td>\n",
       "      <td>59</td>\n",
       "      <td>255</td>\n",
       "      <td>42.0</td>\n",
       "      <td>67.0</td>\n",
       "      <td>18.0</td>\n",
       "      <td>1020</td>\n",
       "      <td>82</td>\n",
       "      <td>5</td>\n",
       "      <td>0</td>\n",
       "      <td>0.0</td>\n",
       "      <td>2012.0</td>\n",
       "      <td>2011.0</td>\n",
       "      <td>2012</td>\n",
       "      <td>2.0</td>\n",
       "      <td>2012.0</td>\n",
       "      <td>2</td>\n",
       "    </tr>\n",
       "    <tr>\n",
       "      <th>1</th>\n",
       "      <td>65043</td>\n",
       "      <td>1</td>\n",
       "      <td>59</td>\n",
       "      <td>280</td>\n",
       "      <td>16.0</td>\n",
       "      <td>5.0</td>\n",
       "      <td>7.0</td>\n",
       "      <td>1010</td>\n",
       "      <td>48</td>\n",
       "      <td>5</td>\n",
       "      <td>0</td>\n",
       "      <td>0.0</td>\n",
       "      <td>2012.0</td>\n",
       "      <td>2011.0</td>\n",
       "      <td>2012</td>\n",
       "      <td>2.0</td>\n",
       "      <td>2012.0</td>\n",
       "      <td>1</td>\n",
       "    </tr>\n",
       "    <tr>\n",
       "      <th>2</th>\n",
       "      <td>281270</td>\n",
       "      <td>1</td>\n",
       "      <td>59</td>\n",
       "      <td>250</td>\n",
       "      <td>4.0</td>\n",
       "      <td>8.0</td>\n",
       "      <td>1.0</td>\n",
       "      <td>1020</td>\n",
       "      <td>82</td>\n",
       "      <td>5</td>\n",
       "      <td>0</td>\n",
       "      <td>0.0</td>\n",
       "      <td>2004.0</td>\n",
       "      <td>2004.0</td>\n",
       "      <td>2004</td>\n",
       "      <td>1.0</td>\n",
       "      <td>2004.0</td>\n",
       "      <td>0</td>\n",
       "    </tr>\n",
       "    <tr>\n",
       "      <th>3</th>\n",
       "      <td>335243</td>\n",
       "      <td>1</td>\n",
       "      <td>59</td>\n",
       "      <td>311</td>\n",
       "      <td>9.0</td>\n",
       "      <td>33.0</td>\n",
       "      <td>5.0</td>\n",
       "      <td>1607</td>\n",
       "      <td>70</td>\n",
       "      <td>5</td>\n",
       "      <td>0</td>\n",
       "      <td>0.0</td>\n",
       "      <td>2010.0</td>\n",
       "      <td>2010.0</td>\n",
       "      <td>2010</td>\n",
       "      <td>2.0</td>\n",
       "      <td>2008.0</td>\n",
       "      <td>4</td>\n",
       "    </tr>\n",
       "    <tr>\n",
       "      <th>4</th>\n",
       "      <td>283018</td>\n",
       "      <td>3</td>\n",
       "      <td>59</td>\n",
       "      <td>276</td>\n",
       "      <td>15.0</td>\n",
       "      <td>26.0</td>\n",
       "      <td>9.0</td>\n",
       "      <td>1010</td>\n",
       "      <td>48</td>\n",
       "      <td>5</td>\n",
       "      <td>0</td>\n",
       "      <td>39.0</td>\n",
       "      <td>2007.0</td>\n",
       "      <td>2007.0</td>\n",
       "      <td>2007</td>\n",
       "      <td>2.0</td>\n",
       "      <td>2007.0</td>\n",
       "      <td>0</td>\n",
       "    </tr>\n",
       "  </tbody>\n",
       "</table>\n",
       "</div>"
      ],
      "text/plain": [
       "   ACCOUNT NUMBER  SITE NUMBER  CITY  ZIP CODE  WARD  PRECINCT  POLICE DISTRICT  LICENSE CODE  LICENSE DESCRIPTION  APPLICATION TYPE  CONDITIONAL APPROVAL   SSA  PAYMENT YEAR  APPLICATION REQUIREMENTS COMPLETE YEAR  DATE ISSUED YEAR  LICENSE VALIDITY  LICENSE APPROVED YEAR  LEGAL TYPE\n",
       "0          280120            1    59       255  42.0      67.0             18.0          1020                   82                 5                     0   0.0        2012.0                                  2011.0              2012               2.0                 2012.0           2\n",
       "1           65043            1    59       280  16.0       5.0              7.0          1010                   48                 5                     0   0.0        2012.0                                  2011.0              2012               2.0                 2012.0           1\n",
       "2          281270            1    59       250   4.0       8.0              1.0          1020                   82                 5                     0   0.0        2004.0                                  2004.0              2004               1.0                 2004.0           0\n",
       "3          335243            1    59       311   9.0      33.0              5.0          1607                   70                 5                     0   0.0        2010.0                                  2010.0              2010               2.0                 2008.0           4\n",
       "4          283018            3    59       276  15.0      26.0              9.0          1010                   48                 5                     0  39.0        2007.0                                  2007.0              2007               2.0                 2007.0           0"
      ]
     },
     "execution_count": 159,
     "metadata": {},
     "output_type": "execute_result"
    }
   ],
   "source": [
    "test_data.head()"
   ]
  },
  {
   "cell_type": "code",
   "execution_count": 160,
   "metadata": {},
   "outputs": [
    {
     "data": {
      "text/plain": [
       "(85895, 19)"
      ]
     },
     "execution_count": 160,
     "metadata": {},
     "output_type": "execute_result"
    }
   ],
   "source": [
    "train_data.shape"
   ]
  },
  {
   "cell_type": "code",
   "execution_count": 161,
   "metadata": {},
   "outputs": [
    {
     "data": {
      "text/plain": [
       "(57239, 18)"
      ]
     },
     "execution_count": 161,
     "metadata": {},
     "output_type": "execute_result"
    }
   ],
   "source": [
    "test_data.shape"
   ]
  },
  {
   "cell_type": "code",
   "execution_count": 162,
   "metadata": {},
   "outputs": [],
   "source": [
    "my_pred = rf.predict(test_data)"
   ]
  },
  {
   "cell_type": "code",
   "execution_count": 163,
   "metadata": {},
   "outputs": [
    {
     "data": {
      "text/plain": [
       "(57239,)"
      ]
     },
     "execution_count": 163,
     "metadata": {},
     "output_type": "execute_result"
    }
   ],
   "source": [
    "my_pred.shape"
   ]
  },
  {
   "cell_type": "code",
   "execution_count": 164,
   "metadata": {},
   "outputs": [],
   "source": [
    "my_submission['LICENSE STATUS'] = my_pred"
   ]
  },
  {
   "cell_type": "code",
   "execution_count": 165,
   "metadata": {},
   "outputs": [
    {
     "data": {
      "text/plain": [
       "(57239, 2)"
      ]
     },
     "execution_count": 165,
     "metadata": {},
     "output_type": "execute_result"
    }
   ],
   "source": [
    "my_submission.shape"
   ]
  },
  {
   "cell_type": "code",
   "execution_count": 166,
   "metadata": {},
   "outputs": [],
   "source": [
    "my_submission['LICENSE STATUS'] = my_submission['LICENSE STATUS'].replace(0, 'AAI')\n",
    "my_submission['LICENSE STATUS'] = my_submission['LICENSE STATUS'].replace(1, 'AAC')\n",
    "my_submission['LICENSE STATUS'] = my_submission['LICENSE STATUS'].replace(2, 'REV')\n",
    "my_submission['LICENSE STATUS'] = my_submission['LICENSE STATUS'].replace(3, 'REA')\n",
    "my_submission['LICENSE STATUS'] = my_submission['LICENSE STATUS'].replace(4, 'INQ')"
   ]
  },
  {
   "cell_type": "code",
   "execution_count": 167,
   "metadata": {},
   "outputs": [
    {
     "data": {
      "text/plain": [
       "AAC    45228\n",
       "AAI     7808\n",
       "REV     4203\n",
       "Name: LICENSE STATUS, dtype: int64"
      ]
     },
     "execution_count": 167,
     "metadata": {},
     "output_type": "execute_result"
    }
   ],
   "source": [
    "my_submission['LICENSE STATUS'].value_counts()"
   ]
  },
  {
   "cell_type": "code",
   "execution_count": 168,
   "metadata": {},
   "outputs": [],
   "source": [
    "# Saving predictions to file\n",
    "# my_submission.to_csv('submission.csv', index=False)"
   ]
  }
 ],
 "metadata": {
  "kernelspec": {
   "display_name": "Python [conda env:tf_gpu]",
   "language": "python",
   "name": "conda-env-tf_gpu-py"
  },
  "language_info": {
   "codemirror_mode": {
    "name": "ipython",
    "version": 3
   },
   "file_extension": ".py",
   "mimetype": "text/x-python",
   "name": "python",
   "nbconvert_exporter": "python",
   "pygments_lexer": "ipython3",
   "version": "3.6.8"
  },
  "varInspector": {
   "cols": {
    "lenName": 16,
    "lenType": 16,
    "lenVar": 40
   },
   "kernels_config": {
    "python": {
     "delete_cmd_postfix": "",
     "delete_cmd_prefix": "del ",
     "library": "var_list.py",
     "varRefreshCmd": "print(var_dic_list())"
    },
    "r": {
     "delete_cmd_postfix": ") ",
     "delete_cmd_prefix": "rm(",
     "library": "var_list.r",
     "varRefreshCmd": "cat(var_dic_list()) "
    }
   },
   "position": {
    "height": "762px",
    "left": "1166px",
    "right": "20px",
    "top": "93px",
    "width": "605px"
   },
   "types_to_exclude": [
    "module",
    "function",
    "builtin_function_or_method",
    "instance",
    "_Feature"
   ],
   "window_display": false
  }
 },
 "nbformat": 4,
 "nbformat_minor": 2
}
